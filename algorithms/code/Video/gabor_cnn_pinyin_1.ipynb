{
 "cells": [
  {
   "cell_type": "markdown",
   "metadata": {},
   "source": [
    "# import modules"
   ]
  },
  {
   "cell_type": "code",
   "execution_count": 1,
   "metadata": {},
   "outputs": [],
   "source": [
    "import keras\n",
    "from keras.utils import plot_model,to_categorical\n",
    "from keras import Model,Input,regularizers\n",
    "from keras.layers import Reshape,Flatten\n",
    "import numpy as np\n",
    "from sklearn.model_selection import train_test_split\n",
    "import keras.backend as K\n",
    "import keras.callbacks as kcallbacks\n",
    "from sklearn.preprocessing import LabelEncoder\n",
    "import string\n",
    "from keras.optimizers import SGD\n",
    "import warnings\n",
    "import tensorflow as tf\n",
    "# from lsuv_init import LSUVinit\n",
    "warnings.filterwarnings('ignore')\n",
    "from tensorflow.keras import layers\n",
    "from keras.layers import Input, Dense, LSTM, merge ,Conv1D,Dropout,Bidirectional,Multiply,BatchNormalization,MaxPool1D\n",
    "from keras.models import Model\n",
    "\n",
    "\n",
    "from attention_utils import get_activations\n",
    "from keras.layers import merge\n",
    "from keras.layers.core import *\n",
    "from keras.layers.recurrent import LSTM\n",
    "from keras.models import *\n",
    "\n",
    "import  pandas as pd\n",
    "import  numpy as np\n",
    "from keras.wrappers import scikit_learn"
   ]
  },
  {
   "cell_type": "markdown",
   "metadata": {},
   "source": [
    "# Load Features"
   ]
  },
  {
   "cell_type": "code",
   "execution_count": 2,
   "metadata": {},
   "outputs": [],
   "source": [
    "X_features=np.load('./feature/X_gabor.npy')\n",
    "y=np.load('./feature/y_pinyin.npy')"
   ]
  },
  {
   "cell_type": "code",
   "execution_count": 3,
   "metadata": {},
   "outputs": [
    {
     "data": {
      "text/plain": [
       "(4704, 35, 7)"
      ]
     },
     "execution_count": 3,
     "metadata": {},
     "output_type": "execute_result"
    }
   ],
   "source": [
    "X_features.shape"
   ]
  },
  {
   "cell_type": "code",
   "execution_count": 4,
   "metadata": {},
   "outputs": [
    {
     "data": {
      "text/plain": [
       "(4704, 5)"
      ]
     },
     "execution_count": 4,
     "metadata": {},
     "output_type": "execute_result"
    }
   ],
   "source": [
    "y.shape"
   ]
  },
  {
   "cell_type": "code",
   "execution_count": 5,
   "metadata": {},
   "outputs": [
    {
     "name": "stdout",
     "output_type": "stream",
     "text": [
      "[[ 2  1  0  0  0]\n",
      " [ 4  1  0  0  0]\n",
      " [ 5 18  0  0  0]\n",
      " ...\n",
      " [25 21  1 14  0]\n",
      " [25 21  0  0  0]\n",
      " [26  1 15  0  0]]\n"
     ]
    }
   ],
   "source": [
    "print(y)"
   ]
  },
  {
   "cell_type": "code",
   "execution_count": 6,
   "metadata": {},
   "outputs": [],
   "source": [
    "alphabet_set=list(string.ascii_letters[:26])"
   ]
  },
  {
   "cell_type": "code",
   "execution_count": 7,
   "metadata": {
    "scrolled": true
   },
   "outputs": [],
   "source": [
    "alphabet_set.insert(0,'0')"
   ]
  },
  {
   "cell_type": "code",
   "execution_count": 8,
   "metadata": {
    "scrolled": true
   },
   "outputs": [
    {
     "data": {
      "text/plain": [
       "27"
      ]
     },
     "execution_count": 8,
     "metadata": {},
     "output_type": "execute_result"
    }
   ],
   "source": [
    "len(alphabet_set)"
   ]
  },
  {
   "cell_type": "markdown",
   "metadata": {},
   "source": [
    "## One-hot Encoding"
   ]
  },
  {
   "cell_type": "code",
   "execution_count": 9,
   "metadata": {},
   "outputs": [],
   "source": [
    "y=to_categorical(y,num_classes=27)"
   ]
  },
  {
   "cell_type": "code",
   "execution_count": 10,
   "metadata": {},
   "outputs": [
    {
     "data": {
      "text/plain": [
       "(4704, 5, 27)"
      ]
     },
     "execution_count": 10,
     "metadata": {},
     "output_type": "execute_result"
    }
   ],
   "source": [
    "y.shape"
   ]
  },
  {
   "cell_type": "markdown",
   "metadata": {},
   "source": [
    "## split train and test"
   ]
  },
  {
   "cell_type": "code",
   "execution_count": 11,
   "metadata": {},
   "outputs": [],
   "source": [
    "X_train, X_test, y_train, y_test=train_test_split(X_features,y,test_size=0.1,random_state=2019)"
   ]
  },
  {
   "cell_type": "code",
   "execution_count": 12,
   "metadata": {},
   "outputs": [
    {
     "data": {
      "text/plain": [
       "((4233, 35, 7), (471, 35, 7))"
      ]
     },
     "execution_count": 12,
     "metadata": {},
     "output_type": "execute_result"
    }
   ],
   "source": [
    "X_train.shape,X_test.shape"
   ]
  },
  {
   "cell_type": "code",
   "execution_count": 13,
   "metadata": {},
   "outputs": [
    {
     "data": {
      "text/plain": [
       "((4233, 5, 27), (471, 5, 27))"
      ]
     },
     "execution_count": 13,
     "metadata": {},
     "output_type": "execute_result"
    }
   ],
   "source": [
    "y_train.shape,y_test.shape"
   ]
  },
  {
   "cell_type": "code",
   "execution_count": 14,
   "metadata": {},
   "outputs": [
    {
     "data": {
      "text/plain": [
       "(4233, 35, 7)"
      ]
     },
     "execution_count": 14,
     "metadata": {},
     "output_type": "execute_result"
    }
   ],
   "source": [
    "X_train.shape"
   ]
  },
  {
   "cell_type": "code",
   "execution_count": 15,
   "metadata": {},
   "outputs": [
    {
     "data": {
      "text/plain": [
       "(4233, 35, 7)"
      ]
     },
     "execution_count": 15,
     "metadata": {},
     "output_type": "execute_result"
    }
   ],
   "source": [
    "X_train.shape"
   ]
  },
  {
   "cell_type": "markdown",
   "metadata": {},
   "source": [
    "# Models\n"
   ]
  },
  {
   "cell_type": "code",
   "execution_count": 17,
   "metadata": {},
   "outputs": [
    {
     "data": {
      "text/plain": [
       "<tf.Tensor 'input_2:0' shape=(None, 35, 7) dtype=float32>"
      ]
     },
     "execution_count": 17,
     "metadata": {},
     "output_type": "execute_result"
    }
   ],
   "source": [
    "NUM_CLASSES=27\n",
    "BATCH_SIZE=128\n",
    "EPOCHS=100\n",
    "MODEL_SAVE_PATH='.\\model\\pinyin_gabor_cnn1.h5'\n",
    "inputs=Input(shape=(35,7))\n",
    "inputs"
   ]
  },
  {
   "cell_type": "code",
   "execution_count": 43,
   "metadata": {
    "scrolled": true
   },
   "outputs": [],
   "source": [
    "SINGLE_ATTENTION_VECTOR = False\n",
    "def attention_3d_block(inputs, single_attention_vector=False):\n",
    "    # 如果上一层是LSTM，需要return_sequences=True\n",
    "    # inputs.shape = (batch_size, time_steps, input_dim)\n",
    "    time_steps = K.int_shape(inputs)[1]\n",
    "    input_dim = K.int_shape(inputs)[2]\n",
    "    a = Permute((2, 1))(inputs)\n",
    "    a = Dense(time_steps, activation='softmax', name='attention')(a)\n",
    "    if single_attention_vector:\n",
    "        a = Lambda(lambda x: K.mean(x, axis=1))(a)\n",
    "        a = RepeatVector(input_dim)(a)\n",
    "\n",
    "    a_probs = Permute((2, 1))(a)\n",
    "    # 乘上了attention权重，但是并没有求和，好像影响不大\n",
    "    # 如果分类任务，进行Flatten展开就可以了\n",
    "    # element-wise\n",
    "    output_attention_mul = Multiply()([inputs, a_probs])\n",
    "    return output_attention_mul\n",
    "\n",
    "def attention_model():\n",
    "    inputs = Input(shape=(35, 7))\n",
    "    x=BatchNormalization()(inputs)\n",
    "    x = Conv1D(filters = 32, kernel_size = 1, padding=\"same\",kernel_initializer='he_normal',\n",
    "                bias_initializer='zeros',activation = 'relu')(x)  #, padding = 'same'\n",
    "    x = MaxPool1D()(x)\n",
    "    #lstm_out = Bidirectional(LSTM(lstm_units, activation='relu'), name='bilstm')(x)\n",
    "    #对于GPU可以使用CuDNNLSTM\n",
    "    lstm_out = Bidirectional(LSTM(32, return_sequences=True))(x)\n",
    "    lstm_out = Bidirectional(LSTM(64, return_sequences=True))(lstm_out)\n",
    "    lstm_out = Bidirectional(LSTM(128, return_sequences=True))(lstm_out)\n",
    "    attention_mul = attention_3d_block(lstm_out)\n",
    "    attention_mul=MaxPool1D(pool_size=8,strides=2)(attention_mul)\n",
    "    output = Dense(27, activation='sigmoid')(attention_mul)\n",
    "    model = Model(inputs=[inputs], outputs=output)\n",
    "    return model"
   ]
  },
  {
   "cell_type": "code",
   "execution_count": 44,
   "metadata": {},
   "outputs": [
    {
     "name": "stdout",
     "output_type": "stream",
     "text": [
      "Model: \"functional_25\"\n",
      "__________________________________________________________________________________________________\n",
      "Layer (type)                    Output Shape         Param #     Connected to                     \n",
      "==================================================================================================\n",
      "input_15 (InputLayer)           [(None, 35, 7)]      0                                            \n",
      "__________________________________________________________________________________________________\n",
      "batch_normalization_12 (BatchNo (None, 35, 7)        28          input_15[0][0]                   \n",
      "__________________________________________________________________________________________________\n",
      "conv1d_12 (Conv1D)              (None, 35, 32)       256         batch_normalization_12[0][0]     \n",
      "__________________________________________________________________________________________________\n",
      "max_pooling1d_24 (MaxPooling1D) (None, 17, 32)       0           conv1d_12[0][0]                  \n",
      "__________________________________________________________________________________________________\n",
      "bidirectional_24 (Bidirectional (None, 17, 64)       16640       max_pooling1d_24[0][0]           \n",
      "__________________________________________________________________________________________________\n",
      "bidirectional_25 (Bidirectional (None, 17, 128)      66048       bidirectional_24[0][0]           \n",
      "__________________________________________________________________________________________________\n",
      "bidirectional_26 (Bidirectional (None, 17, 256)      263168      bidirectional_25[0][0]           \n",
      "__________________________________________________________________________________________________\n",
      "permute_24 (Permute)            (None, 256, 17)      0           bidirectional_26[0][0]           \n",
      "__________________________________________________________________________________________________\n",
      "attention (Dense)               (None, 256, 17)      306         permute_24[0][0]                 \n",
      "__________________________________________________________________________________________________\n",
      "permute_25 (Permute)            (None, 17, 256)      0           attention[0][0]                  \n",
      "__________________________________________________________________________________________________\n",
      "multiply_12 (Multiply)          (None, 17, 256)      0           bidirectional_26[0][0]           \n",
      "                                                                 permute_25[0][0]                 \n",
      "__________________________________________________________________________________________________\n",
      "max_pooling1d_25 (MaxPooling1D) (None, 5, 256)       0           multiply_12[0][0]                \n",
      "__________________________________________________________________________________________________\n",
      "dense_12 (Dense)                (None, 5, 27)        6939        max_pooling1d_25[0][0]           \n",
      "==================================================================================================\n",
      "Total params: 353,385\n",
      "Trainable params: 353,371\n",
      "Non-trainable params: 14\n",
      "__________________________________________________________________________________________________\n"
     ]
    }
   ],
   "source": [
    "model = attention_model()\n",
    "model.summary()"
   ]
  },
  {
   "cell_type": "code",
   "execution_count": 27,
   "metadata": {},
   "outputs": [
    {
     "ename": "NameError",
     "evalue": "name 'input_shape' is not defined",
     "output_type": "error",
     "traceback": [
      "\u001b[1;31m---------------------------------------------------------------------------\u001b[0m",
      "\u001b[1;31mNameError\u001b[0m                                 Traceback (most recent call last)",
      "\u001b[1;32m<ipython-input-27-866cf74f7e28>\u001b[0m in \u001b[0;36m<module>\u001b[1;34m\u001b[0m\n\u001b[0;32m      1\u001b[0m model = keras.Sequential(\n\u001b[0;32m      2\u001b[0m     [\n\u001b[1;32m----> 3\u001b[1;33m         \u001b[0mkeras\u001b[0m\u001b[1;33m.\u001b[0m\u001b[0mInput\u001b[0m\u001b[1;33m(\u001b[0m\u001b[0mshape\u001b[0m\u001b[1;33m=\u001b[0m\u001b[0minput_shape\u001b[0m\u001b[1;33m)\u001b[0m\u001b[1;33m,\u001b[0m\u001b[1;33m\u001b[0m\u001b[1;33m\u001b[0m\u001b[0m\n\u001b[0m\u001b[0;32m      4\u001b[0m         \u001b[0mlayers\u001b[0m\u001b[1;33m.\u001b[0m\u001b[0mConv2D\u001b[0m\u001b[1;33m(\u001b[0m\u001b[1;36m32\u001b[0m\u001b[1;33m,\u001b[0m \u001b[0mkernel_size\u001b[0m\u001b[1;33m=\u001b[0m\u001b[1;33m(\u001b[0m\u001b[1;36m3\u001b[0m\u001b[1;33m,\u001b[0m \u001b[1;36m3\u001b[0m\u001b[1;33m)\u001b[0m\u001b[1;33m,\u001b[0m \u001b[0mactivation\u001b[0m\u001b[1;33m=\u001b[0m\u001b[1;34m\"relu\"\u001b[0m\u001b[1;33m)\u001b[0m\u001b[1;33m,\u001b[0m\u001b[1;33m\u001b[0m\u001b[1;33m\u001b[0m\u001b[0m\n\u001b[0;32m      5\u001b[0m         \u001b[0mlayers\u001b[0m\u001b[1;33m.\u001b[0m\u001b[0mMaxPooling2D\u001b[0m\u001b[1;33m(\u001b[0m\u001b[0mpool_size\u001b[0m\u001b[1;33m=\u001b[0m\u001b[1;33m(\u001b[0m\u001b[1;36m2\u001b[0m\u001b[1;33m,\u001b[0m \u001b[1;36m2\u001b[0m\u001b[1;33m)\u001b[0m\u001b[1;33m)\u001b[0m\u001b[1;33m,\u001b[0m\u001b[1;33m\u001b[0m\u001b[1;33m\u001b[0m\u001b[0m\n",
      "\u001b[1;31mNameError\u001b[0m: name 'input_shape' is not defined"
     ]
    }
   ],
   "source": [
    "model = keras.Sequential(\n",
    "    [\n",
    "        keras.Input(shape=input_shape),\n",
    "        layers.Conv2D(32, kernel_size=(3, 3), activation=\"relu\"),\n",
    "        layers.MaxPooling2D(pool_size=(2, 2)),\n",
    "        layers.Conv2D(64, kernel_size=(3, 3), activation=\"relu\"),\n",
    "        layers.MaxPooling2D(pool_size=(2, 2)),\n",
    "        layers.Flatten(),\n",
    "        layers.Dropout(0.5),\n",
    "        layers.Flatten(),\n",
    "        layers.Dense(10, activation=\"softmax\"),\n",
    "    ]\n",
    ")\n",
    "\n",
    "model.summary()"
   ]
  },
  {
   "cell_type": "code",
   "execution_count": 47,
   "metadata": {},
   "outputs": [
    {
     "name": "stdout",
     "output_type": "stream",
     "text": [
      "Model: \"sequential_11\"\n",
      "_________________________________________________________________\n",
      "Layer (type)                 Output Shape              Param #   \n",
      "=================================================================\n",
      "conv1d_11 (Conv1D)           (None, 35, 64)            512       \n",
      "_________________________________________________________________\n",
      "dropout_35 (Dropout)         (None, 35, 64)            0         \n",
      "_________________________________________________________________\n",
      "bidirectional_11 (Bidirectio (None, 35, 128)           66048     \n",
      "_________________________________________________________________\n",
      "dropout_36 (Dropout)         (None, 35, 128)           0         \n",
      "_________________________________________________________________\n",
      "dense_22 (Dense)             (None, 35, 128)           16512     \n",
      "_________________________________________________________________\n",
      "max_pooling1d_3 (MaxPooling1 (None, 5, 128)            0         \n",
      "_________________________________________________________________\n",
      "dense_23 (Dense)             (None, 5, 27)             3483      \n",
      "=================================================================\n",
      "Total params: 86,555\n",
      "Trainable params: 86,555\n",
      "Non-trainable params: 0\n",
      "_________________________________________________________________\n"
     ]
    }
   ],
   "source": [
    "\n",
    "model = keras.Sequential(\n",
    "    [\n",
    "        keras.Input(shape=(35,7)),\n",
    "        layers.Conv1D(64, kernel_size=1, activation=\"relu\"),\n",
    "        layers.Dropout(0.3),\n",
    "        layers.Bidirectional(layers.LSTM(64, return_sequences=True)),\n",
    "        layers.Dropout(0.5),\n",
    "        layers.Dense(128, activation=\"sigmoid\"),\n",
    "        layers.MaxPooling1D(pool_size=7),\n",
    "        layers.Dense(27, activation=\"softmax\"),\n",
    "    ]\n",
    ")\n",
    "\n",
    "model.summary()"
   ]
  },
  {
   "cell_type": "markdown",
   "metadata": {},
   "source": [
    "model = keras.Sequential(\n",
    "    [\n",
    "        keras.Input(shape=(35,7)),\n",
    "        layers.Conv1D(64, kernel_size=1, activation=\"relu\"),\n",
    "        layers.Dropout(0.3),\n",
    "        layers.Bidirectional(layers.LSTM(64, return_sequences=True)),\n",
    "        layers.Dropout(0.5),\n",
    "        layers.Dense(128, activation=\"sigmoid\"),\n",
    "        layers.Flatten(),\n",
    "        layers.Dropout(0.5),\n",
    "        layers.Dense(NUM_CLASSES, activation=\"softmax\"),\n",
    "    ]\n",
    ")\n",
    "\n",
    "model.summary()"
   ]
  },
  {
   "cell_type": "code",
   "execution_count": 45,
   "metadata": {
    "scrolled": true
   },
   "outputs": [
    {
     "name": "stdout",
     "output_type": "stream",
     "text": [
      "Epoch 1/100\n",
      "33/34 [============================>.] - ETA: 0s - loss: 2.9887 - accuracy: 0.3663\n",
      "Epoch 00001: val_accuracy improved from -inf to 0.38896, saving model to .\\model\\pinyin_gabor_cnn1.h5\n",
      "34/34 [==============================] - 4s 125ms/step - loss: 2.9882 - accuracy: 0.3663 - val_loss: 2.5925 - val_accuracy: 0.3890\n",
      "Epoch 2/100\n",
      "33/34 [============================>.] - ETA: 0s - loss: 2.3948 - accuracy: 0.3770\n",
      "Epoch 00002: val_accuracy did not improve from 0.38896\n",
      "34/34 [==============================] - 2s 51ms/step - loss: 2.3942 - accuracy: 0.3772 - val_loss: 2.2027 - val_accuracy: 0.3890\n",
      "Epoch 3/100\n",
      "33/34 [============================>.] - ETA: 0s - loss: 2.1760 - accuracy: 0.3772\n",
      "Epoch 00003: val_accuracy improved from 0.38896 to 0.39915, saving model to .\\model\\pinyin_gabor_cnn1.h5\n",
      "34/34 [==============================] - 2s 51ms/step - loss: 2.1760 - accuracy: 0.3772 - val_loss: 2.1185 - val_accuracy: 0.3992\n",
      "Epoch 4/100\n",
      "33/34 [============================>.] - ETA: 0s - loss: 2.0720 - accuracy: 0.3906\n",
      "Epoch 00004: val_accuracy improved from 0.39915 to 0.40042, saving model to .\\model\\pinyin_gabor_cnn1.h5\n",
      "34/34 [==============================] - 2s 53ms/step - loss: 2.0713 - accuracy: 0.3909 - val_loss: 1.9206 - val_accuracy: 0.4004\n",
      "Epoch 5/100\n",
      "33/34 [============================>.] - ETA: 0s - loss: 1.9196 - accuracy: 0.3936\n",
      "Epoch 00005: val_accuracy improved from 0.40042 to 0.40170, saving model to .\\model\\pinyin_gabor_cnn1.h5\n",
      "34/34 [==============================] - 2s 55ms/step - loss: 1.9197 - accuracy: 0.3934 - val_loss: 1.8655 - val_accuracy: 0.4017\n",
      "Epoch 6/100\n",
      "33/34 [============================>.] - ETA: 0s - loss: 1.8682 - accuracy: 0.3950\n",
      "Epoch 00006: val_accuracy did not improve from 0.40170\n",
      "34/34 [==============================] - 2s 52ms/step - loss: 1.8681 - accuracy: 0.3951 - val_loss: 1.8208 - val_accuracy: 0.4017\n",
      "Epoch 7/100\n",
      "33/34 [============================>.] - ETA: 0s - loss: 1.8265 - accuracy: 0.3952\n",
      "Epoch 00007: val_accuracy did not improve from 0.40170\n",
      "34/34 [==============================] - 2s 54ms/step - loss: 1.8265 - accuracy: 0.3951 - val_loss: 1.7813 - val_accuracy: 0.4017\n",
      "Epoch 8/100\n",
      "33/34 [============================>.] - ETA: 0s - loss: 1.7814 - accuracy: 0.3946\n",
      "Epoch 00008: val_accuracy improved from 0.40170 to 0.40977, saving model to .\\model\\pinyin_gabor_cnn1.h5\n",
      "34/34 [==============================] - 2s 65ms/step - loss: 1.7811 - accuracy: 0.3948 - val_loss: 1.7359 - val_accuracy: 0.4098\n",
      "Epoch 9/100\n",
      "33/34 [============================>.] - ETA: 0s - loss: 1.7398 - accuracy: 0.4233\n",
      "Epoch 00009: val_accuracy improved from 0.40977 to 0.47473, saving model to .\\model\\pinyin_gabor_cnn1.h5\n",
      "34/34 [==============================] - 2s 59ms/step - loss: 1.7394 - accuracy: 0.4238 - val_loss: 1.6985 - val_accuracy: 0.4747\n",
      "Epoch 10/100\n",
      "33/34 [============================>.] - ETA: 0s - loss: 1.7094 - accuracy: 0.4477\n",
      "Epoch 00010: val_accuracy did not improve from 0.47473\n",
      "34/34 [==============================] - 2s 55ms/step - loss: 1.7096 - accuracy: 0.4475 - val_loss: 1.6837 - val_accuracy: 0.4386\n",
      "Epoch 11/100\n",
      "33/34 [============================>.] - ETA: 0s - loss: 1.6854 - accuracy: 0.4520\n",
      "Epoch 00011: val_accuracy improved from 0.47473 to 0.47643, saving model to .\\model\\pinyin_gabor_cnn1.h5\n",
      "34/34 [==============================] - 2s 58ms/step - loss: 1.6854 - accuracy: 0.4520 - val_loss: 1.6364 - val_accuracy: 0.4764\n",
      "Epoch 12/100\n",
      "33/34 [============================>.] - ETA: 0s - loss: 1.6557 - accuracy: 0.4579\n",
      "Epoch 00012: val_accuracy did not improve from 0.47643\n",
      "34/34 [==============================] - 2s 48ms/step - loss: 1.6555 - accuracy: 0.4579 - val_loss: 1.6007 - val_accuracy: 0.4764\n",
      "Epoch 13/100\n",
      "33/34 [============================>.] - ETA: 0s - loss: 1.6241 - accuracy: 0.4585\n",
      "Epoch 00013: val_accuracy did not improve from 0.47643\n",
      "34/34 [==============================] - 2s 48ms/step - loss: 1.6244 - accuracy: 0.4583 - val_loss: 1.5801 - val_accuracy: 0.4747\n",
      "Epoch 14/100\n",
      "33/34 [============================>.] - ETA: 0s - loss: 1.6058 - accuracy: 0.4601\n",
      "Epoch 00014: val_accuracy improved from 0.47643 to 0.47728, saving model to .\\model\\pinyin_gabor_cnn1.h5\n",
      "34/34 [==============================] - 2s 49ms/step - loss: 1.6058 - accuracy: 0.4601 - val_loss: 1.5855 - val_accuracy: 0.4773\n",
      "Epoch 15/100\n",
      "33/34 [============================>.] - ETA: 0s - loss: 1.5972 - accuracy: 0.4618\n",
      "Epoch 00015: val_accuracy improved from 0.47728 to 0.48747, saving model to .\\model\\pinyin_gabor_cnn1.h5\n",
      "34/34 [==============================] - 2s 53ms/step - loss: 1.5968 - accuracy: 0.4619 - val_loss: 1.5551 - val_accuracy: 0.4875\n",
      "Epoch 16/100\n",
      "33/34 [============================>.] - ETA: 0s - loss: 1.5801 - accuracy: 0.4643\n",
      "Epoch 00016: val_accuracy improved from 0.48747 to 0.48790, saving model to .\\model\\pinyin_gabor_cnn1.h5\n",
      "34/34 [==============================] - 2s 52ms/step - loss: 1.5798 - accuracy: 0.4645 - val_loss: 1.5482 - val_accuracy: 0.4879\n",
      "Epoch 17/100\n",
      "33/34 [============================>.] - ETA: 0s - loss: 1.5678 - accuracy: 0.4688\n",
      "Epoch 00017: val_accuracy did not improve from 0.48790\n",
      "34/34 [==============================] - 2s 52ms/step - loss: 1.5681 - accuracy: 0.4687 - val_loss: 1.5606 - val_accuracy: 0.4747\n",
      "Epoch 18/100\n",
      "34/34 [==============================] - ETA: 0s - loss: 1.5646 - accuracy: 0.4687 ETA: 0s -\n",
      "Epoch 00018: val_accuracy improved from 0.48790 to 0.49130, saving model to .\\model\\pinyin_gabor_cnn1.h5\n",
      "34/34 [==============================] - 2s 52ms/step - loss: 1.5646 - accuracy: 0.4687 - val_loss: 1.5370 - val_accuracy: 0.4913\n",
      "Epoch 19/100\n",
      "34/34 [==============================] - ETA: 0s - loss: 1.5562 - accuracy: 0.4702\n",
      "Epoch 00019: val_accuracy did not improve from 0.49130\n",
      "34/34 [==============================] - 2s 50ms/step - loss: 1.5562 - accuracy: 0.4702 - val_loss: 1.5234 - val_accuracy: 0.4858\n",
      "Epoch 20/100\n",
      "33/34 [============================>.] - ETA: 0s - loss: 1.5381 - accuracy: 0.4713\n",
      "Epoch 00020: val_accuracy did not improve from 0.49130\n",
      "34/34 [==============================] - 2s 51ms/step - loss: 1.5376 - accuracy: 0.4715 - val_loss: 1.5265 - val_accuracy: 0.4904\n",
      "Epoch 21/100\n",
      "33/34 [============================>.] - ETA: 0s - loss: 1.5399 - accuracy: 0.4747\n",
      "Epoch 00021: val_accuracy improved from 0.49130 to 0.49766, saving model to .\\model\\pinyin_gabor_cnn1.h5\n",
      "34/34 [==============================] - 2s 51ms/step - loss: 1.5399 - accuracy: 0.4746 - val_loss: 1.5044 - val_accuracy: 0.4977\n",
      "Epoch 22/100\n",
      "34/34 [==============================] - ETA: 0s - loss: 1.5189 - accuracy: 0.4857\n",
      "Epoch 00022: val_accuracy did not improve from 0.49766\n",
      "34/34 [==============================] - 2s 51ms/step - loss: 1.5189 - accuracy: 0.4857 - val_loss: 1.5053 - val_accuracy: 0.4913\n",
      "Epoch 23/100\n",
      "34/34 [==============================] - ETA: 0s - loss: 1.5113 - accuracy: 0.4875\n",
      "Epoch 00023: val_accuracy improved from 0.49766 to 0.49979, saving model to .\\model\\pinyin_gabor_cnn1.h5\n",
      "34/34 [==============================] - 2s 50ms/step - loss: 1.5113 - accuracy: 0.4875 - val_loss: 1.5041 - val_accuracy: 0.4998\n",
      "Epoch 24/100\n",
      "33/34 [============================>.] - ETA: 0s - loss: 1.5034 - accuracy: 0.4928\n",
      "Epoch 00024: val_accuracy improved from 0.49979 to 0.50446, saving model to .\\model\\pinyin_gabor_cnn1.h5\n",
      "34/34 [==============================] - 2s 51ms/step - loss: 1.5037 - accuracy: 0.4927 - val_loss: 1.4874 - val_accuracy: 0.5045\n",
      "Epoch 25/100\n",
      "33/34 [============================>.] - ETA: 0s - loss: 1.4903 - accuracy: 0.4997\n",
      "Epoch 00025: val_accuracy improved from 0.50446 to 0.50786, saving model to .\\model\\pinyin_gabor_cnn1.h5\n",
      "34/34 [==============================] - 2s 51ms/step - loss: 1.4906 - accuracy: 0.4996 - val_loss: 1.4727 - val_accuracy: 0.5079\n",
      "Epoch 26/100\n",
      "33/34 [============================>.] - ETA: 0s - loss: 1.4777 - accuracy: 0.5046\n",
      "Epoch 00026: val_accuracy improved from 0.50786 to 0.50870, saving model to .\\model\\pinyin_gabor_cnn1.h5\n",
      "34/34 [==============================] - 2s 51ms/step - loss: 1.4780 - accuracy: 0.5046 - val_loss: 1.4657 - val_accuracy: 0.5087\n",
      "Epoch 27/100\n",
      "34/34 [==============================] - ETA: 0s - loss: 1.4601 - accuracy: 0.5089\n",
      "Epoch 00027: val_accuracy did not improve from 0.50870\n",
      "34/34 [==============================] - 2s 49ms/step - loss: 1.4601 - accuracy: 0.5089 - val_loss: 1.4634 - val_accuracy: 0.5066\n",
      "Epoch 28/100\n",
      "34/34 [==============================] - ETA: 0s - loss: 1.4468 - accuracy: 0.5140\n",
      "Epoch 00028: val_accuracy improved from 0.50870 to 0.53036, saving model to .\\model\\pinyin_gabor_cnn1.h5\n",
      "34/34 [==============================] - 2s 48ms/step - loss: 1.4468 - accuracy: 0.5140 - val_loss: 1.4292 - val_accuracy: 0.5304\n",
      "Epoch 29/100\n",
      "33/34 [============================>.] - ETA: 0s - loss: 1.4302 - accuracy: 0.5229\n",
      "Epoch 00029: val_accuracy improved from 0.53036 to 0.53800, saving model to .\\model\\pinyin_gabor_cnn1.h5\n",
      "34/34 [==============================] - 2s 49ms/step - loss: 1.4301 - accuracy: 0.5230 - val_loss: 1.4101 - val_accuracy: 0.5380\n",
      "Epoch 30/100\n",
      "34/34 [==============================] - ETA: 0s - loss: 1.4118 - accuracy: 0.5277\n",
      "Epoch 00030: val_accuracy improved from 0.53800 to 0.53970, saving model to .\\model\\pinyin_gabor_cnn1.h5\n",
      "34/34 [==============================] - 2s 48ms/step - loss: 1.4118 - accuracy: 0.5277 - val_loss: 1.4103 - val_accuracy: 0.5397\n",
      "Epoch 31/100\n",
      "33/34 [============================>.] - ETA: 0s - loss: 1.4060 - accuracy: 0.5286\n",
      "Epoch 00031: val_accuracy improved from 0.53970 to 0.54140, saving model to .\\model\\pinyin_gabor_cnn1.h5\n",
      "34/34 [==============================] - 2s 49ms/step - loss: 1.4060 - accuracy: 0.5287 - val_loss: 1.3899 - val_accuracy: 0.5414\n",
      "Epoch 32/100\n",
      "34/34 [==============================] - ETA: 0s - loss: 1.3966 - accuracy: 0.5302\n",
      "Epoch 00032: val_accuracy did not improve from 0.54140\n",
      "34/34 [==============================] - 2s 49ms/step - loss: 1.3966 - accuracy: 0.5302 - val_loss: 1.3738 - val_accuracy: 0.5406\n",
      "Epoch 33/100\n",
      "34/34 [==============================] - ETA: 0s - loss: 1.3803 - accuracy: 0.5328\n",
      "Epoch 00033: val_accuracy did not improve from 0.54140\n",
      "34/34 [==============================] - 2s 48ms/step - loss: 1.3803 - accuracy: 0.5328 - val_loss: 1.3861 - val_accuracy: 0.5384\n",
      "Epoch 34/100\n",
      "33/34 [============================>.] - ETA: 0s - loss: 1.3649 - accuracy: 0.5366\n",
      "Epoch 00034: val_accuracy improved from 0.54140 to 0.54777, saving model to .\\model\\pinyin_gabor_cnn1.h5\n",
      "34/34 [==============================] - 2s 48ms/step - loss: 1.3648 - accuracy: 0.5366 - val_loss: 1.3546 - val_accuracy: 0.5478\n",
      "Epoch 35/100\n",
      "33/34 [============================>.] - ETA: 0s - loss: 1.3487 - accuracy: 0.5396\n",
      "Epoch 00035: val_accuracy did not improve from 0.54777\n",
      "34/34 [==============================] - 2s 59ms/step - loss: 1.3487 - accuracy: 0.5395 - val_loss: 1.3354 - val_accuracy: 0.5473\n",
      "Epoch 36/100\n",
      "33/34 [============================>.] - ETA: 0s - loss: 1.3344 - accuracy: 0.5403\n",
      "Epoch 00036: val_accuracy did not improve from 0.54777\n",
      "34/34 [==============================] - 2s 56ms/step - loss: 1.3345 - accuracy: 0.5403 - val_loss: 1.3336 - val_accuracy: 0.5478\n",
      "Epoch 37/100\n",
      "33/34 [============================>.] - ETA: 0s - loss: 1.3223 - accuracy: 0.5450\n",
      "Epoch 00037: val_accuracy improved from 0.54777 to 0.55754, saving model to .\\model\\pinyin_gabor_cnn1.h5\n",
      "34/34 [==============================] - 2s 62ms/step - loss: 1.3225 - accuracy: 0.5449 - val_loss: 1.2991 - val_accuracy: 0.5575\n",
      "Epoch 38/100\n",
      "33/34 [============================>.] - ETA: 0s - loss: 1.3251 - accuracy: 0.5389\n",
      "Epoch 00038: val_accuracy did not improve from 0.55754\n",
      "34/34 [==============================] - 2s 57ms/step - loss: 1.3252 - accuracy: 0.5390 - val_loss: 1.3073 - val_accuracy: 0.5550\n",
      "Epoch 39/100\n",
      "33/34 [============================>.] - ETA: 0s - loss: 1.3048 - accuracy: 0.5457\n",
      "Epoch 00039: val_accuracy improved from 0.55754 to 0.55966, saving model to .\\model\\pinyin_gabor_cnn1.h5\n",
      "34/34 [==============================] - 2s 56ms/step - loss: 1.3045 - accuracy: 0.5459 - val_loss: 1.2939 - val_accuracy: 0.5597\n",
      "Epoch 40/100\n",
      "34/34 [==============================] - ETA: 0s - loss: 1.2754 - accuracy: 0.5597\n",
      "Epoch 00040: val_accuracy improved from 0.55966 to 0.56985, saving model to .\\model\\pinyin_gabor_cnn1.h5\n",
      "34/34 [==============================] - 2s 54ms/step - loss: 1.2754 - accuracy: 0.5597 - val_loss: 1.2725 - val_accuracy: 0.5699\n",
      "Epoch 41/100\n",
      "33/34 [============================>.] - ETA: 0s - loss: 1.2595 - accuracy: 0.5674\n",
      "Epoch 00041: val_accuracy improved from 0.56985 to 0.57495, saving model to .\\model\\pinyin_gabor_cnn1.h5\n",
      "34/34 [==============================] - 2s 55ms/step - loss: 1.2596 - accuracy: 0.5672 - val_loss: 1.2436 - val_accuracy: 0.5749\n",
      "Epoch 42/100\n",
      "33/34 [============================>.] - ETA: 0s - loss: 1.2402 - accuracy: 0.5720\n",
      "Epoch 00042: val_accuracy did not improve from 0.57495\n",
      "34/34 [==============================] - 2s 58ms/step - loss: 1.2405 - accuracy: 0.5718 - val_loss: 1.2555 - val_accuracy: 0.5707\n",
      "Epoch 43/100\n",
      "33/34 [============================>.] - ETA: 0s - loss: 1.2350 - accuracy: 0.5757\n",
      "Epoch 00043: val_accuracy improved from 0.57495 to 0.59108, saving model to .\\model\\pinyin_gabor_cnn1.h5\n",
      "34/34 [==============================] - 2s 56ms/step - loss: 1.2349 - accuracy: 0.5758 - val_loss: 1.2194 - val_accuracy: 0.5911\n",
      "Epoch 44/100\n",
      "33/34 [============================>.] - ETA: 0s - loss: 1.2048 - accuracy: 0.5875\n",
      "Epoch 00044: val_accuracy did not improve from 0.59108\n",
      "34/34 [==============================] - 2s 55ms/step - loss: 1.2053 - accuracy: 0.5874 - val_loss: 1.2106 - val_accuracy: 0.5898\n",
      "Epoch 45/100\n",
      "33/34 [============================>.] - ETA: 0s - loss: 1.2015 - accuracy: 0.5857\n",
      "Epoch 00045: val_accuracy did not improve from 0.59108\n",
      "34/34 [==============================] - 2s 55ms/step - loss: 1.2027 - accuracy: 0.5852 - val_loss: 1.2554 - val_accuracy: 0.5771\n",
      "Epoch 46/100\n",
      "33/34 [============================>.] - ETA: 0s - loss: 1.1854 - accuracy: 0.5902 ETA: 0s - loss: 1.1937 \n",
      "Epoch 00046: val_accuracy improved from 0.59108 to 0.59321, saving model to .\\model\\pinyin_gabor_cnn1.h5\n",
      "34/34 [==============================] - 2s 57ms/step - loss: 1.1851 - accuracy: 0.5904 - val_loss: 1.1854 - val_accuracy: 0.5932\n",
      "Epoch 47/100\n",
      "33/34 [============================>.] - ETA: 0s - loss: 1.1634 - accuracy: 0.5980\n",
      "Epoch 00047: val_accuracy did not improve from 0.59321\n",
      "34/34 [==============================] - 2s 58ms/step - loss: 1.1631 - accuracy: 0.5982 - val_loss: 1.2031 - val_accuracy: 0.5856\n",
      "Epoch 48/100\n",
      "33/34 [============================>.] - ETA: 0s - loss: 1.1565 - accuracy: 0.6037\n",
      "Epoch 00048: val_accuracy improved from 0.59321 to 0.60849, saving model to .\\model\\pinyin_gabor_cnn1.h5\n",
      "34/34 [==============================] - 2s 57ms/step - loss: 1.1573 - accuracy: 0.6035 - val_loss: 1.1736 - val_accuracy: 0.6085\n",
      "Epoch 49/100\n",
      "33/34 [============================>.] - ETA: 0s - loss: 1.1400 - accuracy: 0.6043\n",
      "Epoch 00049: val_accuracy did not improve from 0.60849\n",
      "34/34 [==============================] - 2s 54ms/step - loss: 1.1397 - accuracy: 0.6045 - val_loss: 1.1735 - val_accuracy: 0.6025\n",
      "Epoch 50/100\n",
      "33/34 [============================>.] - ETA: 0s - loss: 1.1190 - accuracy: 0.6152\n",
      "Epoch 00050: val_accuracy did not improve from 0.60849\n",
      "34/34 [==============================] - 2s 52ms/step - loss: 1.1195 - accuracy: 0.6152 - val_loss: 1.1696 - val_accuracy: 0.5936\n",
      "Epoch 51/100\n",
      "33/34 [============================>.] - ETA: 0s - loss: 1.1220 - accuracy: 0.6123\n",
      "Epoch 00051: val_accuracy did not improve from 0.60849\n",
      "34/34 [==============================] - 2s 56ms/step - loss: 1.1226 - accuracy: 0.6120 - val_loss: 1.1563 - val_accuracy: 0.6021\n",
      "Epoch 52/100\n",
      "33/34 [============================>.] - ETA: 0s - loss: 1.1221 - accuracy: 0.6135\n",
      "Epoch 00052: val_accuracy improved from 0.60849 to 0.61062, saving model to .\\model\\pinyin_gabor_cnn1.h5\n",
      "34/34 [==============================] - 2s 54ms/step - loss: 1.1217 - accuracy: 0.6136 - val_loss: 1.1382 - val_accuracy: 0.6106\n",
      "Epoch 53/100\n",
      "33/34 [============================>.] - ETA: 0s - loss: 1.0803 - accuracy: 0.6273\n",
      "Epoch 00053: val_accuracy improved from 0.61062 to 0.61656, saving model to .\\model\\pinyin_gabor_cnn1.h5\n",
      "34/34 [==============================] - 2s 53ms/step - loss: 1.0805 - accuracy: 0.6272 - val_loss: 1.1292 - val_accuracy: 0.6166\n",
      "Epoch 54/100\n",
      "33/34 [============================>.] - ETA: 0s - loss: 1.0732 - accuracy: 0.6334\n",
      "Epoch 00054: val_accuracy did not improve from 0.61656\n",
      "34/34 [==============================] - 2s 52ms/step - loss: 1.0732 - accuracy: 0.6333 - val_loss: 1.1239 - val_accuracy: 0.6085\n",
      "Epoch 55/100\n",
      "33/34 [============================>.] - ETA: 0s - loss: 1.0649 - accuracy: 0.6329\n",
      "Epoch 00055: val_accuracy improved from 0.61656 to 0.62038, saving model to .\\model\\pinyin_gabor_cnn1.h5\n",
      "34/34 [==============================] - 2s 54ms/step - loss: 1.0649 - accuracy: 0.6329 - val_loss: 1.1054 - val_accuracy: 0.6204\n",
      "Epoch 56/100\n",
      "33/34 [============================>.] - ETA: 0s - loss: 1.0719 - accuracy: 0.6319\n",
      "Epoch 00056: val_accuracy did not improve from 0.62038\n",
      "34/34 [==============================] - 2s 55ms/step - loss: 1.0719 - accuracy: 0.6319 - val_loss: 1.1088 - val_accuracy: 0.6195\n",
      "Epoch 57/100\n",
      "33/34 [============================>.] - ETA: 0s - loss: 1.0424 - accuracy: 0.6409\n",
      "Epoch 00057: val_accuracy improved from 0.62038 to 0.63609, saving model to .\\model\\pinyin_gabor_cnn1.h5\n",
      "34/34 [==============================] - 2s 56ms/step - loss: 1.0425 - accuracy: 0.6409 - val_loss: 1.1005 - val_accuracy: 0.6361\n",
      "Epoch 58/100\n",
      "33/34 [============================>.] - ETA: 0s - loss: 1.0297 - accuracy: 0.6477\n",
      "Epoch 00058: val_accuracy did not improve from 0.63609\n",
      "34/34 [==============================] - 2s 59ms/step - loss: 1.0288 - accuracy: 0.6481 - val_loss: 1.0781 - val_accuracy: 0.6306\n",
      "Epoch 59/100\n",
      "33/34 [============================>.] - ETA: 0s - loss: 1.0025 - accuracy: 0.6573\n",
      "Epoch 00059: val_accuracy did not improve from 0.63609\n",
      "34/34 [==============================] - 2s 55ms/step - loss: 1.0026 - accuracy: 0.6573 - val_loss: 1.0994 - val_accuracy: 0.6229\n",
      "Epoch 60/100\n",
      "33/34 [============================>.] - ETA: 0s - loss: 1.0172 - accuracy: 0.6502\n",
      "Epoch 00060: val_accuracy did not improve from 0.63609\n",
      "34/34 [==============================] - 2s 57ms/step - loss: 1.0179 - accuracy: 0.6499 - val_loss: 1.0965 - val_accuracy: 0.6255\n",
      "Epoch 61/100\n",
      "33/34 [============================>.] - ETA: 0s - loss: 1.0238 - accuracy: 0.6449 ETA: 1s - loss: 1.0662 - ac\n",
      "Epoch 00061: val_accuracy did not improve from 0.63609\n",
      "34/34 [==============================] - 2s 58ms/step - loss: 1.0240 - accuracy: 0.6448 - val_loss: 1.0767 - val_accuracy: 0.6255\n",
      "Epoch 62/100\n",
      "33/34 [============================>.] - ETA: 0s - loss: 1.0039 - accuracy: 0.6562\n",
      "Epoch 00062: val_accuracy did not improve from 0.63609\n",
      "34/34 [==============================] - 2s 55ms/step - loss: 1.0038 - accuracy: 0.6562 - val_loss: 1.0892 - val_accuracy: 0.6289\n",
      "Epoch 63/100\n",
      "33/34 [============================>.] - ETA: 0s - loss: 0.9788 - accuracy: 0.6640\n",
      "Epoch 00063: val_accuracy did not improve from 0.63609\n",
      "34/34 [==============================] - 2s 57ms/step - loss: 0.9789 - accuracy: 0.6638 - val_loss: 1.0708 - val_accuracy: 0.6357\n",
      "Epoch 64/100\n",
      "33/34 [============================>.] - ETA: 0s - loss: 0.9496 - accuracy: 0.6768\n",
      "Epoch 00064: val_accuracy improved from 0.63609 to 0.64289, saving model to .\\model\\pinyin_gabor_cnn1.h5\n",
      "34/34 [==============================] - 2s 58ms/step - loss: 0.9498 - accuracy: 0.6767 - val_loss: 1.0508 - val_accuracy: 0.6429\n",
      "Epoch 65/100\n",
      "33/34 [============================>.] - ETA: 0s - loss: 0.9522 - accuracy: 0.6740\n",
      "Epoch 00065: val_accuracy did not improve from 0.64289\n",
      "34/34 [==============================] - 2s 55ms/step - loss: 0.9525 - accuracy: 0.6738 - val_loss: 1.0657 - val_accuracy: 0.6357\n",
      "Epoch 66/100\n",
      "33/34 [============================>.] - ETA: 0s - loss: 0.9448 - accuracy: 0.6762\n",
      "Epoch 00066: val_accuracy did not improve from 0.64289\n",
      "34/34 [==============================] - 2s 58ms/step - loss: 0.9452 - accuracy: 0.6760 - val_loss: 1.1164 - val_accuracy: 0.6013\n",
      "Epoch 67/100\n",
      "33/34 [============================>.] - ETA: 0s - loss: 0.9880 - accuracy: 0.6536\n",
      "Epoch 00067: val_accuracy did not improve from 0.64289\n",
      "34/34 [==============================] - 2s 55ms/step - loss: 0.9879 - accuracy: 0.6535 - val_loss: 1.0422 - val_accuracy: 0.6374\n",
      "Epoch 68/100\n",
      "33/34 [============================>.] - ETA: 0s - loss: 0.9133 - accuracy: 0.6888\n",
      "Epoch 00068: val_accuracy improved from 0.64289 to 0.64713, saving model to .\\model\\pinyin_gabor_cnn1.h5\n",
      "34/34 [==============================] - 2s 60ms/step - loss: 0.9131 - accuracy: 0.6889 - val_loss: 1.0433 - val_accuracy: 0.6471\n",
      "Epoch 69/100\n",
      "33/34 [============================>.] - ETA: 0s - loss: 0.9143 - accuracy: 0.6847\n",
      "Epoch 00069: val_accuracy did not improve from 0.64713\n",
      "34/34 [==============================] - 2s 55ms/step - loss: 0.9153 - accuracy: 0.6845 - val_loss: 1.0357 - val_accuracy: 0.6386\n",
      "Epoch 70/100\n",
      "33/34 [============================>.] - ETA: 0s - loss: 0.9175 - accuracy: 0.6830\n",
      "Epoch 00070: val_accuracy did not improve from 0.64713\n",
      "34/34 [==============================] - 2s 55ms/step - loss: 0.9181 - accuracy: 0.6827 - val_loss: 1.0306 - val_accuracy: 0.6395\n",
      "Epoch 71/100\n",
      "33/34 [============================>.] - ETA: 0s - loss: 0.8876 - accuracy: 0.6952\n",
      "Epoch 00071: val_accuracy did not improve from 0.64713\n",
      "34/34 [==============================] - 2s 57ms/step - loss: 0.8878 - accuracy: 0.6951 - val_loss: 1.0415 - val_accuracy: 0.6378\n",
      "Epoch 72/100\n",
      "33/34 [============================>.] - ETA: 0s - loss: 0.8932 - accuracy: 0.6926\n",
      "Epoch 00072: val_accuracy did not improve from 0.64713\n",
      "34/34 [==============================] - 2s 56ms/step - loss: 0.8930 - accuracy: 0.6926 - val_loss: 1.0381 - val_accuracy: 0.6450\n",
      "Epoch 73/100\n",
      "33/34 [============================>.] - ETA: 0s - loss: 0.8688 - accuracy: 0.6987\n",
      "Epoch 00073: val_accuracy did not improve from 0.64713\n",
      "34/34 [==============================] - 2s 54ms/step - loss: 0.8703 - accuracy: 0.6981 - val_loss: 1.0656 - val_accuracy: 0.6433\n",
      "Epoch 74/100\n",
      "33/34 [============================>.] - ETA: 0s - loss: 0.8986 - accuracy: 0.6907\n",
      "Epoch 00074: val_accuracy did not improve from 0.64713\n",
      "34/34 [==============================] - 2s 56ms/step - loss: 0.8993 - accuracy: 0.6905 - val_loss: 1.0662 - val_accuracy: 0.6386\n",
      "Epoch 75/100\n",
      "33/34 [============================>.] - ETA: 0s - loss: 0.8834 - accuracy: 0.6961\n",
      "Epoch 00075: val_accuracy did not improve from 0.64713\n",
      "34/34 [==============================] - 2s 55ms/step - loss: 0.8840 - accuracy: 0.6960 - val_loss: 1.0239 - val_accuracy: 0.6429\n",
      "Epoch 76/100\n",
      "33/34 [============================>.] - ETA: 0s - loss: 0.8522 - accuracy: 0.7073\n",
      "Epoch 00076: val_accuracy did not improve from 0.64713\n",
      "34/34 [==============================] - 2s 57ms/step - loss: 0.8530 - accuracy: 0.7072 - val_loss: 1.0203 - val_accuracy: 0.6344\n",
      "Epoch 77/100\n",
      "33/34 [============================>.] - ETA: 0s - loss: 0.8615 - accuracy: 0.7040\n",
      "Epoch 00077: val_accuracy did not improve from 0.64713\n",
      "34/34 [==============================] - 2s 51ms/step - loss: 0.8620 - accuracy: 0.7039 - val_loss: 1.0359 - val_accuracy: 0.6365\n",
      "Epoch 78/100\n",
      "33/34 [============================>.] - ETA: 0s - loss: 0.8505 - accuracy: 0.7066\n",
      "Epoch 00078: val_accuracy did not improve from 0.64713\n",
      "34/34 [==============================] - 2s 52ms/step - loss: 0.8503 - accuracy: 0.7067 - val_loss: 1.0354 - val_accuracy: 0.6454\n",
      "Epoch 79/100\n",
      "33/34 [============================>.] - ETA: 0s - loss: 0.8120 - accuracy: 0.7203\n",
      "Epoch 00079: val_accuracy improved from 0.64713 to 0.65350, saving model to .\\model\\pinyin_gabor_cnn1.h5\n",
      "34/34 [==============================] - 2s 53ms/step - loss: 0.8129 - accuracy: 0.7202 - val_loss: 1.0130 - val_accuracy: 0.6535\n",
      "Epoch 80/100\n",
      "33/34 [============================>.] - ETA: 0s - loss: 0.8235 - accuracy: 0.7119\n",
      "Epoch 00080: val_accuracy did not improve from 0.65350\n",
      "34/34 [==============================] - 2s 55ms/step - loss: 0.8239 - accuracy: 0.7118 - val_loss: 1.0327 - val_accuracy: 0.6386\n",
      "Epoch 81/100\n",
      "34/34 [==============================] - ETA: 0s - loss: 0.8724 - accuracy: 0.6958\n",
      "Epoch 00081: val_accuracy did not improve from 0.65350\n",
      "34/34 [==============================] - 2s 52ms/step - loss: 0.8724 - accuracy: 0.6958 - val_loss: 1.0303 - val_accuracy: 0.6476\n",
      "Epoch 82/100\n",
      "33/34 [============================>.] - ETA: 0s - loss: 0.8237 - accuracy: 0.7162\n",
      "Epoch 00082: val_accuracy did not improve from 0.65350\n",
      "34/34 [==============================] - 2s 53ms/step - loss: 0.8251 - accuracy: 0.7158 - val_loss: 1.0226 - val_accuracy: 0.6480\n",
      "Epoch 83/100\n",
      "34/34 [==============================] - ETA: 0s - loss: 0.8104 - accuracy: 0.7186\n",
      "Epoch 00083: val_accuracy did not improve from 0.65350\n",
      "34/34 [==============================] - 2s 50ms/step - loss: 0.8104 - accuracy: 0.7186 - val_loss: 1.0445 - val_accuracy: 0.6476\n",
      "Epoch 84/100\n",
      "33/34 [============================>.] - ETA: 0s - loss: 0.7968 - accuracy: 0.7239\n",
      "Epoch 00084: val_accuracy did not improve from 0.65350\n",
      "34/34 [==============================] - 2s 54ms/step - loss: 0.7967 - accuracy: 0.7238 - val_loss: 1.0294 - val_accuracy: 0.6433\n",
      "Epoch 85/100\n",
      "34/34 [==============================] - ETA: 0s - loss: 0.7891 - accuracy: 0.7285\n",
      "Epoch 00085: val_accuracy did not improve from 0.65350\n",
      "\n",
      "Epoch 00085: ReduceLROnPlateau reducing learning rate to 0.0005000000237487257.\n",
      "34/34 [==============================] - 2s 52ms/step - loss: 0.7891 - accuracy: 0.7285 - val_loss: 1.0316 - val_accuracy: 0.6433\n",
      "Epoch 86/100\n",
      "33/34 [============================>.] - ETA: 0s - loss: 0.7470 - accuracy: 0.7462\n",
      "Epoch 00086: val_accuracy improved from 0.65350 to 0.65690, saving model to .\\model\\pinyin_gabor_cnn1.h5\n",
      "34/34 [==============================] - 2s 52ms/step - loss: 0.7469 - accuracy: 0.7464 - val_loss: 1.0011 - val_accuracy: 0.6569\n",
      "Epoch 87/100\n",
      "33/34 [============================>.] - ETA: 0s - loss: 0.7155 - accuracy: 0.7588\n",
      "Epoch 00087: val_accuracy improved from 0.65690 to 0.65945, saving model to .\\model\\pinyin_gabor_cnn1.h5\n",
      "34/34 [==============================] - 2s 52ms/step - loss: 0.7160 - accuracy: 0.7585 - val_loss: 1.0044 - val_accuracy: 0.6594\n",
      "Epoch 88/100\n",
      "33/34 [============================>.] - ETA: 0s - loss: 0.7122 - accuracy: 0.7583\n",
      "Epoch 00088: val_accuracy did not improve from 0.65945\n",
      "34/34 [==============================] - 2s 51ms/step - loss: 0.7130 - accuracy: 0.7582 - val_loss: 1.0050 - val_accuracy: 0.6577\n",
      "Epoch 89/100\n",
      "33/34 [============================>.] - ETA: 0s - loss: 0.7249 - accuracy: 0.7539\n",
      "Epoch 00089: val_accuracy did not improve from 0.65945\n",
      "34/34 [==============================] - 2s 51ms/step - loss: 0.7252 - accuracy: 0.7537 - val_loss: 1.0044 - val_accuracy: 0.6544\n",
      "Epoch 90/100\n",
      "33/34 [============================>.] - ETA: 0s - loss: 0.7066 - accuracy: 0.7605\n",
      "Epoch 00090: val_accuracy improved from 0.65945 to 0.66285, saving model to .\\model\\pinyin_gabor_cnn1.h5\n",
      "34/34 [==============================] - 2s 52ms/step - loss: 0.7070 - accuracy: 0.7605 - val_loss: 1.0122 - val_accuracy: 0.6628\n",
      "Epoch 91/100\n",
      "33/34 [============================>.] - ETA: 0s - loss: 0.6982 - accuracy: 0.7653\n",
      "Epoch 00091: val_accuracy did not improve from 0.66285\n",
      "34/34 [==============================] - 2s 51ms/step - loss: 0.6987 - accuracy: 0.7650 - val_loss: 0.9997 - val_accuracy: 0.6582\n",
      "Epoch 92/100\n",
      "33/34 [============================>.] - ETA: 0s - loss: 0.7020 - accuracy: 0.7633\n",
      "Epoch 00092: val_accuracy did not improve from 0.66285\n",
      "34/34 [==============================] - 2s 50ms/step - loss: 0.7036 - accuracy: 0.7629 - val_loss: 1.0206 - val_accuracy: 0.6501\n",
      "Epoch 93/100\n",
      "33/34 [============================>.] - ETA: 0s - loss: 0.7147 - accuracy: 0.7563\n",
      "Epoch 00093: val_accuracy did not improve from 0.66285\n",
      "34/34 [==============================] - 2s 53ms/step - loss: 0.7161 - accuracy: 0.7556 - val_loss: 1.0023 - val_accuracy: 0.6573\n",
      "Epoch 94/100\n",
      "33/34 [============================>.] - ETA: 0s - loss: 0.7006 - accuracy: 0.7620\n",
      "Epoch 00094: val_accuracy did not improve from 0.66285\n",
      "34/34 [==============================] - 2s 51ms/step - loss: 0.7015 - accuracy: 0.7616 - val_loss: 1.0160 - val_accuracy: 0.6582\n",
      "Epoch 95/100\n",
      "33/34 [============================>.] - ETA: 0s - loss: 0.7149 - accuracy: 0.7537\n",
      "Epoch 00095: val_accuracy did not improve from 0.66285\n",
      "34/34 [==============================] - 2s 51ms/step - loss: 0.7156 - accuracy: 0.7536 - val_loss: 1.0040 - val_accuracy: 0.6556\n",
      "Epoch 96/100\n",
      "34/34 [==============================] - ETA: 0s - loss: 0.6902 - accuracy: 0.7636\n",
      "Epoch 00096: val_accuracy did not improve from 0.66285\n",
      "34/34 [==============================] - 2s 50ms/step - loss: 0.6902 - accuracy: 0.7636 - val_loss: 1.0132 - val_accuracy: 0.6565\n",
      "Epoch 97/100\n",
      "33/34 [============================>.] - ETA: 0s - loss: 0.6960 - accuracy: 0.7612\n",
      "Epoch 00097: val_accuracy did not improve from 0.66285\n",
      "\n",
      "Epoch 00097: ReduceLROnPlateau reducing learning rate to 0.0002500000118743628.\n",
      "34/34 [==============================] - 2s 51ms/step - loss: 0.6962 - accuracy: 0.7612 - val_loss: 1.0055 - val_accuracy: 0.6535\n",
      "Epoch 98/100\n",
      "33/34 [============================>.] - ETA: 0s - loss: 0.6526 - accuracy: 0.7796\n",
      "Epoch 00098: val_accuracy did not improve from 0.66285\n",
      "34/34 [==============================] - 2s 52ms/step - loss: 0.6545 - accuracy: 0.7791 - val_loss: 1.0014 - val_accuracy: 0.6628\n",
      "Epoch 99/100\n",
      "33/34 [============================>.] - ETA: 0s - loss: 0.6554 - accuracy: 0.7796\n",
      "Epoch 00099: val_accuracy did not improve from 0.66285\n",
      "34/34 [==============================] - 2s 51ms/step - loss: 0.6559 - accuracy: 0.7794 - val_loss: 0.9983 - val_accuracy: 0.6603\n",
      "Epoch 100/100\n",
      "34/34 [==============================] - ETA: 0s - loss: 0.6612 - accuracy: 0.7771\n",
      "Epoch 00100: val_accuracy did not improve from 0.66285\n",
      "34/34 [==============================] - 2s 50ms/step - loss: 0.6612 - accuracy: 0.7771 - val_loss: 1.0019 - val_accuracy: 0.6607\n"
     ]
    }
   ],
   "source": [
    "model.compile(optimizer='adam',loss='categorical_crossentropy',metrics=['accuracy'])\n",
    "lr_reduce=kcallbacks.ReduceLROnPlateau(monitor='val_loss',factor=0.5,patience=6,verbose=1,min_lr=0.00001)\n",
    "save_model=kcallbacks.ModelCheckpoint(filepath=MODEL_SAVE_PATH,monitor='val_accuracy',verbose=1,save_best_only=True)\n",
    "callback_list=[save_model,lr_reduce]\n",
    "history=model.fit(x=X_train,y=y_train,batch_size=BATCH_SIZE,epochs=EPOCHS,validation_data=(X_test,y_test),\n",
    "                  callbacks=callback_list)"
   ]
  },
  {
   "cell_type": "markdown",
   "metadata": {},
   "source": [
    "## plot_curve"
   ]
  },
  {
   "cell_type": "code",
   "execution_count": 46,
   "metadata": {},
   "outputs": [],
   "source": [
    "from help import plot_curve,plot_curve_with_smooth"
   ]
  },
  {
   "cell_type": "code",
   "execution_count": 47,
   "metadata": {},
   "outputs": [
    {
     "data": {
      "image/png": "[encoded data removed]",
      "text/plain": [
       "<Figure size 1080x360 with 2 Axes>"
      ]
     },
     "metadata": {},
     "output_type": "display_data"
    }
   ],
   "source": [
    "plot_curve(history)"
   ]
  },
  {
   "cell_type": "code",
   "execution_count": 48,
   "metadata": {},
   "outputs": [
    {
     "data": {
      "image/png": "[encoded data removed]",
      "text/plain": [
       "<Figure size 1080x360 with 2 Axes>"
      ]
     },
     "metadata": {},
     "output_type": "display_data"
    }
   ],
   "source": [
    "plot_curve_with_smooth(history)"
   ]
  },
  {
   "cell_type": "markdown",
   "metadata": {},
   "source": [
    "## confusion_metrix"
   ]
  },
  {
   "cell_type": "code",
   "execution_count": 20,
   "metadata": {
    "collapsed": true,
    "jupyter": {
     "outputs_hidden": true
    }
   },
   "outputs": [],
   "source": [
    "model.load_weights('./models/pinyin_gabor_cnn.h5')"
   ]
  },
  {
   "cell_type": "code",
   "execution_count": 49,
   "metadata": {},
   "outputs": [
    {
     "data": {
      "image/png": "[encoded data removed]",
      "text/plain": [
       "<Figure size 864x576 with 2 Axes>"
      ]
     },
     "metadata": {
      "needs_background": "light"
     },
     "output_type": "display_data"
    }
   ],
   "source": [
    "from sklearn.metrics import confusion_matrix\n",
    "import matplotlib.pyplot as plt\n",
    "%matplotlib inline\n",
    "y_pred=model.predict(X_test)\n",
    "y_pred=np.argmax(y_pred,axis=-1).ravel()\n",
    "y_true=np.argmax(y_test,axis=-1).ravel()\n",
    "con_matrix=confusion_matrix(y_true=y_true,y_pred=y_pred)\n",
    "def plot_confusion_matrix(confusion_mat):\n",
    "    plt.figure(figsize=(12,8))\n",
    "    plt.imshow(confusion_mat)\n",
    "    plt.title('Confusion Matrix')\n",
    "    plt.colorbar()\n",
    "    labels = list(range(0,27))\n",
    "    tick_marks = np.arange(len(labels))\n",
    "    plt.xticks(tick_marks, labels)\n",
    "    plt.yticks(tick_marks, labels)\n",
    "    plt.ylabel('True Label')\n",
    "    plt.xlabel('Predicted Label')\n",
    "    plt.grid(False)\n",
    "    plt.show() \n",
    "plot_confusion_matrix(con_matrix)"
   ]
  },
  {
   "cell_type": "markdown",
   "metadata": {},
   "source": [
    "## classfication_report"
   ]
  },
  {
   "cell_type": "code",
   "execution_count": 50,
   "metadata": {},
   "outputs": [],
   "source": [
    "from sklearn.metrics import classification_report\n"
   ]
  },
  {
   "cell_type": "code",
   "execution_count": 51,
   "metadata": {
    "scrolled": true
   },
   "outputs": [
    {
     "name": "stdout",
     "output_type": "stream",
     "text": [
      "              precision    recall  f1-score   support\n",
      "\n",
      "           0     0.8665    0.9138    0.8895       916\n",
      "           a     0.6596    0.7086    0.6832       175\n",
      "           b     0.5652    0.4483    0.5000        29\n",
      "           c     0.2800    0.2000    0.2333        35\n",
      "           d     0.2500    0.2000    0.2222        25\n",
      "           e     0.5000    0.3333    0.4000        63\n",
      "           f     0.3333    0.3636    0.3478        11\n",
      "           g     0.3896    0.3061    0.3429        98\n",
      "           h     0.4762    0.3960    0.4324       101\n",
      "           i     0.7277    0.7500    0.7387       196\n",
      "           j     0.2000    0.1250    0.1538        16\n",
      "           k     0.5556    0.4167    0.4762        12\n",
      "           l     0.2174    0.3704    0.2740        27\n",
      "           m     0.4000    0.4545    0.4255        22\n",
      "           n     0.5611    0.5459    0.5534       185\n",
      "           o     0.5000    0.5000    0.5000        70\n",
      "           p     0.0000    0.0000    0.0000        10\n",
      "           q     0.3750    0.4615    0.4138        26\n",
      "           r     0.3333    0.2500    0.2857        16\n",
      "           s     0.2778    0.3333    0.3030        30\n",
      "           t     0.3000    0.1429    0.1935        21\n",
      "           u     0.7143    0.6944    0.7042       144\n",
      "           v     1.0000    0.1250    0.2222         8\n",
      "           w     0.3333    0.5625    0.4186        16\n",
      "           x     0.1786    0.1613    0.1695        31\n",
      "           y     0.2951    0.3673    0.3273        49\n",
      "           z     0.1304    0.1304    0.1304        23\n",
      "\n",
      "    accuracy                         0.6607      2355\n",
      "   macro avg     0.4230    0.3800    0.3830      2355\n",
      "weighted avg     0.6530    0.6607    0.6533      2355\n",
      "\n"
     ]
    }
   ],
   "source": [
    "target_names=[alphabet_set[i] for i in range(27)]\n",
    "print(classification_report(y_true,y_pred,digits=4,labels=list(range(27)),target_names=target_names))"
   ]
  },
  {
   "cell_type": "markdown",
   "metadata": {},
   "source": [
    "# predict test"
   ]
  },
  {
   "cell_type": "code",
   "execution_count": 81,
   "metadata": {},
   "outputs": [
    {
     "name": "stdout",
     "output_type": "stream",
     "text": [
      "(1, 35, 7)\n",
      "Predict Label:ji\n"
     ]
    }
   ],
   "source": [
    "\n",
    "temp = np.load('./gabor/person1_time1_group1_he_2.npy')\n",
    "m,n = temp.shape\n",
    "            #print(m)\n",
    "if m <=35:\n",
    "    left = 36 - m\n",
    "    temp =np.append(temp,(np.zeros([left,n])),axis=0)\n",
    "test =[]\n",
    "test.append(temp[:35,])\n",
    "test = np.array(test)\n",
    "print(test.shape)\n",
    "pred=model.predict(test)\n",
    "\n",
    "pred=np.argmax(pred,axis=-1)[0]\n",
    "text=[alphabet_set[i] for i in pred]\n",
    "text=[i for i in text if i!='0']\n",
    "text=''.join(text)\n",
    "print('Predict Label:%s'%(text))"
   ]
  },
  {
   "cell_type": "code",
   "execution_count": 82,
   "metadata": {},
   "outputs": [
    {
     "name": "stdout",
     "output_type": "stream",
     "text": [
      "(1, 35, 7)\n",
      "Predict Label:maa\n"
     ]
    }
   ],
   "source": [
    "\n",
    "temp = np.load('./gabor/person1_time1_group1_ba_1.npy')\n",
    "m,n = temp.shape\n",
    "            #print(m)\n",
    "if m <=35:\n",
    "    left = 36 - m\n",
    "    temp =np.append(temp,(np.zeros([left,n])),axis=0)\n",
    "test =[]\n",
    "test.append(temp[:35,])\n",
    "test = np.array(test)\n",
    "print(test.shape)\n",
    "pred=model.predict(test)\n",
    "\n",
    "pred=np.argmax(pred,axis=-1)[0]\n",
    "text=[alphabet_set[i] for i in pred]\n",
    "text=[i for i in text if i!='0']\n",
    "text=''.join(text)\n",
    "print('Predict Label:%s'%(text))"
   ]
  },
  {
   "cell_type": "code",
   "execution_count": 86,
   "metadata": {},
   "outputs": [
    {
     "name": "stdout",
     "output_type": "stream",
     "text": [
      "(1, 35, 7)\n",
      "Predict Label:maa\n"
     ]
    }
   ],
   "source": [
    "\n",
    "temp = np.load('./gabor/person2_time1_group1_da_4.npy')\n",
    "m,n = temp.shape\n",
    "            #print(m)\n",
    "if m <=35:\n",
    "    left = 36 - m\n",
    "    temp =np.append(temp,(np.zeros([left,n])),axis=0)\n",
    "test =[]\n",
    "test.append(temp[:35,])\n",
    "test = np.array(test)\n",
    "print(test.shape)\n",
    "pred=model.predict(test)\n",
    "\n",
    "pred=np.argmax(pred,axis=-1)[0]\n",
    "text=[alphabet_set[i] for i in pred]\n",
    "text=[i for i in text if i!='0']\n",
    "text=''.join(text)\n",
    "print('Predict Label:%s'%(text))"
   ]
  },
  {
   "cell_type": "code",
   "execution_count": null,
   "metadata": {
    "collapsed": true,
    "jupyter": {
     "outputs_hidden": true
    }
   },
   "outputs": [],
   "source": []
  }
 ],
 "metadata": {
  "kernelspec": {
   "display_name": "Python 3",
   "language": "python",
   "name": "python3"
  },
  "language_info": {
   "codemirror_mode": {
    "name": "ipython",
    "version": 3
   },
   "file_extension": ".py",
   "mimetype": "text/x-python",
   "name": "python",
   "nbconvert_exporter": "python",
   "pygments_lexer": "ipython3",
   "version": "3.8.3"
  },
  "toc": {
   "base_numbering": 1,
   "nav_menu": {},
   "number_sections": true,
   "sideBar": true,
   "skip_h1_title": false,
   "title_cell": "Table of Contents",
   "title_sidebar": "Contents",
   "toc_cell": false,
   "toc_position": {
    "height": "calc(100% - 180px)",
    "left": "10px",
    "top": "150px",
    "width": "250px"
   },
   "toc_section_display": true,
   "toc_window_display": true
  }
 },
 "nbformat": 4,
 "nbformat_minor": 4
}
