{
 "cells": [
  {
   "cell_type": "markdown",
   "metadata": {},
   "source": [
    "# import modules"
   ]
  },
  {
   "cell_type": "code",
   "execution_count": 3,
   "metadata": {},
   "outputs": [],
   "source": [
    "import keras\n",
    "from keras.utils import plot_model,to_categorical\n",
    "from keras import Model,Input,regularizers\n",
    "from keras.layers import Reshape,Flatten\n",
    "import numpy as np\n",
    "from sklearn.model_selection import train_test_split\n",
    "import keras.backend as K\n",
    "import keras.callbacks as kcallbacks\n",
    "from sklearn.preprocessing import LabelEncoder\n",
    "import string\n",
    "from keras.optimizers import SGD\n",
    "import warnings\n",
    "import tensorflow as tf\n",
    "# from lsuv_init import LSUVinit\n",
    "warnings.filterwarnings('ignore')\n",
    "from tensorflow.keras import layers\n",
    "from keras.layers import Input, Dense, LSTM, merge ,Conv1D,Dropout,Bidirectional,Multiply,BatchNormalization,MaxPool1D\n",
    "from keras.models import Model\n",
    "\n",
    "\n",
    "from attention_utils import get_activations\n",
    "from keras.layers import merge\n",
    "from keras.layers.core import *\n",
    "from keras.layers.recurrent import LSTM\n",
    "from keras.models import *\n",
    "\n",
    "import  pandas as pd\n",
    "import  numpy as np\n",
    "from keras.wrappers import scikit_learn"
   ]
  },
  {
   "cell_type": "markdown",
   "metadata": {},
   "source": [
    "# Load Features"
   ]
  },
  {
   "cell_type": "code",
   "execution_count": 4,
   "metadata": {},
   "outputs": [],
   "source": [
    "\n",
    "SINGLE_ATTENTION_VECTOR = False\n",
    "def attention_3d_block(inputs, single_attention_vector=False):\n",
    "    # 如果上一层是LSTM，需要return_sequences=True\n",
    "    # inputs.shape = (batch_size, time_steps, input_dim)\n",
    "    time_steps = K.int_shape(inputs)[1]\n",
    "    input_dim = K.int_shape(inputs)[2]\n",
    "    a = Permute((2, 1))(inputs)\n",
    "    a = Dense(time_steps, activation='softmax', name='attention')(a)\n",
    "    if single_attention_vector:\n",
    "        a = Lambda(lambda x: K.mean(x, axis=1))(a)\n",
    "        a = RepeatVector(input_dim)(a)\n",
    "\n",
    "    a_probs = Permute((2, 1))(a)\n",
    "    # 乘上了attention权重，但是并没有求和，好像影响不大\n",
    "    # 如果分类任务，进行Flatten展开就可以了\n",
    "    # element-wise\n",
    "    output_attention_mul = Multiply()([inputs, a_probs])\n",
    "    return output_attention_mul\n"
   ]
  },
  {
   "cell_type": "code",
   "execution_count": 44,
   "metadata": {},
   "outputs": [],
   "source": [
    "X_features=np.load('./feature/X_gabor.npy')\n",
    "y=np.load('./feature/y_tone.npy')"
   ]
  },
  {
   "cell_type": "code",
   "execution_count": 45,
   "metadata": {},
   "outputs": [
    {
     "data": {
      "text/plain": [
       "(4704, 35, 7)"
      ]
     },
     "execution_count": 45,
     "metadata": {},
     "output_type": "execute_result"
    }
   ],
   "source": [
    "X_features.shape"
   ]
  },
  {
   "cell_type": "code",
   "execution_count": 46,
   "metadata": {},
   "outputs": [],
   "source": [
    "means = np.mean(X_features, axis=0)\n",
    "X_features -= means\n",
    "stds = np.std(X_features, axis=0)\n",
    "X_features /= stds"
   ]
  },
  {
   "cell_type": "code",
   "execution_count": 47,
   "metadata": {},
   "outputs": [
    {
     "data": {
      "text/plain": [
       "array([[-8.56441241e-15, -2.35995558e-15,  3.39045213e-15,\n",
       "        -1.55369859e-16, -3.79562217e-15,  4.51823480e-15,\n",
       "        -5.59318512e-16],\n",
       "       [-3.84277833e-15, -4.24495095e-15,  5.20204628e-16,\n",
       "        -9.86078188e-17,  1.73177327e-15, -2.23420583e-15,\n",
       "        -4.20263314e-16],\n",
       "       [-6.34856869e-15,  6.33650823e-15,  1.63595045e-15,\n",
       "        -2.05768886e-15, -4.65731950e-16,  2.24890968e-15,\n",
       "         5.88354479e-16],\n",
       "       [ 3.16956401e-15, -3.72302340e-15,  3.31419510e-15,\n",
       "        -2.94893550e-15, -3.93170946e-15, -6.59100514e-16,\n",
       "         3.53305348e-16],\n",
       "       [-1.61610143e-15,  4.13836576e-15,  1.18825018e-15,\n",
       "        -2.07732546e-15, -2.60184920e-15, -2.50645121e-15,\n",
       "        -1.72471636e-15],\n",
       "       [-2.22365588e-15, -2.61671826e-15,  3.76975473e-15,\n",
       "         2.37664197e-15, -1.26401157e-15, -9.65355913e-16,\n",
       "        -1.99182838e-15],\n",
       "       [-6.39558323e-16, -2.85575607e-15,  1.17899832e-15,\n",
       "        -3.17098011e-15, -4.35082809e-15, -1.70640146e-15,\n",
       "         1.96199585e-15],\n",
       "       [ 2.86675445e-15, -6.67738729e-16,  1.09601481e-15,\n",
       "        -4.55130076e-15,  7.45293849e-16, -1.01558029e-15,\n",
       "         6.12548561e-15],\n",
       "       [ 2.18114925e-15, -4.23555748e-16,  3.14110038e-15,\n",
       "         1.59781013e-15,  6.55253440e-16,  1.59910822e-15,\n",
       "        -1.60910833e-15],\n",
       "       [ 2.51532544e-15,  4.01134152e-16, -9.94315174e-16,\n",
       "         5.84353994e-16, -3.59604636e-15, -1.90170536e-15,\n",
       "         2.05959175e-15],\n",
       "       [ 5.29456486e-16, -6.64292884e-16, -7.98256019e-16,\n",
       "         7.05548620e-16,  2.82988863e-15,  6.12534400e-16,\n",
       "         2.13183944e-15],\n",
       "       [ 7.77250524e-16, -8.40644636e-16,  9.43831181e-16,\n",
       "         3.17031926e-15,  1.02921026e-15, -3.17584205e-16,\n",
       "        -2.56344926e-15],\n",
       "       [ 5.61542970e-16,  4.00756525e-17, -2.05112760e-15,\n",
       "        -1.30162085e-15, -1.38506459e-15, -1.95705130e-16,\n",
       "        -5.41856809e-15],\n",
       "       [ 1.36235387e-15,  1.63937269e-16,  4.95894897e-16,\n",
       "         5.38743747e-16,  1.61900444e-15, -7.57307104e-16,\n",
       "        -2.74251521e-15],\n",
       "       [-4.63628451e-16, -8.79115375e-16, -2.24499180e-16,\n",
       "         2.92214760e-15,  7.24131403e-15, -4.46543785e-16,\n",
       "        -1.28625615e-15],\n",
       "       [ 6.69709469e-16, -1.22181177e-15,  5.41965377e-16,\n",
       "         1.16619441e-15, -2.04218256e-15, -6.17797574e-16,\n",
       "        -5.38401523e-16],\n",
       "       [-2.67011706e-16,  2.69578388e-16, -2.80234547e-16,\n",
       "         6.74395583e-15, -8.74377337e-15,  1.50625921e-16,\n",
       "        -1.04073378e-15],\n",
       "       [ 2.45504675e-16, -5.38967963e-16,  3.64433540e-16,\n",
       "         2.23574112e-14,  4.78369470e-15,  9.93630726e-18,\n",
       "        -1.45990736e-15],\n",
       "       [-5.32678116e-16, -2.48100860e-16,  1.79833000e-16,\n",
       "         1.07141478e-14, -7.97287760e-15,  9.07012560e-17,\n",
       "         8.45450528e-16],\n",
       "       [ 2.90796299e-16, -1.60491424e-16, -9.43595164e-17,\n",
       "        -6.72561732e-15,  4.95872476e-15,  3.64740362e-16,\n",
       "         1.64330089e-15],\n",
       "       [ 2.58380571e-15,  1.75926922e-16,  1.85556408e-16,\n",
       "        -1.37950285e-14, -1.07712167e-15, -9.07956627e-17,\n",
       "         1.39860015e-15],\n",
       "       [-1.23000155e-16, -1.10455862e-16, -1.18657446e-16,\n",
       "         2.11999258e-14,  2.49225480e-15,  4.78170036e-17,\n",
       "         5.72916767e-16],\n",
       "       [-9.47961475e-17,  3.01629470e-17, -4.50438062e-17,\n",
       "        -1.34578785e-14,  9.20051308e-15,  2.10703998e-16,\n",
       "        -1.19825360e-15],\n",
       "       [-1.51050752e-16,  1.11140311e-16, -2.70439850e-16,\n",
       "        -1.14407137e-14,  5.73690755e-15, -8.15438042e-17,\n",
       "        -5.34268279e-16],\n",
       "       [-4.60751996e-16,  2.02313600e-16,  4.24004180e-17,\n",
       "         1.08637117e-14,  5.83056491e-15, -6.49754249e-17,\n",
       "        -3.48390298e-16],\n",
       "       [-1.59641763e-16, -4.04839616e-16,  3.02066101e-16,\n",
       "         2.62772608e-14, -5.69070726e-15,  1.62025533e-17,\n",
       "         2.03841809e-16],\n",
       "       [ 4.47192831e-16,  1.41475550e-15,  6.12640607e-17,\n",
       "        -5.03119372e-15,  3.78756220e-15, -2.06668110e-16,\n",
       "         5.34578051e-16],\n",
       "       [ 3.11276656e-17, -1.98254112e-17,  2.21501766e-17,\n",
       "        -1.74441905e-14, -1.74174940e-15, -7.37906523e-17,\n",
       "         4.26553162e-16],\n",
       "       [-7.12629124e-16, -5.54639479e-16, -9.02056208e-17,\n",
       "        -2.39764156e-15, -5.12650910e-15,  9.80177768e-17,\n",
       "         6.24028418e-16],\n",
       "       [ 1.05711924e-16,  1.49068211e-16, -1.98985764e-16,\n",
       "        -5.35024123e-15, -4.82020650e-15, -2.18409946e-16,\n",
       "         1.81260902e-17],\n",
       "       [-4.80294187e-17, -6.43759422e-16, -2.76422876e-16,\n",
       "        -4.42451253e-15,  2.59390723e-15,  4.39085654e-16,\n",
       "         2.62450681e-17],\n",
       "       [-6.82607787e-16,  9.42462284e-16, -1.46802449e-17,\n",
       "        -4.21255175e-15, -4.59418501e-16,  2.42082431e-16,\n",
       "         4.12557365e-17],\n",
       "       [-6.68069153e-16,  5.57188460e-16,  6.23957613e-16,\n",
       "        -9.34176914e-15, -5.82572067e-16, -8.99105998e-17,\n",
       "        -1.98291874e-15],\n",
       "       [ 7.98669049e-16,  2.89734223e-16, -9.17161283e-17,\n",
       "         2.38400569e-16,  4.00511068e-15,  1.59252335e-16,\n",
       "         7.97453562e-16],\n",
       "       [-4.32252967e-15, -1.75313279e-16, -1.39285314e-16,\n",
       "        -3.53245518e-14, -3.32046135e-16, -2.50024397e-16,\n",
       "         6.33469090e-16]])"
      ]
     },
     "execution_count": 47,
     "metadata": {},
     "output_type": "execute_result"
    }
   ],
   "source": [
    "means = np.mean(X_features, axis=0)\n",
    "means"
   ]
  },
  {
   "cell_type": "markdown",
   "metadata": {},
   "source": [
    "## Encode label"
   ]
  },
  {
   "cell_type": "code",
   "execution_count": 48,
   "metadata": {},
   "outputs": [],
   "source": [
    "le=LabelEncoder()\n",
    "y=le.fit_transform(y)"
   ]
  },
  {
   "cell_type": "code",
   "execution_count": 49,
   "metadata": {},
   "outputs": [
    {
     "name": "stdout",
     "output_type": "stream",
     "text": [
      "[0 3 3 ... 2 2 2]\n"
     ]
    }
   ],
   "source": [
    "print(y)"
   ]
  },
  {
   "cell_type": "code",
   "execution_count": 50,
   "metadata": {},
   "outputs": [
    {
     "name": "stdout",
     "output_type": "stream",
     "text": [
      "['1' '2' '3' '4']\n"
     ]
    }
   ],
   "source": [
    "CLASSES_LIST=le.classes_\n",
    "print(CLASSES_LIST)"
   ]
  },
  {
   "cell_type": "markdown",
   "metadata": {},
   "source": [
    "## One-hot Encoding"
   ]
  },
  {
   "cell_type": "code",
   "execution_count": 51,
   "metadata": {},
   "outputs": [],
   "source": [
    "y=to_categorical(y,num_classes=4)"
   ]
  },
  {
   "cell_type": "code",
   "execution_count": 52,
   "metadata": {},
   "outputs": [
    {
     "data": {
      "text/plain": [
       "(4704, 4)"
      ]
     },
     "execution_count": 52,
     "metadata": {},
     "output_type": "execute_result"
    }
   ],
   "source": [
    "y.shape"
   ]
  },
  {
   "cell_type": "code",
   "execution_count": 53,
   "metadata": {},
   "outputs": [
    {
     "name": "stdout",
     "output_type": "stream",
     "text": [
      "[[1. 0. 0. 0.]\n",
      " [0. 0. 0. 1.]\n",
      " [0. 0. 0. 1.]\n",
      " ...\n",
      " [0. 0. 1. 0.]\n",
      " [0. 0. 1. 0.]\n",
      " [0. 0. 1. 0.]]\n"
     ]
    }
   ],
   "source": [
    "print(y)"
   ]
  },
  {
   "cell_type": "code",
   "execution_count": 54,
   "metadata": {},
   "outputs": [],
   "source": [
    "y=y.reshape(4704,1,4)"
   ]
  },
  {
   "cell_type": "code",
   "execution_count": 55,
   "metadata": {},
   "outputs": [
    {
     "data": {
      "text/plain": [
       "(4704, 1, 4)"
      ]
     },
     "execution_count": 55,
     "metadata": {},
     "output_type": "execute_result"
    }
   ],
   "source": [
    "y.shape"
   ]
  },
  {
   "cell_type": "markdown",
   "metadata": {},
   "source": [
    "## split train and test"
   ]
  },
  {
   "cell_type": "code",
   "execution_count": 17,
   "metadata": {},
   "outputs": [],
   "source": [
    "X_train, X_test, y_train, y_test=train_test_split(X_features,y,test_size=0.2,random_state=2019)"
   ]
  },
  {
   "cell_type": "code",
   "execution_count": 18,
   "metadata": {},
   "outputs": [
    {
     "data": {
      "text/plain": [
       "((3763, 35, 7), (941, 35, 7))"
      ]
     },
     "execution_count": 18,
     "metadata": {},
     "output_type": "execute_result"
    }
   ],
   "source": [
    "X_train.shape,X_test.shape"
   ]
  },
  {
   "cell_type": "markdown",
   "metadata": {},
   "source": [
    "# Models\n"
   ]
  },
  {
   "cell_type": "code",
   "execution_count": 1,
   "metadata": {},
   "outputs": [],
   "source": [
    "NUM_CLASSES=4\n",
    "BATCH_SIZE=16\n",
    "EPOCHS=100\n",
    "MODEL_SAVE_PATH='.\\models\\gabor_tone_cnn1.h5'"
   ]
  },
  {
   "cell_type": "code",
   "execution_count": 2,
   "metadata": {},
   "outputs": [
    {
     "ename": "NameError",
     "evalue": "name 'layers' is not defined",
     "output_type": "error",
     "traceback": [
      "\u001b[1;31m---------------------------------------------------------------------------\u001b[0m",
      "\u001b[1;31mNameError\u001b[0m                                 Traceback (most recent call last)",
      "\u001b[1;32m<ipython-input-2-dd41006f40cc>\u001b[0m in \u001b[0;36m<module>\u001b[1;34m\u001b[0m\n\u001b[1;32m----> 1\u001b[1;33m \u001b[0mlayers\u001b[0m\u001b[1;33m.\u001b[0m\u001b[0mDense\u001b[0m\u001b[1;33m(\u001b[0m\u001b[1;36m1\u001b[0m\u001b[1;33m,\u001b[0m \u001b[0mactivation\u001b[0m\u001b[1;33m=\u001b[0m\u001b[1;34m\"sigmoid\"\u001b[0m\u001b[1;33m)\u001b[0m\u001b[1;33m\u001b[0m\u001b[1;33m\u001b[0m\u001b[0m\n\u001b[0m",
      "\u001b[1;31mNameError\u001b[0m: name 'layers' is not defined"
     ]
    }
   ],
   "source": [
    "layers.Dense(1, activation=\"sigmoid\")"
   ]
  },
  {
   "cell_type": "code",
   "execution_count": 7,
   "metadata": {},
   "outputs": [],
   "source": [
    "def attention_model():\n",
    "    inputs = Input(shape=(35, 7))\n",
    "    #x=BatchNormalization()(inputs)\n",
    "    x = Conv1D(filters = 64, kernel_size = 1, padding=\"same\",kernel_initializer='he_normal',\n",
    "                bias_initializer='zeros',activation = 'relu')(inputs)  #, padding = 'same'\n",
    "    x = MaxPool1D()(x)\n",
    "    #lstm_out = Bidirectional(LSTM(lstm_units, activation='relu'), name='bilstm')(x)\n",
    "    #对于GPU可以使用CuDNNLSTM\n",
    "    lstm_out = Bidirectional(LSTM(128, return_sequences=True,dropout=0.4))(x)\n",
    "    lstm_out = Dropout(0.3)(lstm_out)\n",
    "    attention_mul = attention_3d_block(lstm_out)\n",
    "    attention_mul = Flatten()(attention_mul)\n",
    "    output = Dense(4, activation='sigmoid')(attention_mul)\n",
    "    model = Model(inputs=[inputs], outputs=output)\n",
    "    return model"
   ]
  },
  {
   "cell_type": "code",
   "execution_count": 56,
   "metadata": {},
   "outputs": [],
   "source": [
    "def attention_model2():\n",
    "    inputs = Input(shape=(35, 7))\n",
    "    #x=BatchNormalization()(inputs)\n",
    "    x = Conv1D(filters = 64, kernel_size = 1, padding=\"same\",kernel_initializer='he_normal',\n",
    "                bias_initializer='zeros',activation = 'relu')(inputs)  #, padding = 'same'\n",
    "    x = MaxPool1D()(x)\n",
    "    #lstm_out = Bidirectional(LSTM(lstm_units, activation='relu'), name='bilstm')(x)\n",
    "    #对于GPU可以使用CuDNNLSTM\n",
    "    lstm_out = Bidirectional(LSTM(128, return_sequences=True,dropout=0.4))(x)\n",
    "    lstm_out = Dropout(0.3)(lstm_out)\n",
    "    attention_mul = attention_3d_block(lstm_out)\n",
    "    attention_mul = MaxPool1D(pool_size=14,strides=4)(attention_mul)\n",
    "    output = Dense(100, activation='sigmoid')(attention_mul)\n",
    "    model = Model(inputs=[inputs], outputs=output)\n",
    "    return model"
   ]
  },
  {
   "cell_type": "code",
   "execution_count": 8,
   "metadata": {},
   "outputs": [
    {
     "name": "stdout",
     "output_type": "stream",
     "text": [
      "Model: \"functional_1\"\n",
      "__________________________________________________________________________________________________\n",
      "Layer (type)                    Output Shape         Param #     Connected to                     \n",
      "==================================================================================================\n",
      "input_1 (InputLayer)            [(None, 35, 7)]      0                                            \n",
      "__________________________________________________________________________________________________\n",
      "conv1d (Conv1D)                 (None, 35, 64)       512         input_1[0][0]                    \n",
      "__________________________________________________________________________________________________\n",
      "max_pooling1d (MaxPooling1D)    (None, 17, 64)       0           conv1d[0][0]                     \n",
      "__________________________________________________________________________________________________\n",
      "bidirectional (Bidirectional)   (None, 17, 256)      197632      max_pooling1d[0][0]              \n",
      "__________________________________________________________________________________________________\n",
      "dropout (Dropout)               (None, 17, 256)      0           bidirectional[0][0]              \n",
      "__________________________________________________________________________________________________\n",
      "permute (Permute)               (None, 256, 17)      0           dropout[0][0]                    \n",
      "__________________________________________________________________________________________________\n",
      "attention (Dense)               (None, 256, 17)      306         permute[0][0]                    \n",
      "__________________________________________________________________________________________________\n",
      "permute_1 (Permute)             (None, 17, 256)      0           attention[0][0]                  \n",
      "__________________________________________________________________________________________________\n",
      "multiply (Multiply)             (None, 17, 256)      0           dropout[0][0]                    \n",
      "                                                                 permute_1[0][0]                  \n",
      "__________________________________________________________________________________________________\n",
      "flatten (Flatten)               (None, 4352)         0           multiply[0][0]                   \n",
      "__________________________________________________________________________________________________\n",
      "dense (Dense)                   (None, 4)            17412       flatten[0][0]                    \n",
      "==================================================================================================\n",
      "Total params: 215,862\n",
      "Trainable params: 215,862\n",
      "Non-trainable params: 0\n",
      "__________________________________________________________________________________________________\n"
     ]
    }
   ],
   "source": [
    "model = attention_model()\n",
    "model.summary()"
   ]
  },
  {
   "cell_type": "code",
   "execution_count": 10,
   "metadata": {},
   "outputs": [
    {
     "data": {
      "image/png": "[encoded data removed]",
      "text/plain": [
       "<IPython.core.display.Image object>"
      ]
     },
     "execution_count": 10,
     "metadata": {},
     "output_type": "execute_result"
    }
   ],
   "source": [
    "import pydotplus\n",
    "import graphviz \n",
    "from keras.utils import plot_model\n",
    "plot_model(model, to_file='.\\\\Vedio_tone.png', show_shapes=True)"
   ]
  },
  {
   "cell_type": "code",
   "execution_count": 356,
   "metadata": {},
   "outputs": [],
   "source": [
    "from keras import optimizers\n",
    "adam=optimizers.Adam(learning_rate=0.001)"
   ]
  },
  {
   "cell_type": "code",
   "execution_count": 357,
   "metadata": {},
   "outputs": [
    {
     "name": "stdout",
     "output_type": "stream",
     "text": [
      "Epoch 1/100\n",
      "235/236 [============================>.] - ETA: 0s - loss: 1.2828 - accuracy: 0.3899\n",
      "Epoch 00001: val_accuracy improved from -inf to 0.44846, saving model to .\\models\\gabor_tone_cnn1.h5\n",
      "236/236 [==============================] - 7s 28ms/step - loss: 1.2826 - accuracy: 0.3898 - val_loss: 1.2414 - val_accuracy: 0.4485\n",
      "Epoch 2/100\n",
      "234/236 [============================>.] - ETA: 0s - loss: 1.2231 - accuracy: 0.4260\n",
      "Epoch 00002: val_accuracy improved from 0.44846 to 0.45909, saving model to .\\models\\gabor_tone_cnn1.h5\n",
      "236/236 [==============================] - 6s 25ms/step - loss: 1.2237 - accuracy: 0.4249 - val_loss: 1.2128 - val_accuracy: 0.4591\n",
      "Epoch 3/100\n",
      "236/236 [==============================] - ETA: 0s - loss: 1.2055 - accuracy: 0.4403\n",
      "Epoch 00003: val_accuracy improved from 0.45909 to 0.47396, saving model to .\\models\\gabor_tone_cnn1.h5\n",
      "236/236 [==============================] - 6s 25ms/step - loss: 1.2055 - accuracy: 0.4403 - val_loss: 1.2000 - val_accuracy: 0.4740\n",
      "Epoch 4/100\n",
      "234/236 [============================>.] - ETA: 0s - loss: 1.1851 - accuracy: 0.4535\n",
      "Epoch 00004: val_accuracy did not improve from 0.47396\n",
      "236/236 [==============================] - 6s 25ms/step - loss: 1.1857 - accuracy: 0.4536 - val_loss: 1.1916 - val_accuracy: 0.4601\n",
      "Epoch 5/100\n",
      "236/236 [==============================] - ETA: 0s - loss: 1.1689 - accuracy: 0.4603\n",
      "Epoch 00005: val_accuracy improved from 0.47396 to 0.48353, saving model to .\\models\\gabor_tone_cnn1.h5\n",
      "236/236 [==============================] - 6s 25ms/step - loss: 1.1689 - accuracy: 0.4603 - val_loss: 1.1648 - val_accuracy: 0.4835\n",
      "Epoch 6/100\n",
      "236/236 [==============================] - ETA: 0s - loss: 1.1528 - accuracy: 0.4773\n",
      "Epoch 00006: val_accuracy did not improve from 0.48353\n",
      "236/236 [==============================] - 6s 25ms/step - loss: 1.1528 - accuracy: 0.4773 - val_loss: 1.1552 - val_accuracy: 0.4718\n",
      "Epoch 7/100\n",
      "234/236 [============================>.] - ETA: 0s - loss: 1.1413 - accuracy: 0.4813\n",
      "Epoch 00007: val_accuracy improved from 0.48353 to 0.48884, saving model to .\\models\\gabor_tone_cnn1.h5\n",
      "236/236 [==============================] - 6s 25ms/step - loss: 1.1413 - accuracy: 0.4807 - val_loss: 1.1417 - val_accuracy: 0.4888\n",
      "Epoch 8/100\n",
      "234/236 [============================>.] - ETA: 0s - loss: 1.1205 - accuracy: 0.5000\n",
      "Epoch 00008: val_accuracy did not improve from 0.48884\n",
      "236/236 [==============================] - 6s 25ms/step - loss: 1.1207 - accuracy: 0.4996 - val_loss: 1.1504 - val_accuracy: 0.4740\n",
      "Epoch 9/100\n",
      "234/236 [============================>.] - ETA: 0s - loss: 1.1065 - accuracy: 0.5077\n",
      "Epoch 00009: val_accuracy did not improve from 0.48884\n",
      "236/236 [==============================] - 6s 25ms/step - loss: 1.1061 - accuracy: 0.5076 - val_loss: 1.1410 - val_accuracy: 0.4772\n",
      "Epoch 10/100\n",
      "236/236 [==============================] - ETA: 0s - loss: 1.1010 - accuracy: 0.5044\n",
      "Epoch 00010: val_accuracy improved from 0.48884 to 0.49734, saving model to .\\models\\gabor_tone_cnn1.h5\n",
      "236/236 [==============================] - 6s 24ms/step - loss: 1.1010 - accuracy: 0.5044 - val_loss: 1.1349 - val_accuracy: 0.4973\n",
      "Epoch 11/100\n",
      "236/236 [==============================] - ETA: 0s - loss: 1.0801 - accuracy: 0.5163\n",
      "Epoch 00011: val_accuracy improved from 0.49734 to 0.50478, saving model to .\\models\\gabor_tone_cnn1.h5\n",
      "236/236 [==============================] - 6s 24ms/step - loss: 1.0801 - accuracy: 0.5163 - val_loss: 1.1310 - val_accuracy: 0.5048\n",
      "Epoch 12/100\n",
      "235/236 [============================>.] - ETA: 0s - loss: 1.0641 - accuracy: 0.5298\n",
      "Epoch 00012: val_accuracy did not improve from 0.50478\n",
      "236/236 [==============================] - 6s 25ms/step - loss: 1.0638 - accuracy: 0.5299 - val_loss: 1.1235 - val_accuracy: 0.4963\n",
      "Epoch 13/100\n",
      "236/236 [==============================] - ETA: 0s - loss: 1.0477 - accuracy: 0.5397\n",
      "Epoch 00013: val_accuracy did not improve from 0.50478\n",
      "236/236 [==============================] - 6s 24ms/step - loss: 1.0477 - accuracy: 0.5397 - val_loss: 1.1346 - val_accuracy: 0.5005\n",
      "Epoch 14/100\n",
      "236/236 [==============================] - ETA: 0s - loss: 1.0303 - accuracy: 0.5434\n",
      "Epoch 00014: val_accuracy did not improve from 0.50478\n",
      "236/236 [==============================] - 6s 24ms/step - loss: 1.0303 - accuracy: 0.5434 - val_loss: 1.1322 - val_accuracy: 0.4761\n",
      "Epoch 15/100\n",
      "235/236 [============================>.] - ETA: 0s - loss: 1.0093 - accuracy: 0.5529\n",
      "Epoch 00015: val_accuracy did not improve from 0.50478\n",
      "236/236 [==============================] - 6s 24ms/step - loss: 1.0089 - accuracy: 0.5530 - val_loss: 1.1263 - val_accuracy: 0.5037\n",
      "Epoch 16/100\n",
      "236/236 [==============================] - ETA: 0s - loss: 0.9979 - accuracy: 0.5631\n",
      "Epoch 00016: val_accuracy did not improve from 0.50478\n",
      "236/236 [==============================] - 6s 25ms/step - loss: 0.9979 - accuracy: 0.5631 - val_loss: 1.1261 - val_accuracy: 0.5016\n",
      "Epoch 17/100\n",
      "236/236 [==============================] - ETA: 0s - loss: 0.9771 - accuracy: 0.5668\n",
      "Epoch 00017: val_accuracy improved from 0.50478 to 0.51328, saving model to .\\models\\gabor_tone_cnn1.h5\n",
      "236/236 [==============================] - 6s 25ms/step - loss: 0.9771 - accuracy: 0.5668 - val_loss: 1.1361 - val_accuracy: 0.5133\n",
      "Epoch 18/100\n",
      "235/236 [============================>.] - ETA: 0s - loss: 0.9656 - accuracy: 0.5806\n",
      "Epoch 00018: val_accuracy improved from 0.51328 to 0.51647, saving model to .\\models\\gabor_tone_cnn1.h5\n",
      "236/236 [==============================] - 6s 25ms/step - loss: 0.9656 - accuracy: 0.5804 - val_loss: 1.1274 - val_accuracy: 0.5165\n",
      "Epoch 19/100\n",
      "235/236 [============================>.] - ETA: 0s - loss: 0.9485 - accuracy: 0.5944\n",
      "Epoch 00019: val_accuracy did not improve from 0.51647\n",
      "236/236 [==============================] - 6s 25ms/step - loss: 0.9488 - accuracy: 0.5942 - val_loss: 1.1224 - val_accuracy: 0.5058\n",
      "Epoch 20/100\n",
      "236/236 [==============================] - ETA: 0s - loss: 0.9140 - accuracy: 0.6128\n",
      "Epoch 00020: val_accuracy did not improve from 0.51647\n",
      "236/236 [==============================] - 6s 25ms/step - loss: 0.9140 - accuracy: 0.6128 - val_loss: 1.1696 - val_accuracy: 0.5090\n",
      "Epoch 21/100\n",
      "234/236 [============================>.] - ETA: 0s - loss: 0.9258 - accuracy: 0.6122\n",
      "Epoch 00021: val_accuracy improved from 0.51647 to 0.53029, saving model to .\\models\\gabor_tone_cnn1.h5\n",
      "236/236 [==============================] - 6s 25ms/step - loss: 0.9254 - accuracy: 0.6123 - val_loss: 1.1235 - val_accuracy: 0.5303\n",
      "Epoch 22/100\n",
      "236/236 [==============================] - ETA: 0s - loss: 0.8840 - accuracy: 0.6280\n",
      "Epoch 00022: val_accuracy did not improve from 0.53029\n",
      "236/236 [==============================] - 6s 26ms/step - loss: 0.8840 - accuracy: 0.6280 - val_loss: 1.1837 - val_accuracy: 0.4857\n",
      "Epoch 23/100\n",
      "234/236 [============================>.] - ETA: 0s - loss: 0.8696 - accuracy: 0.6253\n",
      "Epoch 00023: val_accuracy did not improve from 0.53029\n",
      "236/236 [==============================] - 6s 24ms/step - loss: 0.8690 - accuracy: 0.6256 - val_loss: 1.1859 - val_accuracy: 0.5005\n",
      "Epoch 24/100\n",
      "235/236 [============================>.] - ETA: 0s - loss: 0.8599 - accuracy: 0.6426\n",
      "Epoch 00024: val_accuracy did not improve from 0.53029\n",
      "236/236 [==============================] - 6s 24ms/step - loss: 0.8602 - accuracy: 0.6420 - val_loss: 1.1538 - val_accuracy: 0.5090\n",
      "Epoch 25/100\n",
      "234/236 [============================>.] - ETA: 0s - loss: 0.8285 - accuracy: 0.6562\n",
      "Epoch 00025: val_accuracy did not improve from 0.53029\n",
      "236/236 [==============================] - 6s 25ms/step - loss: 0.8287 - accuracy: 0.6559 - val_loss: 1.1714 - val_accuracy: 0.4963\n",
      "Epoch 26/100\n",
      "235/236 [============================>.] - ETA: 0s - loss: 0.8094 - accuracy: 0.6638\n",
      "Epoch 00026: val_accuracy did not improve from 0.53029\n",
      "236/236 [==============================] - 6s 24ms/step - loss: 0.8094 - accuracy: 0.6638 - val_loss: 1.2049 - val_accuracy: 0.5143\n",
      "Epoch 27/100\n",
      "234/236 [============================>.] - ETA: 0s - loss: 0.7940 - accuracy: 0.6685\n",
      "Epoch 00027: val_accuracy did not improve from 0.53029\n",
      "236/236 [==============================] - 6s 24ms/step - loss: 0.7937 - accuracy: 0.6691 - val_loss: 1.2147 - val_accuracy: 0.4814\n",
      "Epoch 28/100\n",
      "235/236 [============================>.] - ETA: 0s - loss: 0.7798 - accuracy: 0.6697\n",
      "Epoch 00028: val_accuracy did not improve from 0.53029\n",
      "236/236 [==============================] - 6s 24ms/step - loss: 0.7801 - accuracy: 0.6697 - val_loss: 1.1933 - val_accuracy: 0.5292\n",
      "Epoch 29/100\n",
      "235/236 [============================>.] - ETA: 0s - loss: 0.7629 - accuracy: 0.6878\n",
      "Epoch 00029: val_accuracy did not improve from 0.53029\n",
      "236/236 [==============================] - 6s 24ms/step - loss: 0.7627 - accuracy: 0.6880 - val_loss: 1.2076 - val_accuracy: 0.5101\n",
      "Epoch 30/100\n",
      "235/236 [============================>.] - ETA: 0s - loss: 0.7344 - accuracy: 0.6947\n",
      "Epoch 00030: val_accuracy did not improve from 0.53029\n",
      "236/236 [==============================] - 6s 25ms/step - loss: 0.7348 - accuracy: 0.6944 - val_loss: 1.2305 - val_accuracy: 0.5165\n",
      "Epoch 31/100\n",
      "235/236 [============================>.] - ETA: 0s - loss: 0.7203 - accuracy: 0.7000\n",
      "Epoch 00031: val_accuracy did not improve from 0.53029\n",
      "236/236 [==============================] - 6s 25ms/step - loss: 0.7200 - accuracy: 0.7002 - val_loss: 1.2497 - val_accuracy: 0.4973\n",
      "Epoch 32/100\n",
      "236/236 [==============================] - ETA: 0s - loss: 0.7027 - accuracy: 0.7159\n",
      "Epoch 00032: val_accuracy did not improve from 0.53029\n",
      "236/236 [==============================] - 6s 24ms/step - loss: 0.7027 - accuracy: 0.7159 - val_loss: 1.2715 - val_accuracy: 0.5027\n",
      "Epoch 33/100\n",
      "235/236 [============================>.] - ETA: 0s - loss: 0.6713 - accuracy: 0.7298\n",
      "Epoch 00033: val_accuracy did not improve from 0.53029\n",
      "236/236 [==============================] - 6s 24ms/step - loss: 0.6712 - accuracy: 0.7300 - val_loss: 1.2725 - val_accuracy: 0.5016\n",
      "Epoch 34/100\n",
      "234/236 [============================>.] - ETA: 0s - loss: 0.6622 - accuracy: 0.7276\n",
      "Epoch 00034: val_accuracy did not improve from 0.53029\n",
      "236/236 [==============================] - 6s 24ms/step - loss: 0.6621 - accuracy: 0.7276 - val_loss: 1.2544 - val_accuracy: 0.5218\n",
      "Epoch 35/100\n",
      "234/236 [============================>.] - ETA: 0s - loss: 0.6532 - accuracy: 0.7382\n",
      "Epoch 00035: val_accuracy did not improve from 0.53029\n",
      "236/236 [==============================] - 6s 24ms/step - loss: 0.6535 - accuracy: 0.7385 - val_loss: 1.3266 - val_accuracy: 0.5005\n",
      "Epoch 36/100\n",
      "236/236 [==============================] - ETA: 0s - loss: 0.6084 - accuracy: 0.7558\n",
      "Epoch 00036: val_accuracy did not improve from 0.53029\n",
      "236/236 [==============================] - 7s 29ms/step - loss: 0.6084 - accuracy: 0.7558 - val_loss: 1.2886 - val_accuracy: 0.4995\n",
      "Epoch 37/100\n",
      "234/236 [============================>.] - ETA: 0s - loss: 0.6108 - accuracy: 0.7658\n",
      "Epoch 00037: val_accuracy did not improve from 0.53029\n",
      "236/236 [==============================] - 7s 31ms/step - loss: 0.6111 - accuracy: 0.7653 - val_loss: 1.3194 - val_accuracy: 0.5069\n",
      "Epoch 38/100\n",
      "235/236 [============================>.] - ETA: 0s - loss: 0.5921 - accuracy: 0.7684\n",
      "Epoch 00038: val_accuracy did not improve from 0.53029\n",
      "236/236 [==============================] - 6s 25ms/step - loss: 0.5925 - accuracy: 0.7683 - val_loss: 1.3087 - val_accuracy: 0.5133\n",
      "Epoch 39/100\n",
      "236/236 [==============================] - ETA: 0s - loss: 0.5750 - accuracy: 0.7715\n",
      "Epoch 00039: val_accuracy did not improve from 0.53029\n",
      "236/236 [==============================] - 6s 24ms/step - loss: 0.5750 - accuracy: 0.7715 - val_loss: 1.3549 - val_accuracy: 0.5005\n",
      "Epoch 40/100\n",
      "236/236 [==============================] - ETA: 0s - loss: 0.5709 - accuracy: 0.7720\n",
      "Epoch 00040: val_accuracy did not improve from 0.53029\n",
      "236/236 [==============================] - 6s 24ms/step - loss: 0.5709 - accuracy: 0.7720 - val_loss: 1.3444 - val_accuracy: 0.5016\n",
      "Epoch 41/100\n",
      "236/236 [==============================] - ETA: 0s - loss: 0.5334 - accuracy: 0.7988\n",
      "Epoch 00041: val_accuracy did not improve from 0.53029\n",
      "236/236 [==============================] - 6s 24ms/step - loss: 0.5334 - accuracy: 0.7988 - val_loss: 1.4038 - val_accuracy: 0.4920\n",
      "Epoch 42/100\n",
      "234/236 [============================>.] - ETA: 0s - loss: 0.5255 - accuracy: 0.7927\n",
      "Epoch 00042: val_accuracy did not improve from 0.53029\n",
      "236/236 [==============================] - 6s 24ms/step - loss: 0.5260 - accuracy: 0.7922 - val_loss: 1.3742 - val_accuracy: 0.5027\n",
      "Epoch 43/100\n",
      "234/236 [============================>.] - ETA: 0s - loss: 0.5002 - accuracy: 0.7930\n",
      "Epoch 00043: val_accuracy did not improve from 0.53029\n",
      "236/236 [==============================] - 6s 24ms/step - loss: 0.4997 - accuracy: 0.7933 - val_loss: 1.3633 - val_accuracy: 0.5080\n",
      "Epoch 44/100\n",
      "234/236 [============================>.] - ETA: 0s - loss: 0.4982 - accuracy: 0.8032\n",
      "Epoch 00044: val_accuracy did not improve from 0.53029\n",
      "236/236 [==============================] - 6s 24ms/step - loss: 0.4983 - accuracy: 0.8028 - val_loss: 1.4127 - val_accuracy: 0.4857\n",
      "Epoch 45/100\n",
      "236/236 [==============================] - ETA: 0s - loss: 0.4700 - accuracy: 0.8121\n",
      "Epoch 00045: val_accuracy did not improve from 0.53029\n",
      "236/236 [==============================] - 6s 24ms/step - loss: 0.4700 - accuracy: 0.8121 - val_loss: 1.4556 - val_accuracy: 0.4931\n",
      "Epoch 46/100\n",
      "236/236 [==============================] - ETA: 0s - loss: 0.4735 - accuracy: 0.8177\n",
      "Epoch 00046: val_accuracy did not improve from 0.53029\n",
      "236/236 [==============================] - 6s 24ms/step - loss: 0.4735 - accuracy: 0.8177 - val_loss: 1.4262 - val_accuracy: 0.4846\n",
      "Epoch 47/100\n",
      "235/236 [============================>.] - ETA: 0s - loss: 0.4574 - accuracy: 0.8202\n",
      "Epoch 00047: val_accuracy did not improve from 0.53029\n",
      "236/236 [==============================] - 6s 24ms/step - loss: 0.4580 - accuracy: 0.8201 - val_loss: 1.4578 - val_accuracy: 0.5058\n",
      "Epoch 48/100\n",
      "234/236 [============================>.] - ETA: 0s - loss: 0.4480 - accuracy: 0.8226\n",
      "Epoch 00048: val_accuracy did not improve from 0.53029\n",
      "236/236 [==============================] - 6s 24ms/step - loss: 0.4476 - accuracy: 0.8225 - val_loss: 1.5400 - val_accuracy: 0.4867\n",
      "Epoch 49/100\n",
      "235/236 [============================>.] - ETA: 0s - loss: 0.4156 - accuracy: 0.8415\n",
      "Epoch 00049: val_accuracy did not improve from 0.53029\n",
      "236/236 [==============================] - 6s 24ms/step - loss: 0.4154 - accuracy: 0.8416 - val_loss: 1.4720 - val_accuracy: 0.5112\n",
      "Epoch 50/100\n",
      "234/236 [============================>.] - ETA: 0s - loss: 0.4159 - accuracy: 0.8384\n",
      "Epoch 00050: val_accuracy did not improve from 0.53029\n",
      "236/236 [==============================] - 6s 24ms/step - loss: 0.4174 - accuracy: 0.8374 - val_loss: 1.4758 - val_accuracy: 0.5048\n",
      "Epoch 51/100\n",
      "235/236 [============================>.] - ETA: 0s - loss: 0.4124 - accuracy: 0.8367\n",
      "Epoch 00051: val_accuracy did not improve from 0.53029\n",
      "236/236 [==============================] - 6s 24ms/step - loss: 0.4123 - accuracy: 0.8368 - val_loss: 1.4970 - val_accuracy: 0.5133\n",
      "Epoch 52/100\n",
      "234/236 [============================>.] - ETA: 0s - loss: 0.4039 - accuracy: 0.8413\n",
      "Epoch 00052: val_accuracy did not improve from 0.53029\n",
      "236/236 [==============================] - 6s 24ms/step - loss: 0.4040 - accuracy: 0.8416 - val_loss: 1.4795 - val_accuracy: 0.4973\n",
      "Epoch 53/100\n",
      "236/236 [==============================] - ETA: 0s - loss: 0.3934 - accuracy: 0.8517\n",
      "Epoch 00053: val_accuracy did not improve from 0.53029\n",
      "236/236 [==============================] - 6s 24ms/step - loss: 0.3934 - accuracy: 0.8517 - val_loss: 1.4687 - val_accuracy: 0.4920\n",
      "Epoch 54/100\n",
      "234/236 [============================>.] - ETA: 0s - loss: 0.3683 - accuracy: 0.8632\n",
      "Epoch 00054: val_accuracy did not improve from 0.53029\n",
      "236/236 [==============================] - 6s 24ms/step - loss: 0.3674 - accuracy: 0.8637 - val_loss: 1.5326 - val_accuracy: 0.4995\n",
      "Epoch 55/100\n",
      "236/236 [==============================] - ETA: 0s - loss: 0.3411 - accuracy: 0.8671\n",
      "Epoch 00055: val_accuracy did not improve from 0.53029\n",
      "236/236 [==============================] - 6s 24ms/step - loss: 0.3411 - accuracy: 0.8671 - val_loss: 1.5948 - val_accuracy: 0.4740\n",
      "Epoch 56/100\n",
      "235/236 [============================>.] - ETA: 0s - loss: 0.3560 - accuracy: 0.8612\n",
      "Epoch 00056: val_accuracy did not improve from 0.53029\n",
      "236/236 [==============================] - 6s 24ms/step - loss: 0.3558 - accuracy: 0.8613 - val_loss: 1.6076 - val_accuracy: 0.4750\n",
      "Epoch 57/100\n",
      "234/236 [============================>.] - ETA: 0s - loss: 0.3585 - accuracy: 0.8691\n",
      "Epoch 00057: val_accuracy did not improve from 0.53029\n",
      "236/236 [==============================] - 6s 24ms/step - loss: 0.3582 - accuracy: 0.8693 - val_loss: 1.5895 - val_accuracy: 0.4963\n",
      "Epoch 58/100\n",
      "234/236 [============================>.] - ETA: 0s - loss: 0.3392 - accuracy: 0.8731\n",
      "Epoch 00058: val_accuracy did not improve from 0.53029\n",
      "236/236 [==============================] - 6s 24ms/step - loss: 0.3387 - accuracy: 0.8735 - val_loss: 1.5886 - val_accuracy: 0.5080\n",
      "Epoch 59/100\n",
      "235/236 [============================>.] - ETA: 0s - loss: 0.3443 - accuracy: 0.8694\n",
      "Epoch 00059: val_accuracy did not improve from 0.53029\n",
      "236/236 [==============================] - 6s 25ms/step - loss: 0.3441 - accuracy: 0.8695 - val_loss: 1.6124 - val_accuracy: 0.4878\n",
      "Epoch 60/100\n",
      "234/236 [============================>.] - ETA: 0s - loss: 0.3139 - accuracy: 0.8798\n",
      "Epoch 00060: val_accuracy did not improve from 0.53029\n",
      "236/236 [==============================] - 6s 25ms/step - loss: 0.3136 - accuracy: 0.8804 - val_loss: 1.5863 - val_accuracy: 0.5037\n",
      "Epoch 61/100\n",
      "234/236 [============================>.] - ETA: 0s - loss: 0.3217 - accuracy: 0.8814\n",
      "Epoch 00061: val_accuracy did not improve from 0.53029\n",
      "236/236 [==============================] - 6s 24ms/step - loss: 0.3215 - accuracy: 0.8815 - val_loss: 1.6691 - val_accuracy: 0.4857\n",
      "Epoch 62/100\n",
      "236/236 [==============================] - ETA: 0s - loss: 0.3342 - accuracy: 0.8693\n",
      "Epoch 00062: val_accuracy did not improve from 0.53029\n",
      "236/236 [==============================] - 6s 24ms/step - loss: 0.3342 - accuracy: 0.8693 - val_loss: 1.5826 - val_accuracy: 0.5048\n",
      "Epoch 63/100\n",
      "234/236 [============================>.] - ETA: 0s - loss: 0.3179 - accuracy: 0.8822\n",
      "Epoch 00063: val_accuracy did not improve from 0.53029\n",
      "236/236 [==============================] - 6s 24ms/step - loss: 0.3179 - accuracy: 0.8820 - val_loss: 1.6198 - val_accuracy: 0.5048\n",
      "Epoch 64/100\n",
      "235/236 [============================>.] - ETA: 0s - loss: 0.2900 - accuracy: 0.8952\n",
      "Epoch 00064: val_accuracy did not improve from 0.53029\n",
      "236/236 [==============================] - 6s 24ms/step - loss: 0.2902 - accuracy: 0.8950 - val_loss: 1.6915 - val_accuracy: 0.4963\n",
      "Epoch 65/100\n",
      "236/236 [==============================] - ETA: 0s - loss: 0.2970 - accuracy: 0.8844\n",
      "Epoch 00065: val_accuracy did not improve from 0.53029\n",
      "236/236 [==============================] - 6s 25ms/step - loss: 0.2970 - accuracy: 0.8844 - val_loss: 1.7326 - val_accuracy: 0.5058\n",
      "Epoch 66/100\n",
      "234/236 [============================>.] - ETA: 0s - loss: 0.2802 - accuracy: 0.8937\n",
      "Epoch 00066: val_accuracy did not improve from 0.53029\n",
      "236/236 [==============================] - 6s 24ms/step - loss: 0.2802 - accuracy: 0.8934 - val_loss: 1.6869 - val_accuracy: 0.5058\n",
      "Epoch 67/100\n",
      "236/236 [==============================] - ETA: 0s - loss: 0.2713 - accuracy: 0.8998\n",
      "Epoch 00067: val_accuracy did not improve from 0.53029\n",
      "236/236 [==============================] - 6s 24ms/step - loss: 0.2713 - accuracy: 0.8998 - val_loss: 1.6994 - val_accuracy: 0.5080\n",
      "Epoch 68/100\n",
      "234/236 [============================>.] - ETA: 0s - loss: 0.2682 - accuracy: 0.8958\n",
      "Epoch 00068: val_accuracy did not improve from 0.53029\n",
      "236/236 [==============================] - 6s 25ms/step - loss: 0.2692 - accuracy: 0.8956 - val_loss: 1.7427 - val_accuracy: 0.4920\n",
      "Epoch 69/100\n",
      "236/236 [==============================] - ETA: 0s - loss: 0.2768 - accuracy: 0.8964\n",
      "Epoch 00069: val_accuracy did not improve from 0.53029\n",
      "236/236 [==============================] - 6s 25ms/step - loss: 0.2768 - accuracy: 0.8964 - val_loss: 1.7196 - val_accuracy: 0.4846\n",
      "Epoch 70/100\n",
      "235/236 [============================>.] - ETA: 0s - loss: 0.2574 - accuracy: 0.9043\n",
      "Epoch 00070: val_accuracy did not improve from 0.53029\n",
      "236/236 [==============================] - 6s 25ms/step - loss: 0.2573 - accuracy: 0.9043 - val_loss: 1.7460 - val_accuracy: 0.4846\n",
      "Epoch 71/100\n",
      "236/236 [==============================] - ETA: 0s - loss: 0.2524 - accuracy: 0.9065\n",
      "Epoch 00071: val_accuracy did not improve from 0.53029\n",
      "236/236 [==============================] - 6s 25ms/step - loss: 0.2524 - accuracy: 0.9065 - val_loss: 1.7394 - val_accuracy: 0.4942\n",
      "Epoch 72/100\n",
      "235/236 [============================>.] - ETA: 0s - loss: 0.2602 - accuracy: 0.9035\n",
      "Epoch 00072: val_accuracy did not improve from 0.53029\n",
      "236/236 [==============================] - 6s 25ms/step - loss: 0.2600 - accuracy: 0.9035 - val_loss: 1.7968 - val_accuracy: 0.4867\n",
      "Epoch 73/100\n",
      "235/236 [============================>.] - ETA: 0s - loss: 0.2405 - accuracy: 0.9090\n",
      "Epoch 00073: val_accuracy did not improve from 0.53029\n",
      "236/236 [==============================] - 6s 25ms/step - loss: 0.2403 - accuracy: 0.9091 - val_loss: 1.8096 - val_accuracy: 0.4857\n",
      "Epoch 74/100\n",
      "236/236 [==============================] - ETA: 0s - loss: 0.2666 - accuracy: 0.8974\n",
      "Epoch 00074: val_accuracy did not improve from 0.53029\n",
      "236/236 [==============================] - 6s 24ms/step - loss: 0.2666 - accuracy: 0.8974 - val_loss: 1.7836 - val_accuracy: 0.4899\n",
      "Epoch 75/100\n",
      "235/236 [============================>.] - ETA: 0s - loss: 0.2577 - accuracy: 0.9029\n",
      "Epoch 00075: val_accuracy did not improve from 0.53029\n",
      "236/236 [==============================] - 6s 24ms/step - loss: 0.2576 - accuracy: 0.9030 - val_loss: 1.7657 - val_accuracy: 0.5005\n",
      "Epoch 76/100\n",
      "236/236 [==============================] - ETA: 0s - loss: 0.2235 - accuracy: 0.9168\n",
      "Epoch 00076: val_accuracy did not improve from 0.53029\n",
      "236/236 [==============================] - 6s 24ms/step - loss: 0.2235 - accuracy: 0.9168 - val_loss: 1.7729 - val_accuracy: 0.4973\n",
      "Epoch 77/100\n",
      "235/236 [============================>.] - ETA: 0s - loss: 0.2398 - accuracy: 0.9098\n",
      "Epoch 00077: val_accuracy did not improve from 0.53029\n",
      "236/236 [==============================] - 6s 24ms/step - loss: 0.2400 - accuracy: 0.9096 - val_loss: 1.8057 - val_accuracy: 0.4973\n",
      "Epoch 78/100\n",
      "234/236 [============================>.] - ETA: 0s - loss: 0.2313 - accuracy: 0.9167\n",
      "Epoch 00078: val_accuracy did not improve from 0.53029\n",
      "236/236 [==============================] - 6s 24ms/step - loss: 0.2306 - accuracy: 0.9171 - val_loss: 1.8036 - val_accuracy: 0.4931\n",
      "Epoch 79/100\n",
      "235/236 [============================>.] - ETA: 0s - loss: 0.2235 - accuracy: 0.9207\n",
      "Epoch 00079: val_accuracy did not improve from 0.53029\n",
      "236/236 [==============================] - 6s 24ms/step - loss: 0.2235 - accuracy: 0.9208 - val_loss: 1.8411 - val_accuracy: 0.4825\n",
      "Epoch 80/100\n",
      "235/236 [============================>.] - ETA: 0s - loss: 0.2224 - accuracy: 0.9215\n",
      "Epoch 00080: val_accuracy did not improve from 0.53029\n",
      "236/236 [==============================] - 6s 24ms/step - loss: 0.2222 - accuracy: 0.9216 - val_loss: 1.8442 - val_accuracy: 0.5016\n",
      "Epoch 81/100\n",
      "235/236 [============================>.] - ETA: 0s - loss: 0.2415 - accuracy: 0.9152\n",
      "Epoch 00081: val_accuracy did not improve from 0.53029\n",
      "236/236 [==============================] - 6s 24ms/step - loss: 0.2414 - accuracy: 0.9152 - val_loss: 1.8486 - val_accuracy: 0.4984\n",
      "Epoch 82/100\n",
      "234/236 [============================>.] - ETA: 0s - loss: 0.2263 - accuracy: 0.9185\n",
      "Epoch 00082: val_accuracy did not improve from 0.53029\n",
      "236/236 [==============================] - 6s 24ms/step - loss: 0.2269 - accuracy: 0.9182 - val_loss: 1.8094 - val_accuracy: 0.4973\n",
      "Epoch 83/100\n",
      "235/236 [============================>.] - ETA: 0s - loss: 0.2239 - accuracy: 0.9152\n",
      "Epoch 00083: val_accuracy did not improve from 0.53029\n",
      "236/236 [==============================] - 6s 24ms/step - loss: 0.2239 - accuracy: 0.9152 - val_loss: 1.8012 - val_accuracy: 0.4973\n",
      "Epoch 84/100\n",
      "235/236 [============================>.] - ETA: 0s - loss: 0.2153 - accuracy: 0.9170\n",
      "Epoch 00084: val_accuracy did not improve from 0.53029\n",
      "236/236 [==============================] - 6s 25ms/step - loss: 0.2152 - accuracy: 0.9171 - val_loss: 1.8051 - val_accuracy: 0.5058\n",
      "Epoch 85/100\n",
      "234/236 [============================>.] - ETA: 0s - loss: 0.2028 - accuracy: 0.9255\n",
      "Epoch 00085: val_accuracy did not improve from 0.53029\n",
      "236/236 [==============================] - 6s 26ms/step - loss: 0.2034 - accuracy: 0.9253 - val_loss: 1.8063 - val_accuracy: 0.4888\n",
      "Epoch 86/100\n",
      "236/236 [==============================] - ETA: 0s - loss: 0.1930 - accuracy: 0.9312\n",
      "Epoch 00086: val_accuracy did not improve from 0.53029\n",
      "236/236 [==============================] - 6s 25ms/step - loss: 0.1930 - accuracy: 0.9312 - val_loss: 1.8708 - val_accuracy: 0.5005\n",
      "Epoch 87/100\n",
      "234/236 [============================>.] - ETA: 0s - loss: 0.2074 - accuracy: 0.9196\n",
      "Epoch 00087: val_accuracy did not improve from 0.53029\n",
      "236/236 [==============================] - 6s 24ms/step - loss: 0.2077 - accuracy: 0.9195 - val_loss: 1.8937 - val_accuracy: 0.4973\n",
      "Epoch 88/100\n",
      "235/236 [============================>.] - ETA: 0s - loss: 0.2188 - accuracy: 0.9191\n",
      "Epoch 00088: val_accuracy did not improve from 0.53029\n",
      "236/236 [==============================] - 6s 25ms/step - loss: 0.2188 - accuracy: 0.9192 - val_loss: 1.8234 - val_accuracy: 0.4857\n",
      "Epoch 89/100\n",
      "236/236 [==============================] - ETA: 0s - loss: 0.1865 - accuracy: 0.9314\n",
      "Epoch 00089: val_accuracy did not improve from 0.53029\n",
      "236/236 [==============================] - 6s 25ms/step - loss: 0.1865 - accuracy: 0.9314 - val_loss: 1.9338 - val_accuracy: 0.4899\n",
      "Epoch 90/100\n",
      "236/236 [==============================] - ETA: 0s - loss: 0.1920 - accuracy: 0.9293\n",
      "Epoch 00090: val_accuracy did not improve from 0.53029\n",
      "236/236 [==============================] - 6s 26ms/step - loss: 0.1920 - accuracy: 0.9293 - val_loss: 1.9128 - val_accuracy: 0.5027\n",
      "Epoch 91/100\n",
      "234/236 [============================>.] - ETA: 0s - loss: 0.1957 - accuracy: 0.9306\n",
      "Epoch 00091: val_accuracy did not improve from 0.53029\n",
      "236/236 [==============================] - 6s 25ms/step - loss: 0.1956 - accuracy: 0.9306 - val_loss: 1.8266 - val_accuracy: 0.5069\n",
      "Epoch 92/100\n",
      "235/236 [============================>.] - ETA: 0s - loss: 0.1936 - accuracy: 0.9274\n",
      "Epoch 00092: val_accuracy did not improve from 0.53029\n",
      "236/236 [==============================] - 6s 25ms/step - loss: 0.1935 - accuracy: 0.9275 - val_loss: 1.9644 - val_accuracy: 0.4888\n",
      "Epoch 93/100\n",
      "236/236 [==============================] - ETA: 0s - loss: 0.2067 - accuracy: 0.9245\n",
      "Epoch 00093: val_accuracy did not improve from 0.53029\n",
      "236/236 [==============================] - 6s 25ms/step - loss: 0.2067 - accuracy: 0.9245 - val_loss: 1.8851 - val_accuracy: 0.4920\n",
      "Epoch 94/100\n",
      "234/236 [============================>.] - ETA: 0s - loss: 0.1762 - accuracy: 0.9340\n",
      "Epoch 00094: val_accuracy did not improve from 0.53029\n",
      "236/236 [==============================] - 6s 24ms/step - loss: 0.1758 - accuracy: 0.9344 - val_loss: 1.9565 - val_accuracy: 0.4772\n",
      "Epoch 95/100\n",
      "234/236 [============================>.] - ETA: 0s - loss: 0.1863 - accuracy: 0.9327\n",
      "Epoch 00095: val_accuracy did not improve from 0.53029\n",
      "236/236 [==============================] - 6s 24ms/step - loss: 0.1869 - accuracy: 0.9325 - val_loss: 1.9225 - val_accuracy: 0.4920\n",
      "Epoch 96/100\n",
      "235/236 [============================>.] - ETA: 0s - loss: 0.1789 - accuracy: 0.9356\n",
      "Epoch 00096: val_accuracy did not improve from 0.53029\n",
      "236/236 [==============================] - 6s 24ms/step - loss: 0.1793 - accuracy: 0.9354 - val_loss: 1.9481 - val_accuracy: 0.5005\n",
      "Epoch 97/100\n",
      "236/236 [==============================] - ETA: 0s - loss: 0.1924 - accuracy: 0.9235\n",
      "Epoch 00097: val_accuracy did not improve from 0.53029\n",
      "236/236 [==============================] - 6s 25ms/step - loss: 0.1924 - accuracy: 0.9235 - val_loss: 2.0036 - val_accuracy: 0.4942\n",
      "Epoch 98/100\n",
      "235/236 [============================>.] - ETA: 0s - loss: 0.1732 - accuracy: 0.9372\n",
      "Epoch 00098: val_accuracy did not improve from 0.53029\n",
      "236/236 [==============================] - 6s 25ms/step - loss: 0.1732 - accuracy: 0.9373 - val_loss: 1.9242 - val_accuracy: 0.5101\n",
      "Epoch 99/100\n",
      "235/236 [============================>.] - ETA: 0s - loss: 0.1648 - accuracy: 0.9420\n",
      "Epoch 00099: val_accuracy did not improve from 0.53029\n",
      "236/236 [==============================] - 6s 25ms/step - loss: 0.1648 - accuracy: 0.9421 - val_loss: 1.9887 - val_accuracy: 0.4878\n",
      "Epoch 100/100\n",
      "236/236 [==============================] - ETA: 0s - loss: 0.1587 - accuracy: 0.9423\n",
      "Epoch 00100: val_accuracy did not improve from 0.53029\n",
      "236/236 [==============================] - 6s 25ms/step - loss: 0.1587 - accuracy: 0.9423 - val_loss: 1.9929 - val_accuracy: 0.4888\n"
     ]
    }
   ],
   "source": [
    "\n",
    "model.compile(optimizer=adam,loss='categorical_crossentropy',metrics=['accuracy'])\n",
    "#plot_model(model,'model_tune.jpg',show_shapes=True)\n",
    "save_model=kcallbacks.ModelCheckpoint(filepath=MODEL_SAVE_PATH,monitor='val_accuracy',verbose=1,save_best_only=True)\n",
    "callback_list=[save_model]\n",
    "history=model.fit(x=X_train,y=y_train,batch_size=BATCH_SIZE,epochs=EPOCHS,validation_data=(X_test,y_test),\n",
    "                  callbacks=callback_list)"
   ]
  },
  {
   "cell_type": "code",
   "execution_count": 165,
   "metadata": {},
   "outputs": [],
   "source": [
    "from sklearn.model_selection import GridSearchCV\n",
    "model1 = scikit_learn.KerasClassifier(build_fn=attention_model, verbose=0)"
   ]
  },
  {
   "cell_type": "code",
   "execution_count": 166,
   "metadata": {},
   "outputs": [],
   "source": [
    "batch_size = [8,128]\n",
    "epochs = [10,80]"
   ]
  },
  {
   "cell_type": "code",
   "execution_count": 167,
   "metadata": {},
   "outputs": [
    {
     "ename": "NameError",
     "evalue": "name 'X' is not defined",
     "output_type": "error",
     "traceback": [
      "\u001b[1;31m---------------------------------------------------------------------------\u001b[0m",
      "\u001b[1;31mNameError\u001b[0m                                 Traceback (most recent call last)",
      "\u001b[1;32m<ipython-input-167-63bb6055a560>\u001b[0m in \u001b[0;36m<module>\u001b[1;34m\u001b[0m\n\u001b[0;32m      1\u001b[0m \u001b[0mparam_grid\u001b[0m \u001b[1;33m=\u001b[0m \u001b[0mdict\u001b[0m\u001b[1;33m(\u001b[0m\u001b[0mbatch_size\u001b[0m\u001b[1;33m=\u001b[0m\u001b[0mbatch_size\u001b[0m\u001b[1;33m,\u001b[0m \u001b[0mepochs\u001b[0m\u001b[1;33m=\u001b[0m\u001b[0mepochs\u001b[0m\u001b[1;33m)\u001b[0m\u001b[1;33m\u001b[0m\u001b[1;33m\u001b[0m\u001b[0m\n\u001b[0;32m      2\u001b[0m \u001b[0mgrid\u001b[0m \u001b[1;33m=\u001b[0m \u001b[0mGridSearchCV\u001b[0m\u001b[1;33m(\u001b[0m\u001b[0mestimator\u001b[0m\u001b[1;33m=\u001b[0m\u001b[0mmodel1\u001b[0m\u001b[1;33m,\u001b[0m \u001b[0mparam_grid\u001b[0m\u001b[1;33m=\u001b[0m\u001b[0mparam_grid\u001b[0m\u001b[1;33m,\u001b[0m \u001b[0mn_jobs\u001b[0m\u001b[1;33m=\u001b[0m\u001b[1;36m1\u001b[0m\u001b[1;33m)\u001b[0m\u001b[1;33m\u001b[0m\u001b[1;33m\u001b[0m\u001b[0m\n\u001b[1;32m----> 3\u001b[1;33m \u001b[0mgrid_result\u001b[0m \u001b[1;33m=\u001b[0m \u001b[0mgrid\u001b[0m\u001b[1;33m.\u001b[0m\u001b[0mfit\u001b[0m\u001b[1;33m(\u001b[0m\u001b[0mX\u001b[0m\u001b[1;33m,\u001b[0m \u001b[0mY\u001b[0m\u001b[1;33m)\u001b[0m\u001b[1;33m\u001b[0m\u001b[1;33m\u001b[0m\u001b[0m\n\u001b[0m",
      "\u001b[1;31mNameError\u001b[0m: name 'X' is not defined"
     ]
    }
   ],
   "source": [
    "param_grid = dict(batch_size=batch_size, epochs=epochs)\n",
    "grid = GridSearchCV(estimator=model1, param_grid=param_grid, n_jobs=1)\n",
    "grid_result = grid.fit(X, Y)"
   ]
  },
  {
   "cell_type": "code",
   "execution_count": null,
   "metadata": {},
   "outputs": [],
   "source": [
    "print('Best: {} using {}'.format(grid_result.best_score_, grid_result.best_params_))\n",
    "means = grid_result.cv_results_['mean_test_score']\n",
    "stds = grid_result.cv_results_['std_test_score']\n",
    "params = grid_result.cv_results_['params']\n",
    "\n",
    "for mean, std, param in zip(means, stds, params):\n",
    "    print(\"%f (%f) with: %r\" % (mean, std, param))"
   ]
  },
  {
   "cell_type": "code",
   "execution_count": 110,
   "metadata": {
    "scrolled": true
   },
   "outputs": [
    {
     "ename": "SyntaxError",
     "evalue": "invalid syntax (<ipython-input-110-766435e54d28>, line 8)",
     "output_type": "error",
     "traceback": [
      "\u001b[1;36m  File \u001b[1;32m\"<ipython-input-110-766435e54d28>\"\u001b[1;36m, line \u001b[1;32m8\u001b[0m\n\u001b[1;33m    a=layers.Dense(128, activation=\"sigmoid\"),\u001b[0m\n\u001b[1;37m     ^\u001b[0m\n\u001b[1;31mSyntaxError\u001b[0m\u001b[1;31m:\u001b[0m invalid syntax\n"
     ]
    }
   ],
   "source": [
    "\n",
    "model = keras.Sequential(\n",
    "    [\n",
    "        keras.Input(shape=(35,7)),\n",
    "        layers.Conv1D(64, kernel_size=1, activation=\"relu\"),\n",
    "        layers.Dropout(0.3),\n",
    "        layers.Bidirectional(layers.LSTM(64, return_sequences=True)),\n",
    "        layers.Dropout(0.5),\n",
    "        a=layers.Dense(128, activation=\"sigmoid\"),\n",
    "        layers.Flatten(),\n",
    "        layers.Dropout(0.5),\n",
    "        layers.Dense(NUM_CLASSES, activation=\"softmax\"),\n",
    "    ]\n",
    ")\n",
    "\n",
    "model.summary()"
   ]
  },
  {
   "cell_type": "code",
   "execution_count": 46,
   "metadata": {},
   "outputs": [
    {
     "name": "stdout",
     "output_type": "stream",
     "text": [
      "Model: \"functional_3\"\n",
      "__________________________________________________________________________________________________\n",
      "Layer (type)                    Output Shape         Param #     Connected to                     \n",
      "==================================================================================================\n",
      "input_2 (InputLayer)            [(None, 35, 7)]      0                                            \n",
      "__________________________________________________________________________________________________\n",
      "conv1d_1 (Conv1D)               (None, 35, 64)       512         input_2[0][0]                    \n",
      "__________________________________________________________________________________________________\n",
      "dropout_2 (Dropout)             (None, 35, 64)       0           conv1d_1[0][0]                   \n",
      "__________________________________________________________________________________________________\n",
      "bidirectional_1 (Bidirectional) (None, 35, 128)      66048       dropout_2[0][0]                  \n",
      "__________________________________________________________________________________________________\n",
      "dropout_3 (Dropout)             (None, 35, 128)      0           bidirectional_1[0][0]            \n",
      "__________________________________________________________________________________________________\n",
      "permute_2 (Permute)             (None, 128, 35)      0           dropout_3[0][0]                  \n",
      "__________________________________________________________________________________________________\n",
      "dense_4 (Dense)                 (None, 128, 35)      1260        permute_2[0][0]                  \n",
      "__________________________________________________________________________________________________\n",
      "permute_3 (Permute)             (None, 35, 128)      0           dense_4[0][0]                    \n",
      "__________________________________________________________________________________________________\n",
      "multiply_1 (Multiply)           (None, 35, 128)      0           dropout_3[0][0]                  \n",
      "                                                                 permute_3[0][0]                  \n",
      "__________________________________________________________________________________________________\n",
      "flatten_1 (Flatten)             (None, 4480)         0           multiply_1[0][0]                 \n",
      "__________________________________________________________________________________________________\n",
      "dense_5 (Dense)                 (None, 4)            17924       flatten_1[0][0]                  \n",
      "==================================================================================================\n",
      "Total params: 85,744\n",
      "Trainable params: 85,744\n",
      "Non-trainable params: 0\n",
      "__________________________________________________________________________________________________\n"
     ]
    }
   ],
   "source": [
    "query_input = tf.keras.Input(shape=(None,), dtype='int32')\n",
    "value_input = tf.keras.Input(shape=(None,), dtype='int32')\n",
    "\n",
    "# Embedding lookup.\n",
    "token_embedding = tf.keras.layers.Embedding(input_dim=1000, output_dim=64)\n",
    "# Query embeddings of shape [batch_size, Tq, dimension].\n",
    "query_embeddings = token_embedding(query_input)\n",
    "# Value embeddings of shape [batch_size, Tv, dimension].\n",
    "value_embeddings = token_embedding(value_input)\n",
    "\n",
    "# CNN layer.\n",
    "cnn_layer = tf.keras.layers.Conv1D(\n",
    "    filters=100,\n",
    "    kernel_size=4,\n",
    "    # Use 'same' padding so outputs have the same shape as inputs.\n",
    "    padding='same')\n",
    "# Query encoding of shape [batch_size, Tq, filters].\n",
    "query_seq_encoding = cnn_layer(query_embeddings)\n",
    "# Value encoding of shape [batch_size, Tv, filters].\n",
    "value_seq_encoding = cnn_layer(value_embeddings)\n",
    "\n",
    "# Query-value attention of shape [batch_size, Tq, filters].\n",
    "query_value_attention_seq = tf.keras.layers.Attention()(\n",
    "    [query_seq_encoding, value_seq_encoding])\n",
    "\n",
    "# Reduce over the sequence axis to produce encodings of shape\n",
    "# [batch_size, filters].\n",
    "query_encoding = tf.keras.layers.GlobalAveragePooling1D()(\n",
    "    query_seq_encoding)\n",
    "query_value_attention = tf.keras.layers.GlobalAveragePooling1D()(\n",
    "    query_value_attention_seq)\n",
    "\n",
    "# Concatenate query and document encodings to produce a DNN input layer.\n",
    "input_layer = tf.keras.layers.Concatenate()(\n",
    "    [query_encoding, query_value_attention])\n",
    "model.summary()"
   ]
  },
  {
   "cell_type": "code",
   "execution_count": 74,
   "metadata": {},
   "outputs": [
    {
     "data": {
      "text/plain": [
       "<tf.Tensor 'embedding_2/embedding_lookup/Identity_1:0' shape=(None, None, 64) dtype=float32>"
      ]
     },
     "execution_count": 74,
     "metadata": {},
     "output_type": "execute_result"
    }
   ],
   "source": [
    "query_embeddings"
   ]
  },
  {
   "cell_type": "markdown",
   "metadata": {},
   "source": [
    "## plot_curve"
   ]
  },
  {
   "cell_type": "code",
   "execution_count": 359,
   "metadata": {},
   "outputs": [
    {
     "name": "stdout",
     "output_type": "stream",
     "text": [
      "Epoch 1/100\n",
      " 77/236 [========>.....................] - ETA: 3s - loss: 0.8338 - accuracy: 0.6672"
     ]
    },
    {
     "ename": "KeyboardInterrupt",
     "evalue": "",
     "output_type": "error",
     "traceback": [
      "\u001b[1;31m---------------------------------------------------------------------------\u001b[0m",
      "\u001b[1;31mKeyboardInterrupt\u001b[0m                         Traceback (most recent call last)",
      "\u001b[1;32m<ipython-input-359-b7d5ea3f4b8a>\u001b[0m in \u001b[0;36m<module>\u001b[1;34m\u001b[0m\n\u001b[0;32m      1\u001b[0m \u001b[1;32mfrom\u001b[0m \u001b[0mkeras\u001b[0m\u001b[1;33m.\u001b[0m\u001b[0mmodels\u001b[0m \u001b[1;32mimport\u001b[0m \u001b[0mload_model\u001b[0m\u001b[1;33m\u001b[0m\u001b[1;33m\u001b[0m\u001b[0m\n\u001b[0;32m      2\u001b[0m \u001b[0mmodel\u001b[0m\u001b[1;33m=\u001b[0m\u001b[0mload_model\u001b[0m\u001b[1;33m(\u001b[0m\u001b[1;34m'.\\models\\gabor_tone_cnn1.h5'\u001b[0m\u001b[1;33m)\u001b[0m\u001b[1;33m\u001b[0m\u001b[1;33m\u001b[0m\u001b[0m\n\u001b[1;32m----> 3\u001b[1;33m history=model.fit(x=X_train,y=y_train,batch_size=BATCH_SIZE,epochs=EPOCHS,validation_data=(X_test,y_test),\n\u001b[0m\u001b[0;32m      4\u001b[0m                   callbacks=callback_list)\n",
      "\u001b[1;32mD:\\ProgramData\\Anaconda3\\lib\\site-packages\\tensorflow\\python\\keras\\engine\\training.py\u001b[0m in \u001b[0;36m_method_wrapper\u001b[1;34m(self, *args, **kwargs)\u001b[0m\n\u001b[0;32m    106\u001b[0m   \u001b[1;32mdef\u001b[0m \u001b[0m_method_wrapper\u001b[0m\u001b[1;33m(\u001b[0m\u001b[0mself\u001b[0m\u001b[1;33m,\u001b[0m \u001b[1;33m*\u001b[0m\u001b[0margs\u001b[0m\u001b[1;33m,\u001b[0m \u001b[1;33m**\u001b[0m\u001b[0mkwargs\u001b[0m\u001b[1;33m)\u001b[0m\u001b[1;33m:\u001b[0m\u001b[1;33m\u001b[0m\u001b[1;33m\u001b[0m\u001b[0m\n\u001b[0;32m    107\u001b[0m     \u001b[1;32mif\u001b[0m \u001b[1;32mnot\u001b[0m \u001b[0mself\u001b[0m\u001b[1;33m.\u001b[0m\u001b[0m_in_multi_worker_mode\u001b[0m\u001b[1;33m(\u001b[0m\u001b[1;33m)\u001b[0m\u001b[1;33m:\u001b[0m  \u001b[1;31m# pylint: disable=protected-access\u001b[0m\u001b[1;33m\u001b[0m\u001b[1;33m\u001b[0m\u001b[0m\n\u001b[1;32m--> 108\u001b[1;33m       \u001b[1;32mreturn\u001b[0m \u001b[0mmethod\u001b[0m\u001b[1;33m(\u001b[0m\u001b[0mself\u001b[0m\u001b[1;33m,\u001b[0m \u001b[1;33m*\u001b[0m\u001b[0margs\u001b[0m\u001b[1;33m,\u001b[0m \u001b[1;33m**\u001b[0m\u001b[0mkwargs\u001b[0m\u001b[1;33m)\u001b[0m\u001b[1;33m\u001b[0m\u001b[1;33m\u001b[0m\u001b[0m\n\u001b[0m\u001b[0;32m    109\u001b[0m \u001b[1;33m\u001b[0m\u001b[0m\n\u001b[0;32m    110\u001b[0m     \u001b[1;31m# Running inside `run_distribute_coordinator` already.\u001b[0m\u001b[1;33m\u001b[0m\u001b[1;33m\u001b[0m\u001b[1;33m\u001b[0m\u001b[0m\n",
      "\u001b[1;32mD:\\ProgramData\\Anaconda3\\lib\\site-packages\\tensorflow\\python\\keras\\engine\\training.py\u001b[0m in \u001b[0;36mfit\u001b[1;34m(self, x, y, batch_size, epochs, verbose, callbacks, validation_split, validation_data, shuffle, class_weight, sample_weight, initial_epoch, steps_per_epoch, validation_steps, validation_batch_size, validation_freq, max_queue_size, workers, use_multiprocessing)\u001b[0m\n\u001b[0;32m   1096\u001b[0m                 batch_size=batch_size):\n\u001b[0;32m   1097\u001b[0m               \u001b[0mcallbacks\u001b[0m\u001b[1;33m.\u001b[0m\u001b[0mon_train_batch_begin\u001b[0m\u001b[1;33m(\u001b[0m\u001b[0mstep\u001b[0m\u001b[1;33m)\u001b[0m\u001b[1;33m\u001b[0m\u001b[1;33m\u001b[0m\u001b[0m\n\u001b[1;32m-> 1098\u001b[1;33m               \u001b[0mtmp_logs\u001b[0m \u001b[1;33m=\u001b[0m \u001b[0mtrain_function\u001b[0m\u001b[1;33m(\u001b[0m\u001b[0miterator\u001b[0m\u001b[1;33m)\u001b[0m\u001b[1;33m\u001b[0m\u001b[1;33m\u001b[0m\u001b[0m\n\u001b[0m\u001b[0;32m   1099\u001b[0m               \u001b[1;32mif\u001b[0m \u001b[0mdata_handler\u001b[0m\u001b[1;33m.\u001b[0m\u001b[0mshould_sync\u001b[0m\u001b[1;33m:\u001b[0m\u001b[1;33m\u001b[0m\u001b[1;33m\u001b[0m\u001b[0m\n\u001b[0;32m   1100\u001b[0m                 \u001b[0mcontext\u001b[0m\u001b[1;33m.\u001b[0m\u001b[0masync_wait\u001b[0m\u001b[1;33m(\u001b[0m\u001b[1;33m)\u001b[0m\u001b[1;33m\u001b[0m\u001b[1;33m\u001b[0m\u001b[0m\n",
      "\u001b[1;32mD:\\ProgramData\\Anaconda3\\lib\\site-packages\\tensorflow\\python\\eager\\def_function.py\u001b[0m in \u001b[0;36m__call__\u001b[1;34m(self, *args, **kwds)\u001b[0m\n\u001b[0;32m    778\u001b[0m       \u001b[1;32melse\u001b[0m\u001b[1;33m:\u001b[0m\u001b[1;33m\u001b[0m\u001b[1;33m\u001b[0m\u001b[0m\n\u001b[0;32m    779\u001b[0m         \u001b[0mcompiler\u001b[0m \u001b[1;33m=\u001b[0m \u001b[1;34m\"nonXla\"\u001b[0m\u001b[1;33m\u001b[0m\u001b[1;33m\u001b[0m\u001b[0m\n\u001b[1;32m--> 780\u001b[1;33m         \u001b[0mresult\u001b[0m \u001b[1;33m=\u001b[0m \u001b[0mself\u001b[0m\u001b[1;33m.\u001b[0m\u001b[0m_call\u001b[0m\u001b[1;33m(\u001b[0m\u001b[1;33m*\u001b[0m\u001b[0margs\u001b[0m\u001b[1;33m,\u001b[0m \u001b[1;33m**\u001b[0m\u001b[0mkwds\u001b[0m\u001b[1;33m)\u001b[0m\u001b[1;33m\u001b[0m\u001b[1;33m\u001b[0m\u001b[0m\n\u001b[0m\u001b[0;32m    781\u001b[0m \u001b[1;33m\u001b[0m\u001b[0m\n\u001b[0;32m    782\u001b[0m       \u001b[0mnew_tracing_count\u001b[0m \u001b[1;33m=\u001b[0m \u001b[0mself\u001b[0m\u001b[1;33m.\u001b[0m\u001b[0m_get_tracing_count\u001b[0m\u001b[1;33m(\u001b[0m\u001b[1;33m)\u001b[0m\u001b[1;33m\u001b[0m\u001b[1;33m\u001b[0m\u001b[0m\n",
      "\u001b[1;32mD:\\ProgramData\\Anaconda3\\lib\\site-packages\\tensorflow\\python\\eager\\def_function.py\u001b[0m in \u001b[0;36m_call\u001b[1;34m(self, *args, **kwds)\u001b[0m\n\u001b[0;32m    812\u001b[0m       \u001b[1;31m# In this case we have not created variables on the first call. So we can\u001b[0m\u001b[1;33m\u001b[0m\u001b[1;33m\u001b[0m\u001b[1;33m\u001b[0m\u001b[0m\n\u001b[0;32m    813\u001b[0m       \u001b[1;31m# run the first trace but we should fail if variables are created.\u001b[0m\u001b[1;33m\u001b[0m\u001b[1;33m\u001b[0m\u001b[1;33m\u001b[0m\u001b[0m\n\u001b[1;32m--> 814\u001b[1;33m       \u001b[0mresults\u001b[0m \u001b[1;33m=\u001b[0m \u001b[0mself\u001b[0m\u001b[1;33m.\u001b[0m\u001b[0m_stateful_fn\u001b[0m\u001b[1;33m(\u001b[0m\u001b[1;33m*\u001b[0m\u001b[0margs\u001b[0m\u001b[1;33m,\u001b[0m \u001b[1;33m**\u001b[0m\u001b[0mkwds\u001b[0m\u001b[1;33m)\u001b[0m\u001b[1;33m\u001b[0m\u001b[1;33m\u001b[0m\u001b[0m\n\u001b[0m\u001b[0;32m    815\u001b[0m       \u001b[1;32mif\u001b[0m \u001b[0mself\u001b[0m\u001b[1;33m.\u001b[0m\u001b[0m_created_variables\u001b[0m\u001b[1;33m:\u001b[0m\u001b[1;33m\u001b[0m\u001b[1;33m\u001b[0m\u001b[0m\n\u001b[0;32m    816\u001b[0m         raise ValueError(\"Creating variables on a non-first call to a function\"\n",
      "\u001b[1;32mD:\\ProgramData\\Anaconda3\\lib\\site-packages\\tensorflow\\python\\eager\\function.py\u001b[0m in \u001b[0;36m__call__\u001b[1;34m(self, *args, **kwargs)\u001b[0m\n\u001b[0;32m   2827\u001b[0m     \u001b[1;32mwith\u001b[0m \u001b[0mself\u001b[0m\u001b[1;33m.\u001b[0m\u001b[0m_lock\u001b[0m\u001b[1;33m:\u001b[0m\u001b[1;33m\u001b[0m\u001b[1;33m\u001b[0m\u001b[0m\n\u001b[0;32m   2828\u001b[0m       \u001b[0mgraph_function\u001b[0m\u001b[1;33m,\u001b[0m \u001b[0margs\u001b[0m\u001b[1;33m,\u001b[0m \u001b[0mkwargs\u001b[0m \u001b[1;33m=\u001b[0m \u001b[0mself\u001b[0m\u001b[1;33m.\u001b[0m\u001b[0m_maybe_define_function\u001b[0m\u001b[1;33m(\u001b[0m\u001b[0margs\u001b[0m\u001b[1;33m,\u001b[0m \u001b[0mkwargs\u001b[0m\u001b[1;33m)\u001b[0m\u001b[1;33m\u001b[0m\u001b[1;33m\u001b[0m\u001b[0m\n\u001b[1;32m-> 2829\u001b[1;33m     \u001b[1;32mreturn\u001b[0m \u001b[0mgraph_function\u001b[0m\u001b[1;33m.\u001b[0m\u001b[0m_filtered_call\u001b[0m\u001b[1;33m(\u001b[0m\u001b[0margs\u001b[0m\u001b[1;33m,\u001b[0m \u001b[0mkwargs\u001b[0m\u001b[1;33m)\u001b[0m  \u001b[1;31m# pylint: disable=protected-access\u001b[0m\u001b[1;33m\u001b[0m\u001b[1;33m\u001b[0m\u001b[0m\n\u001b[0m\u001b[0;32m   2830\u001b[0m \u001b[1;33m\u001b[0m\u001b[0m\n\u001b[0;32m   2831\u001b[0m   \u001b[1;33m@\u001b[0m\u001b[0mproperty\u001b[0m\u001b[1;33m\u001b[0m\u001b[1;33m\u001b[0m\u001b[0m\n",
      "\u001b[1;32mD:\\ProgramData\\Anaconda3\\lib\\site-packages\\tensorflow\\python\\eager\\function.py\u001b[0m in \u001b[0;36m_filtered_call\u001b[1;34m(self, args, kwargs, cancellation_manager)\u001b[0m\n\u001b[0;32m   1841\u001b[0m       \u001b[0;31m`\u001b[0m\u001b[0margs\u001b[0m\u001b[0;31m`\u001b[0m \u001b[1;32mand\u001b[0m\u001b[0;31m \u001b[0m\u001b[0;31m`\u001b[0m\u001b[0mkwargs\u001b[0m\u001b[0;31m`\u001b[0m\u001b[1;33m.\u001b[0m\u001b[1;33m\u001b[0m\u001b[1;33m\u001b[0m\u001b[0m\n\u001b[0;32m   1842\u001b[0m     \"\"\"\n\u001b[1;32m-> 1843\u001b[1;33m     return self._call_flat(\n\u001b[0m\u001b[0;32m   1844\u001b[0m         [t for t in nest.flatten((args, kwargs), expand_composites=True)\n\u001b[0;32m   1845\u001b[0m          if isinstance(t, (ops.Tensor,\n",
      "\u001b[1;32mD:\\ProgramData\\Anaconda3\\lib\\site-packages\\tensorflow\\python\\eager\\function.py\u001b[0m in \u001b[0;36m_call_flat\u001b[1;34m(self, args, captured_inputs, cancellation_manager)\u001b[0m\n\u001b[0;32m   1921\u001b[0m         and executing_eagerly):\n\u001b[0;32m   1922\u001b[0m       \u001b[1;31m# No tape is watching; skip to running the function.\u001b[0m\u001b[1;33m\u001b[0m\u001b[1;33m\u001b[0m\u001b[1;33m\u001b[0m\u001b[0m\n\u001b[1;32m-> 1923\u001b[1;33m       return self._build_call_outputs(self._inference_function.call(\n\u001b[0m\u001b[0;32m   1924\u001b[0m           ctx, args, cancellation_manager=cancellation_manager))\n\u001b[0;32m   1925\u001b[0m     forward_backward = self._select_forward_and_backward_functions(\n",
      "\u001b[1;32mD:\\ProgramData\\Anaconda3\\lib\\site-packages\\tensorflow\\python\\eager\\function.py\u001b[0m in \u001b[0;36mcall\u001b[1;34m(self, ctx, args, cancellation_manager)\u001b[0m\n\u001b[0;32m    543\u001b[0m       \u001b[1;32mwith\u001b[0m \u001b[0m_InterpolateFunctionError\u001b[0m\u001b[1;33m(\u001b[0m\u001b[0mself\u001b[0m\u001b[1;33m)\u001b[0m\u001b[1;33m:\u001b[0m\u001b[1;33m\u001b[0m\u001b[1;33m\u001b[0m\u001b[0m\n\u001b[0;32m    544\u001b[0m         \u001b[1;32mif\u001b[0m \u001b[0mcancellation_manager\u001b[0m \u001b[1;32mis\u001b[0m \u001b[1;32mNone\u001b[0m\u001b[1;33m:\u001b[0m\u001b[1;33m\u001b[0m\u001b[1;33m\u001b[0m\u001b[0m\n\u001b[1;32m--> 545\u001b[1;33m           outputs = execute.execute(\n\u001b[0m\u001b[0;32m    546\u001b[0m               \u001b[0mstr\u001b[0m\u001b[1;33m(\u001b[0m\u001b[0mself\u001b[0m\u001b[1;33m.\u001b[0m\u001b[0msignature\u001b[0m\u001b[1;33m.\u001b[0m\u001b[0mname\u001b[0m\u001b[1;33m)\u001b[0m\u001b[1;33m,\u001b[0m\u001b[1;33m\u001b[0m\u001b[1;33m\u001b[0m\u001b[0m\n\u001b[0;32m    547\u001b[0m               \u001b[0mnum_outputs\u001b[0m\u001b[1;33m=\u001b[0m\u001b[0mself\u001b[0m\u001b[1;33m.\u001b[0m\u001b[0m_num_outputs\u001b[0m\u001b[1;33m,\u001b[0m\u001b[1;33m\u001b[0m\u001b[1;33m\u001b[0m\u001b[0m\n",
      "\u001b[1;32mD:\\ProgramData\\Anaconda3\\lib\\site-packages\\tensorflow\\python\\eager\\execute.py\u001b[0m in \u001b[0;36mquick_execute\u001b[1;34m(op_name, num_outputs, inputs, attrs, ctx, name)\u001b[0m\n\u001b[0;32m     57\u001b[0m   \u001b[1;32mtry\u001b[0m\u001b[1;33m:\u001b[0m\u001b[1;33m\u001b[0m\u001b[1;33m\u001b[0m\u001b[0m\n\u001b[0;32m     58\u001b[0m     \u001b[0mctx\u001b[0m\u001b[1;33m.\u001b[0m\u001b[0mensure_initialized\u001b[0m\u001b[1;33m(\u001b[0m\u001b[1;33m)\u001b[0m\u001b[1;33m\u001b[0m\u001b[1;33m\u001b[0m\u001b[0m\n\u001b[1;32m---> 59\u001b[1;33m     tensors = pywrap_tfe.TFE_Py_Execute(ctx._handle, device_name, op_name,\n\u001b[0m\u001b[0;32m     60\u001b[0m                                         inputs, attrs, num_outputs)\n\u001b[0;32m     61\u001b[0m   \u001b[1;32mexcept\u001b[0m \u001b[0mcore\u001b[0m\u001b[1;33m.\u001b[0m\u001b[0m_NotOkStatusException\u001b[0m \u001b[1;32mas\u001b[0m \u001b[0me\u001b[0m\u001b[1;33m:\u001b[0m\u001b[1;33m\u001b[0m\u001b[1;33m\u001b[0m\u001b[0m\n",
      "\u001b[1;31mKeyboardInterrupt\u001b[0m: "
     ]
    }
   ],
   "source": [
    "from keras.models import load_model\n",
    "model=load_model('.\\models\\gabor_tone_cnn1.h5')\n",
    "history=model.fit(x=X_train,y=y_train,batch_size=BATCH_SIZE,epochs=EPOCHS,validation_data=(X_test,y_test),\n",
    "                  callbacks=callback_list)"
   ]
  },
  {
   "cell_type": "code",
   "execution_count": 360,
   "metadata": {},
   "outputs": [
    {
     "data": {
      "image/png": "[encoded data removed]",
      "text/plain": [
       "<Figure size 1080x360 with 2 Axes>"
      ]
     },
     "metadata": {},
     "output_type": "display_data"
    },
    {
     "data": {
      "image/png": "[encoded data removed]",
      "text/plain": [
       "<Figure size 1080x360 with 2 Axes>"
      ]
     },
     "metadata": {},
     "output_type": "display_data"
    }
   ],
   "source": [
    "from help import plot_curve,plot_curve_with_smooth\n",
    "plot_curve(history)\n",
    "plot_curve_with_smooth(history)"
   ]
  },
  {
   "cell_type": "markdown",
   "metadata": {},
   "source": [
    "## confusion_metrix"
   ]
  },
  {
   "cell_type": "code",
   "execution_count": 361,
   "metadata": {},
   "outputs": [
    {
     "data": {
      "image/png": "[encoded data removed]",
      "text/plain": [
       "<Figure size 432x288 with 2 Axes>"
      ]
     },
     "metadata": {
      "needs_background": "light"
     },
     "output_type": "display_data"
    }
   ],
   "source": [
    "from sklearn.metrics import confusion_matrix\n",
    "import matplotlib.pyplot as plt\n",
    "%matplotlib inline\n",
    "y_pred=model.predict(X_test)\n",
    "y_pred=np.argmax(y_pred,axis=-1).ravel()\n",
    "y_true=np.argmax(y_test,axis=-1).ravel()\n",
    "con_matrix=confusion_matrix(y_true=y_true,y_pred=y_pred)\n",
    "def plot_confusion_matrix(confusion_mat):\n",
    "    plt.imshow(confusion_mat)\n",
    "    plt.title('Confusion Matrix')\n",
    "    plt.colorbar()\n",
    "    labels = [1,2,3,4]\n",
    "    tick_marks = np.arange(len(labels))\n",
    "    plt.xticks(tick_marks, labels)\n",
    "    plt.yticks(tick_marks, labels)\n",
    "    plt.ylabel('True Label')\n",
    "    plt.xlabel('Predicted Label')\n",
    "    plt.grid(False)\n",
    "    plt.show() \n",
    "plot_confusion_matrix(con_matrix)"
   ]
  },
  {
   "cell_type": "markdown",
   "metadata": {},
   "source": [
    "## classfication_report"
   ]
  },
  {
   "cell_type": "code",
   "execution_count": 362,
   "metadata": {},
   "outputs": [],
   "source": [
    "from sklearn.metrics import classification_report\n"
   ]
  },
  {
   "cell_type": "code",
   "execution_count": 363,
   "metadata": {},
   "outputs": [
    {
     "name": "stdout",
     "output_type": "stream",
     "text": [
      "              precision    recall  f1-score   support\n",
      "\n",
      "           1     0.4420    0.4880    0.4639       250\n",
      "           2     0.3795    0.3405    0.3590       185\n",
      "           3     0.5932    0.6215    0.6070       251\n",
      "           4     0.5847    0.5412    0.5621       255\n",
      "\n",
      "    accuracy                         0.5090       941\n",
      "   macro avg     0.4999    0.4978    0.4980       941\n",
      "weighted avg     0.5087    0.5090    0.5081       941\n",
      "\n"
     ]
    }
   ],
   "source": [
    "target_names = ['1', '2', '3','4']\n",
    "print(classification_report(y_true,y_pred,digits=4,labels=[0,1,2,3],target_names=target_names))"
   ]
  },
  {
   "cell_type": "markdown",
   "metadata": {},
   "source": [
    "# predict"
   ]
  },
  {
   "cell_type": "code",
   "execution_count": 20,
   "metadata": {
    "collapsed": true,
    "jupyter": {
     "outputs_hidden": true
    }
   },
   "outputs": [],
   "source": [
    "import librosa\n",
    "import sklearn\n",
    "def get_mfcc_feature(path,maxlen=50):\n",
    "    x, sr = librosa.load(path)\n",
    "    # extract mfcc\n",
    "    mfcc = librosa.feature.mfcc(x, sr=sr)\n",
    "    # Center to the mean and component wise scale to unit variance\n",
    "    mfcc = sklearn.preprocessing.scale(mfcc, axis=1)\n",
    "    mfcc_diff = np.diff(mfcc, axis=0)\n",
    "    mfcc_diff_diff = np.diff(mfcc_diff, axis=0)\n",
    "    # concatenate mfcc,mfcc_diff and mfcc_diff_diff\n",
    "    mfccs = np.concatenate([mfcc, mfcc_diff, mfcc_diff_diff], axis=0).T\n",
    "    #pad the mfccs_feature\n",
    "    if mfccs.shape[0]<maxlen:\n",
    "        mfccs=np.concatenate([mfccs,np.zeros((maxlen-mfccs.shape[0],57))],axis=0)\n",
    "    return mfccs"
   ]
  },
  {
   "cell_type": "code",
   "execution_count": 21,
   "metadata": {
    "collapsed": true,
    "jupyter": {
     "outputs_hidden": true
    }
   },
   "outputs": [],
   "source": [
    "wav_file='./voice_data/person10_time1_group1_ba_1.wav'"
   ]
  },
  {
   "cell_type": "code",
   "execution_count": 22,
   "metadata": {},
   "outputs": [
    {
     "name": "stdout",
     "output_type": "stream",
     "text": [
      "Predict Label:1\n"
     ]
    }
   ],
   "source": [
    "test=get_mfcc_feature(path=wav_file)\n",
    "test=np.expand_dims(test,axis=0)\n",
    "pred=model.predict(test)\n",
    "pred=np.argmax(pred,axis=1)[0]\n",
    "print('Predict Label:%s'%(CLASSES_LIST[pred]))"
   ]
  },
  {
   "cell_type": "code",
   "execution_count": 38,
   "metadata": {},
   "outputs": [
    {
     "name": "stdout",
     "output_type": "stream",
     "text": [
      "(1, 35, 7)\n",
      "Predict Label:1\n"
     ]
    }
   ],
   "source": [
    "temp = np.load('./gabor/person1_time1_group1_ba_1.npy')\n",
    "m,n = temp.shape\n",
    "            #print(m)\n",
    "if m <=35:\n",
    "    left = 36 - m\n",
    "    temp =np.append(temp,(np.zeros([left,n])),axis=0)\n",
    "test =[]\n",
    "test.append(temp[:35,])\n",
    "test = np.array(test)\n",
    "print(test.shape)\n",
    "pred=model.predict(test)\n",
    "pred=np.argmax(pred,axis=1)[0]\n",
    "print('Predict Label:%s'%(CLASSES_LIST[pred]))"
   ]
  },
  {
   "cell_type": "code",
   "execution_count": 40,
   "metadata": {},
   "outputs": [
    {
     "name": "stdout",
     "output_type": "stream",
     "text": [
      "(1, 35, 7)\n",
      "Predict Label:4\n"
     ]
    }
   ],
   "source": [
    "temp = np.load('./gabor/person2_time1_group1_da_4.npy')\n",
    "m,n = temp.shape\n",
    "            #print(m)\n",
    "if m <=35:\n",
    "    left = 36 - m\n",
    "    temp =np.append(temp,(np.zeros([left,n])),axis=0)\n",
    "test =[]\n",
    "test.append(temp[:35,])\n",
    "test = np.array(test)\n",
    "print(test.shape)\n",
    "pred=model.predict(test)\n",
    "pred=np.argmax(pred,axis=1)[0]\n",
    "print('Predict Label:%s'%(CLASSES_LIST[pred]))"
   ]
  },
  {
   "cell_type": "code",
   "execution_count": null,
   "metadata": {
    "collapsed": true,
    "jupyter": {
     "outputs_hidden": true
    }
   },
   "outputs": [],
   "source": []
  },
  {
   "cell_type": "code",
   "execution_count": 63,
   "metadata": {},
   "outputs": [],
   "source": [
    "# Variable-length int sequences.\n",
    "query_input = tf.keras.Input(shape=(None,), dtype='int32')\n",
    "value_input = tf.keras.Input(shape=(None,), dtype='int32')\n",
    "\n",
    "# Embedding lookup.\n",
    "token_embedding = tf.keras.layers.Embedding(input_dim=1000, output_dim=64)\n",
    "# Query embeddings of shape [batch_size, Tq, dimension].\n",
    "query_embeddings = token_embedding(query_input)\n",
    "# Value embeddings of shape [batch_size, Tv, dimension].\n",
    "value_embeddings = token_embedding(value_input)\n",
    "\n",
    "# CNN layer.\n",
    "cnn_layer = tf.keras.layers.Conv1D(\n",
    "    filters=100,\n",
    "    kernel_size=4,\n",
    "    # Use 'same' padding so outputs have the same shape as inputs.\n",
    "    padding='same')\n",
    "# Query encoding of shape [batch_size, Tq, filters].\n",
    "query_seq_encoding = cnn_layer(query_embeddings)\n",
    "# Value encoding of shape [batch_size, Tv, filters].\n",
    "value_seq_encoding = cnn_layer(value_embeddings)\n",
    "\n",
    "# Query-value attention of shape [batch_size, Tq, filters].\n",
    "query_value_attention_seq = tf.keras.layers.Attention()(\n",
    "    [query_seq_encoding, value_seq_encoding])\n",
    "\n",
    "# Reduce over the sequence axis to produce encodings of shape\n",
    "# [batch_size, filters].\n",
    "query_encoding = tf.keras.layers.GlobalAveragePooling1D()(\n",
    "    query_seq_encoding)\n",
    "query_value_attention = tf.keras.layers.GlobalAveragePooling1D()(\n",
    "    query_value_attention_seq)\n",
    "\n",
    "# Concatenate query and document encodings to produce a DNN input layer.\n",
    "input_layer = tf.keras.layers.Concatenate()(\n",
    "    [query_encoding, query_value_attention])"
   ]
  },
  {
   "cell_type": "code",
   "execution_count": null,
   "metadata": {},
   "outputs": [],
   "source": []
  }
 ],
 "metadata": {
  "kernelspec": {
   "display_name": "Python 3",
   "language": "python",
   "name": "python3"
  },
  "language_info": {
   "codemirror_mode": {
    "name": "ipython",
    "version": 3
   },
   "file_extension": ".py",
   "mimetype": "text/x-python",
   "name": "python",
   "nbconvert_exporter": "python",
   "pygments_lexer": "ipython3",
   "version": "3.8.3"
  },
  "toc": {
   "base_numbering": 1,
   "nav_menu": {},
   "number_sections": true,
   "sideBar": true,
   "skip_h1_title": false,
   "title_cell": "Table of Contents",
   "title_sidebar": "Contents",
   "toc_cell": false,
   "toc_position": {},
   "toc_section_display": true,
   "toc_window_display": true
  }
 },
 "nbformat": 4,
 "nbformat_minor": 4
}
