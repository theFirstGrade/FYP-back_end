{
 "cells": [
  {
   "cell_type": "markdown",
   "metadata": {},
   "source": [
    "# import modules"
   ]
  },
  {
   "cell_type": "code",
   "execution_count": 1,
   "metadata": {},
   "outputs": [],
   "source": [
    "import keras\n",
    "from keras.utils import plot_model,to_categorical\n",
    "from keras import Model,Input,regularizers\n",
    "from keras.layers import Reshape,Flatten\n",
    "import numpy as np\n",
    "from sklearn.model_selection import train_test_split\n",
    "import keras.backend as K\n",
    "import keras.callbacks as kcallbacks\n",
    "from sklearn.preprocessing import LabelEncoder\n",
    "import string\n",
    "from keras.optimizers import SGD\n",
    "import warnings\n",
    "import tensorflow as tf\n",
    "# from lsuv_init import LSUVinit\n",
    "warnings.filterwarnings('ignore')\n",
    "from tensorflow.keras import layers\n",
    "from keras.layers import Input, Dense, LSTM, merge ,Conv1D,Dropout,Bidirectional,Multiply,BatchNormalization,MaxPool1D\n",
    "from keras.models import Model\n",
    "\n",
    "\n",
    "from attention_utils import get_activations\n",
    "from keras.layers import merge\n",
    "from keras.layers.core import *\n",
    "from keras.layers.recurrent import LSTM\n",
    "from keras.models import *\n",
    "\n",
    "import  pandas as pd\n",
    "import  numpy as np\n",
    "from keras.wrappers import scikit_learn"
   ]
  },
  {
   "cell_type": "markdown",
   "metadata": {},
   "source": [
    "# Load Features"
   ]
  },
  {
   "cell_type": "code",
   "execution_count": 7,
   "metadata": {},
   "outputs": [],
   "source": [
    "y=np.load('./feature/y_initial.npy')\n",
    "X_features=np.load('./feature/X_gabor.npy')"
   ]
  },
  {
   "cell_type": "code",
   "execution_count": 8,
   "metadata": {},
   "outputs": [
    {
     "data": {
      "text/plain": [
       "(4704, 35, 7)"
      ]
     },
     "execution_count": 8,
     "metadata": {},
     "output_type": "execute_result"
    }
   ],
   "source": [
    "X_features.shape"
   ]
  },
  {
   "cell_type": "code",
   "execution_count": 9,
   "metadata": {},
   "outputs": [
    {
     "data": {
      "text/plain": [
       "(4704, 2)"
      ]
     },
     "execution_count": 9,
     "metadata": {},
     "output_type": "execute_result"
    }
   ],
   "source": [
    "y.shape"
   ]
  },
  {
   "cell_type": "code",
   "execution_count": 10,
   "metadata": {},
   "outputs": [
    {
     "data": {
      "text/plain": [
       "array(['1', '0'], dtype='<U2')"
      ]
     },
     "execution_count": 10,
     "metadata": {},
     "output_type": "execute_result"
    }
   ],
   "source": [
    "y[0]"
   ]
  },
  {
   "cell_type": "code",
   "execution_count": 11,
   "metadata": {},
   "outputs": [],
   "source": [
    "alphabet_set={'0': 0,'b': 1, 'c': 2,'d': 3,'f': 4,'g': 5,'h': 6,'j': 7,'k': 8,'l': 9, 'm': 10,'n': 11,'p': 12,'q': 13,\n",
    "          'r': 14,'s': 15,'t': 16,'w': 17,'x': 18,'y': 19,'z': 20}"
   ]
  },
  {
   "cell_type": "code",
   "execution_count": 12,
   "metadata": {},
   "outputs": [],
   "source": [
    "alphabet_set={value:key for key,value in alphabet_set.items()}"
   ]
  },
  {
   "cell_type": "markdown",
   "metadata": {},
   "source": [
    "## One-hot Encoding"
   ]
  },
  {
   "cell_type": "code",
   "execution_count": 13,
   "metadata": {},
   "outputs": [],
   "source": [
    "y=to_categorical(y,num_classes=21)"
   ]
  },
  {
   "cell_type": "code",
   "execution_count": 14,
   "metadata": {},
   "outputs": [
    {
     "data": {
      "text/plain": [
       "(4704, 2, 21)"
      ]
     },
     "execution_count": 14,
     "metadata": {},
     "output_type": "execute_result"
    }
   ],
   "source": [
    "y.shape"
   ]
  },
  {
   "cell_type": "markdown",
   "metadata": {},
   "source": [
    "## split train and test"
   ]
  },
  {
   "cell_type": "code",
   "execution_count": 15,
   "metadata": {},
   "outputs": [],
   "source": [
    "X_train, X_test, y_train, y_test=train_test_split(X_features,y,test_size=0.1,random_state=2019)"
   ]
  },
  {
   "cell_type": "code",
   "execution_count": 16,
   "metadata": {},
   "outputs": [
    {
     "data": {
      "text/plain": [
       "((4233, 35, 7), (471, 35, 7))"
      ]
     },
     "execution_count": 16,
     "metadata": {},
     "output_type": "execute_result"
    }
   ],
   "source": [
    "X_train.shape,X_test.shape"
   ]
  },
  {
   "cell_type": "code",
   "execution_count": 17,
   "metadata": {},
   "outputs": [
    {
     "data": {
      "text/plain": [
       "((4233, 2, 21), (471, 2, 21))"
      ]
     },
     "execution_count": 17,
     "metadata": {},
     "output_type": "execute_result"
    }
   ],
   "source": [
    "y_train.shape,y_test.shape"
   ]
  },
  {
   "cell_type": "markdown",
   "metadata": {},
   "source": [
    "# Models\n"
   ]
  },
  {
   "cell_type": "code",
   "execution_count": 2,
   "metadata": {},
   "outputs": [],
   "source": [
    "NUM_CLASSES=21\n",
    "BATCH_SIZE=32\n",
    "EPOCHS=100\n",
    "MODEL_SAVE_PATH='.\\model\\initial_gabor_cnn.h5'"
   ]
  },
  {
   "cell_type": "code",
   "execution_count": 3,
   "metadata": {
    "scrolled": true
   },
   "outputs": [],
   "source": [
    "SINGLE_ATTENTION_VECTOR = False\n",
    "def attention_3d_block(inputs, single_attention_vector=False):\n",
    "    # 如果上一层是LSTM，需要return_sequences=True\n",
    "    # inputs.shape = (batch_size, time_steps, input_dim)\n",
    "    time_steps = K.int_shape(inputs)[1]\n",
    "    input_dim = K.int_shape(inputs)[2]\n",
    "    a = Permute((2, 1))(inputs)\n",
    "    a = Dense(time_steps, activation='softmax', name='attention')(a)\n",
    "    if single_attention_vector:\n",
    "        a = Lambda(lambda x: K.mean(x, axis=1))(a)\n",
    "        a = RepeatVector(input_dim)(a)\n",
    "\n",
    "    a_probs = Permute((2, 1))(a)\n",
    "    # 乘上了attention权重，但是并没有求和，好像影响不大\n",
    "    # 如果分类任务，进行Flatten展开就可以了\n",
    "    # element-wise\n",
    "    output_attention_mul = Multiply()([inputs, a_probs])\n",
    "    return output_attention_mul\n",
    "\n",
    "def attention_model():\n",
    "    inputs = Input(shape=(35, 7))\n",
    "    x=BatchNormalization()(inputs)\n",
    "    x = Conv1D(filters = 32, kernel_size = 1, padding=\"same\",kernel_initializer='he_normal',\n",
    "                bias_initializer='zeros',activation = 'relu')(x)  #, padding = 'same'\n",
    "    x = MaxPool1D()(x)\n",
    "    #lstm_out = Bidirectional(LSTM(lstm_units, activation='relu'), name='bilstm')(x)\n",
    "    #对于GPU可以使用CuDNNLSTM\n",
    "    lstm_out = Bidirectional(LSTM(64, return_sequences=True))(x)\n",
    "    lstm_out = Bidirectional(LSTM(64, return_sequences=True))(lstm_out)\n",
    "    attention_mul = attention_3d_block(lstm_out)\n",
    "    attention_mul=MaxPool1D(pool_size=10,strides=4)(attention_mul)\n",
    "    output = Dense(21, activation='sigmoid')(attention_mul)\n",
    "    model = Model(inputs=[inputs], outputs=output)\n",
    "    return model\n"
   ]
  },
  {
   "cell_type": "code",
   "execution_count": 4,
   "metadata": {},
   "outputs": [
    {
     "name": "stdout",
     "output_type": "stream",
     "text": [
      "Model: \"functional_1\"\n",
      "__________________________________________________________________________________________________\n",
      "Layer (type)                    Output Shape         Param #     Connected to                     \n",
      "==================================================================================================\n",
      "input_1 (InputLayer)            [(None, 35, 7)]      0                                            \n",
      "__________________________________________________________________________________________________\n",
      "batch_normalization (BatchNorma (None, 35, 7)        28          input_1[0][0]                    \n",
      "__________________________________________________________________________________________________\n",
      "conv1d (Conv1D)                 (None, 35, 32)       256         batch_normalization[0][0]        \n",
      "__________________________________________________________________________________________________\n",
      "max_pooling1d (MaxPooling1D)    (None, 17, 32)       0           conv1d[0][0]                     \n",
      "__________________________________________________________________________________________________\n",
      "bidirectional (Bidirectional)   (None, 17, 128)      49664       max_pooling1d[0][0]              \n",
      "__________________________________________________________________________________________________\n",
      "bidirectional_1 (Bidirectional) (None, 17, 128)      98816       bidirectional[0][0]              \n",
      "__________________________________________________________________________________________________\n",
      "permute (Permute)               (None, 128, 17)      0           bidirectional_1[0][0]            \n",
      "__________________________________________________________________________________________________\n",
      "attention (Dense)               (None, 128, 17)      306         permute[0][0]                    \n",
      "__________________________________________________________________________________________________\n",
      "permute_1 (Permute)             (None, 17, 128)      0           attention[0][0]                  \n",
      "__________________________________________________________________________________________________\n",
      "multiply (Multiply)             (None, 17, 128)      0           bidirectional_1[0][0]            \n",
      "                                                                 permute_1[0][0]                  \n",
      "__________________________________________________________________________________________________\n",
      "max_pooling1d_1 (MaxPooling1D)  (None, 2, 128)       0           multiply[0][0]                   \n",
      "__________________________________________________________________________________________________\n",
      "dense (Dense)                   (None, 2, 21)        2709        max_pooling1d_1[0][0]            \n",
      "==================================================================================================\n",
      "Total params: 151,779\n",
      "Trainable params: 151,765\n",
      "Non-trainable params: 14\n",
      "__________________________________________________________________________________________________\n"
     ]
    }
   ],
   "source": [
    "model = attention_model()\n",
    "model.summary()"
   ]
  },
  {
   "cell_type": "code",
   "execution_count": 1,
   "metadata": {},
   "outputs": [
    {
     "ename": "NameError",
     "evalue": "name 'model' is not defined",
     "output_type": "error",
     "traceback": [
      "\u001b[1;31m---------------------------------------------------------------------------\u001b[0m",
      "\u001b[1;31mNameError\u001b[0m                                 Traceback (most recent call last)",
      "\u001b[1;32m<ipython-input-1-4af26f7f8481>\u001b[0m in \u001b[0;36m<module>\u001b[1;34m\u001b[0m\n\u001b[0;32m      1\u001b[0m \u001b[1;32mfrom\u001b[0m \u001b[0mkeras\u001b[0m\u001b[1;33m.\u001b[0m\u001b[0mutils\u001b[0m \u001b[1;32mimport\u001b[0m \u001b[0mplot_model\u001b[0m\u001b[1;33m\u001b[0m\u001b[1;33m\u001b[0m\u001b[0m\n\u001b[1;32m----> 2\u001b[1;33m \u001b[0mplot_model\u001b[0m\u001b[1;33m(\u001b[0m\u001b[0mmodel\u001b[0m\u001b[1;33m,\u001b[0m \u001b[0mshow_shapes\u001b[0m\u001b[1;33m=\u001b[0m\u001b[1;32mTrue\u001b[0m\u001b[1;33m)\u001b[0m\u001b[1;33m\u001b[0m\u001b[1;33m\u001b[0m\u001b[0m\n\u001b[0m",
      "\u001b[1;31mNameError\u001b[0m: name 'model' is not defined"
     ]
    }
   ],
   "source": [
    "from keras.utils import plot_model\n",
    "plot_model(model, show_shapes=True)"
   ]
  },
  {
   "cell_type": "code",
   "execution_count": 79,
   "metadata": {
    "scrolled": true
   },
   "outputs": [
    {
     "name": "stdout",
     "output_type": "stream",
     "text": [
      "('Failed to import pydot. You must `pip install pydot` and install graphviz (https://graphviz.gitlab.io/download/), ', 'for `pydotprint` to work.')\n",
      "Epoch 1/100\n",
      "131/133 [============================>.] - ETA: 0s - loss: 2.4869 - accuracy: 0.4351\n",
      "Epoch 00001: val_accuracy improved from -inf to 0.43312, saving model to .\\model\\initial_gabor_cnn.h5\n",
      "133/133 [==============================] - 3s 20ms/step - loss: 2.4851 - accuracy: 0.4352 - val_loss: 2.2789 - val_accuracy: 0.4331\n",
      "Epoch 2/100\n",
      "130/133 [============================>.] - ETA: 0s - loss: 2.1419 - accuracy: 0.4385\n",
      "Epoch 00002: val_accuracy did not improve from 0.43312\n",
      "133/133 [==============================] - 1s 11ms/step - loss: 2.1390 - accuracy: 0.4387 - val_loss: 2.0026 - val_accuracy: 0.4331\n",
      "Epoch 3/100\n",
      "130/133 [============================>.] - ETA: 0s - loss: 1.8970 - accuracy: 0.4388\n",
      "Epoch 00003: val_accuracy did not improve from 0.43312\n",
      "133/133 [==============================] - 2s 11ms/step - loss: 1.8963 - accuracy: 0.4387 - val_loss: 1.8510 - val_accuracy: 0.4331\n",
      "Epoch 4/100\n",
      "130/133 [============================>.] - ETA: 0s - loss: 1.7480 - accuracy: 0.4686\n",
      "Epoch 00004: val_accuracy improved from 0.43312 to 0.47558, saving model to .\\model\\initial_gabor_cnn.h5\n",
      "133/133 [==============================] - 2s 13ms/step - loss: 1.7464 - accuracy: 0.4692 - val_loss: 1.7291 - val_accuracy: 0.4756\n",
      "Epoch 5/100\n",
      "131/133 [============================>.] - ETA: 0s - loss: 1.7080 - accuracy: 0.4764\n",
      "Epoch 00005: val_accuracy did not improve from 0.47558\n",
      "133/133 [==============================] - 2s 12ms/step - loss: 1.7077 - accuracy: 0.4766 - val_loss: 1.7188 - val_accuracy: 0.4756\n",
      "Epoch 6/100\n",
      "131/133 [============================>.] - ETA: 0s - loss: 1.6953 - accuracy: 0.4764\n",
      "Epoch 00006: val_accuracy did not improve from 0.47558\n",
      "133/133 [==============================] - 2s 12ms/step - loss: 1.6947 - accuracy: 0.4765 - val_loss: 1.7003 - val_accuracy: 0.4756\n",
      "Epoch 7/100\n",
      "133/133 [==============================] - ETA: 0s - loss: 1.6835 - accuracy: 0.4819\n",
      "Epoch 00007: val_accuracy did not improve from 0.47558\n",
      "133/133 [==============================] - 2s 12ms/step - loss: 1.6835 - accuracy: 0.4819 - val_loss: 1.6928 - val_accuracy: 0.4745\n",
      "Epoch 8/100\n",
      "130/133 [============================>.] - ETA: 0s - loss: 1.6749 - accuracy: 0.4810\n",
      "Epoch 00008: val_accuracy improved from 0.47558 to 0.48195, saving model to .\\model\\initial_gabor_cnn.h5\n",
      "133/133 [==============================] - 2s 13ms/step - loss: 1.6747 - accuracy: 0.4809 - val_loss: 1.6908 - val_accuracy: 0.4820\n",
      "Epoch 9/100\n",
      "131/133 [============================>.] - ETA: 0s - loss: 1.6674 - accuracy: 0.4852\n",
      "Epoch 00009: val_accuracy did not improve from 0.48195\n",
      "133/133 [==============================] - 2s 12ms/step - loss: 1.6678 - accuracy: 0.4850 - val_loss: 1.6823 - val_accuracy: 0.4777\n",
      "Epoch 10/100\n",
      "129/133 [============================>.] - ETA: 0s - loss: 1.6567 - accuracy: 0.4880\n",
      "Epoch 00010: val_accuracy improved from 0.48195 to 0.49045, saving model to .\\model\\initial_gabor_cnn.h5\n",
      "133/133 [==============================] - 2s 12ms/step - loss: 1.6568 - accuracy: 0.4876 - val_loss: 1.6694 - val_accuracy: 0.4904\n",
      "Epoch 11/100\n",
      "131/133 [============================>.] - ETA: 0s - loss: 1.6462 - accuracy: 0.4875\n",
      "Epoch 00011: val_accuracy did not improve from 0.49045\n",
      "133/133 [==============================] - 1s 11ms/step - loss: 1.6468 - accuracy: 0.4874 - val_loss: 1.6527 - val_accuracy: 0.4873\n",
      "Epoch 12/100\n",
      "131/133 [============================>.] - ETA: 0s - loss: 1.6275 - accuracy: 0.4936\n",
      "Epoch 00012: val_accuracy improved from 0.49045 to 0.49363, saving model to .\\model\\initial_gabor_cnn.h5\n",
      "133/133 [==============================] - 2s 12ms/step - loss: 1.6278 - accuracy: 0.4931 - val_loss: 1.6293 - val_accuracy: 0.4936\n",
      "Epoch 13/100\n",
      "132/133 [============================>.] - ETA: 0s - loss: 1.6137 - accuracy: 0.4974\n",
      "Epoch 00013: val_accuracy did not improve from 0.49363\n",
      "133/133 [==============================] - 2s 12ms/step - loss: 1.6139 - accuracy: 0.4974 - val_loss: 1.6187 - val_accuracy: 0.4915\n",
      "Epoch 14/100\n",
      "130/133 [============================>.] - ETA: 0s - loss: 1.5908 - accuracy: 0.4996\n",
      "Epoch 00014: val_accuracy improved from 0.49363 to 0.49894, saving model to .\\model\\initial_gabor_cnn.h5\n",
      "133/133 [==============================] - 2s 13ms/step - loss: 1.5906 - accuracy: 0.4996 - val_loss: 1.5819 - val_accuracy: 0.4989\n",
      "Epoch 15/100\n",
      "133/133 [==============================] - ETA: 0s - loss: 1.5606 - accuracy: 0.5123\n",
      "Epoch 00015: val_accuracy improved from 0.49894 to 0.51062, saving model to .\\model\\initial_gabor_cnn.h5\n",
      "133/133 [==============================] - 2s 12ms/step - loss: 1.5606 - accuracy: 0.5123 - val_loss: 1.5496 - val_accuracy: 0.5106\n",
      "Epoch 16/100\n",
      "131/133 [============================>.] - ETA: 0s - loss: 1.5345 - accuracy: 0.5168\n",
      "Epoch 00016: val_accuracy improved from 0.51062 to 0.51805, saving model to .\\model\\initial_gabor_cnn.h5\n",
      "133/133 [==============================] - 2s 12ms/step - loss: 1.5343 - accuracy: 0.5168 - val_loss: 1.5059 - val_accuracy: 0.5180\n",
      "Epoch 17/100\n",
      "129/133 [============================>.] - ETA: 0s - loss: 1.5000 - accuracy: 0.5260\n",
      "Epoch 00017: val_accuracy improved from 0.51805 to 0.52760, saving model to .\\model\\initial_gabor_cnn.h5\n",
      "133/133 [==============================] - 2s 12ms/step - loss: 1.4987 - accuracy: 0.5268 - val_loss: 1.5039 - val_accuracy: 0.5276\n",
      "Epoch 18/100\n",
      "131/133 [============================>.] - ETA: 0s - loss: 1.4795 - accuracy: 0.5326\n",
      "Epoch 00018: val_accuracy improved from 0.52760 to 0.53079, saving model to .\\model\\initial_gabor_cnn.h5\n",
      "133/133 [==============================] - 2s 12ms/step - loss: 1.4801 - accuracy: 0.5325 - val_loss: 1.4766 - val_accuracy: 0.5308\n",
      "Epoch 19/100\n",
      "132/133 [============================>.] - ETA: 0s - loss: 1.4552 - accuracy: 0.5430\n",
      "Epoch 00019: val_accuracy improved from 0.53079 to 0.53609, saving model to .\\model\\initial_gabor_cnn.h5\n",
      "133/133 [==============================] - 2s 12ms/step - loss: 1.4555 - accuracy: 0.5426 - val_loss: 1.4620 - val_accuracy: 0.5361\n",
      "Epoch 20/100\n",
      "130/133 [============================>.] - ETA: 0s - loss: 1.4277 - accuracy: 0.5472\n",
      "Epoch 00020: val_accuracy did not improve from 0.53609\n",
      "133/133 [==============================] - 2s 12ms/step - loss: 1.4275 - accuracy: 0.5465 - val_loss: 1.4388 - val_accuracy: 0.5308\n",
      "Epoch 21/100\n",
      "131/133 [============================>.] - ETA: 0s - loss: 1.4048 - accuracy: 0.5536\n",
      "Epoch 00021: val_accuracy did not improve from 0.53609\n",
      "133/133 [==============================] - 2s 11ms/step - loss: 1.4038 - accuracy: 0.5536 - val_loss: 1.4436 - val_accuracy: 0.5318\n",
      "Epoch 22/100\n",
      "129/133 [============================>.] - ETA: 0s - loss: 1.3788 - accuracy: 0.5572\n",
      "Epoch 00022: val_accuracy did not improve from 0.53609\n",
      "133/133 [==============================] - 2s 12ms/step - loss: 1.3776 - accuracy: 0.5582 - val_loss: 1.4370 - val_accuracy: 0.5318\n",
      "Epoch 23/100\n",
      "133/133 [==============================] - ETA: 0s - loss: 1.3599 - accuracy: 0.5608\n",
      "Epoch 00023: val_accuracy did not improve from 0.53609\n",
      "133/133 [==============================] - 2s 12ms/step - loss: 1.3599 - accuracy: 0.5608 - val_loss: 1.4148 - val_accuracy: 0.5361\n",
      "Epoch 24/100\n",
      "129/133 [============================>.] - ETA: 0s - loss: 1.3430 - accuracy: 0.5682\n",
      "Epoch 00024: val_accuracy improved from 0.53609 to 0.54459, saving model to .\\model\\initial_gabor_cnn.h5\n",
      "133/133 [==============================] - 2s 13ms/step - loss: 1.3454 - accuracy: 0.5670 - val_loss: 1.3898 - val_accuracy: 0.5446\n",
      "Epoch 25/100\n",
      "130/133 [============================>.] - ETA: 0s - loss: 1.3133 - accuracy: 0.5762\n",
      "Epoch 00025: val_accuracy did not improve from 0.54459\n",
      "133/133 [==============================] - 2s 11ms/step - loss: 1.3144 - accuracy: 0.5758 - val_loss: 1.3657 - val_accuracy: 0.5414\n",
      "Epoch 26/100\n",
      "131/133 [============================>.] - ETA: 0s - loss: 1.2924 - accuracy: 0.5792\n",
      "Epoch 00026: val_accuracy improved from 0.54459 to 0.54883, saving model to .\\model\\initial_gabor_cnn.h5\n",
      "133/133 [==============================] - 2s 12ms/step - loss: 1.2917 - accuracy: 0.5794 - val_loss: 1.3692 - val_accuracy: 0.5488\n",
      "Epoch 27/100\n",
      "131/133 [============================>.] - ETA: 0s - loss: 1.2818 - accuracy: 0.5846\n",
      "Epoch 00027: val_accuracy improved from 0.54883 to 0.56263, saving model to .\\model\\initial_gabor_cnn.h5\n",
      "133/133 [==============================] - 2s 11ms/step - loss: 1.2834 - accuracy: 0.5837 - val_loss: 1.3585 - val_accuracy: 0.5626\n",
      "Epoch 28/100\n",
      "131/133 [============================>.] - ETA: 0s - loss: 1.2637 - accuracy: 0.5896\n",
      "Epoch 00028: val_accuracy did not improve from 0.56263\n",
      "133/133 [==============================] - 2s 11ms/step - loss: 1.2620 - accuracy: 0.5905 - val_loss: 1.3569 - val_accuracy: 0.5488\n",
      "Epoch 29/100\n",
      "130/133 [============================>.] - ETA: 0s - loss: 1.2377 - accuracy: 0.5962\n",
      "Epoch 00029: val_accuracy improved from 0.56263 to 0.56476, saving model to .\\model\\initial_gabor_cnn.h5\n",
      "133/133 [==============================] - 2s 11ms/step - loss: 1.2382 - accuracy: 0.5954 - val_loss: 1.3329 - val_accuracy: 0.5648\n",
      "Epoch 30/100\n",
      "129/133 [============================>.] - ETA: 0s - loss: 1.2275 - accuracy: 0.5963\n",
      "Epoch 00030: val_accuracy did not improve from 0.56476\n",
      "133/133 [==============================] - 2s 11ms/step - loss: 1.2273 - accuracy: 0.5963 - val_loss: 1.3297 - val_accuracy: 0.5563\n",
      "Epoch 31/100\n",
      "130/133 [============================>.] - ETA: 0s - loss: 1.2031 - accuracy: 0.6047\n",
      "Epoch 00031: val_accuracy improved from 0.56476 to 0.56794, saving model to .\\model\\initial_gabor_cnn.h5\n",
      "133/133 [==============================] - 2s 11ms/step - loss: 1.2033 - accuracy: 0.6041 - val_loss: 1.3111 - val_accuracy: 0.5679\n",
      "Epoch 32/100\n",
      "130/133 [============================>.] - ETA: 0s - loss: 1.1889 - accuracy: 0.6126\n",
      "Epoch 00032: val_accuracy did not improve from 0.56794\n",
      "133/133 [==============================] - 2s 12ms/step - loss: 1.1888 - accuracy: 0.6126 - val_loss: 1.3117 - val_accuracy: 0.5679\n",
      "Epoch 33/100\n",
      "130/133 [============================>.] - ETA: 0s - loss: 1.1734 - accuracy: 0.6138\n",
      "Epoch 00033: val_accuracy did not improve from 0.56794\n",
      "133/133 [==============================] - 2s 11ms/step - loss: 1.1730 - accuracy: 0.6146 - val_loss: 1.3104 - val_accuracy: 0.5584\n",
      "Epoch 34/100\n",
      "132/133 [============================>.] - ETA: 0s - loss: 1.1534 - accuracy: 0.6205\n",
      "Epoch 00034: val_accuracy improved from 0.56794 to 0.57113, saving model to .\\model\\initial_gabor_cnn.h5\n",
      "133/133 [==============================] - 2s 12ms/step - loss: 1.1537 - accuracy: 0.6202 - val_loss: 1.2984 - val_accuracy: 0.5711\n",
      "Epoch 35/100\n",
      "129/133 [============================>.] - ETA: 0s - loss: 1.1264 - accuracy: 0.6290\n",
      "Epoch 00035: val_accuracy did not improve from 0.57113\n",
      "133/133 [==============================] - 2s 11ms/step - loss: 1.1260 - accuracy: 0.6290 - val_loss: 1.3102 - val_accuracy: 0.5658\n",
      "Epoch 36/100\n",
      "130/133 [============================>.] - ETA: 0s - loss: 1.1230 - accuracy: 0.6297\n",
      "Epoch 00036: val_accuracy did not improve from 0.57113\n",
      "133/133 [==============================] - 2s 11ms/step - loss: 1.1232 - accuracy: 0.6303 - val_loss: 1.3124 - val_accuracy: 0.5605\n",
      "Epoch 37/100\n",
      "131/133 [============================>.] - ETA: 0s - loss: 1.1131 - accuracy: 0.6318\n",
      "Epoch 00037: val_accuracy improved from 0.57113 to 0.57643, saving model to .\\model\\initial_gabor_cnn.h5\n",
      "133/133 [==============================] - 2s 12ms/step - loss: 1.1121 - accuracy: 0.6321 - val_loss: 1.2911 - val_accuracy: 0.5764\n",
      "Epoch 38/100\n",
      "130/133 [============================>.] - ETA: 0s - loss: 1.0932 - accuracy: 0.6377\n",
      "Epoch 00038: val_accuracy did not improve from 0.57643\n",
      "133/133 [==============================] - 2s 12ms/step - loss: 1.0920 - accuracy: 0.6381 - val_loss: 1.2721 - val_accuracy: 0.5743\n",
      "Epoch 39/100\n",
      "129/133 [============================>.] - ETA: 0s - loss: 1.0712 - accuracy: 0.6440\n",
      "Epoch 00039: val_accuracy did not improve from 0.57643\n",
      "133/133 [==============================] - 2s 12ms/step - loss: 1.0706 - accuracy: 0.6440 - val_loss: 1.3051 - val_accuracy: 0.5701\n",
      "Epoch 40/100\n",
      "132/133 [============================>.] - ETA: 0s - loss: 1.0629 - accuracy: 0.6444\n",
      "Epoch 00040: val_accuracy did not improve from 0.57643\n",
      "133/133 [==============================] - 2s 12ms/step - loss: 1.0624 - accuracy: 0.6443 - val_loss: 1.2661 - val_accuracy: 0.5732\n",
      "Epoch 41/100\n",
      "131/133 [============================>.] - ETA: 0s - loss: 1.0346 - accuracy: 0.6534\n",
      "Epoch 00041: val_accuracy improved from 0.57643 to 0.58280, saving model to .\\model\\initial_gabor_cnn.h5\n",
      "133/133 [==============================] - 2s 12ms/step - loss: 1.0347 - accuracy: 0.6527 - val_loss: 1.2614 - val_accuracy: 0.5828\n",
      "Epoch 42/100\n",
      "130/133 [============================>.] - ETA: 0s - loss: 1.0330 - accuracy: 0.6543\n",
      "Epoch 00042: val_accuracy did not improve from 0.58280\n",
      "133/133 [==============================] - 2s 11ms/step - loss: 1.0324 - accuracy: 0.6551 - val_loss: 1.2943 - val_accuracy: 0.5669\n",
      "Epoch 43/100\n",
      "130/133 [============================>.] - ETA: 0s - loss: 1.0190 - accuracy: 0.6588\n",
      "Epoch 00043: val_accuracy did not improve from 0.58280\n",
      "133/133 [==============================] - 2s 12ms/step - loss: 1.0197 - accuracy: 0.6586 - val_loss: 1.2722 - val_accuracy: 0.5828\n",
      "Epoch 44/100\n",
      "130/133 [============================>.] - ETA: 0s - loss: 0.9936 - accuracy: 0.6663\n",
      "Epoch 00044: val_accuracy improved from 0.58280 to 0.58599, saving model to .\\model\\initial_gabor_cnn.h5\n",
      "133/133 [==============================] - 2s 12ms/step - loss: 0.9940 - accuracy: 0.6661 - val_loss: 1.2583 - val_accuracy: 0.5860\n",
      "Epoch 45/100\n",
      "132/133 [============================>.] - ETA: 0s - loss: 0.9730 - accuracy: 0.6729\n",
      "Epoch 00045: val_accuracy did not improve from 0.58599\n",
      "133/133 [==============================] - 2s 12ms/step - loss: 0.9734 - accuracy: 0.6728 - val_loss: 1.2688 - val_accuracy: 0.5817\n",
      "Epoch 46/100\n",
      "129/133 [============================>.] - ETA: 0s - loss: 0.9678 - accuracy: 0.6789\n",
      "Epoch 00046: val_accuracy did not improve from 0.58599\n",
      "133/133 [==============================] - 2s 12ms/step - loss: 0.9688 - accuracy: 0.6782 - val_loss: 1.2648 - val_accuracy: 0.5690\n",
      "Epoch 47/100\n",
      "131/133 [============================>.] - ETA: 0s - loss: 0.9651 - accuracy: 0.6766\n",
      "Epoch 00047: val_accuracy did not improve from 0.58599\n",
      "133/133 [==============================] - 2s 12ms/step - loss: 0.9639 - accuracy: 0.6771 - val_loss: 1.2448 - val_accuracy: 0.5775\n",
      "Epoch 48/100\n",
      "129/133 [============================>.] - ETA: 0s - loss: 0.9400 - accuracy: 0.6887\n",
      "Epoch 00048: val_accuracy did not improve from 0.58599\n",
      "133/133 [==============================] - 2s 12ms/step - loss: 0.9408 - accuracy: 0.6890 - val_loss: 1.2468 - val_accuracy: 0.5658\n",
      "Epoch 49/100\n",
      "129/133 [============================>.] - ETA: 0s - loss: 0.9314 - accuracy: 0.6891\n",
      "Epoch 00049: val_accuracy did not improve from 0.58599\n",
      "133/133 [==============================] - 2s 12ms/step - loss: 0.9324 - accuracy: 0.6888 - val_loss: 1.2695 - val_accuracy: 0.5743\n",
      "Epoch 50/100\n",
      "130/133 [============================>.] - ETA: 0s - loss: 0.9081 - accuracy: 0.6962\n",
      "Epoch 00050: val_accuracy did not improve from 0.58599\n",
      "133/133 [==============================] - 2s 12ms/step - loss: 0.9069 - accuracy: 0.6969 - val_loss: 1.2690 - val_accuracy: 0.5849\n",
      "Epoch 51/100\n",
      "130/133 [============================>.] - ETA: 0s - loss: 0.9048 - accuracy: 0.7011\n",
      "Epoch 00051: val_accuracy did not improve from 0.58599\n",
      "133/133 [==============================] - 2s 12ms/step - loss: 0.9066 - accuracy: 0.7001 - val_loss: 1.2449 - val_accuracy: 0.5722\n",
      "Epoch 52/100\n",
      "132/133 [============================>.] - ETA: 0s - loss: 0.9063 - accuracy: 0.6998\n",
      "Epoch 00052: val_accuracy did not improve from 0.58599\n",
      "133/133 [==============================] - 2s 12ms/step - loss: 0.9069 - accuracy: 0.6997 - val_loss: 1.2847 - val_accuracy: 0.5722\n",
      "Epoch 53/100\n",
      "129/133 [============================>.] - ETA: 0s - loss: 0.8960 - accuracy: 0.6982\n",
      "Epoch 00053: val_accuracy did not improve from 0.58599\n",
      "\n",
      "Epoch 00053: ReduceLROnPlateau reducing learning rate to 0.0005000000237487257.\n",
      "133/133 [==============================] - 2s 12ms/step - loss: 0.8936 - accuracy: 0.6986 - val_loss: 1.2618 - val_accuracy: 0.5817\n",
      "Epoch 54/100\n",
      "129/133 [============================>.] - ETA: 0s - loss: 0.8427 - accuracy: 0.7231\n",
      "Epoch 00054: val_accuracy improved from 0.58599 to 0.58705, saving model to .\\model\\initial_gabor_cnn.h5\n",
      "133/133 [==============================] - 2s 12ms/step - loss: 0.8412 - accuracy: 0.7231 - val_loss: 1.2423 - val_accuracy: 0.5870\n",
      "Epoch 55/100\n",
      "132/133 [============================>.] - ETA: 0s - loss: 0.8175 - accuracy: 0.7317\n",
      "Epoch 00055: val_accuracy did not improve from 0.58705\n",
      "133/133 [==============================] - 2s 12ms/step - loss: 0.8170 - accuracy: 0.7320 - val_loss: 1.2458 - val_accuracy: 0.5870\n",
      "Epoch 56/100\n",
      "130/133 [============================>.] - ETA: 0s - loss: 0.8031 - accuracy: 0.7300\n",
      "Epoch 00056: val_accuracy improved from 0.58705 to 0.58811, saving model to .\\model\\initial_gabor_cnn.h5\n",
      "133/133 [==============================] - 2s 12ms/step - loss: 0.8050 - accuracy: 0.7299 - val_loss: 1.2457 - val_accuracy: 0.5881\n",
      "Epoch 57/100\n",
      "131/133 [============================>.] - ETA: 0s - loss: 0.8006 - accuracy: 0.7357\n",
      "Epoch 00057: val_accuracy improved from 0.58811 to 0.58917, saving model to .\\model\\initial_gabor_cnn.h5\n",
      "133/133 [==============================] - 2s 12ms/step - loss: 0.7994 - accuracy: 0.7364 - val_loss: 1.2500 - val_accuracy: 0.5892\n",
      "Epoch 58/100\n",
      "130/133 [============================>.] - ETA: 0s - loss: 0.7942 - accuracy: 0.7385\n",
      "Epoch 00058: val_accuracy did not improve from 0.58917\n",
      "133/133 [==============================] - 2s 12ms/step - loss: 0.7953 - accuracy: 0.7385 - val_loss: 1.2497 - val_accuracy: 0.5860\n",
      "Epoch 59/100\n",
      "129/133 [============================>.] - ETA: 0s - loss: 0.7642 - accuracy: 0.7472\n",
      "Epoch 00059: val_accuracy did not improve from 0.58917\n",
      "133/133 [==============================] - 2s 12ms/step - loss: 0.7646 - accuracy: 0.7476 - val_loss: 1.2357 - val_accuracy: 0.5828\n",
      "Epoch 60/100\n",
      "129/133 [============================>.] - ETA: 0s - loss: 0.7747 - accuracy: 0.7422\n",
      "Epoch 00060: val_accuracy did not improve from 0.58917\n",
      "133/133 [==============================] - 2s 12ms/step - loss: 0.7756 - accuracy: 0.7416 - val_loss: 1.2548 - val_accuracy: 0.5701\n",
      "Epoch 61/100\n",
      "129/133 [============================>.] - ETA: 0s - loss: 0.7580 - accuracy: 0.7531\n",
      "Epoch 00061: val_accuracy did not improve from 0.58917\n",
      "133/133 [==============================] - 2s 12ms/step - loss: 0.7568 - accuracy: 0.7537 - val_loss: 1.2397 - val_accuracy: 0.5849\n",
      "Epoch 62/100\n",
      "130/133 [============================>.] - ETA: 0s - loss: 0.7563 - accuracy: 0.7535\n",
      "Epoch 00062: val_accuracy did not improve from 0.58917\n",
      "133/133 [==============================] - 2s 12ms/step - loss: 0.7561 - accuracy: 0.7532 - val_loss: 1.2503 - val_accuracy: 0.5807\n",
      "Epoch 63/100\n",
      "130/133 [============================>.] - ETA: 0s - loss: 0.7553 - accuracy: 0.7496\n",
      "Epoch 00063: val_accuracy did not improve from 0.58917\n",
      "133/133 [==============================] - 2s 12ms/step - loss: 0.7551 - accuracy: 0.7497 - val_loss: 1.2870 - val_accuracy: 0.5775\n",
      "Epoch 64/100\n",
      "129/133 [============================>.] - ETA: 0s - loss: 0.7290 - accuracy: 0.7619\n",
      "Epoch 00064: val_accuracy did not improve from 0.58917\n",
      "133/133 [==============================] - 2s 12ms/step - loss: 0.7296 - accuracy: 0.7613 - val_loss: 1.2821 - val_accuracy: 0.5786\n",
      "Epoch 65/100\n",
      "132/133 [============================>.] - ETA: 0s - loss: 0.7142 - accuracy: 0.7700\n",
      "Epoch 00065: val_accuracy improved from 0.58917 to 0.59342, saving model to .\\model\\initial_gabor_cnn.h5\n",
      "\n",
      "Epoch 00065: ReduceLROnPlateau reducing learning rate to 0.0002500000118743628.\n",
      "133/133 [==============================] - 2s 12ms/step - loss: 0.7145 - accuracy: 0.7695 - val_loss: 1.2608 - val_accuracy: 0.5934\n",
      "Epoch 66/100\n",
      "129/133 [============================>.] - ETA: 0s - loss: 0.7019 - accuracy: 0.7756\n",
      "Epoch 00066: val_accuracy improved from 0.59342 to 0.59873, saving model to .\\model\\initial_gabor_cnn.h5\n",
      "133/133 [==============================] - 2s 12ms/step - loss: 0.7037 - accuracy: 0.7746 - val_loss: 1.2541 - val_accuracy: 0.5987\n",
      "Epoch 67/100\n",
      "133/133 [==============================] - ETA: 0s - loss: 0.6904 - accuracy: 0.7755\n",
      "Epoch 00067: val_accuracy did not improve from 0.59873\n",
      "133/133 [==============================] - 2s 12ms/step - loss: 0.6904 - accuracy: 0.7755 - val_loss: 1.2539 - val_accuracy: 0.5977\n",
      "Epoch 68/100\n",
      "130/133 [============================>.] - ETA: 0s - loss: 0.6848 - accuracy: 0.7817\n",
      "Epoch 00068: val_accuracy did not improve from 0.59873\n",
      "133/133 [==============================] - 2s 12ms/step - loss: 0.6876 - accuracy: 0.7810 - val_loss: 1.2644 - val_accuracy: 0.5934\n",
      "Epoch 69/100\n",
      "130/133 [============================>.] - ETA: 0s - loss: 0.6766 - accuracy: 0.7845\n",
      "Epoch 00069: val_accuracy did not improve from 0.59873\n",
      "133/133 [==============================] - 2s 12ms/step - loss: 0.6752 - accuracy: 0.7853 - val_loss: 1.2686 - val_accuracy: 0.5860\n",
      "Epoch 70/100\n",
      "132/133 [============================>.] - ETA: 0s - loss: 0.6715 - accuracy: 0.7859\n",
      "Epoch 00070: val_accuracy did not improve from 0.59873\n",
      "133/133 [==============================] - 2s 13ms/step - loss: 0.6715 - accuracy: 0.7861 - val_loss: 1.2613 - val_accuracy: 0.5860\n",
      "Epoch 71/100\n",
      "131/133 [============================>.] - ETA: 0s - loss: 0.6660 - accuracy: 0.7890\n",
      "Epoch 00071: val_accuracy did not improve from 0.59873\n",
      "\n",
      "Epoch 00071: ReduceLROnPlateau reducing learning rate to 0.0001250000059371814.\n",
      "133/133 [==============================] - 2s 12ms/step - loss: 0.6651 - accuracy: 0.7895 - val_loss: 1.2737 - val_accuracy: 0.5839\n",
      "Epoch 72/100\n",
      "133/133 [==============================] - ETA: 0s - loss: 0.6687 - accuracy: 0.7877\n",
      "Epoch 00072: val_accuracy did not improve from 0.59873\n",
      "133/133 [==============================] - 2s 12ms/step - loss: 0.6687 - accuracy: 0.7877 - val_loss: 1.2641 - val_accuracy: 0.5881\n",
      "Epoch 73/100\n",
      "129/133 [============================>.] - ETA: 0s - loss: 0.6536 - accuracy: 0.7886\n",
      "Epoch 00073: val_accuracy did not improve from 0.59873\n",
      "133/133 [==============================] - 2s 12ms/step - loss: 0.6530 - accuracy: 0.7896 - val_loss: 1.2643 - val_accuracy: 0.5934\n",
      "Epoch 74/100\n",
      "131/133 [============================>.] - ETA: 0s - loss: 0.6453 - accuracy: 0.7978\n",
      "Epoch 00074: val_accuracy did not improve from 0.59873\n",
      "133/133 [==============================] - 2s 12ms/step - loss: 0.6460 - accuracy: 0.7978 - val_loss: 1.2580 - val_accuracy: 0.5924\n",
      "Epoch 75/100\n",
      "131/133 [============================>.] - ETA: 0s - loss: 0.6561 - accuracy: 0.7910\n",
      "Epoch 00075: val_accuracy did not improve from 0.59873\n",
      "133/133 [==============================] - 2s 12ms/step - loss: 0.6563 - accuracy: 0.7907 - val_loss: 1.2616 - val_accuracy: 0.5955\n",
      "Epoch 76/100\n",
      "133/133 [==============================] - ETA: 0s - loss: 0.6498 - accuracy: 0.7905\n",
      "Epoch 00076: val_accuracy did not improve from 0.59873\n",
      "133/133 [==============================] - 2s 12ms/step - loss: 0.6498 - accuracy: 0.7905 - val_loss: 1.2639 - val_accuracy: 0.5924\n",
      "Epoch 77/100\n",
      "131/133 [============================>.] - ETA: 0s - loss: 0.6342 - accuracy: 0.8015\n",
      "Epoch 00077: val_accuracy did not improve from 0.59873\n",
      "\n",
      "Epoch 00077: ReduceLROnPlateau reducing learning rate to 6.25000029685907e-05.\n",
      "133/133 [==============================] - 2s 12ms/step - loss: 0.6346 - accuracy: 0.8014 - val_loss: 1.2673 - val_accuracy: 0.5913\n",
      "Epoch 78/100\n",
      "132/133 [============================>.] - ETA: 0s - loss: 0.6397 - accuracy: 0.8020\n",
      "Epoch 00078: val_accuracy did not improve from 0.59873\n",
      "133/133 [==============================] - 2s 12ms/step - loss: 0.6397 - accuracy: 0.8019 - val_loss: 1.2691 - val_accuracy: 0.5924\n",
      "Epoch 79/100\n",
      "129/133 [============================>.] - ETA: 0s - loss: 0.6323 - accuracy: 0.8026\n",
      "Epoch 00079: val_accuracy did not improve from 0.59873\n",
      "133/133 [==============================] - 2s 12ms/step - loss: 0.6319 - accuracy: 0.8020 - val_loss: 1.2726 - val_accuracy: 0.5945\n",
      "Epoch 80/100\n",
      "130/133 [============================>.] - ETA: 0s - loss: 0.6246 - accuracy: 0.8052\n",
      "Epoch 00080: val_accuracy did not improve from 0.59873\n",
      "133/133 [==============================] - 2s 12ms/step - loss: 0.6272 - accuracy: 0.8044 - val_loss: 1.2702 - val_accuracy: 0.5913\n",
      "Epoch 81/100\n",
      "131/133 [============================>.] - ETA: 0s - loss: 0.6344 - accuracy: 0.7983\n",
      "Epoch 00081: val_accuracy did not improve from 0.59873\n",
      "133/133 [==============================] - 2s 12ms/step - loss: 0.6354 - accuracy: 0.7980 - val_loss: 1.2708 - val_accuracy: 0.5913\n",
      "Epoch 82/100\n",
      "130/133 [============================>.] - ETA: 0s - loss: 0.6342 - accuracy: 0.8047\n",
      "Epoch 00082: val_accuracy did not improve from 0.59873\n",
      "133/133 [==============================] - 2s 12ms/step - loss: 0.6341 - accuracy: 0.8050 - val_loss: 1.2741 - val_accuracy: 0.5934\n",
      "Epoch 83/100\n",
      "130/133 [============================>.] - ETA: 0s - loss: 0.6282 - accuracy: 0.8038\n",
      "Epoch 00083: val_accuracy did not improve from 0.59873\n",
      "\n",
      "Epoch 00083: ReduceLROnPlateau reducing learning rate to 3.125000148429535e-05.\n",
      "133/133 [==============================] - 2s 12ms/step - loss: 0.6286 - accuracy: 0.8039 - val_loss: 1.2745 - val_accuracy: 0.5881\n",
      "Epoch 84/100\n",
      "133/133 [==============================] - ETA: 0s - loss: 0.6350 - accuracy: 0.8001\n",
      "Epoch 00084: val_accuracy did not improve from 0.59873\n",
      "133/133 [==============================] - 2s 12ms/step - loss: 0.6350 - accuracy: 0.8001 - val_loss: 1.2698 - val_accuracy: 0.5913\n",
      "Epoch 85/100\n",
      "130/133 [============================>.] - ETA: 0s - loss: 0.6265 - accuracy: 0.8029\n",
      "Epoch 00085: val_accuracy did not improve from 0.59873\n",
      "133/133 [==============================] - 2s 12ms/step - loss: 0.6254 - accuracy: 0.8030 - val_loss: 1.2720 - val_accuracy: 0.5977\n",
      "Epoch 86/100\n",
      "131/133 [============================>.] - ETA: 0s - loss: 0.6234 - accuracy: 0.8056\n",
      "Epoch 00086: val_accuracy did not improve from 0.59873\n",
      "133/133 [==============================] - 2s 12ms/step - loss: 0.6227 - accuracy: 0.8060 - val_loss: 1.2714 - val_accuracy: 0.5987\n",
      "Epoch 87/100\n",
      "130/133 [============================>.] - ETA: 0s - loss: 0.6156 - accuracy: 0.8083\n",
      "Epoch 00087: val_accuracy did not improve from 0.59873\n",
      "133/133 [==============================] - 2s 12ms/step - loss: 0.6153 - accuracy: 0.8082 - val_loss: 1.2714 - val_accuracy: 0.5977\n",
      "Epoch 88/100\n",
      "129/133 [============================>.] - ETA: 0s - loss: 0.6232 - accuracy: 0.8037\n",
      "Epoch 00088: val_accuracy did not improve from 0.59873\n",
      "133/133 [==============================] - 2s 12ms/step - loss: 0.6236 - accuracy: 0.8023 - val_loss: 1.2697 - val_accuracy: 0.5934\n",
      "Epoch 89/100\n",
      "130/133 [============================>.] - ETA: 0s - loss: 0.6201 - accuracy: 0.8049\n",
      "Epoch 00089: val_accuracy did not improve from 0.59873\n",
      "\n",
      "Epoch 00089: ReduceLROnPlateau reducing learning rate to 1.5625000742147677e-05.\n",
      "133/133 [==============================] - 2s 12ms/step - loss: 0.6184 - accuracy: 0.8057 - val_loss: 1.2704 - val_accuracy: 0.5966\n",
      "Epoch 90/100\n",
      "133/133 [==============================] - ETA: 0s - loss: 0.6223 - accuracy: 0.8062\n",
      "Epoch 00090: val_accuracy did not improve from 0.59873\n",
      "133/133 [==============================] - 2s 12ms/step - loss: 0.6223 - accuracy: 0.8062 - val_loss: 1.2706 - val_accuracy: 0.5966\n",
      "Epoch 91/100\n",
      "133/133 [==============================] - ETA: 0s - loss: 0.6229 - accuracy: 0.8072\n",
      "Epoch 00091: val_accuracy did not improve from 0.59873\n",
      "133/133 [==============================] - 2s 12ms/step - loss: 0.6229 - accuracy: 0.8072 - val_loss: 1.2690 - val_accuracy: 0.5924\n",
      "Epoch 92/100\n",
      "133/133 [==============================] - ETA: 0s - loss: 0.6157 - accuracy: 0.8069\n",
      "Epoch 00092: val_accuracy did not improve from 0.59873\n",
      "133/133 [==============================] - 2s 12ms/step - loss: 0.6157 - accuracy: 0.8069 - val_loss: 1.2705 - val_accuracy: 0.5977\n",
      "Epoch 93/100\n",
      "130/133 [============================>.] - ETA: 0s - loss: 0.6159 - accuracy: 0.8078\n",
      "Epoch 00093: val_accuracy improved from 0.59873 to 0.59979, saving model to .\\model\\initial_gabor_cnn.h5\n",
      "133/133 [==============================] - 2s 12ms/step - loss: 0.6145 - accuracy: 0.8084 - val_loss: 1.2715 - val_accuracy: 0.5998\n",
      "Epoch 94/100\n",
      "131/133 [============================>.] - ETA: 0s - loss: 0.6233 - accuracy: 0.8045\n",
      "Epoch 00094: val_accuracy did not improve from 0.59979\n",
      "133/133 [==============================] - 2s 12ms/step - loss: 0.6223 - accuracy: 0.8051 - val_loss: 1.2726 - val_accuracy: 0.5966\n",
      "Epoch 95/100\n",
      "129/133 [============================>.] - ETA: 0s - loss: 0.6220 - accuracy: 0.8091\n",
      "Epoch 00095: val_accuracy did not improve from 0.59979\n",
      "\n",
      "Epoch 00095: ReduceLROnPlateau reducing learning rate to 1e-05.\n",
      "133/133 [==============================] - 2s 13ms/step - loss: 0.6225 - accuracy: 0.8089 - val_loss: 1.2728 - val_accuracy: 0.5977\n",
      "Epoch 96/100\n",
      "130/133 [============================>.] - ETA: 0s - loss: 0.6081 - accuracy: 0.8126\n",
      "Epoch 00096: val_accuracy did not improve from 0.59979\n",
      "133/133 [==============================] - 2s 12ms/step - loss: 0.6068 - accuracy: 0.8128 - val_loss: 1.2721 - val_accuracy: 0.5955\n",
      "Epoch 97/100\n",
      "130/133 [============================>.] - ETA: 0s - loss: 0.6178 - accuracy: 0.8071\n",
      "Epoch 00097: val_accuracy did not improve from 0.59979\n",
      "133/133 [==============================] - 2s 12ms/step - loss: 0.6185 - accuracy: 0.8072 - val_loss: 1.2728 - val_accuracy: 0.5966\n",
      "Epoch 98/100\n",
      "129/133 [============================>.] - ETA: 0s - loss: 0.6127 - accuracy: 0.8127\n",
      "Epoch 00098: val_accuracy did not improve from 0.59979\n",
      "133/133 [==============================] - 2s 12ms/step - loss: 0.6133 - accuracy: 0.8123 - val_loss: 1.2721 - val_accuracy: 0.5987\n",
      "Epoch 99/100\n",
      "129/133 [============================>.] - ETA: 0s - loss: 0.6115 - accuracy: 0.8120\n",
      "Epoch 00099: val_accuracy did not improve from 0.59979\n",
      "133/133 [==============================] - 2s 12ms/step - loss: 0.6101 - accuracy: 0.8124 - val_loss: 1.2733 - val_accuracy: 0.5987\n",
      "Epoch 100/100\n",
      "130/133 [============================>.] - ETA: 0s - loss: 0.6195 - accuracy: 0.8035\n",
      "Epoch 00100: val_accuracy did not improve from 0.59979\n",
      "133/133 [==============================] - 2s 12ms/step - loss: 0.6193 - accuracy: 0.8030 - val_loss: 1.2731 - val_accuracy: 0.5998\n"
     ]
    }
   ],
   "source": [
    "model.compile(optimizer='adam',loss='categorical_crossentropy',metrics=['accuracy'])\n",
    "plot_model(model,'model_initial.jpg',show_shapes=True)\n",
    "lr_reduce=kcallbacks.ReduceLROnPlateau(monitor='val_loss',factor=0.5,patience=6,verbose=1,min_lr=0.00001)\n",
    "save_model=kcallbacks.ModelCheckpoint(filepath=MODEL_SAVE_PATH,monitor='val_accuracy',verbose=1,save_best_only=True)\n",
    "callback_list=[save_model,lr_reduce]\n",
    "history=model.fit(x=X_train,y=y_train,batch_size=BATCH_SIZE,epochs=EPOCHS,validation_data=(X_test,y_test),\n",
    "                  callbacks=callback_list)"
   ]
  },
  {
   "cell_type": "markdown",
   "metadata": {},
   "source": [
    "## plot_curve"
   ]
  },
  {
   "cell_type": "code",
   "execution_count": null,
   "metadata": {},
   "outputs": [],
   "source": [
    "from sklearn.metrics import classification_report\n",
    "model.load_weights('./models/pinyin_cnn.h5')"
   ]
  },
  {
   "cell_type": "code",
   "execution_count": 32,
   "metadata": {
    "collapsed": true,
    "jupyter": {
     "outputs_hidden": true
    }
   },
   "outputs": [],
   "source": [
    "from help import plot_curve,plot_curve_with_smooth"
   ]
  },
  {
   "cell_type": "code",
   "execution_count": 33,
   "metadata": {},
   "outputs": [
    {
     "data": {
      "image/png": "[encoded data removed]",
      "text/plain": [
       "<matplotlib.figure.Figure at 0x244049d2cf8>"
      ]
     },
     "metadata": {},
     "output_type": "display_data"
    }
   ],
   "source": [
    "plot_curve(history)"
   ]
  },
  {
   "cell_type": "code",
   "execution_count": 34,
   "metadata": {},
   "outputs": [
    {
     "data": {
      "image/png": "[encoded data removed]",
      "text/plain": [
       "<matplotlib.figure.Figure at 0x2447f921b38>"
      ]
     },
     "metadata": {},
     "output_type": "display_data"
    }
   ],
   "source": [
    "plot_curve_with_smooth(history)"
   ]
  },
  {
   "cell_type": "markdown",
   "metadata": {},
   "source": [
    "## confusion_metrix"
   ]
  },
  {
   "cell_type": "code",
   "execution_count": 30,
   "metadata": {
    "collapsed": true,
    "jupyter": {
     "outputs_hidden": true
    }
   },
   "outputs": [],
   "source": [
    "model.load_weights('./model/initial_gabor_cnn.h5')"
   ]
  },
  {
   "cell_type": "code",
   "execution_count": 35,
   "metadata": {},
   "outputs": [
    {
     "data": {
      "image/png": "[encoded data removed]",
      "text/plain": [
       "<matplotlib.figure.Figure at 0x2440e1b85c0>"
      ]
     },
     "metadata": {},
     "output_type": "display_data"
    }
   ],
   "source": [
    "from sklearn.metrics import confusion_matrix\n",
    "import matplotlib.pyplot as plt\n",
    "%matplotlib inline\n",
    "y_pred=model.predict(X_test)\n",
    "y_pred=np.argmax(y_pred,axis=-1).ravel()\n",
    "y_true=np.argmax(y_test,axis=-1).ravel()\n",
    "con_matrix=confusion_matrix(y_true=y_true,y_pred=y_pred)\n",
    "def plot_confusion_matrix(confusion_mat):\n",
    "    plt.figure(figsize=(12,8))\n",
    "    plt.imshow(confusion_mat)\n",
    "    plt.title('Confusion Matrix')\n",
    "    plt.colorbar()\n",
    "    labels = list(range(0,21))\n",
    "    tick_marks = np.arange(len(labels))\n",
    "    plt.xticks(tick_marks, labels)\n",
    "    plt.yticks(tick_marks, labels)\n",
    "    plt.ylabel('True Label')\n",
    "    plt.xlabel('Predicted Label')\n",
    "    plt.grid(False)\n",
    "    plt.show() \n",
    "plot_confusion_matrix(con_matrix)"
   ]
  },
  {
   "cell_type": "markdown",
   "metadata": {},
   "source": [
    "## classfication_report"
   ]
  },
  {
   "cell_type": "code",
   "execution_count": 37,
   "metadata": {
    "collapsed": true,
    "jupyter": {
     "outputs_hidden": true
    }
   },
   "outputs": [],
   "source": [
    "from sklearn.metrics import classification_report\n"
   ]
  },
  {
   "cell_type": "code",
   "execution_count": 38,
   "metadata": {
    "scrolled": true
   },
   "outputs": [
    {
     "name": "stdout",
     "output_type": "stream",
     "text": [
      "             precision    recall  f1-score   support\n",
      "\n",
      "          0     0.8677    0.9804    0.9206       408\n",
      "          b     0.4706    0.4000    0.4324        20\n",
      "          c     0.5714    0.4615    0.5106        26\n",
      "          d     0.5000    0.4000    0.4444        20\n",
      "          f     0.0000    0.0000    0.0000        14\n",
      "          g     0.3529    0.2222    0.2727        27\n",
      "          h     0.5294    0.2621    0.3506       103\n",
      "          j     0.8571    0.2400    0.3750        25\n",
      "          k     0.6000    0.3750    0.4615         8\n",
      "          l     0.6452    0.5882    0.6154        34\n",
      "          m     0.6471    0.5789    0.6111        19\n",
      "          n     0.5455    0.4286    0.4800        14\n",
      "          p     0.2500    0.1429    0.1818         7\n",
      "          q     0.2667    0.2353    0.2500        17\n",
      "          r     0.2500    0.0909    0.1333        11\n",
      "          s     0.2571    0.3913    0.3103        46\n",
      "          t     0.5000    0.2857    0.3636        21\n",
      "          w     0.5417    0.5909    0.5652        22\n",
      "          x     0.3429    0.3750    0.3582        32\n",
      "          y     0.2967    0.5870    0.3942        46\n",
      "          z     0.2581    0.3636    0.3019        22\n",
      "\n",
      "avg / total     0.6306    0.6338    0.6155       942\n",
      "\n"
     ]
    }
   ],
   "source": [
    "target_names=[alphabet_set[i] for i in range(21)]\n",
    "print(classification_report(y_true,y_pred,digits=4,labels=list(range(21)),target_names=target_names))"
   ]
  },
  {
   "cell_type": "markdown",
   "metadata": {},
   "source": [
    "# predict test"
   ]
  },
  {
   "cell_type": "code",
   "execution_count": 39,
   "metadata": {},
   "outputs": [
    {
     "name": "stdout",
     "output_type": "stream",
     "text": [
      "(1, 35, 7)\n",
      "Predict Label:d\n"
     ]
    }
   ],
   "source": [
    "\n",
    "temp = np.load('./gabor/person1_time1_group1_da_4.npy')\n",
    "m,n = temp.shape\n",
    "            #print(m)\n",
    "if m <=35:\n",
    "    left = 36 - m\n",
    "    temp =np.append(temp,(np.zeros([left,n])),axis=0)\n",
    "test =[]\n",
    "test.append(temp[:35,])\n",
    "test = np.array(test)\n",
    "print(test.shape)\n",
    "pred=model.predict(test)\n",
    "\n",
    "pred=np.argmax(pred,axis=-1)[0]\n",
    "text=[alphabet_set[i] for i in pred]\n",
    "text=[i for i in text if i!='0']\n",
    "text=''.join(text)\n",
    "print('Predict Label:%s'%(text))"
   ]
  },
  {
   "cell_type": "code",
   "execution_count": 40,
   "metadata": {},
   "outputs": [
    {
     "name": "stdout",
     "output_type": "stream",
     "text": [
      "(1, 35, 7)\n",
      "Predict Label:m\n"
     ]
    }
   ],
   "source": [
    "\n",
    "temp = np.load('./gabor/person1_time1_group1_ba_1.npy')\n",
    "m,n = temp.shape\n",
    "            #print(m)\n",
    "if m <=35:\n",
    "    left = 36 - m\n",
    "    temp =np.append(temp,(np.zeros([left,n])),axis=0)\n",
    "test =[]\n",
    "test.append(temp[:35,])\n",
    "test = np.array(test)\n",
    "print(test.shape)\n",
    "pred=model.predict(test)\n",
    "\n",
    "pred=np.argmax(pred,axis=-1)[0]\n",
    "text=[alphabet_set[i] for i in pred]\n",
    "text=[i for i in text if i!='0']\n",
    "text=''.join(text)\n",
    "print('Predict Label:%s'%(text))"
   ]
  },
  {
   "cell_type": "code",
   "execution_count": 42,
   "metadata": {},
   "outputs": [
    {
     "name": "stdout",
     "output_type": "stream",
     "text": [
      "(1, 35, 7)\n",
      "Predict Label:h\n"
     ]
    }
   ],
   "source": [
    "\n",
    "temp = np.load('./gabor/person1_time1_group1_he_2.npy')\n",
    "m,n = temp.shape\n",
    "            #print(m)\n",
    "if m <=35:\n",
    "    left = 36 - m\n",
    "    temp =np.append(temp,(np.zeros([left,n])),axis=0)\n",
    "test =[]\n",
    "test.append(temp[:35,])\n",
    "test = np.array(test)\n",
    "print(test.shape)\n",
    "pred=model.predict(test)\n",
    "\n",
    "pred=np.argmax(pred,axis=-1)[0]\n",
    "text=[alphabet_set[i] for i in pred]\n",
    "text=[i for i in text if i!='0']\n",
    "text=''.join(text)\n",
    "print('Predict Label:%s'%(text))"
   ]
  },
  {
   "cell_type": "code",
   "execution_count": null,
   "metadata": {
    "collapsed": true,
    "jupyter": {
     "outputs_hidden": true
    }
   },
   "outputs": [],
   "source": []
  }
 ],
 "metadata": {
  "kernelspec": {
   "display_name": "Python 3",
   "language": "python",
   "name": "python3"
  },
  "language_info": {
   "codemirror_mode": {
    "name": "ipython",
    "version": 3
   },
   "file_extension": ".py",
   "mimetype": "text/x-python",
   "name": "python",
   "nbconvert_exporter": "python",
   "pygments_lexer": "ipython3",
   "version": "3.8.3"
  },
  "toc": {
   "base_numbering": 1,
   "nav_menu": {},
   "number_sections": true,
   "sideBar": true,
   "skip_h1_title": false,
   "title_cell": "Table of Contents",
   "title_sidebar": "Contents",
   "toc_cell": false,
   "toc_position": {
    "height": "calc(100% - 180px)",
    "left": "10px",
    "top": "150px",
    "width": "250px"
   },
   "toc_section_display": true,
   "toc_window_display": true
  }
 },
 "nbformat": 4,
 "nbformat_minor": 4
}
