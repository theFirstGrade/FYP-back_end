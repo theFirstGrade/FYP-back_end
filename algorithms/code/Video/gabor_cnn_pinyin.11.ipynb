{
 "cells": [
  {
   "cell_type": "markdown",
   "metadata": {},
   "source": [
    "# import modules"
   ]
  },
  {
   "cell_type": "code",
   "execution_count": 109,
   "metadata": {},
   "outputs": [],
   "source": [
    "import keras\n",
    "from keras.utils import plot_model,to_categorical\n",
    "from keras.models import Sequential\n",
    "from keras.layers import Dense,Flatten,Conv2D,MaxPooling2D,LSTM,Bidirectional,TimeDistributed,Reshape,Conv1D,MaxPool1D,Concatenate,Dropout,BatchNormalization,Add\n",
    "from keras import Model,Input\n",
    "from keras import utils\n",
    "from keras import layers\n",
    "import numpy as np\n",
    "from sklearn.model_selection import train_test_split\n",
    "import keras.backend as K\n",
    "import keras.callbacks as kcallbacks\n",
    "from sklearn.preprocessing import LabelEncoder\n",
    "import string\n",
    "from keras.optimizers import SGD\n",
    "# from lsuv_init import LSUVinit"
   ]
  },
  {
   "cell_type": "code",
   "execution_count": 110,
   "metadata": {},
   "outputs": [],
   "source": [
    "from keras import layers"
   ]
  },
  {
   "cell_type": "markdown",
   "metadata": {},
   "source": [
    "# Load Features"
   ]
  },
  {
   "cell_type": "code",
   "execution_count": 111,
   "metadata": {},
   "outputs": [],
   "source": [
    "X_features=np.load('./feature/X_gabor.npy')\n",
    "y=np.load('./feature/y_pinyin.npy')"
   ]
  },
  {
   "cell_type": "code",
   "execution_count": 112,
   "metadata": {},
   "outputs": [
    {
     "data": {
      "text/plain": [
       "(35, 7)"
      ]
     },
     "execution_count": 112,
     "metadata": {},
     "output_type": "execute_result"
    }
   ],
   "source": [
    "X_features.shape\n",
    "X_features.shape[1:]"
   ]
  },
  {
   "cell_type": "code",
   "execution_count": 113,
   "metadata": {},
   "outputs": [
    {
     "data": {
      "text/plain": [
       "(4704, 5)"
      ]
     },
     "execution_count": 113,
     "metadata": {},
     "output_type": "execute_result"
    }
   ],
   "source": [
    "y.shape"
   ]
  },
  {
   "cell_type": "code",
   "execution_count": 114,
   "metadata": {},
   "outputs": [
    {
     "name": "stdout",
     "output_type": "stream",
     "text": [
      "[[ 2  1  0  0  0]\n",
      " [ 4  1  0  0  0]\n",
      " [ 5 18  0  0  0]\n",
      " ...\n",
      " [25 21  1 14  0]\n",
      " [25 21  0  0  0]\n",
      " [26  1 15  0  0]]\n"
     ]
    }
   ],
   "source": [
    "print(y)"
   ]
  },
  {
   "cell_type": "code",
   "execution_count": 115,
   "metadata": {},
   "outputs": [],
   "source": [
    "alphabet_set=list(string.ascii_letters[:26])"
   ]
  },
  {
   "cell_type": "code",
   "execution_count": 116,
   "metadata": {
    "scrolled": true
   },
   "outputs": [],
   "source": [
    "alphabet_set.insert(0,'0')"
   ]
  },
  {
   "cell_type": "code",
   "execution_count": 117,
   "metadata": {
    "scrolled": true
   },
   "outputs": [
    {
     "data": {
      "text/plain": [
       "27"
      ]
     },
     "execution_count": 117,
     "metadata": {},
     "output_type": "execute_result"
    }
   ],
   "source": [
    "len(alphabet_set)"
   ]
  },
  {
   "cell_type": "markdown",
   "metadata": {},
   "source": [
    "## One-hot Encoding"
   ]
  },
  {
   "cell_type": "code",
   "execution_count": 118,
   "metadata": {},
   "outputs": [],
   "source": [
    "y=to_categorical(y,num_classes=27)"
   ]
  },
  {
   "cell_type": "code",
   "execution_count": 119,
   "metadata": {},
   "outputs": [
    {
     "data": {
      "text/plain": [
       "(4704, 5, 27)"
      ]
     },
     "execution_count": 119,
     "metadata": {},
     "output_type": "execute_result"
    }
   ],
   "source": [
    "y.shape"
   ]
  },
  {
   "cell_type": "markdown",
   "metadata": {},
   "source": [
    "## split train and test"
   ]
  },
  {
   "cell_type": "code",
   "execution_count": 120,
   "metadata": {},
   "outputs": [],
   "source": [
    "X_train, X_test, y_train, y_test=train_test_split(X_features,y,test_size=0.1,random_state=2019)"
   ]
  },
  {
   "cell_type": "code",
   "execution_count": 121,
   "metadata": {},
   "outputs": [
    {
     "data": {
      "text/plain": [
       "((4233, 35, 7), (471, 35, 7))"
      ]
     },
     "execution_count": 121,
     "metadata": {},
     "output_type": "execute_result"
    }
   ],
   "source": [
    "X_train.shape,X_test.shape"
   ]
  },
  {
   "cell_type": "code",
   "execution_count": 122,
   "metadata": {},
   "outputs": [],
   "source": [
    "X_train = X_train.astype(\"float32\") \n",
    "X_test = X_test.astype(\"float32\") "
   ]
  },
  {
   "cell_type": "code",
   "execution_count": 123,
   "metadata": {},
   "outputs": [
    {
     "data": {
      "text/plain": [
       "((4233, 5, 27), (471, 5, 27))"
      ]
     },
     "execution_count": 123,
     "metadata": {},
     "output_type": "execute_result"
    }
   ],
   "source": [
    "y_train.shape,y_test.shape"
   ]
  },
  {
   "cell_type": "code",
   "execution_count": null,
   "metadata": {},
   "outputs": [],
   "source": []
  },
  {
   "cell_type": "code",
   "execution_count": 136,
   "metadata": {},
   "outputs": [],
   "source": [
    "X_test.shape\n",
    "input_shape=X_test.shape[1:]"
   ]
  },
  {
   "cell_type": "code",
   "execution_count": 133,
   "metadata": {},
   "outputs": [
    {
     "data": {
      "text/plain": [
       "<tf.Tensor 'input_32:0' shape=(None, 35, 7) dtype=float32>"
      ]
     },
     "execution_count": 133,
     "metadata": {},
     "output_type": "execute_result"
    }
   ],
   "source": []
  },
  {
   "cell_type": "code",
   "execution_count": 125,
   "metadata": {},
   "outputs": [
    {
     "data": {
      "text/plain": [
       "(4233, 35, 7)"
      ]
     },
     "execution_count": 125,
     "metadata": {},
     "output_type": "execute_result"
    }
   ],
   "source": [
    "X_train.shape"
   ]
  },
  {
   "cell_type": "markdown",
   "metadata": {},
   "source": [
    "# Models\n"
   ]
  },
  {
   "cell_type": "code",
   "execution_count": 126,
   "metadata": {},
   "outputs": [],
   "source": [
    "NUM_CLASSES=27\n",
    "BATCH_SIZE=128\n",
    "EPOCHS=100\n",
    "MODEL_SAVE_PATH='./model/pinyin_gabor_cnn.h5'"
   ]
  },
  {
   "cell_type": "code",
   "execution_count": 141,
   "metadata": {
    "scrolled": true
   },
   "outputs": [
    {
     "name": "stdout",
     "output_type": "stream",
     "text": [
      "Model: \"sequential_24\"\n",
      "_________________________________________________________________\n",
      "Layer (type)                 Output Shape              Param #   \n",
      "=================================================================\n",
      "conv1d_15 (Conv1D)           (None, 35, 64)            1408      \n",
      "_________________________________________________________________\n",
      "max_pooling1d_13 (MaxPooling (None, 17, 64)            0         \n",
      "_________________________________________________________________\n",
      "conv1d_16 (Conv1D)           (None, 17, 64)            12352     \n",
      "_________________________________________________________________\n",
      "max_pooling1d_14 (MaxPooling (None, 5, 64)             0         \n",
      "_________________________________________________________________\n",
      "dropout_18 (Dropout)         (None, 5, 64)             0         \n",
      "_________________________________________________________________\n",
      "dense_17 (Dense)             (None, 5, 27)             1755      \n",
      "=================================================================\n",
      "Total params: 15,515\n",
      "Trainable params: 15,515\n",
      "Non-trainable params: 0\n",
      "_________________________________________________________________\n"
     ]
    }
   ],
   "source": [
    "model = keras.Sequential(\n",
    "    [\n",
    "        keras.Input(shape=input_shape),\n",
    "        layers.Conv1D(filters=64,kernel_size=3,padding='same',activation=\"relu\"),\n",
    "        layers.MaxPooling1D(pool_size=2),\n",
    "        layers.Conv1D(filters=64,kernel_size=3,padding='same',activation=\"relu\"),\n",
    "        layers.MaxPooling1D(pool_size=3),\n",
    "        layers.Dropout(0.5),\n",
    "        layers.Dense(27, activation=\"softmax\"),\n",
    "    ]\n",
    ")\n",
    "model.summary()"
   ]
  },
  {
   "cell_type": "code",
   "execution_count": 142,
   "metadata": {},
   "outputs": [
    {
     "name": "stdout",
     "output_type": "stream",
     "text": [
      "Epoch 1/100\n",
      "29/34 [========================>.....] - ETA: 0s - loss: 14.3333 - accuracy: 0.0287\n",
      "Epoch 00001: val_accuracy improved from -inf to 0.04204, saving model to ./model\\pinyin_gabor_cnn.h5\n",
      "34/34 [==============================] - 1s 16ms/step - loss: 14.3292 - accuracy: 0.0288 - val_loss: 14.1977 - val_accuracy: 0.0420\n",
      "Epoch 2/100\n",
      "31/34 [==========================>...] - ETA: 0s - loss: 14.2799 - accuracy: 0.0312\n",
      "Epoch 00002: val_accuracy did not improve from 0.04204\n",
      "34/34 [==============================] - 0s 6ms/step - loss: 14.2823 - accuracy: 0.0311 - val_loss: 14.6301 - val_accuracy: 0.0149\n",
      "Epoch 3/100\n",
      "29/34 [========================>.....] - ETA: 0s - loss: 14.3451 - accuracy: 0.0279\n",
      "Epoch 00003: val_accuracy did not improve from 0.04204\n",
      "34/34 [==============================] - 0s 6ms/step - loss: 14.3492 - accuracy: 0.0277 - val_loss: 14.6312 - val_accuracy: 0.0140\n",
      "Epoch 4/100\n",
      "23/34 [===================>..........] - ETA: 0s - loss: 14.3260 - accuracy: 0.0305\n",
      "Epoch 00004: val_accuracy did not improve from 0.04204\n",
      "34/34 [==============================] - 0s 5ms/step - loss: 14.3138 - accuracy: 0.0310 - val_loss: 14.6357 - val_accuracy: 0.0242\n",
      "Epoch 5/100\n",
      "27/34 [======================>.......] - ETA: 0s - loss: 14.3340 - accuracy: 0.0305\n",
      "Epoch 00005: val_accuracy did not improve from 0.04204\n",
      "34/34 [==============================] - 0s 6ms/step - loss: 14.3341 - accuracy: 0.0298 - val_loss: 14.6332 - val_accuracy: 0.0280\n",
      "Epoch 6/100\n",
      "23/34 [===================>..........] - ETA: 0s - loss: 14.3117 - accuracy: 0.0336\n",
      "Epoch 00006: val_accuracy did not improve from 0.04204\n",
      "34/34 [==============================] - 0s 5ms/step - loss: 14.3372 - accuracy: 0.0324 - val_loss: 14.6308 - val_accuracy: 0.0242\n",
      "Epoch 7/100\n",
      "23/34 [===================>..........] - ETA: 0s - loss: 14.3461 - accuracy: 0.0321\n",
      "Epoch 00007: val_accuracy did not improve from 0.04204\n",
      "\n",
      "Epoch 00007: ReduceLROnPlateau reducing learning rate to 0.0005000000237487257.\n",
      "34/34 [==============================] - 0s 5ms/step - loss: 14.3364 - accuracy: 0.0321 - val_loss: 14.6275 - val_accuracy: 0.0242\n",
      "Epoch 8/100\n",
      "23/34 [===================>..........] - ETA: 0s - loss: 14.3577 - accuracy: 0.0319\n",
      "Epoch 00008: val_accuracy did not improve from 0.04204\n",
      "34/34 [==============================] - 0s 5ms/step - loss: 14.3274 - accuracy: 0.0332 - val_loss: 14.6349 - val_accuracy: 0.0238\n",
      "Epoch 9/100\n",
      "23/34 [===================>..........] - ETA: 0s - loss: 14.3124 - accuracy: 0.0355\n",
      "Epoch 00009: val_accuracy did not improve from 0.04204\n",
      "34/34 [==============================] - 0s 5ms/step - loss: 14.2927 - accuracy: 0.0355 - val_loss: 14.6338 - val_accuracy: 0.0242\n",
      "Epoch 10/100\n",
      "23/34 [===================>..........] - ETA: 0s - loss: 14.2928 - accuracy: 0.0348\n",
      "Epoch 00010: val_accuracy did not improve from 0.04204\n",
      "34/34 [==============================] - 0s 5ms/step - loss: 14.3272 - accuracy: 0.0342 - val_loss: 14.6330 - val_accuracy: 0.0242\n",
      "Epoch 11/100\n",
      "23/34 [===================>..........] - ETA: 0s - loss: 14.3569 - accuracy: 0.0302\n",
      "Epoch 00011: val_accuracy did not improve from 0.04204\n",
      "34/34 [==============================] - 0s 5ms/step - loss: 14.3710 - accuracy: 0.0300 - val_loss: 14.6324 - val_accuracy: 0.0242\n",
      "Epoch 12/100\n",
      "31/34 [==========================>...] - ETA: 0s - loss: 14.3640 - accuracy: 0.0321\n",
      "Epoch 00012: val_accuracy did not improve from 0.04204\n",
      "34/34 [==============================] - 0s 6ms/step - loss: 14.3828 - accuracy: 0.0316 - val_loss: 14.6316 - val_accuracy: 0.0242\n",
      "Epoch 13/100\n",
      "33/34 [============================>.] - ETA: 0s - loss: 14.3627 - accuracy: 0.0320\n",
      "Epoch 00013: val_accuracy did not improve from 0.04204\n",
      "\n",
      "Epoch 00013: ReduceLROnPlateau reducing learning rate to 0.0002500000118743628.\n",
      "34/34 [==============================] - 0s 5ms/step - loss: 14.3596 - accuracy: 0.0320 - val_loss: 14.6308 - val_accuracy: 0.0242\n",
      "Epoch 14/100\n",
      "24/34 [====================>.........] - ETA: 0s - loss: 14.3629 - accuracy: 0.0326\n",
      "Epoch 00014: val_accuracy did not improve from 0.04204\n",
      "34/34 [==============================] - 0s 5ms/step - loss: 14.3709 - accuracy: 0.0327 - val_loss: 14.6304 - val_accuracy: 0.0242\n",
      "Epoch 15/100\n",
      "29/34 [========================>.....] - ETA: 0s - loss: 14.3452 - accuracy: 0.0323\n",
      "Epoch 00015: val_accuracy did not improve from 0.04204\n",
      "34/34 [==============================] - 0s 6ms/step - loss: 14.3446 - accuracy: 0.0329 - val_loss: 14.6299 - val_accuracy: 0.0242\n",
      "Epoch 16/100\n",
      "28/34 [=======================>......] - ETA: 0s - loss: 14.3636 - accuracy: 0.0326\n",
      "Epoch 00016: val_accuracy did not improve from 0.04204\n",
      "34/34 [==============================] - 0s 6ms/step - loss: 14.3440 - accuracy: 0.0335 - val_loss: 14.6296 - val_accuracy: 0.0242\n",
      "Epoch 17/100\n",
      "28/34 [=======================>......] - ETA: 0s - loss: 14.2957 - accuracy: 0.0362\n",
      "Epoch 00017: val_accuracy did not improve from 0.04204\n",
      "34/34 [==============================] - 0s 6ms/step - loss: 14.3094 - accuracy: 0.0358 - val_loss: 14.6293 - val_accuracy: 0.0242\n",
      "Epoch 18/100\n",
      "29/34 [========================>.....] - ETA: 0s - loss: 14.2752 - accuracy: 0.0374\n",
      "Epoch 00018: val_accuracy did not improve from 0.04204\n",
      "34/34 [==============================] - 0s 6ms/step - loss: 14.2656 - accuracy: 0.0377 - val_loss: 14.6290 - val_accuracy: 0.0242\n",
      "Epoch 19/100\n",
      "32/34 [===========================>..] - ETA: 0s - loss: 14.3151 - accuracy: 0.0351\n",
      "Epoch 00019: val_accuracy did not improve from 0.04204\n",
      "\n",
      "Epoch 00019: ReduceLROnPlateau reducing learning rate to 0.0001250000059371814.\n",
      "34/34 [==============================] - 0s 5ms/step - loss: 14.3105 - accuracy: 0.0355 - val_loss: 14.5874 - val_accuracy: 0.0268\n",
      "Epoch 20/100\n",
      "30/34 [=========================>....] - ETA: 0s - loss: 14.2741 - accuracy: 0.0373\n",
      "Epoch 00020: val_accuracy did not improve from 0.04204\n",
      "34/34 [==============================] - 0s 6ms/step - loss: 14.2779 - accuracy: 0.0375 - val_loss: 14.5872 - val_accuracy: 0.0268\n",
      "Epoch 21/100\n",
      "28/34 [=======================>......] - ETA: 0s - loss: 14.2404 - accuracy: 0.0388\n",
      "Epoch 00021: val_accuracy did not improve from 0.04204\n",
      "34/34 [==============================] - 0s 6ms/step - loss: 14.2674 - accuracy: 0.0381 - val_loss: 14.5871 - val_accuracy: 0.0259\n",
      "Epoch 22/100\n",
      "29/34 [========================>.....] - ETA: 0s - loss: 14.2124 - accuracy: 0.0413\n",
      "Epoch 00022: val_accuracy did not improve from 0.04204\n",
      "34/34 [==============================] - 0s 6ms/step - loss: 14.2208 - accuracy: 0.0416 - val_loss: 14.5868 - val_accuracy: 0.0259\n",
      "Epoch 23/100\n",
      "29/34 [========================>.....] - ETA: 0s - loss: 14.1866 - accuracy: 0.0436\n",
      "Epoch 00023: val_accuracy did not improve from 0.04204\n",
      "34/34 [==============================] - 0s 6ms/step - loss: 14.1815 - accuracy: 0.0438 - val_loss: 14.5866 - val_accuracy: 0.0259\n",
      "Epoch 24/100\n",
      "34/34 [==============================] - ETA: 0s - loss: 14.2149 - accuracy: 0.0410\n",
      "Epoch 00024: val_accuracy did not improve from 0.04204\n",
      "34/34 [==============================] - 0s 5ms/step - loss: 14.2149 - accuracy: 0.0410 - val_loss: 14.5864 - val_accuracy: 0.0259\n",
      "Epoch 25/100\n",
      "27/34 [======================>.......] - ETA: 0s - loss: 14.2014 - accuracy: 0.0416\n",
      "Epoch 00025: val_accuracy did not improve from 0.04204\n",
      "\n",
      "Epoch 00025: ReduceLROnPlateau reducing learning rate to 6.25000029685907e-05.\n",
      "34/34 [==============================] - 0s 6ms/step - loss: 14.2073 - accuracy: 0.0417 - val_loss: 14.5863 - val_accuracy: 0.0259\n",
      "Epoch 26/100\n",
      "29/34 [========================>.....] - ETA: 0s - loss: 14.1974 - accuracy: 0.0423\n",
      "Epoch 00026: val_accuracy did not improve from 0.04204\n",
      "34/34 [==============================] - 0s 6ms/step - loss: 14.1758 - accuracy: 0.0436 - val_loss: 14.5589 - val_accuracy: 0.0276\n",
      "Epoch 27/100\n",
      "30/34 [=========================>....] - ETA: 0s - loss: 14.1909 - accuracy: 0.0420\n",
      "Epoch 00027: val_accuracy did not improve from 0.04204\n",
      "34/34 [==============================] - 0s 6ms/step - loss: 14.1869 - accuracy: 0.0425 - val_loss: 14.5588 - val_accuracy: 0.0276\n",
      "Epoch 28/100\n",
      "27/34 [======================>.......] - ETA: 0s - loss: 14.1506 - accuracy: 0.0446\n",
      "Epoch 00028: val_accuracy did not improve from 0.04204\n",
      "34/34 [==============================] - 0s 6ms/step - loss: 14.1473 - accuracy: 0.0454 - val_loss: 14.5587 - val_accuracy: 0.0276\n",
      "Epoch 29/100\n",
      "32/34 [===========================>..] - ETA: 0s - loss: 14.1503 - accuracy: 0.0448\n",
      "Epoch 00029: val_accuracy did not improve from 0.04204\n",
      "34/34 [==============================] - 0s 5ms/step - loss: 14.1526 - accuracy: 0.0447 - val_loss: 14.5586 - val_accuracy: 0.0276\n",
      "Epoch 30/100\n",
      "32/34 [===========================>..] - ETA: 0s - loss: 14.1851 - accuracy: 0.0440\n",
      "Epoch 00030: val_accuracy did not improve from 0.04204\n",
      "34/34 [==============================] - 0s 5ms/step - loss: 14.1749 - accuracy: 0.0441 - val_loss: 14.5585 - val_accuracy: 0.0276\n",
      "Epoch 31/100\n",
      "33/34 [============================>.] - ETA: 0s - loss: 14.1733 - accuracy: 0.0438\n",
      "Epoch 00031: val_accuracy did not improve from 0.04204\n",
      "\n",
      "Epoch 00031: ReduceLROnPlateau reducing learning rate to 3.125000148429535e-05.\n",
      "34/34 [==============================] - 0s 5ms/step - loss: 14.1743 - accuracy: 0.0438 - val_loss: 14.5585 - val_accuracy: 0.0276\n",
      "Epoch 32/100\n",
      "23/34 [===================>..........] - ETA: 0s - loss: 14.1980 - accuracy: 0.0423\n",
      "Epoch 00032: val_accuracy did not improve from 0.04204\n",
      "34/34 [==============================] - 0s 5ms/step - loss: 14.1892 - accuracy: 0.0432 - val_loss: 14.5584 - val_accuracy: 0.0276\n",
      "Epoch 33/100\n",
      "23/34 [===================>..........] - ETA: 0s - loss: 14.1696 - accuracy: 0.0424\n",
      "Epoch 00033: val_accuracy did not improve from 0.04204\n",
      "34/34 [==============================] - 0s 5ms/step - loss: 14.1944 - accuracy: 0.0422 - val_loss: 14.5584 - val_accuracy: 0.0276\n",
      "Epoch 34/100\n",
      "34/34 [==============================] - ETA: 0s - loss: 14.1597 - accuracy: 0.0452\n",
      "Epoch 00034: val_accuracy did not improve from 0.04204\n",
      "34/34 [==============================] - 0s 5ms/step - loss: 14.1597 - accuracy: 0.0452 - val_loss: 14.5584 - val_accuracy: 0.0276\n",
      "Epoch 35/100\n",
      "31/34 [==========================>...] - ETA: 0s - loss: 14.1488 - accuracy: 0.0464\n",
      "Epoch 00035: val_accuracy did not improve from 0.04204\n",
      "34/34 [==============================] - 0s 6ms/step - loss: 14.1466 - accuracy: 0.0467 - val_loss: 14.5583 - val_accuracy: 0.0276\n",
      "Epoch 36/100\n",
      "32/34 [===========================>..] - ETA: 0s - loss: 14.1371 - accuracy: 0.0453\n",
      "Epoch 00036: val_accuracy did not improve from 0.04204\n",
      "34/34 [==============================] - 0s 6ms/step - loss: 14.1392 - accuracy: 0.0455 - val_loss: 14.5583 - val_accuracy: 0.0276\n",
      "Epoch 37/100\n",
      "30/34 [=========================>....] - ETA: 0s - loss: 14.1483 - accuracy: 0.0457\n",
      "Epoch 00037: val_accuracy did not improve from 0.04204\n",
      "\n",
      "Epoch 00037: ReduceLROnPlateau reducing learning rate to 1.5625000742147677e-05.\n",
      "34/34 [==============================] - 0s 6ms/step - loss: 14.1396 - accuracy: 0.0464 - val_loss: 14.5582 - val_accuracy: 0.0276\n",
      "Epoch 38/100\n",
      "31/34 [==========================>...] - ETA: 0s - loss: 14.1755 - accuracy: 0.0437\n",
      "Epoch 00038: val_accuracy did not improve from 0.04204\n",
      "34/34 [==============================] - 0s 6ms/step - loss: 14.1617 - accuracy: 0.0439 - val_loss: 14.5582 - val_accuracy: 0.0276\n",
      "Epoch 39/100\n",
      "32/34 [===========================>..] - ETA: 0s - loss: 14.1645 - accuracy: 0.0447\n",
      "Epoch 00039: val_accuracy did not improve from 0.04204\n",
      "34/34 [==============================] - 0s 5ms/step - loss: 14.1566 - accuracy: 0.0448 - val_loss: 14.5582 - val_accuracy: 0.0276\n",
      "Epoch 40/100\n",
      "27/34 [======================>.......] - ETA: 0s - loss: 14.1130 - accuracy: 0.0476\n",
      "Epoch 00040: val_accuracy did not improve from 0.04204\n",
      "34/34 [==============================] - 0s 6ms/step - loss: 14.1376 - accuracy: 0.0465 - val_loss: 14.5582 - val_accuracy: 0.0276\n",
      "Epoch 41/100\n",
      "24/34 [====================>.........] - ETA: 0s - loss: 14.1647 - accuracy: 0.0450\n",
      "Epoch 00041: val_accuracy did not improve from 0.04204\n",
      "34/34 [==============================] - 0s 5ms/step - loss: 14.1480 - accuracy: 0.0461 - val_loss: 14.5582 - val_accuracy: 0.0276\n",
      "Epoch 42/100\n",
      "23/34 [===================>..........] - ETA: 0s - loss: 14.1396 - accuracy: 0.0447\n",
      "Epoch 00042: val_accuracy did not improve from 0.04204\n",
      "34/34 [==============================] - 0s 5ms/step - loss: 14.1720 - accuracy: 0.0439 - val_loss: 14.5582 - val_accuracy: 0.0276\n",
      "Epoch 43/100\n",
      "34/34 [==============================] - ETA: 0s - loss: 14.1307 - accuracy: 0.0472\n",
      "Epoch 00043: val_accuracy did not improve from 0.04204\n",
      "\n",
      "Epoch 00043: ReduceLROnPlateau reducing learning rate to 1e-05.\n",
      "34/34 [==============================] - 0s 5ms/step - loss: 14.1307 - accuracy: 0.0472 - val_loss: 14.5582 - val_accuracy: 0.0276\n",
      "Epoch 44/100\n",
      "23/34 [===================>..........] - ETA: 0s - loss: 14.1871 - accuracy: 0.0448\n",
      "Epoch 00044: val_accuracy did not improve from 0.04204\n",
      "34/34 [==============================] - 0s 5ms/step - loss: 14.1604 - accuracy: 0.0451 - val_loss: 14.5582 - val_accuracy: 0.0276\n",
      "Epoch 45/100\n",
      "23/34 [===================>..........] - ETA: 0s - loss: 14.1642 - accuracy: 0.0427\n",
      "Epoch 00045: val_accuracy did not improve from 0.04204\n",
      "34/34 [==============================] - 0s 5ms/step - loss: 14.1600 - accuracy: 0.0434 - val_loss: 14.5582 - val_accuracy: 0.0276\n",
      "Epoch 46/100\n",
      "31/34 [==========================>...] - ETA: 0s - loss: 14.1688 - accuracy: 0.0459\n",
      "Epoch 00046: val_accuracy did not improve from 0.04204\n",
      "34/34 [==============================] - 0s 5ms/step - loss: 14.1621 - accuracy: 0.0457 - val_loss: 14.5581 - val_accuracy: 0.0276\n",
      "Epoch 47/100\n",
      "32/34 [===========================>..] - ETA: 0s - loss: 14.1312 - accuracy: 0.0474\n",
      "Epoch 00047: val_accuracy did not improve from 0.04204\n",
      "34/34 [==============================] - 0s 5ms/step - loss: 14.1268 - accuracy: 0.0473 - val_loss: 14.5581 - val_accuracy: 0.0276\n",
      "Epoch 48/100\n",
      "33/34 [============================>.] - ETA: 0s - loss: 14.1460 - accuracy: 0.0455\n",
      "Epoch 00048: val_accuracy did not improve from 0.04204\n",
      "34/34 [==============================] - 0s 5ms/step - loss: 14.1470 - accuracy: 0.0455 - val_loss: 14.5581 - val_accuracy: 0.0276\n",
      "Epoch 49/100\n",
      "31/34 [==========================>...] - ETA: 0s - loss: 14.1551 - accuracy: 0.0452\n",
      "Epoch 00049: val_accuracy did not improve from 0.04204\n",
      "34/34 [==============================] - 0s 6ms/step - loss: 14.1574 - accuracy: 0.0450 - val_loss: 14.5581 - val_accuracy: 0.0276\n",
      "Epoch 50/100\n",
      "31/34 [==========================>...] - ETA: 0s - loss: 14.1513 - accuracy: 0.0459\n",
      "Epoch 00050: val_accuracy did not improve from 0.04204\n",
      "34/34 [==============================] - 0s 5ms/step - loss: 14.1534 - accuracy: 0.0456 - val_loss: 14.5581 - val_accuracy: 0.0276\n",
      "Epoch 51/100\n",
      "31/34 [==========================>...] - ETA: 0s - loss: 14.1348 - accuracy: 0.0471\n",
      "Epoch 00051: val_accuracy did not improve from 0.04204\n",
      "34/34 [==============================] - 0s 6ms/step - loss: 14.1234 - accuracy: 0.0471 - val_loss: 14.5581 - val_accuracy: 0.0276\n",
      "Epoch 52/100\n",
      "30/34 [=========================>....] - ETA: 0s - loss: 14.1518 - accuracy: 0.0465\n",
      "Epoch 00052: val_accuracy did not improve from 0.04204\n",
      "34/34 [==============================] - 0s 6ms/step - loss: 14.1352 - accuracy: 0.0469 - val_loss: 14.5581 - val_accuracy: 0.0276\n",
      "Epoch 53/100\n",
      "33/34 [============================>.] - ETA: 0s - loss: 14.1436 - accuracy: 0.0458\n",
      "Epoch 00053: val_accuracy did not improve from 0.04204\n",
      "34/34 [==============================] - 0s 5ms/step - loss: 14.1440 - accuracy: 0.0457 - val_loss: 14.5581 - val_accuracy: 0.0276\n",
      "Epoch 54/100\n",
      "33/34 [============================>.] - ETA: 0s - loss: 14.1382 - accuracy: 0.0457\n",
      "Epoch 00054: val_accuracy did not improve from 0.04204\n",
      "34/34 [==============================] - 0s 5ms/step - loss: 14.1373 - accuracy: 0.0457 - val_loss: 14.5581 - val_accuracy: 0.0276\n",
      "Epoch 55/100\n",
      "32/34 [===========================>..] - ETA: 0s - loss: 14.1499 - accuracy: 0.0458\n",
      "Epoch 00055: val_accuracy did not improve from 0.04204\n",
      "34/34 [==============================] - 0s 5ms/step - loss: 14.1478 - accuracy: 0.0461 - val_loss: 14.5581 - val_accuracy: 0.0276\n",
      "Epoch 56/100\n",
      "28/34 [=======================>......] - ETA: 0s - loss: 14.1314 - accuracy: 0.0460\n",
      "Epoch 00056: val_accuracy did not improve from 0.04204\n",
      "34/34 [==============================] - 0s 6ms/step - loss: 14.1426 - accuracy: 0.0458 - val_loss: 14.5581 - val_accuracy: 0.0276\n",
      "Epoch 57/100\n",
      "31/34 [==========================>...] - ETA: 0s - loss: 14.1663 - accuracy: 0.0447\n",
      "Epoch 00057: val_accuracy did not improve from 0.04204\n",
      "34/34 [==============================] - 0s 6ms/step - loss: 14.1541 - accuracy: 0.0452 - val_loss: 14.5580 - val_accuracy: 0.0276\n",
      "Epoch 58/100\n",
      "29/34 [========================>.....] - ETA: 0s - loss: 14.1329 - accuracy: 0.0469\n",
      "Epoch 00058: val_accuracy did not improve from 0.04204\n",
      "34/34 [==============================] - 0s 6ms/step - loss: 14.1367 - accuracy: 0.0465 - val_loss: 14.5580 - val_accuracy: 0.0276\n",
      "Epoch 59/100\n",
      "23/34 [===================>..........] - ETA: 0s - loss: 14.1797 - accuracy: 0.0438\n",
      "Epoch 00059: val_accuracy did not improve from 0.04204\n",
      "34/34 [==============================] - 0s 5ms/step - loss: 14.1560 - accuracy: 0.0447 - val_loss: 14.5580 - val_accuracy: 0.0276\n",
      "Epoch 60/100\n",
      "29/34 [========================>.....] - ETA: 0s - loss: 14.1437 - accuracy: 0.0465\n",
      "Epoch 00060: val_accuracy did not improve from 0.04204\n",
      "34/34 [==============================] - 0s 6ms/step - loss: 14.1357 - accuracy: 0.0466 - val_loss: 14.5580 - val_accuracy: 0.0276\n",
      "Epoch 61/100\n",
      "30/34 [=========================>....] - ETA: 0s - loss: 14.1189 - accuracy: 0.0475\n",
      "Epoch 00061: val_accuracy did not improve from 0.04204\n",
      "34/34 [==============================] - 0s 6ms/step - loss: 14.1163 - accuracy: 0.0478 - val_loss: 14.5580 - val_accuracy: 0.0276\n",
      "Epoch 62/100\n",
      "32/34 [===========================>..] - ETA: 0s - loss: 14.1319 - accuracy: 0.0470\n",
      "Epoch 00062: val_accuracy did not improve from 0.04204\n",
      "34/34 [==============================] - 0s 6ms/step - loss: 14.1442 - accuracy: 0.0463 - val_loss: 14.5580 - val_accuracy: 0.0276\n",
      "Epoch 63/100\n",
      "32/34 [===========================>..] - ETA: 0s - loss: 14.1206 - accuracy: 0.0472\n",
      "Epoch 00063: val_accuracy did not improve from 0.04204\n",
      "34/34 [==============================] - 0s 6ms/step - loss: 14.1252 - accuracy: 0.0472 - val_loss: 14.5580 - val_accuracy: 0.0276\n",
      "Epoch 64/100\n",
      "28/34 [=======================>......] - ETA: 0s - loss: 14.1362 - accuracy: 0.0458\n",
      "Epoch 00064: val_accuracy did not improve from 0.04204\n",
      "34/34 [==============================] - 0s 6ms/step - loss: 14.1449 - accuracy: 0.0460 - val_loss: 14.5580 - val_accuracy: 0.0276\n",
      "Epoch 65/100\n",
      "29/34 [========================>.....] - ETA: 0s - loss: 14.1448 - accuracy: 0.0457\n",
      "Epoch 00065: val_accuracy did not improve from 0.04204\n",
      "34/34 [==============================] - 0s 6ms/step - loss: 14.1363 - accuracy: 0.0461 - val_loss: 14.5580 - val_accuracy: 0.0276\n",
      "Epoch 66/100\n",
      "30/34 [=========================>....] - ETA: 0s - loss: 14.1460 - accuracy: 0.0460\n",
      "Epoch 00066: val_accuracy did not improve from 0.04204\n",
      "34/34 [==============================] - 0s 6ms/step - loss: 14.1371 - accuracy: 0.0460 - val_loss: 14.5579 - val_accuracy: 0.0276\n",
      "Epoch 67/100\n",
      "29/34 [========================>.....] - ETA: 0s - loss: 14.1165 - accuracy: 0.0487\n",
      "Epoch 00067: val_accuracy did not improve from 0.04204\n",
      "34/34 [==============================] - 0s 6ms/step - loss: 14.1168 - accuracy: 0.0484 - val_loss: 14.5579 - val_accuracy: 0.0276\n",
      "Epoch 68/100\n",
      "28/34 [=======================>......] - ETA: 0s - loss: 14.1410 - accuracy: 0.0455\n",
      "Epoch 00068: val_accuracy did not improve from 0.04204\n",
      "34/34 [==============================] - 0s 6ms/step - loss: 14.1454 - accuracy: 0.0455 - val_loss: 14.5579 - val_accuracy: 0.0276\n",
      "Epoch 69/100\n",
      "30/34 [=========================>....] - ETA: 0s - loss: 14.1323 - accuracy: 0.0458\n",
      "Epoch 00069: val_accuracy did not improve from 0.04204\n",
      "34/34 [==============================] - 0s 6ms/step - loss: 14.1465 - accuracy: 0.0456 - val_loss: 14.5579 - val_accuracy: 0.0276\n",
      "Epoch 70/100\n",
      "33/34 [============================>.] - ETA: 0s - loss: 14.1506 - accuracy: 0.0456\n",
      "Epoch 00070: val_accuracy did not improve from 0.04204\n",
      "34/34 [==============================] - 0s 5ms/step - loss: 14.1509 - accuracy: 0.0456 - val_loss: 14.5511 - val_accuracy: 0.0280\n",
      "Epoch 71/100\n",
      "33/34 [============================>.] - ETA: 0s - loss: 14.1387 - accuracy: 0.0458\n",
      "Epoch 00071: val_accuracy did not improve from 0.04204\n",
      "34/34 [==============================] - 0s 5ms/step - loss: 14.1377 - accuracy: 0.0458 - val_loss: 14.5579 - val_accuracy: 0.0276\n",
      "Epoch 72/100\n",
      "34/34 [==============================] - ETA: 0s - loss: 14.1572 - accuracy: 0.0442\n",
      "Epoch 00072: val_accuracy did not improve from 0.04204\n",
      "34/34 [==============================] - 0s 5ms/step - loss: 14.1572 - accuracy: 0.0442 - val_loss: 14.5579 - val_accuracy: 0.0276\n",
      "Epoch 73/100\n",
      "31/34 [==========================>...] - ETA: 0s - loss: 14.0959 - accuracy: 0.0490\n",
      "Epoch 00073: val_accuracy did not improve from 0.04204\n",
      "34/34 [==============================] - 0s 5ms/step - loss: 14.0854 - accuracy: 0.0488 - val_loss: 14.5510 - val_accuracy: 0.0280\n",
      "Epoch 74/100\n",
      "30/34 [=========================>....] - ETA: 0s - loss: 14.1393 - accuracy: 0.0460\n",
      "Epoch 00074: val_accuracy did not improve from 0.04204\n",
      "34/34 [==============================] - 0s 6ms/step - loss: 14.1447 - accuracy: 0.0463 - val_loss: 14.5510 - val_accuracy: 0.0280\n",
      "Epoch 75/100\n",
      "32/34 [===========================>..] - ETA: 0s - loss: 14.1288 - accuracy: 0.0473\n",
      "Epoch 00075: val_accuracy did not improve from 0.04204\n",
      "34/34 [==============================] - 0s 5ms/step - loss: 14.1228 - accuracy: 0.0472 - val_loss: 14.5510 - val_accuracy: 0.0280\n",
      "Epoch 76/100\n",
      "23/34 [===================>..........] - ETA: 0s - loss: 14.1255 - accuracy: 0.0467\n",
      "Epoch 00076: val_accuracy did not improve from 0.04204\n",
      "34/34 [==============================] - 0s 5ms/step - loss: 14.1202 - accuracy: 0.0473 - val_loss: 14.5510 - val_accuracy: 0.0280\n",
      "Epoch 77/100\n",
      "23/34 [===================>..........] - ETA: 0s - loss: 14.1309 - accuracy: 0.0478\n",
      "Epoch 00077: val_accuracy did not improve from 0.04204\n",
      "34/34 [==============================] - 0s 5ms/step - loss: 14.1332 - accuracy: 0.0468 - val_loss: 14.5510 - val_accuracy: 0.0280\n",
      "Epoch 78/100\n",
      "23/34 [===================>..........] - ETA: 0s - loss: 14.1600 - accuracy: 0.0456\n",
      "Epoch 00078: val_accuracy did not improve from 0.04204\n",
      "34/34 [==============================] - 0s 5ms/step - loss: 14.1206 - accuracy: 0.0470 - val_loss: 14.5510 - val_accuracy: 0.0280\n",
      "Epoch 79/100\n",
      "33/34 [============================>.] - ETA: 0s - loss: 14.0893 - accuracy: 0.0498\n",
      "Epoch 00079: val_accuracy did not improve from 0.04204\n",
      "34/34 [==============================] - 0s 5ms/step - loss: 14.0899 - accuracy: 0.0498 - val_loss: 14.5510 - val_accuracy: 0.0280\n",
      "Epoch 80/100\n",
      "23/34 [===================>..........] - ETA: 0s - loss: 14.0560 - accuracy: 0.0481\n",
      "Epoch 00080: val_accuracy did not improve from 0.04204\n",
      "34/34 [==============================] - 0s 5ms/step - loss: 14.0831 - accuracy: 0.0489 - val_loss: 14.5510 - val_accuracy: 0.0280\n",
      "Epoch 81/100\n",
      "31/34 [==========================>...] - ETA: 0s - loss: 14.1273 - accuracy: 0.0476\n",
      "Epoch 00081: val_accuracy did not improve from 0.04204\n",
      "34/34 [==============================] - 0s 6ms/step - loss: 14.1242 - accuracy: 0.0481 - val_loss: 14.5510 - val_accuracy: 0.0280\n",
      "Epoch 82/100\n",
      "34/34 [==============================] - ETA: 0s - loss: 14.1155 - accuracy: 0.0477\n",
      "Epoch 00082: val_accuracy did not improve from 0.04204\n",
      "34/34 [==============================] - 0s 5ms/step - loss: 14.1155 - accuracy: 0.0477 - val_loss: 14.5510 - val_accuracy: 0.0280\n",
      "Epoch 83/100\n",
      "29/34 [========================>.....] - ETA: 0s - loss: 14.1305 - accuracy: 0.0466\n",
      "Epoch 00083: val_accuracy did not improve from 0.04204\n",
      "34/34 [==============================] - 0s 6ms/step - loss: 14.1279 - accuracy: 0.0466 - val_loss: 14.5509 - val_accuracy: 0.0280\n",
      "Epoch 84/100\n",
      "32/34 [===========================>..] - ETA: 0s - loss: 14.1022 - accuracy: 0.0484\n",
      "Epoch 00084: val_accuracy did not improve from 0.04204\n",
      "34/34 [==============================] - 0s 5ms/step - loss: 14.1069 - accuracy: 0.0485 - val_loss: 14.5509 - val_accuracy: 0.0280\n",
      "Epoch 85/100\n",
      "23/34 [===================>..........] - ETA: 0s - loss: 14.1346 - accuracy: 0.0463\n",
      "Epoch 00085: val_accuracy did not improve from 0.04204\n",
      "34/34 [==============================] - 0s 5ms/step - loss: 14.1233 - accuracy: 0.0470 - val_loss: 14.5509 - val_accuracy: 0.0280\n",
      "Epoch 86/100\n",
      "23/34 [===================>..........] - ETA: 0s - loss: 14.1146 - accuracy: 0.0475\n",
      "Epoch 00086: val_accuracy did not improve from 0.04204\n",
      "34/34 [==============================] - 0s 5ms/step - loss: 14.1244 - accuracy: 0.0473 - val_loss: 14.5509 - val_accuracy: 0.0280\n",
      "Epoch 87/100\n",
      "31/34 [==========================>...] - ETA: 0s - loss: 14.1203 - accuracy: 0.0476\n",
      "Epoch 00087: val_accuracy did not improve from 0.04204\n",
      "34/34 [==============================] - 0s 5ms/step - loss: 14.1135 - accuracy: 0.0477 - val_loss: 14.5509 - val_accuracy: 0.0280\n",
      "Epoch 88/100\n",
      "29/34 [========================>.....] - ETA: 0s - loss: 14.1017 - accuracy: 0.0487\n",
      "Epoch 00088: val_accuracy did not improve from 0.04204\n",
      "34/34 [==============================] - 0s 6ms/step - loss: 14.1173 - accuracy: 0.0480 - val_loss: 14.5509 - val_accuracy: 0.0280\n",
      "Epoch 89/100\n",
      "23/34 [===================>..........] - ETA: 0s - loss: 14.1396 - accuracy: 0.0458\n",
      "Epoch 00089: val_accuracy did not improve from 0.04204\n",
      "34/34 [==============================] - 0s 5ms/step - loss: 14.1168 - accuracy: 0.0467 - val_loss: 14.5509 - val_accuracy: 0.0280\n",
      "Epoch 90/100\n",
      "23/34 [===================>..........] - ETA: 0s - loss: 14.1161 - accuracy: 0.0464\n",
      "Epoch 00090: val_accuracy did not improve from 0.04204\n",
      "34/34 [==============================] - 0s 5ms/step - loss: 14.1233 - accuracy: 0.0472 - val_loss: 14.5509 - val_accuracy: 0.0280\n",
      "Epoch 91/100\n",
      "23/34 [===================>..........] - ETA: 0s - loss: 14.1286 - accuracy: 0.0459\n",
      "Epoch 00091: val_accuracy did not improve from 0.04204\n",
      "34/34 [==============================] - 0s 5ms/step - loss: 14.1505 - accuracy: 0.0451 - val_loss: 14.5509 - val_accuracy: 0.0280\n",
      "Epoch 92/100\n",
      "23/34 [===================>..........] - ETA: 0s - loss: 14.1213 - accuracy: 0.0474\n",
      "Epoch 00092: val_accuracy did not improve from 0.04204\n",
      "34/34 [==============================] - 0s 5ms/step - loss: 14.1202 - accuracy: 0.0480 - val_loss: 14.5508 - val_accuracy: 0.0280\n",
      "Epoch 93/100\n",
      "32/34 [===========================>..] - ETA: 0s - loss: 14.1455 - accuracy: 0.0460\n",
      "Epoch 00093: val_accuracy did not improve from 0.04204\n",
      "34/34 [==============================] - 0s 5ms/step - loss: 14.1446 - accuracy: 0.0461 - val_loss: 14.5508 - val_accuracy: 0.0280\n",
      "Epoch 94/100\n",
      "23/34 [===================>..........] - ETA: 0s - loss: 14.1256 - accuracy: 0.0465\n",
      "Epoch 00094: val_accuracy did not improve from 0.04204\n",
      "34/34 [==============================] - 0s 5ms/step - loss: 14.1254 - accuracy: 0.0464 - val_loss: 14.5508 - val_accuracy: 0.0280\n",
      "Epoch 95/100\n",
      "30/34 [=========================>....] - ETA: 0s - loss: 14.1353 - accuracy: 0.0473- ETA: 0s - loss: 14.0969 - accuracy: 0.04\n",
      "Epoch 00095: val_accuracy did not improve from 0.04204\n",
      "34/34 [==============================] - 0s 6ms/step - loss: 14.1253 - accuracy: 0.0471 - val_loss: 14.5508 - val_accuracy: 0.0280\n",
      "Epoch 96/100\n",
      "34/34 [==============================] - ETA: 0s - loss: 14.1290 - accuracy: 0.0474\n",
      "Epoch 00096: val_accuracy did not improve from 0.04204\n",
      "34/34 [==============================] - 0s 5ms/step - loss: 14.1290 - accuracy: 0.0474 - val_loss: 14.5508 - val_accuracy: 0.0280\n",
      "Epoch 97/100\n",
      "23/34 [===================>..........] - ETA: 0s - loss: 14.1442 - accuracy: 0.0467\n",
      "Epoch 00097: val_accuracy did not improve from 0.04204\n",
      "34/34 [==============================] - 0s 5ms/step - loss: 14.1278 - accuracy: 0.0463 - val_loss: 14.5508 - val_accuracy: 0.0280\n",
      "Epoch 98/100\n",
      "32/34 [===========================>..] - ETA: 0s - loss: 14.1079 - accuracy: 0.0477\n",
      "Epoch 00098: val_accuracy did not improve from 0.04204\n",
      "34/34 [==============================] - 0s 5ms/step - loss: 14.1036 - accuracy: 0.0478 - val_loss: 14.5508 - val_accuracy: 0.0280\n",
      "Epoch 99/100\n",
      "32/34 [===========================>..] - ETA: 0s - loss: 14.1186 - accuracy: 0.0470\n",
      "Epoch 00099: val_accuracy did not improve from 0.04204\n",
      "34/34 [==============================] - 0s 5ms/step - loss: 14.1270 - accuracy: 0.0472 - val_loss: 14.5439 - val_accuracy: 0.0285\n",
      "Epoch 100/100\n",
      "34/34 [==============================] - ETA: 0s - loss: 14.1239 - accuracy: 0.0466\n",
      "Epoch 00100: val_accuracy did not improve from 0.04204\n",
      "34/34 [==============================] - 0s 5ms/step - loss: 14.1239 - accuracy: 0.0466 - val_loss: 14.5439 - val_accuracy: 0.0285\n"
     ]
    },
    {
     "data": {
      "text/plain": [
       "<tensorflow.python.keras.callbacks.History at 0x24edf454520>"
      ]
     },
     "execution_count": 142,
     "metadata": {},
     "output_type": "execute_result"
    }
   ],
   "source": [
    "model.compile(loss=\"categorical_crossentropy\", optimizer=\"adam\", metrics=[\"accuracy\"])\n",
    "model.fit(x=X_train,y=y_train,batch_size=BATCH_SIZE,epochs=EPOCHS,validation_data=(X_test,y_test),\n",
    "                  callbacks=callback_list)"
   ]
  },
  {
   "cell_type": "code",
   "execution_count": 130,
   "metadata": {
    "scrolled": true
   },
   "outputs": [
    {
     "name": "stdout",
     "output_type": "stream",
     "text": [
      "('Failed to import pydot. You must `pip install pydot` and install graphviz (https://graphviz.gitlab.io/download/), ', 'for `pydotprint` to work.')\n",
      "Epoch 1/100\n"
     ]
    },
    {
     "ename": "ValueError",
     "evalue": "in user code:\n\n    D:\\ProgramData\\Anaconda3\\lib\\site-packages\\tensorflow\\python\\keras\\engine\\training.py:806 train_function  *\n        return step_function(self, iterator)\n    D:\\ProgramData\\Anaconda3\\lib\\site-packages\\tensorflow\\python\\keras\\engine\\training.py:796 step_function  **\n        outputs = model.distribute_strategy.run(run_step, args=(data,))\n    D:\\ProgramData\\Anaconda3\\lib\\site-packages\\tensorflow\\python\\distribute\\distribute_lib.py:1211 run\n        return self._extended.call_for_each_replica(fn, args=args, kwargs=kwargs)\n    D:\\ProgramData\\Anaconda3\\lib\\site-packages\\tensorflow\\python\\distribute\\distribute_lib.py:2585 call_for_each_replica\n        return self._call_for_each_replica(fn, args, kwargs)\n    D:\\ProgramData\\Anaconda3\\lib\\site-packages\\tensorflow\\python\\distribute\\distribute_lib.py:2945 _call_for_each_replica\n        return fn(*args, **kwargs)\n    D:\\ProgramData\\Anaconda3\\lib\\site-packages\\tensorflow\\python\\keras\\engine\\training.py:789 run_step  **\n        outputs = model.train_step(data)\n    D:\\ProgramData\\Anaconda3\\lib\\site-packages\\tensorflow\\python\\keras\\engine\\training.py:748 train_step\n        loss = self.compiled_loss(\n    D:\\ProgramData\\Anaconda3\\lib\\site-packages\\tensorflow\\python\\keras\\engine\\compile_utils.py:204 __call__\n        loss_value = loss_obj(y_t, y_p, sample_weight=sw)\n    D:\\ProgramData\\Anaconda3\\lib\\site-packages\\tensorflow\\python\\keras\\losses.py:149 __call__\n        losses = ag_call(y_true, y_pred)\n    D:\\ProgramData\\Anaconda3\\lib\\site-packages\\tensorflow\\python\\keras\\losses.py:253 call  **\n        return ag_fn(y_true, y_pred, **self._fn_kwargs)\n    D:\\ProgramData\\Anaconda3\\lib\\site-packages\\tensorflow\\python\\util\\dispatch.py:201 wrapper\n        return target(*args, **kwargs)\n    D:\\ProgramData\\Anaconda3\\lib\\site-packages\\tensorflow\\python\\keras\\losses.py:1535 categorical_crossentropy\n        return K.categorical_crossentropy(y_true, y_pred, from_logits=from_logits)\n    D:\\ProgramData\\Anaconda3\\lib\\site-packages\\tensorflow\\python\\util\\dispatch.py:201 wrapper\n        return target(*args, **kwargs)\n    D:\\ProgramData\\Anaconda3\\lib\\site-packages\\tensorflow\\python\\keras\\backend.py:4687 categorical_crossentropy\n        target.shape.assert_is_compatible_with(output.shape)\n    D:\\ProgramData\\Anaconda3\\lib\\site-packages\\tensorflow\\python\\framework\\tensor_shape.py:1134 assert_is_compatible_with\n        raise ValueError(\"Shapes %s and %s are incompatible\" % (self, other))\n\n    ValueError: Shapes (None, 5, 27) and (None, 27) are incompatible\n",
     "output_type": "error",
     "traceback": [
      "\u001b[1;31m---------------------------------------------------------------------------\u001b[0m",
      "\u001b[1;31mValueError\u001b[0m                                Traceback (most recent call last)",
      "\u001b[1;32m<ipython-input-130-29cba82653e5>\u001b[0m in \u001b[0;36m<module>\u001b[1;34m\u001b[0m\n\u001b[0;32m      4\u001b[0m \u001b[0msave_model\u001b[0m\u001b[1;33m=\u001b[0m\u001b[0mkcallbacks\u001b[0m\u001b[1;33m.\u001b[0m\u001b[0mModelCheckpoint\u001b[0m\u001b[1;33m(\u001b[0m\u001b[0mfilepath\u001b[0m\u001b[1;33m=\u001b[0m\u001b[0mMODEL_SAVE_PATH\u001b[0m\u001b[1;33m,\u001b[0m\u001b[0mmonitor\u001b[0m\u001b[1;33m=\u001b[0m\u001b[1;34m'val_accuracy'\u001b[0m\u001b[1;33m,\u001b[0m\u001b[0mverbose\u001b[0m\u001b[1;33m=\u001b[0m\u001b[1;36m1\u001b[0m\u001b[1;33m,\u001b[0m\u001b[0msave_best_only\u001b[0m\u001b[1;33m=\u001b[0m\u001b[1;32mTrue\u001b[0m\u001b[1;33m)\u001b[0m\u001b[1;33m\u001b[0m\u001b[1;33m\u001b[0m\u001b[0m\n\u001b[0;32m      5\u001b[0m \u001b[0mcallback_list\u001b[0m\u001b[1;33m=\u001b[0m\u001b[1;33m[\u001b[0m\u001b[0msave_model\u001b[0m\u001b[1;33m,\u001b[0m\u001b[0mlr_reduce\u001b[0m\u001b[1;33m]\u001b[0m\u001b[1;33m\u001b[0m\u001b[1;33m\u001b[0m\u001b[0m\n\u001b[1;32m----> 6\u001b[1;33m history=model.fit(x=X_train,y=y_train,batch_size=BATCH_SIZE,epochs=EPOCHS,validation_data=(X_test,y_test),\n\u001b[0m\u001b[0;32m      7\u001b[0m                   callbacks=callback_list)\n",
      "\u001b[1;32mD:\\ProgramData\\Anaconda3\\lib\\site-packages\\tensorflow\\python\\keras\\engine\\training.py\u001b[0m in \u001b[0;36m_method_wrapper\u001b[1;34m(self, *args, **kwargs)\u001b[0m\n\u001b[0;32m    106\u001b[0m   \u001b[1;32mdef\u001b[0m \u001b[0m_method_wrapper\u001b[0m\u001b[1;33m(\u001b[0m\u001b[0mself\u001b[0m\u001b[1;33m,\u001b[0m \u001b[1;33m*\u001b[0m\u001b[0margs\u001b[0m\u001b[1;33m,\u001b[0m \u001b[1;33m**\u001b[0m\u001b[0mkwargs\u001b[0m\u001b[1;33m)\u001b[0m\u001b[1;33m:\u001b[0m\u001b[1;33m\u001b[0m\u001b[1;33m\u001b[0m\u001b[0m\n\u001b[0;32m    107\u001b[0m     \u001b[1;32mif\u001b[0m \u001b[1;32mnot\u001b[0m \u001b[0mself\u001b[0m\u001b[1;33m.\u001b[0m\u001b[0m_in_multi_worker_mode\u001b[0m\u001b[1;33m(\u001b[0m\u001b[1;33m)\u001b[0m\u001b[1;33m:\u001b[0m  \u001b[1;31m# pylint: disable=protected-access\u001b[0m\u001b[1;33m\u001b[0m\u001b[1;33m\u001b[0m\u001b[0m\n\u001b[1;32m--> 108\u001b[1;33m       \u001b[1;32mreturn\u001b[0m \u001b[0mmethod\u001b[0m\u001b[1;33m(\u001b[0m\u001b[0mself\u001b[0m\u001b[1;33m,\u001b[0m \u001b[1;33m*\u001b[0m\u001b[0margs\u001b[0m\u001b[1;33m,\u001b[0m \u001b[1;33m**\u001b[0m\u001b[0mkwargs\u001b[0m\u001b[1;33m)\u001b[0m\u001b[1;33m\u001b[0m\u001b[1;33m\u001b[0m\u001b[0m\n\u001b[0m\u001b[0;32m    109\u001b[0m \u001b[1;33m\u001b[0m\u001b[0m\n\u001b[0;32m    110\u001b[0m     \u001b[1;31m# Running inside `run_distribute_coordinator` already.\u001b[0m\u001b[1;33m\u001b[0m\u001b[1;33m\u001b[0m\u001b[1;33m\u001b[0m\u001b[0m\n",
      "\u001b[1;32mD:\\ProgramData\\Anaconda3\\lib\\site-packages\\tensorflow\\python\\keras\\engine\\training.py\u001b[0m in \u001b[0;36mfit\u001b[1;34m(self, x, y, batch_size, epochs, verbose, callbacks, validation_split, validation_data, shuffle, class_weight, sample_weight, initial_epoch, steps_per_epoch, validation_steps, validation_batch_size, validation_freq, max_queue_size, workers, use_multiprocessing)\u001b[0m\n\u001b[0;32m   1096\u001b[0m                 batch_size=batch_size):\n\u001b[0;32m   1097\u001b[0m               \u001b[0mcallbacks\u001b[0m\u001b[1;33m.\u001b[0m\u001b[0mon_train_batch_begin\u001b[0m\u001b[1;33m(\u001b[0m\u001b[0mstep\u001b[0m\u001b[1;33m)\u001b[0m\u001b[1;33m\u001b[0m\u001b[1;33m\u001b[0m\u001b[0m\n\u001b[1;32m-> 1098\u001b[1;33m               \u001b[0mtmp_logs\u001b[0m \u001b[1;33m=\u001b[0m \u001b[0mtrain_function\u001b[0m\u001b[1;33m(\u001b[0m\u001b[0miterator\u001b[0m\u001b[1;33m)\u001b[0m\u001b[1;33m\u001b[0m\u001b[1;33m\u001b[0m\u001b[0m\n\u001b[0m\u001b[0;32m   1099\u001b[0m               \u001b[1;32mif\u001b[0m \u001b[0mdata_handler\u001b[0m\u001b[1;33m.\u001b[0m\u001b[0mshould_sync\u001b[0m\u001b[1;33m:\u001b[0m\u001b[1;33m\u001b[0m\u001b[1;33m\u001b[0m\u001b[0m\n\u001b[0;32m   1100\u001b[0m                 \u001b[0mcontext\u001b[0m\u001b[1;33m.\u001b[0m\u001b[0masync_wait\u001b[0m\u001b[1;33m(\u001b[0m\u001b[1;33m)\u001b[0m\u001b[1;33m\u001b[0m\u001b[1;33m\u001b[0m\u001b[0m\n",
      "\u001b[1;32mD:\\ProgramData\\Anaconda3\\lib\\site-packages\\tensorflow\\python\\eager\\def_function.py\u001b[0m in \u001b[0;36m__call__\u001b[1;34m(self, *args, **kwds)\u001b[0m\n\u001b[0;32m    778\u001b[0m       \u001b[1;32melse\u001b[0m\u001b[1;33m:\u001b[0m\u001b[1;33m\u001b[0m\u001b[1;33m\u001b[0m\u001b[0m\n\u001b[0;32m    779\u001b[0m         \u001b[0mcompiler\u001b[0m \u001b[1;33m=\u001b[0m \u001b[1;34m\"nonXla\"\u001b[0m\u001b[1;33m\u001b[0m\u001b[1;33m\u001b[0m\u001b[0m\n\u001b[1;32m--> 780\u001b[1;33m         \u001b[0mresult\u001b[0m \u001b[1;33m=\u001b[0m \u001b[0mself\u001b[0m\u001b[1;33m.\u001b[0m\u001b[0m_call\u001b[0m\u001b[1;33m(\u001b[0m\u001b[1;33m*\u001b[0m\u001b[0margs\u001b[0m\u001b[1;33m,\u001b[0m \u001b[1;33m**\u001b[0m\u001b[0mkwds\u001b[0m\u001b[1;33m)\u001b[0m\u001b[1;33m\u001b[0m\u001b[1;33m\u001b[0m\u001b[0m\n\u001b[0m\u001b[0;32m    781\u001b[0m \u001b[1;33m\u001b[0m\u001b[0m\n\u001b[0;32m    782\u001b[0m       \u001b[0mnew_tracing_count\u001b[0m \u001b[1;33m=\u001b[0m \u001b[0mself\u001b[0m\u001b[1;33m.\u001b[0m\u001b[0m_get_tracing_count\u001b[0m\u001b[1;33m(\u001b[0m\u001b[1;33m)\u001b[0m\u001b[1;33m\u001b[0m\u001b[1;33m\u001b[0m\u001b[0m\n",
      "\u001b[1;32mD:\\ProgramData\\Anaconda3\\lib\\site-packages\\tensorflow\\python\\eager\\def_function.py\u001b[0m in \u001b[0;36m_call\u001b[1;34m(self, *args, **kwds)\u001b[0m\n\u001b[0;32m    821\u001b[0m       \u001b[1;31m# This is the first call of __call__, so we have to initialize.\u001b[0m\u001b[1;33m\u001b[0m\u001b[1;33m\u001b[0m\u001b[1;33m\u001b[0m\u001b[0m\n\u001b[0;32m    822\u001b[0m       \u001b[0minitializers\u001b[0m \u001b[1;33m=\u001b[0m \u001b[1;33m[\u001b[0m\u001b[1;33m]\u001b[0m\u001b[1;33m\u001b[0m\u001b[1;33m\u001b[0m\u001b[0m\n\u001b[1;32m--> 823\u001b[1;33m       \u001b[0mself\u001b[0m\u001b[1;33m.\u001b[0m\u001b[0m_initialize\u001b[0m\u001b[1;33m(\u001b[0m\u001b[0margs\u001b[0m\u001b[1;33m,\u001b[0m \u001b[0mkwds\u001b[0m\u001b[1;33m,\u001b[0m \u001b[0madd_initializers_to\u001b[0m\u001b[1;33m=\u001b[0m\u001b[0minitializers\u001b[0m\u001b[1;33m)\u001b[0m\u001b[1;33m\u001b[0m\u001b[1;33m\u001b[0m\u001b[0m\n\u001b[0m\u001b[0;32m    824\u001b[0m     \u001b[1;32mfinally\u001b[0m\u001b[1;33m:\u001b[0m\u001b[1;33m\u001b[0m\u001b[1;33m\u001b[0m\u001b[0m\n\u001b[0;32m    825\u001b[0m       \u001b[1;31m# At this point we know that the initialization is complete (or less\u001b[0m\u001b[1;33m\u001b[0m\u001b[1;33m\u001b[0m\u001b[1;33m\u001b[0m\u001b[0m\n",
      "\u001b[1;32mD:\\ProgramData\\Anaconda3\\lib\\site-packages\\tensorflow\\python\\eager\\def_function.py\u001b[0m in \u001b[0;36m_initialize\u001b[1;34m(self, args, kwds, add_initializers_to)\u001b[0m\n\u001b[0;32m    694\u001b[0m     \u001b[0mself\u001b[0m\u001b[1;33m.\u001b[0m\u001b[0m_graph_deleter\u001b[0m \u001b[1;33m=\u001b[0m \u001b[0mFunctionDeleter\u001b[0m\u001b[1;33m(\u001b[0m\u001b[0mself\u001b[0m\u001b[1;33m.\u001b[0m\u001b[0m_lifted_initializer_graph\u001b[0m\u001b[1;33m)\u001b[0m\u001b[1;33m\u001b[0m\u001b[1;33m\u001b[0m\u001b[0m\n\u001b[0;32m    695\u001b[0m     self._concrete_stateful_fn = (\n\u001b[1;32m--> 696\u001b[1;33m         self._stateful_fn._get_concrete_function_internal_garbage_collected(  # pylint: disable=protected-access\n\u001b[0m\u001b[0;32m    697\u001b[0m             *args, **kwds))\n\u001b[0;32m    698\u001b[0m \u001b[1;33m\u001b[0m\u001b[0m\n",
      "\u001b[1;32mD:\\ProgramData\\Anaconda3\\lib\\site-packages\\tensorflow\\python\\eager\\function.py\u001b[0m in \u001b[0;36m_get_concrete_function_internal_garbage_collected\u001b[1;34m(self, *args, **kwargs)\u001b[0m\n\u001b[0;32m   2853\u001b[0m       \u001b[0margs\u001b[0m\u001b[1;33m,\u001b[0m \u001b[0mkwargs\u001b[0m \u001b[1;33m=\u001b[0m \u001b[1;32mNone\u001b[0m\u001b[1;33m,\u001b[0m \u001b[1;32mNone\u001b[0m\u001b[1;33m\u001b[0m\u001b[1;33m\u001b[0m\u001b[0m\n\u001b[0;32m   2854\u001b[0m     \u001b[1;32mwith\u001b[0m \u001b[0mself\u001b[0m\u001b[1;33m.\u001b[0m\u001b[0m_lock\u001b[0m\u001b[1;33m:\u001b[0m\u001b[1;33m\u001b[0m\u001b[1;33m\u001b[0m\u001b[0m\n\u001b[1;32m-> 2855\u001b[1;33m       \u001b[0mgraph_function\u001b[0m\u001b[1;33m,\u001b[0m \u001b[0m_\u001b[0m\u001b[1;33m,\u001b[0m \u001b[0m_\u001b[0m \u001b[1;33m=\u001b[0m \u001b[0mself\u001b[0m\u001b[1;33m.\u001b[0m\u001b[0m_maybe_define_function\u001b[0m\u001b[1;33m(\u001b[0m\u001b[0margs\u001b[0m\u001b[1;33m,\u001b[0m \u001b[0mkwargs\u001b[0m\u001b[1;33m)\u001b[0m\u001b[1;33m\u001b[0m\u001b[1;33m\u001b[0m\u001b[0m\n\u001b[0m\u001b[0;32m   2856\u001b[0m     \u001b[1;32mreturn\u001b[0m \u001b[0mgraph_function\u001b[0m\u001b[1;33m\u001b[0m\u001b[1;33m\u001b[0m\u001b[0m\n\u001b[0;32m   2857\u001b[0m \u001b[1;33m\u001b[0m\u001b[0m\n",
      "\u001b[1;32mD:\\ProgramData\\Anaconda3\\lib\\site-packages\\tensorflow\\python\\eager\\function.py\u001b[0m in \u001b[0;36m_maybe_define_function\u001b[1;34m(self, args, kwargs)\u001b[0m\n\u001b[0;32m   3211\u001b[0m \u001b[1;33m\u001b[0m\u001b[0m\n\u001b[0;32m   3212\u001b[0m       \u001b[0mself\u001b[0m\u001b[1;33m.\u001b[0m\u001b[0m_function_cache\u001b[0m\u001b[1;33m.\u001b[0m\u001b[0mmissed\u001b[0m\u001b[1;33m.\u001b[0m\u001b[0madd\u001b[0m\u001b[1;33m(\u001b[0m\u001b[0mcall_context_key\u001b[0m\u001b[1;33m)\u001b[0m\u001b[1;33m\u001b[0m\u001b[1;33m\u001b[0m\u001b[0m\n\u001b[1;32m-> 3213\u001b[1;33m       \u001b[0mgraph_function\u001b[0m \u001b[1;33m=\u001b[0m \u001b[0mself\u001b[0m\u001b[1;33m.\u001b[0m\u001b[0m_create_graph_function\u001b[0m\u001b[1;33m(\u001b[0m\u001b[0margs\u001b[0m\u001b[1;33m,\u001b[0m \u001b[0mkwargs\u001b[0m\u001b[1;33m)\u001b[0m\u001b[1;33m\u001b[0m\u001b[1;33m\u001b[0m\u001b[0m\n\u001b[0m\u001b[0;32m   3214\u001b[0m       \u001b[0mself\u001b[0m\u001b[1;33m.\u001b[0m\u001b[0m_function_cache\u001b[0m\u001b[1;33m.\u001b[0m\u001b[0mprimary\u001b[0m\u001b[1;33m[\u001b[0m\u001b[0mcache_key\u001b[0m\u001b[1;33m]\u001b[0m \u001b[1;33m=\u001b[0m \u001b[0mgraph_function\u001b[0m\u001b[1;33m\u001b[0m\u001b[1;33m\u001b[0m\u001b[0m\n\u001b[0;32m   3215\u001b[0m       \u001b[1;32mreturn\u001b[0m \u001b[0mgraph_function\u001b[0m\u001b[1;33m,\u001b[0m \u001b[0margs\u001b[0m\u001b[1;33m,\u001b[0m \u001b[0mkwargs\u001b[0m\u001b[1;33m\u001b[0m\u001b[1;33m\u001b[0m\u001b[0m\n",
      "\u001b[1;32mD:\\ProgramData\\Anaconda3\\lib\\site-packages\\tensorflow\\python\\eager\\function.py\u001b[0m in \u001b[0;36m_create_graph_function\u001b[1;34m(self, args, kwargs, override_flat_arg_shapes)\u001b[0m\n\u001b[0;32m   3063\u001b[0m     \u001b[0marg_names\u001b[0m \u001b[1;33m=\u001b[0m \u001b[0mbase_arg_names\u001b[0m \u001b[1;33m+\u001b[0m \u001b[0mmissing_arg_names\u001b[0m\u001b[1;33m\u001b[0m\u001b[1;33m\u001b[0m\u001b[0m\n\u001b[0;32m   3064\u001b[0m     graph_function = ConcreteFunction(\n\u001b[1;32m-> 3065\u001b[1;33m         func_graph_module.func_graph_from_py_func(\n\u001b[0m\u001b[0;32m   3066\u001b[0m             \u001b[0mself\u001b[0m\u001b[1;33m.\u001b[0m\u001b[0m_name\u001b[0m\u001b[1;33m,\u001b[0m\u001b[1;33m\u001b[0m\u001b[1;33m\u001b[0m\u001b[0m\n\u001b[0;32m   3067\u001b[0m             \u001b[0mself\u001b[0m\u001b[1;33m.\u001b[0m\u001b[0m_python_function\u001b[0m\u001b[1;33m,\u001b[0m\u001b[1;33m\u001b[0m\u001b[1;33m\u001b[0m\u001b[0m\n",
      "\u001b[1;32mD:\\ProgramData\\Anaconda3\\lib\\site-packages\\tensorflow\\python\\framework\\func_graph.py\u001b[0m in \u001b[0;36mfunc_graph_from_py_func\u001b[1;34m(name, python_func, args, kwargs, signature, func_graph, autograph, autograph_options, add_control_dependencies, arg_names, op_return_value, collections, capture_by_value, override_flat_arg_shapes)\u001b[0m\n\u001b[0;32m    984\u001b[0m         \u001b[0m_\u001b[0m\u001b[1;33m,\u001b[0m \u001b[0moriginal_func\u001b[0m \u001b[1;33m=\u001b[0m \u001b[0mtf_decorator\u001b[0m\u001b[1;33m.\u001b[0m\u001b[0munwrap\u001b[0m\u001b[1;33m(\u001b[0m\u001b[0mpython_func\u001b[0m\u001b[1;33m)\u001b[0m\u001b[1;33m\u001b[0m\u001b[1;33m\u001b[0m\u001b[0m\n\u001b[0;32m    985\u001b[0m \u001b[1;33m\u001b[0m\u001b[0m\n\u001b[1;32m--> 986\u001b[1;33m       \u001b[0mfunc_outputs\u001b[0m \u001b[1;33m=\u001b[0m \u001b[0mpython_func\u001b[0m\u001b[1;33m(\u001b[0m\u001b[1;33m*\u001b[0m\u001b[0mfunc_args\u001b[0m\u001b[1;33m,\u001b[0m \u001b[1;33m**\u001b[0m\u001b[0mfunc_kwargs\u001b[0m\u001b[1;33m)\u001b[0m\u001b[1;33m\u001b[0m\u001b[1;33m\u001b[0m\u001b[0m\n\u001b[0m\u001b[0;32m    987\u001b[0m \u001b[1;33m\u001b[0m\u001b[0m\n\u001b[0;32m    988\u001b[0m       \u001b[1;31m# invariant: `func_outputs` contains only Tensors, CompositeTensors,\u001b[0m\u001b[1;33m\u001b[0m\u001b[1;33m\u001b[0m\u001b[1;33m\u001b[0m\u001b[0m\n",
      "\u001b[1;32mD:\\ProgramData\\Anaconda3\\lib\\site-packages\\tensorflow\\python\\eager\\def_function.py\u001b[0m in \u001b[0;36mwrapped_fn\u001b[1;34m(*args, **kwds)\u001b[0m\n\u001b[0;32m    598\u001b[0m         \u001b[1;31m# __wrapped__ allows AutoGraph to swap in a converted function. We give\u001b[0m\u001b[1;33m\u001b[0m\u001b[1;33m\u001b[0m\u001b[1;33m\u001b[0m\u001b[0m\n\u001b[0;32m    599\u001b[0m         \u001b[1;31m# the function a weak reference to itself to avoid a reference cycle.\u001b[0m\u001b[1;33m\u001b[0m\u001b[1;33m\u001b[0m\u001b[1;33m\u001b[0m\u001b[0m\n\u001b[1;32m--> 600\u001b[1;33m         \u001b[1;32mreturn\u001b[0m \u001b[0mweak_wrapped_fn\u001b[0m\u001b[1;33m(\u001b[0m\u001b[1;33m)\u001b[0m\u001b[1;33m.\u001b[0m\u001b[0m__wrapped__\u001b[0m\u001b[1;33m(\u001b[0m\u001b[1;33m*\u001b[0m\u001b[0margs\u001b[0m\u001b[1;33m,\u001b[0m \u001b[1;33m**\u001b[0m\u001b[0mkwds\u001b[0m\u001b[1;33m)\u001b[0m\u001b[1;33m\u001b[0m\u001b[1;33m\u001b[0m\u001b[0m\n\u001b[0m\u001b[0;32m    601\u001b[0m     \u001b[0mweak_wrapped_fn\u001b[0m \u001b[1;33m=\u001b[0m \u001b[0mweakref\u001b[0m\u001b[1;33m.\u001b[0m\u001b[0mref\u001b[0m\u001b[1;33m(\u001b[0m\u001b[0mwrapped_fn\u001b[0m\u001b[1;33m)\u001b[0m\u001b[1;33m\u001b[0m\u001b[1;33m\u001b[0m\u001b[0m\n\u001b[0;32m    602\u001b[0m \u001b[1;33m\u001b[0m\u001b[0m\n",
      "\u001b[1;32mD:\\ProgramData\\Anaconda3\\lib\\site-packages\\tensorflow\\python\\framework\\func_graph.py\u001b[0m in \u001b[0;36mwrapper\u001b[1;34m(*args, **kwargs)\u001b[0m\n\u001b[0;32m    971\u001b[0m           \u001b[1;32mexcept\u001b[0m \u001b[0mException\u001b[0m \u001b[1;32mas\u001b[0m \u001b[0me\u001b[0m\u001b[1;33m:\u001b[0m  \u001b[1;31m# pylint:disable=broad-except\u001b[0m\u001b[1;33m\u001b[0m\u001b[1;33m\u001b[0m\u001b[0m\n\u001b[0;32m    972\u001b[0m             \u001b[1;32mif\u001b[0m \u001b[0mhasattr\u001b[0m\u001b[1;33m(\u001b[0m\u001b[0me\u001b[0m\u001b[1;33m,\u001b[0m \u001b[1;34m\"ag_error_metadata\"\u001b[0m\u001b[1;33m)\u001b[0m\u001b[1;33m:\u001b[0m\u001b[1;33m\u001b[0m\u001b[1;33m\u001b[0m\u001b[0m\n\u001b[1;32m--> 973\u001b[1;33m               \u001b[1;32mraise\u001b[0m \u001b[0me\u001b[0m\u001b[1;33m.\u001b[0m\u001b[0mag_error_metadata\u001b[0m\u001b[1;33m.\u001b[0m\u001b[0mto_exception\u001b[0m\u001b[1;33m(\u001b[0m\u001b[0me\u001b[0m\u001b[1;33m)\u001b[0m\u001b[1;33m\u001b[0m\u001b[1;33m\u001b[0m\u001b[0m\n\u001b[0m\u001b[0;32m    974\u001b[0m             \u001b[1;32melse\u001b[0m\u001b[1;33m:\u001b[0m\u001b[1;33m\u001b[0m\u001b[1;33m\u001b[0m\u001b[0m\n\u001b[0;32m    975\u001b[0m               \u001b[1;32mraise\u001b[0m\u001b[1;33m\u001b[0m\u001b[1;33m\u001b[0m\u001b[0m\n",
      "\u001b[1;31mValueError\u001b[0m: in user code:\n\n    D:\\ProgramData\\Anaconda3\\lib\\site-packages\\tensorflow\\python\\keras\\engine\\training.py:806 train_function  *\n        return step_function(self, iterator)\n    D:\\ProgramData\\Anaconda3\\lib\\site-packages\\tensorflow\\python\\keras\\engine\\training.py:796 step_function  **\n        outputs = model.distribute_strategy.run(run_step, args=(data,))\n    D:\\ProgramData\\Anaconda3\\lib\\site-packages\\tensorflow\\python\\distribute\\distribute_lib.py:1211 run\n        return self._extended.call_for_each_replica(fn, args=args, kwargs=kwargs)\n    D:\\ProgramData\\Anaconda3\\lib\\site-packages\\tensorflow\\python\\distribute\\distribute_lib.py:2585 call_for_each_replica\n        return self._call_for_each_replica(fn, args, kwargs)\n    D:\\ProgramData\\Anaconda3\\lib\\site-packages\\tensorflow\\python\\distribute\\distribute_lib.py:2945 _call_for_each_replica\n        return fn(*args, **kwargs)\n    D:\\ProgramData\\Anaconda3\\lib\\site-packages\\tensorflow\\python\\keras\\engine\\training.py:789 run_step  **\n        outputs = model.train_step(data)\n    D:\\ProgramData\\Anaconda3\\lib\\site-packages\\tensorflow\\python\\keras\\engine\\training.py:748 train_step\n        loss = self.compiled_loss(\n    D:\\ProgramData\\Anaconda3\\lib\\site-packages\\tensorflow\\python\\keras\\engine\\compile_utils.py:204 __call__\n        loss_value = loss_obj(y_t, y_p, sample_weight=sw)\n    D:\\ProgramData\\Anaconda3\\lib\\site-packages\\tensorflow\\python\\keras\\losses.py:149 __call__\n        losses = ag_call(y_true, y_pred)\n    D:\\ProgramData\\Anaconda3\\lib\\site-packages\\tensorflow\\python\\keras\\losses.py:253 call  **\n        return ag_fn(y_true, y_pred, **self._fn_kwargs)\n    D:\\ProgramData\\Anaconda3\\lib\\site-packages\\tensorflow\\python\\util\\dispatch.py:201 wrapper\n        return target(*args, **kwargs)\n    D:\\ProgramData\\Anaconda3\\lib\\site-packages\\tensorflow\\python\\keras\\losses.py:1535 categorical_crossentropy\n        return K.categorical_crossentropy(y_true, y_pred, from_logits=from_logits)\n    D:\\ProgramData\\Anaconda3\\lib\\site-packages\\tensorflow\\python\\util\\dispatch.py:201 wrapper\n        return target(*args, **kwargs)\n    D:\\ProgramData\\Anaconda3\\lib\\site-packages\\tensorflow\\python\\keras\\backend.py:4687 categorical_crossentropy\n        target.shape.assert_is_compatible_with(output.shape)\n    D:\\ProgramData\\Anaconda3\\lib\\site-packages\\tensorflow\\python\\framework\\tensor_shape.py:1134 assert_is_compatible_with\n        raise ValueError(\"Shapes %s and %s are incompatible\" % (self, other))\n\n    ValueError: Shapes (None, 5, 27) and (None, 27) are incompatible\n"
     ]
    }
   ],
   "source": [
    "model.compile(optimizer='adam',loss='categorical_crossentropy',metrics=['accuracy'])\n",
    "plot_model(model,'model_pinyin.jpg',show_shapes=True)\n",
    "lr_reduce=kcallbacks.ReduceLROnPlateau(monitor='val_loss',factor=0.5,patience=6,verbose=1,min_lr=0.00001)\n",
    "save_model=kcallbacks.ModelCheckpoint(filepath=MODEL_SAVE_PATH,monitor='val_accuracy',verbose=1,save_best_only=True)\n",
    "callback_list=[save_model,lr_reduce]\n",
    "history=model.fit(x=X_train,y=y_train,batch_size=BATCH_SIZE,epochs=EPOCHS,validation_data=(X_test,y_test),\n",
    "                  callbacks=callback_list)"
   ]
  },
  {
   "cell_type": "markdown",
   "metadata": {},
   "source": [
    "## plot_curve"
   ]
  },
  {
   "cell_type": "code",
   "execution_count": 34,
   "metadata": {},
   "outputs": [],
   "source": [
    "from help import plot_curve,plot_curve_with_smooth"
   ]
  },
  {
   "cell_type": "code",
   "execution_count": 35,
   "metadata": {},
   "outputs": [
    {
     "name": "stderr",
     "output_type": "stream",
     "text": [
      "D:\\Academic\\FYP\\corpus1\\CODE\\help.py:22: MatplotlibDeprecationWarning: Passing the minor parameter of set_xticks() positionally is deprecated since Matplotlib 3.2; the parameter will become keyword-only two minor releases later.\n",
      "  axs[0].set_xticks(np.arange(1, len(history.history['accuracy']) + 1), len(history.history['accuracy']) / 10)\n",
      "D:\\Academic\\FYP\\corpus1\\CODE\\help.py:31: MatplotlibDeprecationWarning: Passing the minor parameter of set_xticks() positionally is deprecated since Matplotlib 3.2; the parameter will become keyword-only two minor releases later.\n",
      "  axs[1].set_xticks(np.arange(1, len(history.history['loss']) + 1), len(history.history['loss']) / 10)\n"
     ]
    },
    {
     "data": {
      "image/png": "[encoded data removed]",
      "text/plain": [
       "<Figure size 1080x360 with 2 Axes>"
      ]
     },
     "metadata": {},
     "output_type": "display_data"
    }
   ],
   "source": [
    "plot_curve(history)"
   ]
  },
  {
   "cell_type": "code",
   "execution_count": 76,
   "metadata": {},
   "outputs": [
    {
     "data": {
      "image/png": "[encoded data removed]",
      "text/plain": [
       "<matplotlib.figure.Figure at 0x13789808320>"
      ]
     },
     "metadata": {},
     "output_type": "display_data"
    }
   ],
   "source": [
    "plot_curve_with_smooth(history)"
   ]
  },
  {
   "cell_type": "markdown",
   "metadata": {},
   "source": [
    "## confusion_metrix"
   ]
  },
  {
   "cell_type": "code",
   "execution_count": 20,
   "metadata": {
    "collapsed": true,
    "jupyter": {
     "outputs_hidden": true
    }
   },
   "outputs": [],
   "source": [
    "model.load_weights('./models/pinyin_gabor_cnn.h5')"
   ]
  },
  {
   "cell_type": "code",
   "execution_count": 77,
   "metadata": {},
   "outputs": [
    {
     "data": {
      "image/png": "[encoded data removed]",
      "text/plain": [
       "<matplotlib.figure.Figure at 0x13789808438>"
      ]
     },
     "metadata": {},
     "output_type": "display_data"
    }
   ],
   "source": [
    "from sklearn.metrics import confusion_matrix\n",
    "import matplotlib.pyplot as plt\n",
    "%matplotlib inline\n",
    "y_pred=model.predict(X_test)\n",
    "y_pred=np.argmax(y_pred,axis=-1).ravel()\n",
    "y_true=np.argmax(y_test,axis=-1).ravel()\n",
    "con_matrix=confusion_matrix(y_true=y_true,y_pred=y_pred)\n",
    "def plot_confusion_matrix(confusion_mat):\n",
    "    plt.figure(figsize=(12,8))\n",
    "    plt.imshow(confusion_mat)\n",
    "    plt.title('Confusion Matrix')\n",
    "    plt.colorbar()\n",
    "    labels = list(range(0,27))\n",
    "    tick_marks = np.arange(len(labels))\n",
    "    plt.xticks(tick_marks, labels)\n",
    "    plt.yticks(tick_marks, labels)\n",
    "    plt.ylabel('True Label')\n",
    "    plt.xlabel('Predicted Label')\n",
    "    plt.grid(False)\n",
    "    plt.show() \n",
    "plot_confusion_matrix(con_matrix)"
   ]
  },
  {
   "cell_type": "markdown",
   "metadata": {},
   "source": [
    "## classfication_report"
   ]
  },
  {
   "cell_type": "code",
   "execution_count": 78,
   "metadata": {
    "collapsed": true,
    "jupyter": {
     "outputs_hidden": true
    }
   },
   "outputs": [],
   "source": [
    "from sklearn.metrics import classification_report\n"
   ]
  },
  {
   "cell_type": "code",
   "execution_count": 79,
   "metadata": {
    "scrolled": true
   },
   "outputs": [
    {
     "name": "stdout",
     "output_type": "stream",
     "text": [
      "             precision    recall  f1-score   support\n",
      "\n",
      "          0     0.7498    0.9548    0.8400       907\n",
      "          a     0.6129    0.6514    0.6316       175\n",
      "          b     0.4583    0.5000    0.4783        22\n",
      "          c     0.7000    0.3256    0.4444        43\n",
      "          d     0.2143    0.2143    0.2143        14\n",
      "          e     0.5862    0.2394    0.3400        71\n",
      "          f     0.0000    0.0000    0.0000         5\n",
      "          g     0.5517    0.1416    0.2254       113\n",
      "          h     0.5926    0.3107    0.4076       103\n",
      "          i     0.5396    0.7389    0.6237       203\n",
      "          j     0.2400    0.3333    0.2791        18\n",
      "          k     0.5000    0.1250    0.2000         8\n",
      "          l     0.2258    0.4118    0.2917        34\n",
      "          m     0.5000    0.4783    0.4889        23\n",
      "          n     0.5059    0.2205    0.3071       195\n",
      "          o     0.7222    0.1733    0.2796        75\n",
      "          p     0.4167    0.4167    0.4167        12\n",
      "          q     0.2500    0.2500    0.2500        16\n",
      "          r     0.5385    0.7000    0.6087        10\n",
      "          s     0.2889    0.4643    0.3562        28\n",
      "          t     0.4375    0.4375    0.4375        16\n",
      "          u     0.6042    0.4427    0.5110       131\n",
      "          v     0.1429    0.2000    0.1667         5\n",
      "          w     0.2500    0.3750    0.3000        16\n",
      "          x     0.2800    0.2258    0.2500        31\n",
      "          y     0.4091    0.4000    0.4045        45\n",
      "          z     0.3125    0.4167    0.3571        36\n",
      "\n",
      "avg / total     0.6102    0.6166    0.5840      2355\n",
      "\n"
     ]
    }
   ],
   "source": [
    "target_names=[alphabet_set[i] for i in range(27)]\n",
    "print(classification_report(y_true,y_pred,digits=4,labels=list(range(27)),target_names=target_names))"
   ]
  },
  {
   "cell_type": "markdown",
   "metadata": {},
   "source": [
    "# predict test"
   ]
  },
  {
   "cell_type": "code",
   "execution_count": 81,
   "metadata": {},
   "outputs": [
    {
     "name": "stdout",
     "output_type": "stream",
     "text": [
      "(1, 35, 7)\n",
      "Predict Label:ji\n"
     ]
    }
   ],
   "source": [
    "\n",
    "temp = np.load('./gabor/person1_time1_group1_he_2.npy')\n",
    "m,n = temp.shape\n",
    "            #print(m)\n",
    "if m <=35:\n",
    "    left = 36 - m\n",
    "    temp =np.append(temp,(np.zeros([left,n])),axis=0)\n",
    "test =[]\n",
    "test.append(temp[:35,])\n",
    "test = np.array(test)\n",
    "print(test.shape)\n",
    "pred=model.predict(test)\n",
    "\n",
    "pred=np.argmax(pred,axis=-1)[0]\n",
    "text=[alphabet_set[i] for i in pred]\n",
    "text=[i for i in text if i!='0']\n",
    "text=''.join(text)\n",
    "print('Predict Label:%s'%(text))"
   ]
  },
  {
   "cell_type": "code",
   "execution_count": 82,
   "metadata": {},
   "outputs": [
    {
     "name": "stdout",
     "output_type": "stream",
     "text": [
      "(1, 35, 7)\n",
      "Predict Label:maa\n"
     ]
    }
   ],
   "source": [
    "\n",
    "temp = np.load('./gabor/person1_time1_group1_ba_1.npy')\n",
    "m,n = temp.shape\n",
    "            #print(m)\n",
    "if m <=35:\n",
    "    left = 36 - m\n",
    "    temp =np.append(temp,(np.zeros([left,n])),axis=0)\n",
    "test =[]\n",
    "test.append(temp[:35,])\n",
    "test = np.array(test)\n",
    "print(test.shape)\n",
    "pred=model.predict(test)\n",
    "\n",
    "pred=np.argmax(pred,axis=-1)[0]\n",
    "text=[alphabet_set[i] for i in pred]\n",
    "text=[i for i in text if i!='0']\n",
    "text=''.join(text)\n",
    "print('Predict Label:%s'%(text))"
   ]
  },
  {
   "cell_type": "code",
   "execution_count": 86,
   "metadata": {},
   "outputs": [
    {
     "name": "stdout",
     "output_type": "stream",
     "text": [
      "(1, 35, 7)\n",
      "Predict Label:maa\n"
     ]
    }
   ],
   "source": [
    "\n",
    "temp = np.load('./gabor/person2_time1_group1_da_4.npy')\n",
    "m,n = temp.shape\n",
    "            #print(m)\n",
    "if m <=35:\n",
    "    left = 36 - m\n",
    "    temp =np.append(temp,(np.zeros([left,n])),axis=0)\n",
    "test =[]\n",
    "test.append(temp[:35,])\n",
    "test = np.array(test)\n",
    "print(test.shape)\n",
    "pred=model.predict(test)\n",
    "\n",
    "pred=np.argmax(pred,axis=-1)[0]\n",
    "text=[alphabet_set[i] for i in pred]\n",
    "text=[i for i in text if i!='0']\n",
    "text=''.join(text)\n",
    "print('Predict Label:%s'%(text))"
   ]
  },
  {
   "cell_type": "code",
   "execution_count": null,
   "metadata": {
    "collapsed": true,
    "jupyter": {
     "outputs_hidden": true
    }
   },
   "outputs": [],
   "source": []
  },
  {
   "cell_type": "code",
   "execution_count": null,
   "metadata": {},
   "outputs": [],
   "source": [
    "X_train = np.expand_dims(X_train, axis=3)\n",
    "X_test = np.expand_dims(X_test, axis=3)"
   ]
  }
 ],
 "metadata": {
  "kernelspec": {
   "display_name": "Python 3",
   "language": "python",
   "name": "python3"
  },
  "language_info": {
   "codemirror_mode": {
    "name": "ipython",
    "version": 3
   },
   "file_extension": ".py",
   "mimetype": "text/x-python",
   "name": "python",
   "nbconvert_exporter": "python",
   "pygments_lexer": "ipython3",
   "version": "3.8.3"
  },
  "toc": {
   "base_numbering": 1,
   "nav_menu": {},
   "number_sections": true,
   "sideBar": true,
   "skip_h1_title": false,
   "title_cell": "Table of Contents",
   "title_sidebar": "Contents",
   "toc_cell": false,
   "toc_position": {
    "height": "calc(100% - 180px)",
    "left": "10px",
    "top": "150px",
    "width": "250px"
   },
   "toc_section_display": true,
   "toc_window_display": true
  }
 },
 "nbformat": 4,
 "nbformat_minor": 4
}
