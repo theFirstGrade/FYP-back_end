{
 "cells": [
  {
   "cell_type": "markdown",
   "metadata": {},
   "source": [
    "# import modules"
   ]
  },
  {
   "cell_type": "code",
   "execution_count": 3,
   "metadata": {},
   "outputs": [],
   "source": [
    "import keras\n",
    "from keras.utils import plot_model,to_categorical\n",
    "from keras import Model,Input,regularizers\n",
    "from keras.layers import Reshape,Flatten\n",
    "import numpy as np\n",
    "from sklearn.model_selection import train_test_split\n",
    "import keras.backend as K\n",
    "import keras.callbacks as kcallbacks\n",
    "from sklearn.preprocessing import LabelEncoder\n",
    "import string\n",
    "from keras.optimizers import SGD\n",
    "import warnings\n",
    "import tensorflow as tf\n",
    "# from lsuv_init import LSUVinit\n",
    "warnings.filterwarnings('ignore')\n",
    "from tensorflow.keras import layers\n",
    "from keras.layers import Input, Dense, LSTM, merge ,Conv1D,Dropout,Bidirectional,Multiply,BatchNormalization,MaxPool1D\n",
    "from keras.models import Model\n",
    "\n",
    "\n",
    "from attention_utils import get_activations\n",
    "from keras.layers import merge\n",
    "from keras.layers.core import *\n",
    "from keras.layers.recurrent import LSTM\n",
    "from keras.models import *\n",
    "\n",
    "import  pandas as pd\n",
    "import  numpy as np\n",
    "from keras.wrappers import scikit_learn"
   ]
  },
  {
   "cell_type": "markdown",
   "metadata": {},
   "source": [
    "# Load Features"
   ]
  },
  {
   "cell_type": "code",
   "execution_count": 4,
   "metadata": {},
   "outputs": [],
   "source": [
    "X_features=np.load('./feature/X_gabor.npy')\n",
    "y=np.load('./feature/y_final.npy')"
   ]
  },
  {
   "cell_type": "code",
   "execution_count": 5,
   "metadata": {},
   "outputs": [
    {
     "data": {
      "text/plain": [
       "(4704, 35, 7)"
      ]
     },
     "execution_count": 5,
     "metadata": {},
     "output_type": "execute_result"
    }
   ],
   "source": [
    "X_features.shape"
   ]
  },
  {
   "cell_type": "code",
   "execution_count": 6,
   "metadata": {},
   "outputs": [
    {
     "data": {
      "text/plain": [
       "(4704, 4)"
      ]
     },
     "execution_count": 6,
     "metadata": {},
     "output_type": "execute_result"
    }
   ],
   "source": [
    "y.shape"
   ]
  },
  {
   "cell_type": "code",
   "execution_count": 7,
   "metadata": {},
   "outputs": [
    {
     "data": {
      "text/plain": [
       "array(['1', '0', '0', '0'], dtype='<U1')"
      ]
     },
     "execution_count": 7,
     "metadata": {},
     "output_type": "execute_result"
    }
   ],
   "source": [
    "y[0]"
   ]
  },
  {
   "cell_type": "code",
   "execution_count": 8,
   "metadata": {},
   "outputs": [],
   "source": [
    "alphabet_set={'0': 0,'a': 1,'e': 2,'g': 3,'i': 4,'n': 5,'o': 6,'r': 7,'u': 8,'v': 9}"
   ]
  },
  {
   "cell_type": "code",
   "execution_count": 9,
   "metadata": {},
   "outputs": [],
   "source": [
    "alphabet_set={value:key for key,value in alphabet_set.items()}"
   ]
  },
  {
   "cell_type": "markdown",
   "metadata": {},
   "source": [
    "## One-hot Encoding"
   ]
  },
  {
   "cell_type": "code",
   "execution_count": 10,
   "metadata": {},
   "outputs": [],
   "source": [
    "y=to_categorical(y,num_classes=10)"
   ]
  },
  {
   "cell_type": "code",
   "execution_count": 11,
   "metadata": {},
   "outputs": [
    {
     "data": {
      "text/plain": [
       "(4704, 4, 10)"
      ]
     },
     "execution_count": 11,
     "metadata": {},
     "output_type": "execute_result"
    }
   ],
   "source": [
    "y.shape"
   ]
  },
  {
   "cell_type": "markdown",
   "metadata": {},
   "source": [
    "## split train and test"
   ]
  },
  {
   "cell_type": "code",
   "execution_count": 13,
   "metadata": {},
   "outputs": [],
   "source": [
    "X_train, X_test, y_train, y_test=train_test_split(X_features,y,test_size=0.2,random_state=2019)"
   ]
  },
  {
   "cell_type": "code",
   "execution_count": 14,
   "metadata": {},
   "outputs": [
    {
     "data": {
      "text/plain": [
       "((3763, 35, 7), (941, 35, 7))"
      ]
     },
     "execution_count": 14,
     "metadata": {},
     "output_type": "execute_result"
    }
   ],
   "source": [
    "X_train.shape,X_test.shape"
   ]
  },
  {
   "cell_type": "code",
   "execution_count": 15,
   "metadata": {},
   "outputs": [
    {
     "data": {
      "text/plain": [
       "((3763, 4, 10), (941, 4, 10))"
      ]
     },
     "execution_count": 15,
     "metadata": {},
     "output_type": "execute_result"
    }
   ],
   "source": [
    "y_train.shape,y_test.shape"
   ]
  },
  {
   "cell_type": "markdown",
   "metadata": {},
   "source": [
    "# Models\n"
   ]
  },
  {
   "cell_type": "code",
   "execution_count": 16,
   "metadata": {},
   "outputs": [],
   "source": [
    "NUM_CLASSES=10\n",
    "BATCH_SIZE=128\n",
    "EPOCHS=100\n",
    "MODEL_SAVE_PATH='.\\model\\final_gabor_cnn.h5'"
   ]
  },
  {
   "cell_type": "code",
   "execution_count": 21,
   "metadata": {
    "scrolled": true
   },
   "outputs": [],
   "source": [
    "SINGLE_ATTENTION_VECTOR = False\n",
    "def attention_3d_block(inputs, single_attention_vector=False):\n",
    "    # 如果上一层是LSTM，需要return_sequences=True\n",
    "    # inputs.shape = (batch_size, time_steps, input_dim)\n",
    "    time_steps = K.int_shape(inputs)[1]\n",
    "    input_dim = K.int_shape(inputs)[2]\n",
    "    a = Permute((2, 1))(inputs)\n",
    "    a = Dense(time_steps, activation='softmax', name='attention')(a)\n",
    "    if single_attention_vector:\n",
    "        a = Lambda(lambda x: K.mean(x, axis=1))(a)\n",
    "        a = RepeatVector(input_dim)(a)\n",
    "\n",
    "    a_probs = Permute((2, 1))(a)\n",
    "    # 乘上了attention权重，但是并没有求和，好像影响不大\n",
    "    # 如果分类任务，进行Flatten展开就可以了\n",
    "    # element-wise\n",
    "    output_attention_mul = Multiply()([inputs, a_probs])\n",
    "    return output_attention_mul\n",
    "\n",
    "def attention_model():\n",
    "    inputs = Input(shape=(35, 7))\n",
    "    x=BatchNormalization()(inputs)\n",
    "    x = Conv1D(filters = 32, kernel_size = 1, padding=\"same\",kernel_initializer='he_normal',\n",
    "                bias_initializer='zeros',activation = 'relu')(x)  #, padding = 'same'\n",
    "    x = MaxPool1D()(x)\n",
    "    #lstm_out = Bidirectional(LSTM(lstm_units, activation='relu'), name='bilstm')(x)\n",
    "    #对于GPU可以使用CuDNNLSTM\n",
    "    lstm_out = Bidirectional(LSTM(64, return_sequences=True))(x)\n",
    "    lstm_out = Bidirectional(LSTM(64, return_sequences=True))(lstm_out)\n",
    "    attention_mul = attention_3d_block(lstm_out)\n",
    "    attention_mul=MaxPool1D(pool_size=10,strides=2)(attention_mul)\n",
    "    output = Dense(10, activation='sigmoid')(attention_mul)\n",
    "    model = Model(inputs=[inputs], outputs=output)\n",
    "    return model"
   ]
  },
  {
   "cell_type": "code",
   "execution_count": 22,
   "metadata": {},
   "outputs": [
    {
     "name": "stdout",
     "output_type": "stream",
     "text": [
      "Model: \"functional_5\"\n",
      "__________________________________________________________________________________________________\n",
      "Layer (type)                    Output Shape         Param #     Connected to                     \n",
      "==================================================================================================\n",
      "input_3 (InputLayer)            [(None, 35, 7)]      0                                            \n",
      "__________________________________________________________________________________________________\n",
      "batch_normalization_2 (BatchNor (None, 35, 7)        28          input_3[0][0]                    \n",
      "__________________________________________________________________________________________________\n",
      "conv1d_2 (Conv1D)               (None, 35, 32)       256         batch_normalization_2[0][0]      \n",
      "__________________________________________________________________________________________________\n",
      "max_pooling1d_4 (MaxPooling1D)  (None, 17, 32)       0           conv1d_2[0][0]                   \n",
      "__________________________________________________________________________________________________\n",
      "bidirectional_4 (Bidirectional) (None, 17, 128)      49664       max_pooling1d_4[0][0]            \n",
      "__________________________________________________________________________________________________\n",
      "bidirectional_5 (Bidirectional) (None, 17, 128)      98816       bidirectional_4[0][0]            \n",
      "__________________________________________________________________________________________________\n",
      "permute_4 (Permute)             (None, 128, 17)      0           bidirectional_5[0][0]            \n",
      "__________________________________________________________________________________________________\n",
      "attention (Dense)               (None, 128, 17)      306         permute_4[0][0]                  \n",
      "__________________________________________________________________________________________________\n",
      "permute_5 (Permute)             (None, 17, 128)      0           attention[0][0]                  \n",
      "__________________________________________________________________________________________________\n",
      "multiply_2 (Multiply)           (None, 17, 128)      0           bidirectional_5[0][0]            \n",
      "                                                                 permute_5[0][0]                  \n",
      "__________________________________________________________________________________________________\n",
      "max_pooling1d_5 (MaxPooling1D)  (None, 4, 128)       0           multiply_2[0][0]                 \n",
      "__________________________________________________________________________________________________\n",
      "dense_2 (Dense)                 (None, 4, 10)        1290        max_pooling1d_5[0][0]            \n",
      "==================================================================================================\n",
      "Total params: 150,360\n",
      "Trainable params: 150,346\n",
      "Non-trainable params: 14\n",
      "__________________________________________________________________________________________________\n"
     ]
    }
   ],
   "source": [
    "model = attention_model()\n",
    "model.summary()"
   ]
  },
  {
   "cell_type": "code",
   "execution_count": 24,
   "metadata": {},
   "outputs": [
    {
     "name": "stdout",
     "output_type": "stream",
     "text": [
      "_________________________________________________________________\n",
      "Layer (type)                 Output Shape              Param #   \n",
      "=================================================================\n",
      "input_1 (InputLayer)         (None, 35, 7)             0         \n",
      "_________________________________________________________________\n",
      "bidirectional_1 (Bidirection (None, 35, 64)            10240     \n",
      "_________________________________________________________________\n",
      "dense_1 (Dense)              (None, 35, 10)            650       \n",
      "=================================================================\n",
      "Total params: 10,890\n",
      "Trainable params: 10,890\n",
      "Non-trainable params: 0\n",
      "_________________________________________________________________\n"
     ]
    }
   ],
   "source": [
    "K.clear_session()\n",
    "inputs=Input(shape=(35,7))\n",
    "x=Bidirectional(LSTM(32,return_sequences=True,dropout=0.25))(inputs)\n",
    "#x=Bidirectional(LSTM(50,dropout=0.25))(x)\n",
    "x=Dense(NUM_CLASSES,activation='softmax')(x)\n",
    "model=Model(inputs=inputs,outputs=x)\n",
    "model.summary()"
   ]
  },
  {
   "cell_type": "code",
   "execution_count": 27,
   "metadata": {
    "scrolled": true
   },
   "outputs": [
    {
     "name": "stdout",
     "output_type": "stream",
     "text": [
      "('Failed to import pydot. You must `pip install pydot` and install graphviz (https://graphviz.gitlab.io/download/), ', 'for `pydotprint` to work.')\n",
      "Epoch 1/100\n",
      "29/30 [============================>.] - ETA: 0s - loss: 0.3931 - accuracy: 0.8610\n",
      "Epoch 00001: val_accuracy improved from -inf to 0.77258, saving model to .\\model\f",
      "inal_gabor_cnn.h5\n",
      "30/30 [==============================] - 2s 75ms/step - loss: 0.3944 - accuracy: 0.8603 - val_loss: 0.6568 - val_accuracy: 0.7726\n",
      "Epoch 2/100\n",
      "29/30 [============================>.] - ETA: 0s - loss: 0.3786 - accuracy: 0.8630\n",
      "Epoch 00002: val_accuracy improved from 0.77258 to 0.77285, saving model to .\\model\f",
      "inal_gabor_cnn.h5\n",
      "30/30 [==============================] - 1s 33ms/step - loss: 0.3799 - accuracy: 0.8629 - val_loss: 0.6524 - val_accuracy: 0.7728\n",
      "Epoch 3/100\n",
      "29/30 [============================>.] - ETA: 0s - loss: 0.3771 - accuracy: 0.8673\n",
      "Epoch 00003: val_accuracy did not improve from 0.77285\n",
      "30/30 [==============================] - 1s 33ms/step - loss: 0.3761 - accuracy: 0.8676 - val_loss: 0.6547 - val_accuracy: 0.7707\n",
      "Epoch 4/100\n",
      "29/30 [============================>.] - ETA: 0s - loss: 0.3697 - accuracy: 0.8710\n",
      "Epoch 00004: val_accuracy did not improve from 0.77285\n",
      "30/30 [==============================] - 1s 31ms/step - loss: 0.3694 - accuracy: 0.8714 - val_loss: 0.6467 - val_accuracy: 0.7715\n",
      "Epoch 5/100\n",
      "29/30 [============================>.] - ETA: 0s - loss: 0.3598 - accuracy: 0.8728\n",
      "Epoch 00005: val_accuracy did not improve from 0.77285\n",
      "30/30 [==============================] - 1s 29ms/step - loss: 0.3606 - accuracy: 0.8724 - val_loss: 0.6486 - val_accuracy: 0.7705\n",
      "Epoch 6/100\n",
      "29/30 [============================>.] - ETA: 0s - loss: 0.3577 - accuracy: 0.8746\n",
      "Epoch 00006: val_accuracy improved from 0.77285 to 0.77976, saving model to .\\model\f",
      "inal_gabor_cnn.h5\n",
      "30/30 [==============================] - 1s 31ms/step - loss: 0.3568 - accuracy: 0.8748 - val_loss: 0.6431 - val_accuracy: 0.7798\n",
      "Epoch 7/100\n",
      "29/30 [============================>.] - ETA: 0s - loss: 0.3474 - accuracy: 0.8801\n",
      "Epoch 00007: val_accuracy did not improve from 0.77976\n",
      "30/30 [==============================] - 1s 31ms/step - loss: 0.3478 - accuracy: 0.8798 - val_loss: 0.6468 - val_accuracy: 0.7694\n",
      "Epoch 8/100\n",
      "29/30 [============================>.] - ETA: 0s - loss: 0.3388 - accuracy: 0.8834\n",
      "Epoch 00008: val_accuracy did not improve from 0.77976\n",
      "30/30 [==============================] - 1s 31ms/step - loss: 0.3420 - accuracy: 0.8823 - val_loss: 0.6403 - val_accuracy: 0.7731\n",
      "Epoch 9/100\n",
      "29/30 [============================>.] - ETA: 0s - loss: 0.3553 - accuracy: 0.8766\n",
      "Epoch 00009: val_accuracy did not improve from 0.77976\n",
      "30/30 [==============================] - 1s 30ms/step - loss: 0.3583 - accuracy: 0.8754 - val_loss: 0.6553 - val_accuracy: 0.7670\n",
      "Epoch 10/100\n",
      "29/30 [============================>.] - ETA: 0s - loss: 0.3776 - accuracy: 0.8660\n",
      "Epoch 00010: val_accuracy did not improve from 0.77976\n",
      "30/30 [==============================] - 1s 29ms/step - loss: 0.3772 - accuracy: 0.8661 - val_loss: 0.6369 - val_accuracy: 0.7779\n",
      "Epoch 11/100\n",
      "29/30 [============================>.] - ETA: 0s - loss: 0.3362 - accuracy: 0.8824\n",
      "Epoch 00011: val_accuracy did not improve from 0.77976\n",
      "30/30 [==============================] - 1s 30ms/step - loss: 0.3362 - accuracy: 0.8825 - val_loss: 0.6495 - val_accuracy: 0.7763\n",
      "Epoch 12/100\n",
      "29/30 [============================>.] - ETA: 0s - loss: 0.3352 - accuracy: 0.8838\n",
      "Epoch 00012: val_accuracy did not improve from 0.77976\n",
      "30/30 [==============================] - 1s 30ms/step - loss: 0.3360 - accuracy: 0.8839 - val_loss: 0.6434 - val_accuracy: 0.7758\n",
      "Epoch 13/100\n",
      "29/30 [============================>.] - ETA: 0s - loss: 0.3369 - accuracy: 0.8797\n",
      "Epoch 00013: val_accuracy improved from 0.77976 to 0.78215, saving model to .\\model\f",
      "inal_gabor_cnn.h5\n",
      "30/30 [==============================] - 1s 31ms/step - loss: 0.3372 - accuracy: 0.8796 - val_loss: 0.6529 - val_accuracy: 0.7821\n",
      "Epoch 14/100\n",
      "29/30 [============================>.] - ETA: 0s - loss: 0.3367 - accuracy: 0.8801\n",
      "Epoch 00014: val_accuracy did not improve from 0.78215\n",
      "30/30 [==============================] - 1s 31ms/step - loss: 0.3373 - accuracy: 0.8801 - val_loss: 0.6326 - val_accuracy: 0.7768\n",
      "Epoch 15/100\n",
      "29/30 [============================>.] - ETA: 0s - loss: 0.3315 - accuracy: 0.8848\n",
      "Epoch 00015: val_accuracy did not improve from 0.78215\n",
      "30/30 [==============================] - 1s 29ms/step - loss: 0.3322 - accuracy: 0.8845 - val_loss: 0.6852 - val_accuracy: 0.7646\n",
      "Epoch 16/100\n",
      "29/30 [============================>.] - ETA: 0s - loss: 0.3391 - accuracy: 0.8803\n",
      "Epoch 00016: val_accuracy did not improve from 0.78215\n",
      "30/30 [==============================] - 1s 30ms/step - loss: 0.3399 - accuracy: 0.8797 - val_loss: 0.6346 - val_accuracy: 0.7758\n",
      "Epoch 17/100\n",
      "29/30 [============================>.] - ETA: 0s - loss: 0.3138 - accuracy: 0.8912\n",
      "Epoch 00017: val_accuracy did not improve from 0.78215\n",
      "30/30 [==============================] - 1s 31ms/step - loss: 0.3159 - accuracy: 0.8899 - val_loss: 0.6694 - val_accuracy: 0.7784\n",
      "Epoch 18/100\n",
      "29/30 [============================>.] - ETA: 0s - loss: 0.3281 - accuracy: 0.8848\n",
      "Epoch 00018: val_accuracy improved from 0.78215 to 0.78799, saving model to .\\model\f",
      "inal_gabor_cnn.h5\n",
      "30/30 [==============================] - 1s 32ms/step - loss: 0.3266 - accuracy: 0.8853 - val_loss: 0.6482 - val_accuracy: 0.7880\n",
      "Epoch 19/100\n",
      "29/30 [============================>.] - ETA: 0s - loss: 0.3197 - accuracy: 0.8895 ETA: 0s - loss: 0.3165 - accuracy\n",
      "Epoch 00019: val_accuracy did not improve from 0.78799\n",
      "30/30 [==============================] - 1s 31ms/step - loss: 0.3198 - accuracy: 0.8895 - val_loss: 0.6444 - val_accuracy: 0.7837\n",
      "Epoch 20/100\n",
      "29/30 [============================>.] - ETA: 0s - loss: 0.3346 - accuracy: 0.8819\n",
      "Epoch 00020: val_accuracy did not improve from 0.78799\n",
      "\n",
      "Epoch 00020: ReduceLROnPlateau reducing learning rate to 0.0005000000237487257.\n",
      "30/30 [==============================] - 1s 29ms/step - loss: 0.3348 - accuracy: 0.8819 - val_loss: 0.6415 - val_accuracy: 0.7763\n",
      "Epoch 21/100\n",
      "29/30 [============================>.] - ETA: 0s - loss: 0.2823 - accuracy: 0.9046\n",
      "Epoch 00021: val_accuracy did not improve from 0.78799\n",
      "30/30 [==============================] - 1s 32ms/step - loss: 0.2833 - accuracy: 0.9043 - val_loss: 0.6327 - val_accuracy: 0.7835\n",
      "Epoch 22/100\n",
      "29/30 [============================>.] - ETA: 0s - loss: 0.2718 - accuracy: 0.9135\n",
      "Epoch 00022: val_accuracy improved from 0.78799 to 0.78826, saving model to .\\model\f",
      "inal_gabor_cnn.h5\n",
      "30/30 [==============================] - 1s 30ms/step - loss: 0.2722 - accuracy: 0.9135 - val_loss: 0.6336 - val_accuracy: 0.7883\n",
      "Epoch 23/100\n",
      "29/30 [============================>.] - ETA: 0s - loss: 0.2701 - accuracy: 0.9127\n",
      "Epoch 00023: val_accuracy improved from 0.78826 to 0.78905, saving model to .\\model\f",
      "inal_gabor_cnn.h5\n",
      "30/30 [==============================] - 1s 30ms/step - loss: 0.2696 - accuracy: 0.9127 - val_loss: 0.6359 - val_accuracy: 0.7891\n",
      "Epoch 24/100\n",
      "29/30 [============================>.] - ETA: 0s - loss: 0.2641 - accuracy: 0.9137\n",
      "Epoch 00024: val_accuracy did not improve from 0.78905\n",
      "30/30 [==============================] - 1s 31ms/step - loss: 0.2656 - accuracy: 0.9131 - val_loss: 0.6437 - val_accuracy: 0.7800\n",
      "Epoch 25/100\n",
      "29/30 [============================>.] - ETA: 0s - loss: 0.2537 - accuracy: 0.9178\n",
      "Epoch 00025: val_accuracy did not improve from 0.78905\n",
      "30/30 [==============================] - 1s 30ms/step - loss: 0.2558 - accuracy: 0.9171 - val_loss: 0.6437 - val_accuracy: 0.7843\n",
      "Epoch 26/100\n",
      "29/30 [============================>.] - ETA: 0s - loss: 0.2660 - accuracy: 0.9118\n",
      "Epoch 00026: val_accuracy did not improve from 0.78905\n",
      "\n",
      "Epoch 00026: ReduceLROnPlateau reducing learning rate to 0.0002500000118743628.\n",
      "30/30 [==============================] - 1s 29ms/step - loss: 0.2672 - accuracy: 0.9113 - val_loss: 0.6684 - val_accuracy: 0.7792\n",
      "Epoch 27/100\n",
      "29/30 [============================>.] - ETA: 0s - loss: 0.2597 - accuracy: 0.9168\n",
      "Epoch 00027: val_accuracy did not improve from 0.78905\n",
      "30/30 [==============================] - 1s 30ms/step - loss: 0.2599 - accuracy: 0.9167 - val_loss: 0.6420 - val_accuracy: 0.7816\n",
      "Epoch 28/100\n",
      "29/30 [============================>.] - ETA: 0s - loss: 0.2390 - accuracy: 0.9248\n",
      "Epoch 00028: val_accuracy did not improve from 0.78905\n",
      "30/30 [==============================] - 1s 31ms/step - loss: 0.2393 - accuracy: 0.9248 - val_loss: 0.6423 - val_accuracy: 0.7883\n",
      "Epoch 29/100\n",
      "29/30 [============================>.] - ETA: 0s - loss: 0.2483 - accuracy: 0.9236\n",
      "Epoch 00029: val_accuracy did not improve from 0.78905\n",
      "30/30 [==============================] - 1s 31ms/step - loss: 0.2482 - accuracy: 0.9237 - val_loss: 0.6500 - val_accuracy: 0.7848\n",
      "Epoch 30/100\n",
      "29/30 [============================>.] - ETA: 0s - loss: 0.2406 - accuracy: 0.9232\n",
      "Epoch 00030: val_accuracy did not improve from 0.78905\n",
      "30/30 [==============================] - 1s 30ms/step - loss: 0.2421 - accuracy: 0.9225 - val_loss: 0.6482 - val_accuracy: 0.7840\n",
      "Epoch 31/100\n",
      "29/30 [============================>.] - ETA: 0s - loss: 0.2549 - accuracy: 0.9170\n",
      "Epoch 00031: val_accuracy did not improve from 0.78905\n",
      "30/30 [==============================] - 1s 29ms/step - loss: 0.2551 - accuracy: 0.9166 - val_loss: 0.6458 - val_accuracy: 0.7843\n",
      "Epoch 32/100\n",
      "29/30 [============================>.] - ETA: 0s - loss: 0.2439 - accuracy: 0.9242 ETA: 0s - loss: 0.2439 - accuracy: 0.\n",
      "Epoch 00032: val_accuracy did not improve from 0.78905\n",
      "\n",
      "Epoch 00032: ReduceLROnPlateau reducing learning rate to 0.0001250000059371814.\n",
      "30/30 [==============================] - 1s 30ms/step - loss: 0.2440 - accuracy: 0.9243 - val_loss: 0.6470 - val_accuracy: 0.7864\n",
      "Epoch 33/100\n",
      "29/30 [============================>.] - ETA: 0s - loss: 0.2312 - accuracy: 0.9282\n",
      "Epoch 00033: val_accuracy did not improve from 0.78905\n",
      "30/30 [==============================] - 1s 31ms/step - loss: 0.2316 - accuracy: 0.9283 - val_loss: 0.6450 - val_accuracy: 0.7851\n",
      "Epoch 34/100\n",
      "29/30 [============================>.] - ETA: 0s - loss: 0.2301 - accuracy: 0.9273\n",
      "Epoch 00034: val_accuracy did not improve from 0.78905\n",
      "30/30 [==============================] - 1s 31ms/step - loss: 0.2299 - accuracy: 0.9277 - val_loss: 0.6428 - val_accuracy: 0.7835\n",
      "Epoch 35/100\n",
      "29/30 [============================>.] - ETA: 0s - loss: 0.2261 - accuracy: 0.9313\n",
      "Epoch 00035: val_accuracy did not improve from 0.78905\n",
      "30/30 [==============================] - 1s 33ms/step - loss: 0.2265 - accuracy: 0.9310 - val_loss: 0.6459 - val_accuracy: 0.7853\n",
      "Epoch 36/100\n",
      "29/30 [============================>.] - ETA: 0s - loss: 0.2341 - accuracy: 0.9278\n",
      "Epoch 00036: val_accuracy did not improve from 0.78905\n",
      "30/30 [==============================] - 1s 31ms/step - loss: 0.2353 - accuracy: 0.9273 - val_loss: 0.6467 - val_accuracy: 0.7875\n",
      "Epoch 37/100\n",
      "29/30 [============================>.] - ETA: 0s - loss: 0.2292 - accuracy: 0.9292\n",
      "Epoch 00037: val_accuracy did not improve from 0.78905\n",
      "30/30 [==============================] - 1s 30ms/step - loss: 0.2291 - accuracy: 0.9290 - val_loss: 0.6474 - val_accuracy: 0.7835\n",
      "Epoch 38/100\n",
      "29/30 [============================>.] - ETA: 0s - loss: 0.2358 - accuracy: 0.9238\n",
      "Epoch 00038: val_accuracy did not improve from 0.78905\n",
      "\n",
      "Epoch 00038: ReduceLROnPlateau reducing learning rate to 6.25000029685907e-05.\n",
      "30/30 [==============================] - 1s 30ms/step - loss: 0.2365 - accuracy: 0.9237 - val_loss: 0.6491 - val_accuracy: 0.7856\n",
      "Epoch 39/100\n",
      "29/30 [============================>.] - ETA: 0s - loss: 0.2362 - accuracy: 0.9266\n",
      "Epoch 00039: val_accuracy did not improve from 0.78905\n",
      "30/30 [==============================] - 1s 30ms/step - loss: 0.2373 - accuracy: 0.9261 - val_loss: 0.6489 - val_accuracy: 0.7835\n",
      "Epoch 40/100\n",
      "29/30 [============================>.] - ETA: 0s - loss: 0.2182 - accuracy: 0.9347\n",
      "Epoch 00040: val_accuracy did not improve from 0.78905\n",
      "30/30 [==============================] - 1s 31ms/step - loss: 0.2182 - accuracy: 0.9349 - val_loss: 0.6494 - val_accuracy: 0.7837\n",
      "Epoch 41/100\n",
      "29/30 [============================>.] - ETA: 0s - loss: 0.2242 - accuracy: 0.9339\n",
      "Epoch 00041: val_accuracy did not improve from 0.78905\n",
      "30/30 [==============================] - 1s 30ms/step - loss: 0.2238 - accuracy: 0.9343 - val_loss: 0.6438 - val_accuracy: 0.7837\n",
      "Epoch 42/100\n",
      "29/30 [============================>.] - ETA: 0s - loss: 0.2247 - accuracy: 0.9310\n",
      "Epoch 00042: val_accuracy did not improve from 0.78905\n",
      "30/30 [==============================] - 1s 30ms/step - loss: 0.2247 - accuracy: 0.9313 - val_loss: 0.6463 - val_accuracy: 0.7875\n",
      "Epoch 43/100\n",
      "29/30 [============================>.] - ETA: 0s - loss: 0.2234 - accuracy: 0.9318\n",
      "Epoch 00043: val_accuracy did not improve from 0.78905\n",
      "30/30 [==============================] - 1s 31ms/step - loss: 0.2238 - accuracy: 0.9312 - val_loss: 0.6467 - val_accuracy: 0.7885\n",
      "Epoch 44/100\n",
      "29/30 [============================>.] - ETA: 0s - loss: 0.2236 - accuracy: 0.9302\n",
      "Epoch 00044: val_accuracy did not improve from 0.78905\n",
      "\n",
      "Epoch 00044: ReduceLROnPlateau reducing learning rate to 3.125000148429535e-05.\n",
      "30/30 [==============================] - 1s 31ms/step - loss: 0.2261 - accuracy: 0.9289 - val_loss: 0.6516 - val_accuracy: 0.7861\n",
      "Epoch 45/100\n",
      "29/30 [============================>.] - ETA: 0s - loss: 0.2260 - accuracy: 0.9314\n",
      "Epoch 00045: val_accuracy did not improve from 0.78905\n",
      "30/30 [==============================] - 1s 30ms/step - loss: 0.2259 - accuracy: 0.9314 - val_loss: 0.6490 - val_accuracy: 0.7861\n",
      "Epoch 46/100\n",
      "29/30 [============================>.] - ETA: 0s - loss: 0.2213 - accuracy: 0.9333\n",
      "Epoch 00046: val_accuracy did not improve from 0.78905\n",
      "30/30 [==============================] - 1s 30ms/step - loss: 0.2212 - accuracy: 0.9335 - val_loss: 0.6502 - val_accuracy: 0.7853\n",
      "Epoch 47/100\n",
      "29/30 [============================>.] - ETA: 0s - loss: 0.2198 - accuracy: 0.9349\n",
      "Epoch 00047: val_accuracy did not improve from 0.78905\n",
      "30/30 [==============================] - 1s 31ms/step - loss: 0.2206 - accuracy: 0.9339 - val_loss: 0.6460 - val_accuracy: 0.7867\n",
      "Epoch 48/100\n",
      "29/30 [============================>.] - ETA: 0s - loss: 0.2200 - accuracy: 0.9333\n",
      "Epoch 00048: val_accuracy did not improve from 0.78905\n",
      "30/30 [==============================] - 1s 30ms/step - loss: 0.2219 - accuracy: 0.9322 - val_loss: 0.6493 - val_accuracy: 0.7875\n",
      "Epoch 49/100\n",
      "29/30 [============================>.] - ETA: 0s - loss: 0.2191 - accuracy: 0.9332\n",
      "Epoch 00049: val_accuracy did not improve from 0.78905\n",
      "30/30 [==============================] - 1s 30ms/step - loss: 0.2200 - accuracy: 0.9330 - val_loss: 0.6473 - val_accuracy: 0.7883\n",
      "Epoch 50/100\n",
      "29/30 [============================>.] - ETA: 0s - loss: 0.2191 - accuracy: 0.9332\n",
      "Epoch 00050: val_accuracy did not improve from 0.78905\n",
      "\n",
      "Epoch 00050: ReduceLROnPlateau reducing learning rate to 1.5625000742147677e-05.\n",
      "30/30 [==============================] - 1s 30ms/step - loss: 0.2202 - accuracy: 0.9324 - val_loss: 0.6490 - val_accuracy: 0.7875\n",
      "Epoch 51/100\n",
      "29/30 [============================>.] - ETA: 0s - loss: 0.2216 - accuracy: 0.9327\n",
      "Epoch 00051: val_accuracy did not improve from 0.78905\n",
      "30/30 [==============================] - 1s 31ms/step - loss: 0.2224 - accuracy: 0.9326 - val_loss: 0.6480 - val_accuracy: 0.7861\n",
      "Epoch 52/100\n",
      "29/30 [============================>.] - ETA: 0s - loss: 0.2176 - accuracy: 0.9357\n",
      "Epoch 00052: val_accuracy did not improve from 0.78905\n",
      "30/30 [==============================] - 1s 31ms/step - loss: 0.2183 - accuracy: 0.9354 - val_loss: 0.6500 - val_accuracy: 0.7851\n",
      "Epoch 53/100\n",
      "29/30 [============================>.] - ETA: 0s - loss: 0.2165 - accuracy: 0.9353\n",
      "Epoch 00053: val_accuracy did not improve from 0.78905\n",
      "30/30 [==============================] - 1s 30ms/step - loss: 0.2171 - accuracy: 0.9350 - val_loss: 0.6474 - val_accuracy: 0.7872\n",
      "Epoch 54/100\n",
      "29/30 [============================>.] - ETA: 0s - loss: 0.2127 - accuracy: 0.9378\n",
      "Epoch 00054: val_accuracy did not improve from 0.78905\n",
      "30/30 [==============================] - 1s 31ms/step - loss: 0.2142 - accuracy: 0.9374 - val_loss: 0.6486 - val_accuracy: 0.7864\n",
      "Epoch 55/100\n",
      "29/30 [============================>.] - ETA: 0s - loss: 0.2245 - accuracy: 0.9318\n",
      "Epoch 00055: val_accuracy did not improve from 0.78905\n",
      "30/30 [==============================] - 1s 31ms/step - loss: 0.2248 - accuracy: 0.9315 - val_loss: 0.6472 - val_accuracy: 0.7883\n",
      "Epoch 56/100\n",
      "29/30 [============================>.] - ETA: 0s - loss: 0.2216 - accuracy: 0.9329\n",
      "Epoch 00056: val_accuracy did not improve from 0.78905\n",
      "\n",
      "Epoch 00056: ReduceLROnPlateau reducing learning rate to 1e-05.\n",
      "30/30 [==============================] - 1s 30ms/step - loss: 0.2214 - accuracy: 0.9330 - val_loss: 0.6483 - val_accuracy: 0.7872\n",
      "Epoch 57/100\n",
      "29/30 [============================>.] - ETA: 0s - loss: 0.2112 - accuracy: 0.9379\n",
      "Epoch 00057: val_accuracy did not improve from 0.78905\n",
      "30/30 [==============================] - 1s 30ms/step - loss: 0.2115 - accuracy: 0.9377 - val_loss: 0.6486 - val_accuracy: 0.7877\n",
      "Epoch 58/100\n",
      "29/30 [============================>.] - ETA: 0s - loss: 0.2155 - accuracy: 0.9338\n",
      "Epoch 00058: val_accuracy did not improve from 0.78905\n",
      "30/30 [==============================] - 1s 30ms/step - loss: 0.2148 - accuracy: 0.9340 - val_loss: 0.6493 - val_accuracy: 0.7880\n",
      "Epoch 59/100\n",
      "29/30 [============================>.] - ETA: 0s - loss: 0.2231 - accuracy: 0.9326\n",
      "Epoch 00059: val_accuracy did not improve from 0.78905\n",
      "30/30 [==============================] - 1s 30ms/step - loss: 0.2227 - accuracy: 0.9327 - val_loss: 0.6502 - val_accuracy: 0.7864\n",
      "Epoch 60/100\n",
      "29/30 [============================>.] - ETA: 0s - loss: 0.2194 - accuracy: 0.9336\n",
      "Epoch 00060: val_accuracy did not improve from 0.78905\n",
      "30/30 [==============================] - 1s 31ms/step - loss: 0.2192 - accuracy: 0.9338 - val_loss: 0.6498 - val_accuracy: 0.7869\n",
      "Epoch 61/100\n",
      "29/30 [============================>.] - ETA: 0s - loss: 0.2200 - accuracy: 0.9343\n",
      "Epoch 00061: val_accuracy did not improve from 0.78905\n",
      "30/30 [==============================] - 1s 30ms/step - loss: 0.2203 - accuracy: 0.9340 - val_loss: 0.6488 - val_accuracy: 0.7867\n",
      "Epoch 62/100\n",
      "29/30 [============================>.] - ETA: 0s - loss: 0.2189 - accuracy: 0.9341\n",
      "Epoch 00062: val_accuracy did not improve from 0.78905\n",
      "30/30 [==============================] - 1s 30ms/step - loss: 0.2200 - accuracy: 0.9335 - val_loss: 0.6496 - val_accuracy: 0.7869\n",
      "Epoch 63/100\n",
      "29/30 [============================>.] - ETA: 0s - loss: 0.2136 - accuracy: 0.9381\n",
      "Epoch 00063: val_accuracy did not improve from 0.78905\n",
      "30/30 [==============================] - 1s 30ms/step - loss: 0.2148 - accuracy: 0.9376 - val_loss: 0.6495 - val_accuracy: 0.7869\n",
      "Epoch 64/100\n",
      "29/30 [============================>.] - ETA: 0s - loss: 0.2177 - accuracy: 0.9361\n",
      "Epoch 00064: val_accuracy did not improve from 0.78905\n",
      "30/30 [==============================] - 1s 30ms/step - loss: 0.2185 - accuracy: 0.9357 - val_loss: 0.6495 - val_accuracy: 0.7859\n",
      "Epoch 65/100\n",
      "29/30 [============================>.] - ETA: 0s - loss: 0.2271 - accuracy: 0.9312\n",
      "Epoch 00065: val_accuracy did not improve from 0.78905\n",
      "30/30 [==============================] - 1s 30ms/step - loss: 0.2277 - accuracy: 0.9308 - val_loss: 0.6502 - val_accuracy: 0.7845\n",
      "Epoch 66/100\n",
      "29/30 [============================>.] - ETA: 0s - loss: 0.2130 - accuracy: 0.9355\n",
      "Epoch 00066: val_accuracy did not improve from 0.78905\n",
      "30/30 [==============================] - 1s 30ms/step - loss: 0.2143 - accuracy: 0.9350 - val_loss: 0.6498 - val_accuracy: 0.7859\n",
      "Epoch 67/100\n",
      "29/30 [============================>.] - ETA: 0s - loss: 0.2217 - accuracy: 0.9330\n",
      "Epoch 00067: val_accuracy did not improve from 0.78905\n",
      "30/30 [==============================] - 1s 30ms/step - loss: 0.2229 - accuracy: 0.9324 - val_loss: 0.6499 - val_accuracy: 0.7856\n",
      "Epoch 68/100\n",
      "29/30 [============================>.] - ETA: 0s - loss: 0.2233 - accuracy: 0.9317\n",
      "Epoch 00068: val_accuracy did not improve from 0.78905\n",
      "30/30 [==============================] - 1s 30ms/step - loss: 0.2228 - accuracy: 0.9319 - val_loss: 0.6495 - val_accuracy: 0.7872\n",
      "Epoch 69/100\n",
      "29/30 [============================>.] - ETA: 0s - loss: 0.2187 - accuracy: 0.9326\n",
      "Epoch 00069: val_accuracy did not improve from 0.78905\n",
      "30/30 [==============================] - 1s 33ms/step - loss: 0.2182 - accuracy: 0.9328 - val_loss: 0.6494 - val_accuracy: 0.7867\n",
      "Epoch 70/100\n",
      "29/30 [============================>.] - ETA: 0s - loss: 0.2360 - accuracy: 0.9261\n",
      "Epoch 00070: val_accuracy did not improve from 0.78905\n",
      "30/30 [==============================] - 1s 32ms/step - loss: 0.2363 - accuracy: 0.9259 - val_loss: 0.6485 - val_accuracy: 0.7872\n",
      "Epoch 71/100\n",
      "29/30 [============================>.] - ETA: 0s - loss: 0.2301 - accuracy: 0.9282\n",
      "Epoch 00071: val_accuracy did not improve from 0.78905\n",
      "30/30 [==============================] - 1s 30ms/step - loss: 0.2302 - accuracy: 0.9282 - val_loss: 0.6488 - val_accuracy: 0.7869\n",
      "Epoch 72/100\n",
      "29/30 [============================>.] - ETA: 0s - loss: 0.2198 - accuracy: 0.9339\n",
      "Epoch 00072: val_accuracy did not improve from 0.78905\n",
      "30/30 [==============================] - 1s 30ms/step - loss: 0.2196 - accuracy: 0.9342 - val_loss: 0.6503 - val_accuracy: 0.7856\n",
      "Epoch 73/100\n",
      "29/30 [============================>.] - ETA: 0s - loss: 0.2203 - accuracy: 0.9338\n",
      "Epoch 00073: val_accuracy did not improve from 0.78905\n",
      "30/30 [==============================] - 1s 31ms/step - loss: 0.2204 - accuracy: 0.9340 - val_loss: 0.6498 - val_accuracy: 0.7864\n",
      "Epoch 74/100\n",
      "29/30 [============================>.] - ETA: 0s - loss: 0.2186 - accuracy: 0.9355\n",
      "Epoch 00074: val_accuracy did not improve from 0.78905\n",
      "30/30 [==============================] - 1s 30ms/step - loss: 0.2184 - accuracy: 0.9356 - val_loss: 0.6493 - val_accuracy: 0.7861\n",
      "Epoch 75/100\n",
      "29/30 [============================>.] - ETA: 0s - loss: 0.2094 - accuracy: 0.9380\n",
      "Epoch 00075: val_accuracy did not improve from 0.78905\n",
      "30/30 [==============================] - 1s 30ms/step - loss: 0.2101 - accuracy: 0.9375 - val_loss: 0.6501 - val_accuracy: 0.7867\n",
      "Epoch 76/100\n",
      "29/30 [============================>.] - ETA: 0s - loss: 0.2234 - accuracy: 0.9318\n",
      "Epoch 00076: val_accuracy did not improve from 0.78905\n",
      "30/30 [==============================] - 1s 30ms/step - loss: 0.2233 - accuracy: 0.9316 - val_loss: 0.6499 - val_accuracy: 0.7875\n",
      "Epoch 77/100\n",
      "29/30 [============================>.] - ETA: 0s - loss: 0.2113 - accuracy: 0.9366\n",
      "Epoch 00077: val_accuracy did not improve from 0.78905\n",
      "30/30 [==============================] - 1s 30ms/step - loss: 0.2125 - accuracy: 0.9364 - val_loss: 0.6489 - val_accuracy: 0.7872\n",
      "Epoch 78/100\n",
      "29/30 [============================>.] - ETA: 0s - loss: 0.2259 - accuracy: 0.9318\n",
      "Epoch 00078: val_accuracy did not improve from 0.78905\n",
      "30/30 [==============================] - 1s 31ms/step - loss: 0.2262 - accuracy: 0.9318 - val_loss: 0.6492 - val_accuracy: 0.7872\n",
      "Epoch 79/100\n",
      "29/30 [============================>.] - ETA: 0s - loss: 0.2154 - accuracy: 0.9354\n",
      "Epoch 00079: val_accuracy did not improve from 0.78905\n",
      "30/30 [==============================] - 1s 29ms/step - loss: 0.2151 - accuracy: 0.9354 - val_loss: 0.6500 - val_accuracy: 0.7867\n",
      "Epoch 80/100\n",
      "29/30 [============================>.] - ETA: 0s - loss: 0.2132 - accuracy: 0.9356\n",
      "Epoch 00080: val_accuracy did not improve from 0.78905\n",
      "30/30 [==============================] - 1s 30ms/step - loss: 0.2152 - accuracy: 0.9348 - val_loss: 0.6508 - val_accuracy: 0.7867\n",
      "Epoch 81/100\n",
      "29/30 [============================>.] - ETA: 0s - loss: 0.2121 - accuracy: 0.9361\n",
      "Epoch 00081: val_accuracy did not improve from 0.78905\n",
      "30/30 [==============================] - 1s 30ms/step - loss: 0.2119 - accuracy: 0.9362 - val_loss: 0.6501 - val_accuracy: 0.7875\n",
      "Epoch 82/100\n",
      "29/30 [============================>.] - ETA: 0s - loss: 0.2142 - accuracy: 0.9355\n",
      "Epoch 00082: val_accuracy did not improve from 0.78905\n",
      "30/30 [==============================] - 1s 30ms/step - loss: 0.2153 - accuracy: 0.9349 - val_loss: 0.6508 - val_accuracy: 0.7859\n",
      "Epoch 83/100\n",
      "29/30 [============================>.] - ETA: 0s - loss: 0.2186 - accuracy: 0.9335\n",
      "Epoch 00083: val_accuracy did not improve from 0.78905\n",
      "30/30 [==============================] - 1s 30ms/step - loss: 0.2190 - accuracy: 0.9331 - val_loss: 0.6503 - val_accuracy: 0.7885\n",
      "Epoch 84/100\n",
      "29/30 [============================>.] - ETA: 0s - loss: 0.2186 - accuracy: 0.9312\n",
      "Epoch 00084: val_accuracy did not improve from 0.78905\n",
      "30/30 [==============================] - 1s 29ms/step - loss: 0.2187 - accuracy: 0.9311 - val_loss: 0.6495 - val_accuracy: 0.7853\n",
      "Epoch 85/100\n",
      "28/30 [===========================>..] - ETA: 0s - loss: 0.2111 - accuracy: 0.9378\n",
      "Epoch 00085: val_accuracy did not improve from 0.78905\n",
      "30/30 [==============================] - 1s 31ms/step - loss: 0.2126 - accuracy: 0.9374 - val_loss: 0.6489 - val_accuracy: 0.7864\n",
      "Epoch 86/100\n",
      "29/30 [============================>.] - ETA: 0s - loss: 0.2151 - accuracy: 0.9362\n",
      "Epoch 00086: val_accuracy did not improve from 0.78905\n",
      "30/30 [==============================] - 1s 32ms/step - loss: 0.2150 - accuracy: 0.9362 - val_loss: 0.6492 - val_accuracy: 0.7861\n",
      "Epoch 87/100\n",
      "29/30 [============================>.] - ETA: 0s - loss: 0.2164 - accuracy: 0.9351\n",
      "Epoch 00087: val_accuracy did not improve from 0.78905\n",
      "30/30 [==============================] - 1s 31ms/step - loss: 0.2182 - accuracy: 0.9345 - val_loss: 0.6507 - val_accuracy: 0.7864\n",
      "Epoch 88/100\n",
      "29/30 [============================>.] - ETA: 0s - loss: 0.2149 - accuracy: 0.9355\n",
      "Epoch 00088: val_accuracy did not improve from 0.78905\n",
      "30/30 [==============================] - 1s 31ms/step - loss: 0.2175 - accuracy: 0.9338 - val_loss: 0.6493 - val_accuracy: 0.7869\n",
      "Epoch 89/100\n",
      "29/30 [============================>.] - ETA: 0s - loss: 0.2185 - accuracy: 0.9323\n",
      "Epoch 00089: val_accuracy did not improve from 0.78905\n",
      "30/30 [==============================] - 1s 29ms/step - loss: 0.2199 - accuracy: 0.9316 - val_loss: 0.6500 - val_accuracy: 0.7864\n",
      "Epoch 90/100\n",
      "29/30 [============================>.] - ETA: 0s - loss: 0.2161 - accuracy: 0.9354\n",
      "Epoch 00090: val_accuracy did not improve from 0.78905\n",
      "30/30 [==============================] - 1s 31ms/step - loss: 0.2158 - accuracy: 0.9354 - val_loss: 0.6512 - val_accuracy: 0.7861\n",
      "Epoch 91/100\n",
      "29/30 [============================>.] - ETA: 0s - loss: 0.2197 - accuracy: 0.9355\n",
      "Epoch 00091: val_accuracy did not improve from 0.78905\n",
      "30/30 [==============================] - 1s 31ms/step - loss: 0.2200 - accuracy: 0.9353 - val_loss: 0.6494 - val_accuracy: 0.7864\n",
      "Epoch 92/100\n",
      "29/30 [============================>.] - ETA: 0s - loss: 0.2154 - accuracy: 0.9359\n",
      "Epoch 00092: val_accuracy did not improve from 0.78905\n",
      "30/30 [==============================] - 1s 31ms/step - loss: 0.2159 - accuracy: 0.9355 - val_loss: 0.6501 - val_accuracy: 0.7859\n",
      "Epoch 93/100\n",
      "29/30 [============================>.] - ETA: 0s - loss: 0.2134 - accuracy: 0.9352\n",
      "Epoch 00093: val_accuracy did not improve from 0.78905\n",
      "30/30 [==============================] - 1s 31ms/step - loss: 0.2154 - accuracy: 0.9342 - val_loss: 0.6506 - val_accuracy: 0.7859\n",
      "Epoch 94/100\n",
      "29/30 [============================>.] - ETA: 0s - loss: 0.2190 - accuracy: 0.9328\n",
      "Epoch 00094: val_accuracy did not improve from 0.78905\n",
      "30/30 [==============================] - 1s 29ms/step - loss: 0.2193 - accuracy: 0.9328 - val_loss: 0.6507 - val_accuracy: 0.7872\n",
      "Epoch 95/100\n",
      "29/30 [============================>.] - ETA: 0s - loss: 0.2175 - accuracy: 0.9334\n",
      "Epoch 00095: val_accuracy did not improve from 0.78905\n",
      "30/30 [==============================] - 1s 30ms/step - loss: 0.2194 - accuracy: 0.9327 - val_loss: 0.6495 - val_accuracy: 0.7864\n",
      "Epoch 96/100\n",
      "29/30 [============================>.] - ETA: 0s - loss: 0.2157 - accuracy: 0.9372\n",
      "Epoch 00096: val_accuracy did not improve from 0.78905\n",
      "30/30 [==============================] - 1s 30ms/step - loss: 0.2158 - accuracy: 0.9369 - val_loss: 0.6501 - val_accuracy: 0.7864\n",
      "Epoch 97/100\n",
      "29/30 [============================>.] - ETA: 0s - loss: 0.2225 - accuracy: 0.9302\n",
      "Epoch 00097: val_accuracy did not improve from 0.78905\n",
      "30/30 [==============================] - 1s 30ms/step - loss: 0.2232 - accuracy: 0.9298 - val_loss: 0.6489 - val_accuracy: 0.7872\n",
      "Epoch 98/100\n",
      "29/30 [============================>.] - ETA: 0s - loss: 0.2183 - accuracy: 0.9344\n",
      "Epoch 00098: val_accuracy did not improve from 0.78905\n",
      "30/30 [==============================] - 1s 30ms/step - loss: 0.2197 - accuracy: 0.9341 - val_loss: 0.6499 - val_accuracy: 0.7867\n",
      "Epoch 99/100\n",
      "29/30 [============================>.] - ETA: 0s - loss: 0.2086 - accuracy: 0.9382\n",
      "Epoch 00099: val_accuracy did not improve from 0.78905\n",
      "30/30 [==============================] - 1s 31ms/step - loss: 0.2087 - accuracy: 0.9383 - val_loss: 0.6495 - val_accuracy: 0.7875\n",
      "Epoch 100/100\n",
      "29/30 [============================>.] - ETA: 0s - loss: 0.2232 - accuracy: 0.9308\n",
      "Epoch 00100: val_accuracy did not improve from 0.78905\n",
      "30/30 [==============================] - 1s 30ms/step - loss: 0.2232 - accuracy: 0.9306 - val_loss: 0.6500 - val_accuracy: 0.7872\n"
     ]
    }
   ],
   "source": [
    "model.compile(optimizer='adam',loss='categorical_crossentropy',metrics=['accuracy'])\n",
    "plot_model(model,'model_final.jpg',show_shapes=True)\n",
    "lr_reduce=kcallbacks.ReduceLROnPlateau(monitor='val_loss',factor=0.5,patience=6,verbose=1,min_lr=0.00001)\n",
    "save_model=kcallbacks.ModelCheckpoint(filepath=MODEL_SAVE_PATH,monitor='val_accuracy',verbose=1,save_best_only=True)\n",
    "callback_list=[save_model,lr_reduce]\n",
    "history=model.fit(x=X_train,y=y_train,batch_size=BATCH_SIZE,epochs=EPOCHS,validation_data=(X_test,y_test),\n",
    "                  callbacks=callback_list)"
   ]
  },
  {
   "cell_type": "markdown",
   "metadata": {},
   "source": [
    "## plot_curve"
   ]
  },
  {
   "cell_type": "code",
   "execution_count": 28,
   "metadata": {},
   "outputs": [],
   "source": [
    "from help import plot_curve,plot_curve_with_smooth"
   ]
  },
  {
   "cell_type": "code",
   "execution_count": 29,
   "metadata": {},
   "outputs": [
    {
     "data": {
      "image/png": "[encoded data removed]",
      "text/plain": [
       "<Figure size 1080x360 with 2 Axes>"
      ]
     },
     "metadata": {},
     "output_type": "display_data"
    }
   ],
   "source": [
    "plot_curve(history)"
   ]
  },
  {
   "cell_type": "code",
   "execution_count": 30,
   "metadata": {},
   "outputs": [
    {
     "data": {
      "image/png": "[encoded data removed]",
      "text/plain": [
       "<Figure size 1080x360 with 2 Axes>"
      ]
     },
     "metadata": {},
     "output_type": "display_data"
    }
   ],
   "source": [
    "plot_curve_with_smooth(history)"
   ]
  },
  {
   "cell_type": "markdown",
   "metadata": {},
   "source": [
    "## confusion_metrix"
   ]
  },
  {
   "cell_type": "code",
   "execution_count": 19,
   "metadata": {
    "collapsed": true,
    "jupyter": {
     "outputs_hidden": true
    }
   },
   "outputs": [],
   "source": [
    "model.load_weights('./model/final_cnn.h5')"
   ]
  },
  {
   "cell_type": "code",
   "execution_count": 31,
   "metadata": {},
   "outputs": [
    {
     "data": {
      "image/png": "[encoded data removed]",
      "text/plain": [
       "<Figure size 864x576 with 2 Axes>"
      ]
     },
     "metadata": {
      "needs_background": "light"
     },
     "output_type": "display_data"
    }
   ],
   "source": [
    "from sklearn.metrics import confusion_matrix\n",
    "import matplotlib.pyplot as plt\n",
    "%matplotlib inline\n",
    "y_pred=model.predict(X_test)\n",
    "y_pred=np.argmax(y_pred,axis=-1).ravel()\n",
    "y_true=np.argmax(y_test,axis=-1).ravel()\n",
    "con_matrix=confusion_matrix(y_true=y_true,y_pred=y_pred)\n",
    "def plot_confusion_matrix(confusion_mat):\n",
    "    plt.figure(figsize=(12,8))\n",
    "    plt.imshow(confusion_mat)\n",
    "    plt.title('Confusion Matrix')\n",
    "    plt.colorbar()\n",
    "    labels = list(range(0,10))\n",
    "    tick_marks = np.arange(len(labels))\n",
    "    plt.xticks(tick_marks, labels)\n",
    "    plt.yticks(tick_marks, labels)\n",
    "    plt.ylabel('True Label')\n",
    "    plt.xlabel('Predicted Label')\n",
    "    plt.grid(False)\n",
    "    plt.show() \n",
    "plot_confusion_matrix(con_matrix)"
   ]
  },
  {
   "cell_type": "markdown",
   "metadata": {},
   "source": [
    "## classfication_report"
   ]
  },
  {
   "cell_type": "code",
   "execution_count": 32,
   "metadata": {},
   "outputs": [],
   "source": [
    "from sklearn.metrics import classification_report\n"
   ]
  },
  {
   "cell_type": "code",
   "execution_count": 33,
   "metadata": {
    "scrolled": true
   },
   "outputs": [
    {
     "name": "stdout",
     "output_type": "stream",
     "text": [
      "              precision    recall  f1-score   support\n",
      "\n",
      "           0     0.8932    0.9272    0.9099      1922\n",
      "           a     0.6667    0.6741    0.6704       359\n",
      "           e     0.4779    0.4252    0.4500       127\n",
      "           g     0.5441    0.4744    0.5068       156\n",
      "           i     0.7068    0.6862    0.6964       376\n",
      "           n     0.5927    0.5821    0.5873       335\n",
      "           o     0.7241    0.6604    0.6908       159\n",
      "           r     0.7500    0.6316    0.6857        19\n",
      "           u     0.7980    0.8225    0.8101       293\n",
      "           v     0.0000    0.0000    0.0000        18\n",
      "\n",
      "    accuracy                         0.7872      3764\n",
      "   macro avg     0.6154    0.5884    0.6007      3764\n",
      "weighted avg     0.7782    0.7872    0.7823      3764\n",
      "\n"
     ]
    }
   ],
   "source": [
    "target_names=[alphabet_set[i] for i in range(10)]\n",
    "print(classification_report(y_true,y_pred,digits=4,labels=list(range(10)),target_names=target_names))"
   ]
  },
  {
   "cell_type": "markdown",
   "metadata": {},
   "source": [
    "# predict test"
   ]
  },
  {
   "cell_type": "code",
   "execution_count": 63,
   "metadata": {},
   "outputs": [
    {
     "name": "stdout",
     "output_type": "stream",
     "text": [
      "(1, 35, 7)\n",
      "Predict Label:a\n"
     ]
    }
   ],
   "source": [
    "\n",
    "temp = np.load('./gabor/person1_time1_group1_da_4.npy')\n",
    "m,n = temp.shape\n",
    "            #print(m)\n",
    "if m <=35:\n",
    "    left = 36 - m\n",
    "    temp =np.append(temp,(np.zeros([left,n])),axis=0)\n",
    "test =[]\n",
    "test.append(temp[:35,])\n",
    "test = np.array(test)\n",
    "print(test.shape)\n",
    "pred=model.predict(test)\n",
    "\n",
    "pred=np.argmax(pred,axis=-1)[0]\n",
    "text=[alphabet_set[i] for i in pred]\n",
    "text=[i for i in text if i!='0']\n",
    "text=''.join(text)\n",
    "print('Predict Label:%s'%(text))"
   ]
  },
  {
   "cell_type": "code",
   "execution_count": 71,
   "metadata": {},
   "outputs": [
    {
     "name": "stdout",
     "output_type": "stream",
     "text": [
      "(1, 35, 7)\n",
      "Predict Label:e\n"
     ]
    }
   ],
   "source": [
    "\n",
    "temp = np.load('./gabor/person6_time1_group1_ge_4.npy')\n",
    "m,n = temp.shape\n",
    "            #print(m)\n",
    "if m <=35:\n",
    "    left = 36 - m\n",
    "    temp =np.append(temp,(np.zeros([left,n])),axis=0)\n",
    "test =[]\n",
    "test.append(temp[:35,])\n",
    "test = np.array(test)\n",
    "print(test.shape)\n",
    "pred=model.predict(test)\n",
    "\n",
    "pred=np.argmax(pred,axis=-1)[0]\n",
    "text=[alphabet_set[i] for i in pred]\n",
    "text=[i for i in text if i!='0']\n",
    "text=''.join(text)\n",
    "print('Predict Label:%s'%(text))"
   ]
  },
  {
   "cell_type": "code",
   "execution_count": 72,
   "metadata": {},
   "outputs": [
    {
     "name": "stdout",
     "output_type": "stream",
     "text": [
      "(1, 35, 7)\n",
      "Predict Label:in\n"
     ]
    }
   ],
   "source": [
    "\n",
    "temp = np.load('./gabor/person10_time1_group2_zhong_1.npy')\n",
    "m,n = temp.shape\n",
    "            #print(m)\n",
    "if m <=35:\n",
    "    left = 36 - m\n",
    "    temp =np.append(temp,(np.zeros([left,n])),axis=0)\n",
    "test =[]\n",
    "test.append(temp[:35,])\n",
    "test = np.array(test)\n",
    "print(test.shape)\n",
    "pred=model.predict(test)\n",
    "\n",
    "pred=np.argmax(pred,axis=-1)[0]\n",
    "text=[alphabet_set[i] for i in pred]\n",
    "text=[i for i in text if i!='0']\n",
    "text=''.join(text)\n",
    "print('Predict Label:%s'%(text))"
   ]
  },
  {
   "cell_type": "code",
   "execution_count": null,
   "metadata": {
    "collapsed": true,
    "jupyter": {
     "outputs_hidden": true
    }
   },
   "outputs": [],
   "source": []
  },
  {
   "cell_type": "code",
   "execution_count": 33,
   "metadata": {
    "scrolled": true
   },
   "outputs": [
    {
     "name": "stdout",
     "output_type": "stream",
     "text": [
      "              precision    recall  f1-score   support\n",
      "\n",
      "           0     0.8932    0.9272    0.9099      1922\n",
      "           a     0.6667    0.6741    0.6704       359\n",
      "           e     0.4779    0.4252    0.4500       127\n",
      "           g     0.5441    0.4744    0.5068       156\n",
      "           i     0.7068    0.6862    0.6964       376\n",
      "           n     0.5927    0.5821    0.5873       335\n",
      "           o     0.7241    0.6604    0.6908       159\n",
      "           r     0.7500    0.6316    0.6857        19\n",
      "           u     0.7980    0.8225    0.8101       293\n",
      "           v     0.0000    0.0000    0.0000        18\n",
      "\n",
      "    accuracy                         0.7872      3764\n",
      "   macro avg     0.6154    0.5884    0.6007      3764\n",
      "weighted avg     0.7782    0.7872    0.7823      3764\n",
      "\n"
     ]
    }
   ],
   "source": [
    "target_names=[alphabet_set[i] for i in range(10)]\n",
    "print(classification_report(y_true,y_pred,digits=4,labels=list(range(10)),target_names=target_names))"
   ]
  },
  {
   "cell_type": "code",
   "execution_count": null,
   "metadata": {
    "collapsed": true,
    "jupyter": {
     "outputs_hidden": true
    }
   },
   "outputs": [],
   "source": []
  }
 ],
 "metadata": {
  "kernelspec": {
   "display_name": "Python 3",
   "language": "python",
   "name": "python3"
  },
  "language_info": {
   "codemirror_mode": {
    "name": "ipython",
    "version": 3
   },
   "file_extension": ".py",
   "mimetype": "text/x-python",
   "name": "python",
   "nbconvert_exporter": "python",
   "pygments_lexer": "ipython3",
   "version": "3.8.3"
  },
  "toc": {
   "base_numbering": 1,
   "nav_menu": {},
   "number_sections": true,
   "sideBar": true,
   "skip_h1_title": false,
   "title_cell": "Table of Contents",
   "title_sidebar": "Contents",
   "toc_cell": false,
   "toc_position": {
    "height": "calc(100% - 180px)",
    "left": "10px",
    "top": "150px",
    "width": "250px"
   },
   "toc_section_display": true,
   "toc_window_display": true
  }
 },
 "nbformat": 4,
 "nbformat_minor": 4
}
