{
 "cells": [
  {
   "cell_type": "markdown",
   "metadata": {},
   "source": [
    "# Get the voice filepath"
   ]
  },
  {
   "cell_type": "code",
   "execution_count": 44,
   "metadata": {},
   "outputs": [],
   "source": [
    "import glob\n",
    "import os\n",
    "import shutil\n",
    "import pandas as pd\n",
    "import warnings\n",
    "\n",
    "warnings.filterwarnings('ignore')"
   ]
  },
  {
   "cell_type": "code",
   "execution_count": 4,
   "metadata": {},
   "outputs": [],
   "source": [
    "wavdata=glob.glob(r'.\\convert_corpus\\*\\*\\*\\*.wav')"
   ]
  },
  {
   "cell_type": "code",
   "execution_count": 5,
   "metadata": {},
   "outputs": [
    {
     "data": {
      "text/plain": [
       "['.\\\\convert_corpus\\\\person1\\\\time1\\\\group1\\\\ba1.wav',\n",
       " '.\\\\convert_corpus\\\\person1\\\\time1\\\\group1\\\\da4.wav',\n",
       " '.\\\\convert_corpus\\\\person1\\\\time1\\\\group1\\\\er4.wav',\n",
       " '.\\\\convert_corpus\\\\person1\\\\time1\\\\group1\\\\ge4.wav',\n",
       " '.\\\\convert_corpus\\\\person1\\\\time1\\\\group1\\\\he2.wav',\n",
       " '.\\\\convert_corpus\\\\person1\\\\time1\\\\group1\\\\huo3.wav',\n",
       " '.\\\\convert_corpus\\\\person1\\\\time1\\\\group1\\\\liu4.wav',\n",
       " '.\\\\convert_corpus\\\\person1\\\\time1\\\\group1\\\\mu4.wav',\n",
       " '.\\\\convert_corpus\\\\person1\\\\time1\\\\group1\\\\ren2.wav',\n",
       " '.\\\\convert_corpus\\\\person1\\\\time1\\\\group1\\\\ru4.wav',\n",
       " '.\\\\convert_corpus\\\\person1\\\\time1\\\\group1\\\\san1.wav',\n",
       " '.\\\\convert_corpus\\\\person1\\\\time1\\\\group1\\\\shang4.wav',\n",
       " '.\\\\convert_corpus\\\\person1\\\\time1\\\\group1\\\\shi2.wav',\n",
       " '.\\\\convert_corpus\\\\person1\\\\time1\\\\group1\\\\tian1.wav',\n",
       " '.\\\\convert_corpus\\\\person1\\\\time1\\\\group1\\\\tu3.wav',\n",
       " '.\\\\convert_corpus\\\\person1\\\\time1\\\\group1\\\\wen2.wav',\n",
       " '.\\\\convert_corpus\\\\person1\\\\time1\\\\group1\\\\xia4.wav',\n",
       " '.\\\\convert_corpus\\\\person1\\\\time1\\\\group1\\\\yi1.wav',\n",
       " '.\\\\convert_corpus\\\\person1\\\\time1\\\\group2\\\\bu4.wav',\n",
       " '.\\\\convert_corpus\\\\person1\\\\time1\\\\group2\\\\che1.wav',\n",
       " '.\\\\convert_corpus\\\\person1\\\\time1\\\\group2\\\\er2.wav',\n",
       " '.\\\\convert_corpus\\\\person1\\\\time1\\\\group2\\\\gong1.wav',\n",
       " '.\\\\convert_corpus\\\\person1\\\\time1\\\\group2\\\\jiu3.wav',\n",
       " '.\\\\convert_corpus\\\\person1\\\\time1\\\\group2\\\\kou3.wav',\n",
       " '.\\\\convert_corpus\\\\person1\\\\time1\\\\group2\\\\lei4.wav',\n",
       " '.\\\\convert_corpus\\\\person1\\\\time1\\\\group2\\\\men2.wav',\n",
       " '.\\\\convert_corpus\\\\person1\\\\time1\\\\group2\\\\niu2.wav',\n",
       " '.\\\\convert_corpus\\\\person1\\\\time1\\\\group2\\\\qi1.wav',\n",
       " '.\\\\convert_corpus\\\\person1\\\\time1\\\\group2\\\\ri4.wav',\n",
       " '.\\\\convert_corpus\\\\person1\\\\time1\\\\group2\\\\wu2.wav',\n",
       " '.\\\\convert_corpus\\\\person1\\\\time1\\\\group2\\\\xiao3.wav',\n",
       " '.\\\\convert_corpus\\\\person1\\\\time1\\\\group2\\\\yang2.wav',\n",
       " '.\\\\convert_corpus\\\\person1\\\\time1\\\\group2\\\\yue4.wav',\n",
       " '.\\\\convert_corpus\\\\person1\\\\time1\\\\group2\\\\yun2.wav',\n",
       " '.\\\\convert_corpus\\\\person1\\\\time1\\\\group2\\\\zhong1.wav',\n",
       " '.\\\\convert_corpus\\\\person1\\\\time1\\\\group2\\\\zi3.wav',\n",
       " '.\\\\convert_corpus\\\\person1\\\\time1\\\\group3\\\\bai2.wav',\n",
       " '.\\\\convert_corpus\\\\person1\\\\time1\\\\group3\\\\chang2.wav',\n",
       " '.\\\\convert_corpus\\\\person1\\\\time1\\\\group3\\\\chu1.wav',\n",
       " '.\\\\convert_corpus\\\\person1\\\\time1\\\\group3\\\\dian4.wav',\n",
       " '.\\\\convert_corpus\\\\person1\\\\time1\\\\group3\\\\er3.wav',\n",
       " '.\\\\convert_corpus\\\\person1\\\\time1\\\\group3\\\\fei1.wav',\n",
       " '.\\\\convert_corpus\\\\person1\\\\time1\\\\group3\\\\jian4.wav',\n",
       " '.\\\\convert_corpus\\\\person1\\\\time1\\\\group3\\\\kai1.wav',\n",
       " '.\\\\convert_corpus\\\\person1\\\\time1\\\\group3\\\\ma3.wav',\n",
       " '.\\\\convert_corpus\\\\person1\\\\time1\\\\group3\\\\mi3.wav',\n",
       " '.\\\\convert_corpus\\\\person1\\\\time1\\\\group3\\\\niao3.wav',\n",
       " '.\\\\convert_corpus\\\\person1\\\\time1\\\\group3\\\\shan1.wav',\n",
       " '.\\\\convert_corpus\\\\person1\\\\time1\\\\group3\\\\si4.wav',\n",
       " '.\\\\convert_corpus\\\\person1\\\\time1\\\\group3\\\\tian2.wav',\n",
       " '.\\\\convert_corpus\\\\person1\\\\time1\\\\group3\\\\tou2.wav',\n",
       " '.\\\\convert_corpus\\\\person1\\\\time1\\\\group3\\\\wei1.wav',\n",
       " '.\\\\convert_corpus\\\\person1\\\\time1\\\\group3\\\\wu3.wav',\n",
       " '.\\\\convert_corpus\\\\person1\\\\time1\\\\group3\\\\ye3.wav',\n",
       " '.\\\\convert_corpus\\\\person1\\\\time1\\\\group4\\\\ban4.wav',\n",
       " '.\\\\convert_corpus\\\\person1\\\\time1\\\\group4\\\\bu3.wav',\n",
       " '.\\\\convert_corpus\\\\person1\\\\time1\\\\group4\\\\chi3.wav',\n",
       " '.\\\\convert_corpus\\\\person1\\\\time1\\\\group4\\\\fang1.wav',\n",
       " '.\\\\convert_corpus\\\\person1\\\\time1\\\\group4\\\\feng1.wav',\n",
       " '.\\\\convert_corpus\\\\person1\\\\time1\\\\group4\\\\guang3.wav',\n",
       " '.\\\\convert_corpus\\\\person1\\\\time1\\\\group4\\\\jin1.wav',\n",
       " '.\\\\convert_corpus\\\\person1\\\\time1\\\\group4\\\\li4.wav',\n",
       " '.\\\\convert_corpus\\\\person1\\\\time1\\\\group4\\\\mao2.wav',\n",
       " '.\\\\convert_corpus\\\\person1\\\\time1\\\\group4\\\\shao3.wav',\n",
       " '.\\\\convert_corpus\\\\person1\\\\time1\\\\group4\\\\sheng1.wav',\n",
       " '.\\\\convert_corpus\\\\person1\\\\time1\\\\group4\\\\shou3.wav',\n",
       " '.\\\\convert_corpus\\\\person1\\\\time1\\\\group4\\\\shui3.wav',\n",
       " '.\\\\convert_corpus\\\\person1\\\\time1\\\\group4\\\\xin1.wav',\n",
       " '.\\\\convert_corpus\\\\person1\\\\time1\\\\group4\\\\ya2.wav',\n",
       " '.\\\\convert_corpus\\\\person1\\\\time1\\\\group4\\\\you4.wav',\n",
       " '.\\\\convert_corpus\\\\person1\\\\time1\\\\group4\\\\zou3.wav',\n",
       " '.\\\\convert_corpus\\\\person1\\\\time1\\\\group4\\\\zu2.wav',\n",
       " '.\\\\convert_corpus\\\\person1\\\\time1\\\\group5\\\\ben3.wav',\n",
       " '.\\\\convert_corpus\\\\person1\\\\time1\\\\group5\\\\dong1.wav',\n",
       " '.\\\\convert_corpus\\\\person1\\\\time1\\\\group5\\\\guo3.wav',\n",
       " '.\\\\convert_corpus\\\\person1\\\\time1\\\\group5\\\\hui2.wav',\n",
       " '.\\\\convert_corpus\\\\person1\\\\time1\\\\group5\\\\ji3.wav',\n",
       " '.\\\\convert_corpus\\\\person1\\\\time1\\\\group5\\\\lai2.wav',\n",
       " '.\\\\convert_corpus\\\\person1\\\\time1\\\\group5\\\\li3.wav',\n",
       " '.\\\\convert_corpus\\\\person1\\\\time1\\\\group5\\\\pi2.wav',\n",
       " '.\\\\convert_corpus\\\\person1\\\\time1\\\\group5\\\\pian4.wav',\n",
       " '.\\\\convert_corpus\\\\person1\\\\time1\\\\group5\\\\ping2.wav',\n",
       " '.\\\\convert_corpus\\\\person1\\\\time1\\\\group5\\\\shu1.wav',\n",
       " '.\\\\convert_corpus\\\\person1\\\\time1\\\\group5\\\\shuan1.wav',\n",
       " '.\\\\convert_corpus\\\\person1\\\\time1\\\\group5\\\\xi1.wav',\n",
       " '.\\\\convert_corpus\\\\person1\\\\time1\\\\group5\\\\ye4.wav',\n",
       " '.\\\\convert_corpus\\\\person1\\\\time1\\\\group5\\\\yi3.wav',\n",
       " '.\\\\convert_corpus\\\\person1\\\\time1\\\\group5\\\\yong4.wav',\n",
       " '.\\\\convert_corpus\\\\person1\\\\time1\\\\group5\\\\yu2.wav',\n",
       " '.\\\\convert_corpus\\\\person1\\\\time1\\\\group5\\\\zi4.wav',\n",
       " '.\\\\convert_corpus\\\\person1\\\\time1\\\\group6\\\\bai3.wav',\n",
       " '.\\\\convert_corpus\\\\person1\\\\time1\\\\group6\\\\chui2.wav',\n",
       " '.\\\\convert_corpus\\\\person1\\\\time1\\\\group6\\\\dong1.wav',\n",
       " '.\\\\convert_corpus\\\\person1\\\\time1\\\\group6\\\\gua1.wav',\n",
       " '.\\\\convert_corpus\\\\person1\\\\time1\\\\group6\\\\hang2.wav',\n",
       " '.\\\\convert_corpus\\\\person1\\\\time1\\\\group6\\\\jiang4.wav',\n",
       " '.\\\\convert_corpus\\\\person1\\\\time1\\\\group6\\\\jin1.wav',\n",
       " '.\\\\convert_corpus\\\\person1\\\\time1\\\\group6\\\\liang3.wav',\n",
       " '.\\\\convert_corpus\\\\person1\\\\time1\\\\group6\\\\lv3.wav',\n",
       " '.\\\\convert_corpus\\\\person1\\\\time1\\\\group6\\\\ni3.wav',\n",
       " '.\\\\convert_corpus\\\\person1\\\\time1\\\\group6\\\\nian2.wav',\n",
       " '.\\\\convert_corpus\\\\person1\\\\time1\\\\group6\\\\qi2.wav',\n",
       " '.\\\\convert_corpus\\\\person1\\\\time1\\\\group6\\\\qin1.wav',\n",
       " '.\\\\convert_corpus\\\\person1\\\\time1\\\\group6\\\\sui4.wav',\n",
       " '.\\\\convert_corpus\\\\person1\\\\time1\\\\group6\\\\you4.wav',\n",
       " '.\\\\convert_corpus\\\\person1\\\\time1\\\\group6\\\\yu3.wav',\n",
       " '.\\\\convert_corpus\\\\person1\\\\time1\\\\group6\\\\zheng4.wav',\n",
       " '.\\\\convert_corpus\\\\person1\\\\time1\\\\group6\\\\zuo3.wav',\n",
       " '.\\\\convert_corpus\\\\person1\\\\time1\\\\group7\\\\cao3.wav',\n",
       " '.\\\\convert_corpus\\\\person1\\\\time1\\\\group7\\\\chu4.wav',\n",
       " '.\\\\convert_corpus\\\\person1\\\\time1\\\\group7\\\\chun1.wav',\n",
       " '.\\\\convert_corpus\\\\person1\\\\time1\\\\group7\\\\ding1.wav',\n",
       " '.\\\\convert_corpus\\\\person1\\\\time1\\\\group7\\\\duo1.wav',\n",
       " '.\\\\convert_corpus\\\\person1\\\\time1\\\\group7\\\\gang1.wav',\n",
       " '.\\\\convert_corpus\\\\person1\\\\time1\\\\group7\\\\gao1.wav',\n",
       " '.\\\\convert_corpus\\\\person1\\\\time1\\\\group7\\\\gu3.wav',\n",
       " '.\\\\convert_corpus\\\\person1\\\\time1\\\\group7\\\\hong2.wav',\n",
       " '.\\\\convert_corpus\\\\person1\\\\time1\\\\group7\\\\hua1.wav',\n",
       " '.\\\\convert_corpus\\\\person1\\\\time1\\\\group7\\\\hua4.wav',\n",
       " '.\\\\convert_corpus\\\\person1\\\\time1\\\\group7\\\\lv4.wav',\n",
       " '.\\\\convert_corpus\\\\person1\\\\time1\\\\group7\\\\mang2.wav',\n",
       " '.\\\\convert_corpus\\\\person1\\\\time1\\\\group7\\\\peng2.wav',\n",
       " '.\\\\convert_corpus\\\\person1\\\\time1\\\\group7\\\\shuo1.wav',\n",
       " '.\\\\convert_corpus\\\\person1\\\\time1\\\\group7\\\\wan4.wav',\n",
       " '.\\\\convert_corpus\\\\person1\\\\time1\\\\group7\\\\you3.wav',\n",
       " '.\\\\convert_corpus\\\\person1\\\\time1\\\\group7\\\\zhi1.wav',\n",
       " '.\\\\convert_corpus\\\\person1\\\\time1\\\\group8\\\\ba4.wav',\n",
       " '.\\\\convert_corpus\\\\person1\\\\time1\\\\group8\\\\chao1.wav',\n",
       " '.\\\\convert_corpus\\\\person1\\\\time1\\\\group8\\\\fang4.wav',\n",
       " '.\\\\convert_corpus\\\\person1\\\\time1\\\\group8\\\\guan1.wav',\n",
       " '.\\\\convert_corpus\\\\person1\\\\time1\\\\group8\\\\he2.wav',\n",
       " '.\\\\convert_corpus\\\\person1\\\\time1\\\\group8\\\\hui4.wav',\n",
       " '.\\\\convert_corpus\\\\person1\\\\time1\\\\group8\\\\jia1.wav',\n",
       " '.\\\\convert_corpus\\\\person1\\\\time1\\\\group8\\\\kan4.wav',\n",
       " '.\\\\convert_corpus\\\\person1\\\\time1\\\\group8\\\\ma1.wav',\n",
       " '.\\\\convert_corpus\\\\person1\\\\time1\\\\group8\\\\nai3.wav',\n",
       " '.\\\\convert_corpus\\\\person1\\\\time1\\\\group8\\\\quan2.wav',\n",
       " '.\\\\convert_corpus\\\\person1\\\\time1\\\\group8\\\\shou1.wav',\n",
       " '.\\\\convert_corpus\\\\person1\\\\time1\\\\group8\\\\wan2.wav',\n",
       " '.\\\\convert_corpus\\\\person1\\\\time1\\\\group8\\\\wu3.wav',\n",
       " '.\\\\convert_corpus\\\\person1\\\\time1\\\\group8\\\\xiao4.wav',\n",
       " '.\\\\convert_corpus\\\\person1\\\\time1\\\\group8\\\\xie3.wav',\n",
       " '.\\\\convert_corpus\\\\person1\\\\time1\\\\group8\\\\xing1.wav',\n",
       " '.\\\\convert_corpus\\\\person1\\\\time1\\\\group9\\\\chang4.wav',\n",
       " '.\\\\convert_corpus\\\\person1\\\\time1\\\\group9\\\\ding4.wav',\n",
       " '.\\\\convert_corpus\\\\person1\\\\time1\\\\group9\\\\he2.wav',\n",
       " '.\\\\convert_corpus\\\\person1\\\\time1\\\\group9\\\\li3.wav',\n",
       " '.\\\\convert_corpus\\\\person1\\\\time1\\\\group9\\\\lian2.wav',\n",
       " '.\\\\convert_corpus\\\\person1\\\\time1\\\\group9\\\\liang4.wav',\n",
       " '.\\\\convert_corpus\\\\person1\\\\time1\\\\group9\\\\nv3.wav',\n",
       " '.\\\\convert_corpus\\\\person1\\\\time1\\\\group9\\\\qi4.wav',\n",
       " '.\\\\convert_corpus\\\\person1\\\\time1\\\\group9\\\\qian1.wav',\n",
       " '.\\\\convert_corpus\\\\person1\\\\time1\\\\group9\\\\qu4.wav',\n",
       " '.\\\\convert_corpus\\\\person1\\\\time1\\\\group9\\\\tai4.wav',\n",
       " '.\\\\convert_corpus\\\\person1\\\\time1\\\\group9\\\\ting1.wav',\n",
       " '.\\\\convert_corpus\\\\person1\\\\time1\\\\group9\\\\xiang1.wav',\n",
       " '.\\\\convert_corpus\\\\person1\\\\time1\\\\group9\\\\xiang4.wav',\n",
       " '.\\\\convert_corpus\\\\person1\\\\time1\\\\group9\\\\xiu4.wav',\n",
       " '.\\\\convert_corpus\\\\person1\\\\time1\\\\group9\\\\yu3.wav',\n",
       " '.\\\\convert_corpus\\\\person1\\\\time1\\\\group9\\\\yuan3.wav',\n",
       " '.\\\\convert_corpus\\\\person1\\\\time1\\\\group9\\\\zao3.wav',\n",
       " '.\\\\convert_corpus\\\\person1\\\\time2\\\\group1\\\\ba1.wav',\n",
       " '.\\\\convert_corpus\\\\person1\\\\time2\\\\group1\\\\da4.wav',\n",
       " '.\\\\convert_corpus\\\\person1\\\\time2\\\\group1\\\\er4.wav',\n",
       " '.\\\\convert_corpus\\\\person1\\\\time2\\\\group1\\\\ge4.wav',\n",
       " '.\\\\convert_corpus\\\\person1\\\\time2\\\\group1\\\\he2.wav',\n",
       " '.\\\\convert_corpus\\\\person1\\\\time2\\\\group1\\\\huo3.wav',\n",
       " '.\\\\convert_corpus\\\\person1\\\\time2\\\\group1\\\\liu4.wav',\n",
       " '.\\\\convert_corpus\\\\person1\\\\time2\\\\group1\\\\mu4.wav',\n",
       " '.\\\\convert_corpus\\\\person1\\\\time2\\\\group1\\\\ren2.wav',\n",
       " '.\\\\convert_corpus\\\\person1\\\\time2\\\\group1\\\\ru4.wav',\n",
       " '.\\\\convert_corpus\\\\person1\\\\time2\\\\group1\\\\san1.wav',\n",
       " '.\\\\convert_corpus\\\\person1\\\\time2\\\\group1\\\\shang4.wav',\n",
       " '.\\\\convert_corpus\\\\person1\\\\time2\\\\group1\\\\shi2.wav',\n",
       " '.\\\\convert_corpus\\\\person1\\\\time2\\\\group1\\\\tian1.wav',\n",
       " '.\\\\convert_corpus\\\\person1\\\\time2\\\\group1\\\\tu3.wav',\n",
       " '.\\\\convert_corpus\\\\person1\\\\time2\\\\group1\\\\wen2.wav',\n",
       " '.\\\\convert_corpus\\\\person1\\\\time2\\\\group1\\\\xia4.wav',\n",
       " '.\\\\convert_corpus\\\\person1\\\\time2\\\\group1\\\\yi1.wav',\n",
       " '.\\\\convert_corpus\\\\person1\\\\time2\\\\group2\\\\bu4.wav',\n",
       " '.\\\\convert_corpus\\\\person1\\\\time2\\\\group2\\\\che1.wav',\n",
       " '.\\\\convert_corpus\\\\person1\\\\time2\\\\group2\\\\er2.wav',\n",
       " '.\\\\convert_corpus\\\\person1\\\\time2\\\\group2\\\\gong1.wav',\n",
       " '.\\\\convert_corpus\\\\person1\\\\time2\\\\group2\\\\jiu3.wav',\n",
       " '.\\\\convert_corpus\\\\person1\\\\time2\\\\group2\\\\kou3.wav',\n",
       " '.\\\\convert_corpus\\\\person1\\\\time2\\\\group2\\\\lei4.wav',\n",
       " '.\\\\convert_corpus\\\\person1\\\\time2\\\\group2\\\\men2.wav',\n",
       " '.\\\\convert_corpus\\\\person1\\\\time2\\\\group2\\\\niu2.wav',\n",
       " '.\\\\convert_corpus\\\\person1\\\\time2\\\\group2\\\\qi1.wav',\n",
       " '.\\\\convert_corpus\\\\person1\\\\time2\\\\group2\\\\ri4.wav',\n",
       " '.\\\\convert_corpus\\\\person1\\\\time2\\\\group2\\\\wu2.wav',\n",
       " '.\\\\convert_corpus\\\\person1\\\\time2\\\\group2\\\\xiao3.wav',\n",
       " '.\\\\convert_corpus\\\\person1\\\\time2\\\\group2\\\\yang2.wav',\n",
       " '.\\\\convert_corpus\\\\person1\\\\time2\\\\group2\\\\yue4.wav',\n",
       " '.\\\\convert_corpus\\\\person1\\\\time2\\\\group2\\\\yun2.wav',\n",
       " '.\\\\convert_corpus\\\\person1\\\\time2\\\\group2\\\\zhong1.wav',\n",
       " '.\\\\convert_corpus\\\\person1\\\\time2\\\\group2\\\\zi3.wav',\n",
       " '.\\\\convert_corpus\\\\person1\\\\time2\\\\group3\\\\bai2.wav',\n",
       " '.\\\\convert_corpus\\\\person1\\\\time2\\\\group3\\\\chang2.wav',\n",
       " '.\\\\convert_corpus\\\\person1\\\\time2\\\\group3\\\\chu1.wav',\n",
       " '.\\\\convert_corpus\\\\person1\\\\time2\\\\group3\\\\dian4.wav',\n",
       " '.\\\\convert_corpus\\\\person1\\\\time2\\\\group3\\\\er3.wav',\n",
       " '.\\\\convert_corpus\\\\person1\\\\time2\\\\group3\\\\fei1.wav',\n",
       " '.\\\\convert_corpus\\\\person1\\\\time2\\\\group3\\\\jian4.wav',\n",
       " '.\\\\convert_corpus\\\\person1\\\\time2\\\\group3\\\\kai1.wav',\n",
       " '.\\\\convert_corpus\\\\person1\\\\time2\\\\group3\\\\ma3.wav',\n",
       " '.\\\\convert_corpus\\\\person1\\\\time2\\\\group3\\\\mi3.wav',\n",
       " '.\\\\convert_corpus\\\\person1\\\\time2\\\\group3\\\\niao3.wav',\n",
       " '.\\\\convert_corpus\\\\person1\\\\time2\\\\group3\\\\shan1.wav',\n",
       " '.\\\\convert_corpus\\\\person1\\\\time2\\\\group3\\\\si4.wav',\n",
       " '.\\\\convert_corpus\\\\person1\\\\time2\\\\group3\\\\tian2.wav',\n",
       " '.\\\\convert_corpus\\\\person1\\\\time2\\\\group3\\\\tou2.wav',\n",
       " '.\\\\convert_corpus\\\\person1\\\\time2\\\\group3\\\\wei1.wav',\n",
       " '.\\\\convert_corpus\\\\person1\\\\time2\\\\group3\\\\wu3.wav',\n",
       " '.\\\\convert_corpus\\\\person1\\\\time2\\\\group3\\\\ye3.wav',\n",
       " '.\\\\convert_corpus\\\\person1\\\\time2\\\\group4\\\\ban4.wav',\n",
       " '.\\\\convert_corpus\\\\person1\\\\time2\\\\group4\\\\bu3.wav',\n",
       " '.\\\\convert_corpus\\\\person1\\\\time2\\\\group4\\\\chi3.wav',\n",
       " '.\\\\convert_corpus\\\\person1\\\\time2\\\\group4\\\\fang1.wav',\n",
       " '.\\\\convert_corpus\\\\person1\\\\time2\\\\group4\\\\feng1.wav',\n",
       " '.\\\\convert_corpus\\\\person1\\\\time2\\\\group4\\\\guang3.wav',\n",
       " '.\\\\convert_corpus\\\\person1\\\\time2\\\\group4\\\\jin1.wav',\n",
       " '.\\\\convert_corpus\\\\person1\\\\time2\\\\group4\\\\li4.wav',\n",
       " '.\\\\convert_corpus\\\\person1\\\\time2\\\\group4\\\\mao2.wav',\n",
       " '.\\\\convert_corpus\\\\person1\\\\time2\\\\group4\\\\shao3.wav',\n",
       " '.\\\\convert_corpus\\\\person1\\\\time2\\\\group4\\\\sheng1.wav',\n",
       " '.\\\\convert_corpus\\\\person1\\\\time2\\\\group4\\\\shou3.wav',\n",
       " '.\\\\convert_corpus\\\\person1\\\\time2\\\\group4\\\\shui3.wav',\n",
       " '.\\\\convert_corpus\\\\person1\\\\time2\\\\group4\\\\xin1.wav',\n",
       " '.\\\\convert_corpus\\\\person1\\\\time2\\\\group4\\\\ya2.wav',\n",
       " '.\\\\convert_corpus\\\\person1\\\\time2\\\\group4\\\\you4.wav',\n",
       " '.\\\\convert_corpus\\\\person1\\\\time2\\\\group4\\\\zou3.wav',\n",
       " '.\\\\convert_corpus\\\\person1\\\\time2\\\\group4\\\\zu2.wav',\n",
       " '.\\\\convert_corpus\\\\person1\\\\time2\\\\group5\\\\ben3.wav',\n",
       " '.\\\\convert_corpus\\\\person1\\\\time2\\\\group5\\\\dong1.wav',\n",
       " '.\\\\convert_corpus\\\\person1\\\\time2\\\\group5\\\\guo3.wav',\n",
       " '.\\\\convert_corpus\\\\person1\\\\time2\\\\group5\\\\hui2.wav',\n",
       " '.\\\\convert_corpus\\\\person1\\\\time2\\\\group5\\\\ji3.wav',\n",
       " '.\\\\convert_corpus\\\\person1\\\\time2\\\\group5\\\\lai2.wav',\n",
       " '.\\\\convert_corpus\\\\person1\\\\time2\\\\group5\\\\li3.wav',\n",
       " '.\\\\convert_corpus\\\\person1\\\\time2\\\\group5\\\\pi2.wav',\n",
       " '.\\\\convert_corpus\\\\person1\\\\time2\\\\group5\\\\pian4.wav',\n",
       " '.\\\\convert_corpus\\\\person1\\\\time2\\\\group5\\\\ping2.wav',\n",
       " '.\\\\convert_corpus\\\\person1\\\\time2\\\\group5\\\\shu1.wav',\n",
       " '.\\\\convert_corpus\\\\person1\\\\time2\\\\group5\\\\shuan1.wav',\n",
       " '.\\\\convert_corpus\\\\person1\\\\time2\\\\group5\\\\xi1.wav',\n",
       " '.\\\\convert_corpus\\\\person1\\\\time2\\\\group5\\\\ye4.wav',\n",
       " '.\\\\convert_corpus\\\\person1\\\\time2\\\\group5\\\\yi3.wav',\n",
       " '.\\\\convert_corpus\\\\person1\\\\time2\\\\group5\\\\yong4.wav',\n",
       " '.\\\\convert_corpus\\\\person1\\\\time2\\\\group5\\\\yu2.wav',\n",
       " '.\\\\convert_corpus\\\\person1\\\\time2\\\\group5\\\\zi4.wav',\n",
       " '.\\\\convert_corpus\\\\person1\\\\time2\\\\group6\\\\bai3.wav',\n",
       " '.\\\\convert_corpus\\\\person1\\\\time2\\\\group6\\\\chui2.wav',\n",
       " '.\\\\convert_corpus\\\\person1\\\\time2\\\\group6\\\\dong1.wav',\n",
       " '.\\\\convert_corpus\\\\person1\\\\time2\\\\group6\\\\gua1.wav',\n",
       " '.\\\\convert_corpus\\\\person1\\\\time2\\\\group6\\\\hang2.wav',\n",
       " '.\\\\convert_corpus\\\\person1\\\\time2\\\\group6\\\\jiang4.wav',\n",
       " '.\\\\convert_corpus\\\\person1\\\\time2\\\\group6\\\\jin1.wav',\n",
       " '.\\\\convert_corpus\\\\person1\\\\time2\\\\group6\\\\liang3.wav',\n",
       " '.\\\\convert_corpus\\\\person1\\\\time2\\\\group6\\\\lv3.wav',\n",
       " '.\\\\convert_corpus\\\\person1\\\\time2\\\\group6\\\\ni3.wav',\n",
       " '.\\\\convert_corpus\\\\person1\\\\time2\\\\group6\\\\nian2.wav',\n",
       " '.\\\\convert_corpus\\\\person1\\\\time2\\\\group6\\\\qi2.wav',\n",
       " '.\\\\convert_corpus\\\\person1\\\\time2\\\\group6\\\\qin1.wav',\n",
       " '.\\\\convert_corpus\\\\person1\\\\time2\\\\group6\\\\sui4.wav',\n",
       " '.\\\\convert_corpus\\\\person1\\\\time2\\\\group6\\\\you4.wav',\n",
       " '.\\\\convert_corpus\\\\person1\\\\time2\\\\group6\\\\yu3.wav',\n",
       " '.\\\\convert_corpus\\\\person1\\\\time2\\\\group6\\\\zheng4.wav',\n",
       " '.\\\\convert_corpus\\\\person1\\\\time2\\\\group6\\\\zuo3.wav',\n",
       " '.\\\\convert_corpus\\\\person1\\\\time2\\\\group7\\\\cao3.wav',\n",
       " '.\\\\convert_corpus\\\\person1\\\\time2\\\\group7\\\\chu4.wav',\n",
       " '.\\\\convert_corpus\\\\person1\\\\time2\\\\group7\\\\chun1.wav',\n",
       " '.\\\\convert_corpus\\\\person1\\\\time2\\\\group7\\\\ding1.wav',\n",
       " '.\\\\convert_corpus\\\\person1\\\\time2\\\\group7\\\\duo1.wav',\n",
       " '.\\\\convert_corpus\\\\person1\\\\time2\\\\group7\\\\gang3.wav',\n",
       " '.\\\\convert_corpus\\\\person1\\\\time2\\\\group7\\\\gao1.wav',\n",
       " '.\\\\convert_corpus\\\\person1\\\\time2\\\\group7\\\\gu3.wav',\n",
       " '.\\\\convert_corpus\\\\person1\\\\time2\\\\group7\\\\hong2.wav',\n",
       " '.\\\\convert_corpus\\\\person1\\\\time2\\\\group7\\\\hua1.wav',\n",
       " '.\\\\convert_corpus\\\\person1\\\\time2\\\\group7\\\\hua4.wav',\n",
       " '.\\\\convert_corpus\\\\person1\\\\time2\\\\group7\\\\lv4.wav',\n",
       " '.\\\\convert_corpus\\\\person1\\\\time2\\\\group7\\\\mang2.wav',\n",
       " '.\\\\convert_corpus\\\\person1\\\\time2\\\\group7\\\\peng2.wav',\n",
       " '.\\\\convert_corpus\\\\person1\\\\time2\\\\group7\\\\shuo1.wav',\n",
       " '.\\\\convert_corpus\\\\person1\\\\time2\\\\group7\\\\wan4.wav',\n",
       " '.\\\\convert_corpus\\\\person1\\\\time2\\\\group7\\\\you3.wav',\n",
       " '.\\\\convert_corpus\\\\person1\\\\time2\\\\group7\\\\zhi1.wav',\n",
       " '.\\\\convert_corpus\\\\person1\\\\time2\\\\group8\\\\ba4.wav',\n",
       " '.\\\\convert_corpus\\\\person1\\\\time2\\\\group8\\\\chao1.wav',\n",
       " '.\\\\convert_corpus\\\\person1\\\\time2\\\\group8\\\\fang4.wav',\n",
       " '.\\\\convert_corpus\\\\person1\\\\time2\\\\group8\\\\guan1.wav',\n",
       " '.\\\\convert_corpus\\\\person1\\\\time2\\\\group8\\\\he2.wav',\n",
       " '.\\\\convert_corpus\\\\person1\\\\time2\\\\group8\\\\hui4.wav',\n",
       " '.\\\\convert_corpus\\\\person1\\\\time2\\\\group8\\\\jia1.wav',\n",
       " '.\\\\convert_corpus\\\\person1\\\\time2\\\\group8\\\\kan4.wav',\n",
       " '.\\\\convert_corpus\\\\person1\\\\time2\\\\group8\\\\ma1.wav',\n",
       " '.\\\\convert_corpus\\\\person1\\\\time2\\\\group8\\\\nai3.wav',\n",
       " '.\\\\convert_corpus\\\\person1\\\\time2\\\\group8\\\\quan2.wav',\n",
       " '.\\\\convert_corpus\\\\person1\\\\time2\\\\group8\\\\shou1.wav',\n",
       " '.\\\\convert_corpus\\\\person1\\\\time2\\\\group8\\\\wan2.wav',\n",
       " '.\\\\convert_corpus\\\\person1\\\\time2\\\\group8\\\\wu3.wav',\n",
       " '.\\\\convert_corpus\\\\person1\\\\time2\\\\group8\\\\xiao4.wav',\n",
       " '.\\\\convert_corpus\\\\person1\\\\time2\\\\group8\\\\xie3.wav',\n",
       " '.\\\\convert_corpus\\\\person1\\\\time2\\\\group8\\\\xing1.wav',\n",
       " '.\\\\convert_corpus\\\\person1\\\\time2\\\\group9\\\\chang4.wav',\n",
       " '.\\\\convert_corpus\\\\person1\\\\time2\\\\group9\\\\ding4.wav',\n",
       " '.\\\\convert_corpus\\\\person1\\\\time2\\\\group9\\\\he2.wav',\n",
       " '.\\\\convert_corpus\\\\person1\\\\time2\\\\group9\\\\li3.wav',\n",
       " '.\\\\convert_corpus\\\\person1\\\\time2\\\\group9\\\\lian2.wav',\n",
       " '.\\\\convert_corpus\\\\person1\\\\time2\\\\group9\\\\liang4.wav',\n",
       " '.\\\\convert_corpus\\\\person1\\\\time2\\\\group9\\\\nv3.wav',\n",
       " '.\\\\convert_corpus\\\\person1\\\\time2\\\\group9\\\\qi4.wav',\n",
       " '.\\\\convert_corpus\\\\person1\\\\time2\\\\group9\\\\qian1.wav',\n",
       " '.\\\\convert_corpus\\\\person1\\\\time2\\\\group9\\\\qu4.wav',\n",
       " '.\\\\convert_corpus\\\\person1\\\\time2\\\\group9\\\\tai4.wav',\n",
       " '.\\\\convert_corpus\\\\person1\\\\time2\\\\group9\\\\ting1.wav',\n",
       " '.\\\\convert_corpus\\\\person1\\\\time2\\\\group9\\\\xiang1.wav',\n",
       " '.\\\\convert_corpus\\\\person1\\\\time2\\\\group9\\\\xiang4.wav',\n",
       " '.\\\\convert_corpus\\\\person1\\\\time2\\\\group9\\\\xiu4.wav',\n",
       " '.\\\\convert_corpus\\\\person1\\\\time2\\\\group9\\\\yu3.wav',\n",
       " '.\\\\convert_corpus\\\\person1\\\\time2\\\\group9\\\\yuan3.wav',\n",
       " '.\\\\convert_corpus\\\\person1\\\\time2\\\\group9\\\\zao3.wav',\n",
       " '.\\\\convert_corpus\\\\person1\\\\time3\\\\group1\\\\ba1.wav',\n",
       " '.\\\\convert_corpus\\\\person1\\\\time3\\\\group1\\\\da4.wav',\n",
       " '.\\\\convert_corpus\\\\person1\\\\time3\\\\group1\\\\er4.wav',\n",
       " '.\\\\convert_corpus\\\\person1\\\\time3\\\\group1\\\\ge4.wav',\n",
       " '.\\\\convert_corpus\\\\person1\\\\time3\\\\group1\\\\he2.wav',\n",
       " '.\\\\convert_corpus\\\\person1\\\\time3\\\\group1\\\\huo3.wav',\n",
       " '.\\\\convert_corpus\\\\person1\\\\time3\\\\group1\\\\liu4.wav',\n",
       " '.\\\\convert_corpus\\\\person1\\\\time3\\\\group1\\\\mu4.wav',\n",
       " '.\\\\convert_corpus\\\\person1\\\\time3\\\\group1\\\\ren2.wav',\n",
       " '.\\\\convert_corpus\\\\person1\\\\time3\\\\group1\\\\ru4.wav',\n",
       " '.\\\\convert_corpus\\\\person1\\\\time3\\\\group1\\\\san1.wav',\n",
       " '.\\\\convert_corpus\\\\person1\\\\time3\\\\group1\\\\shang4.wav',\n",
       " '.\\\\convert_corpus\\\\person1\\\\time3\\\\group1\\\\shi2.wav',\n",
       " '.\\\\convert_corpus\\\\person1\\\\time3\\\\group1\\\\tian1.wav',\n",
       " '.\\\\convert_corpus\\\\person1\\\\time3\\\\group1\\\\tu3.wav',\n",
       " '.\\\\convert_corpus\\\\person1\\\\time3\\\\group1\\\\wen2.wav',\n",
       " '.\\\\convert_corpus\\\\person1\\\\time3\\\\group1\\\\xia4.wav',\n",
       " '.\\\\convert_corpus\\\\person1\\\\time3\\\\group1\\\\yi1.wav',\n",
       " '.\\\\convert_corpus\\\\person1\\\\time3\\\\group2\\\\bu4.wav',\n",
       " '.\\\\convert_corpus\\\\person1\\\\time3\\\\group2\\\\che1.wav',\n",
       " '.\\\\convert_corpus\\\\person1\\\\time3\\\\group2\\\\er2.wav',\n",
       " '.\\\\convert_corpus\\\\person1\\\\time3\\\\group2\\\\gong1.wav',\n",
       " '.\\\\convert_corpus\\\\person1\\\\time3\\\\group2\\\\jiu3.wav',\n",
       " '.\\\\convert_corpus\\\\person1\\\\time3\\\\group2\\\\kou3.wav',\n",
       " '.\\\\convert_corpus\\\\person1\\\\time3\\\\group2\\\\lei4.wav',\n",
       " '.\\\\convert_corpus\\\\person1\\\\time3\\\\group2\\\\men2.wav',\n",
       " '.\\\\convert_corpus\\\\person1\\\\time3\\\\group2\\\\niu2.wav',\n",
       " '.\\\\convert_corpus\\\\person1\\\\time3\\\\group2\\\\qi1.wav',\n",
       " '.\\\\convert_corpus\\\\person1\\\\time3\\\\group2\\\\ri4.wav',\n",
       " '.\\\\convert_corpus\\\\person1\\\\time3\\\\group2\\\\wu2.wav',\n",
       " '.\\\\convert_corpus\\\\person1\\\\time3\\\\group2\\\\xiao3.wav',\n",
       " '.\\\\convert_corpus\\\\person1\\\\time3\\\\group2\\\\yang2.wav',\n",
       " '.\\\\convert_corpus\\\\person1\\\\time3\\\\group2\\\\yue4.wav',\n",
       " '.\\\\convert_corpus\\\\person1\\\\time3\\\\group2\\\\yun2.wav',\n",
       " '.\\\\convert_corpus\\\\person1\\\\time3\\\\group2\\\\zhong1.wav',\n",
       " '.\\\\convert_corpus\\\\person1\\\\time3\\\\group2\\\\zi3.wav',\n",
       " '.\\\\convert_corpus\\\\person1\\\\time3\\\\group3\\\\bai2.wav',\n",
       " '.\\\\convert_corpus\\\\person1\\\\time3\\\\group3\\\\chang2.wav',\n",
       " '.\\\\convert_corpus\\\\person1\\\\time3\\\\group3\\\\chu1.wav',\n",
       " '.\\\\convert_corpus\\\\person1\\\\time3\\\\group3\\\\dian4.wav',\n",
       " '.\\\\convert_corpus\\\\person1\\\\time3\\\\group3\\\\er3.wav',\n",
       " '.\\\\convert_corpus\\\\person1\\\\time3\\\\group3\\\\fei1.wav',\n",
       " '.\\\\convert_corpus\\\\person1\\\\time3\\\\group3\\\\jian4.wav',\n",
       " '.\\\\convert_corpus\\\\person1\\\\time3\\\\group3\\\\kai1.wav',\n",
       " '.\\\\convert_corpus\\\\person1\\\\time3\\\\group3\\\\ma3.wav',\n",
       " '.\\\\convert_corpus\\\\person1\\\\time3\\\\group3\\\\mi3.wav',\n",
       " '.\\\\convert_corpus\\\\person1\\\\time3\\\\group3\\\\niao3.wav',\n",
       " '.\\\\convert_corpus\\\\person1\\\\time3\\\\group3\\\\shan1.wav',\n",
       " '.\\\\convert_corpus\\\\person1\\\\time3\\\\group3\\\\si4.wav',\n",
       " '.\\\\convert_corpus\\\\person1\\\\time3\\\\group3\\\\tian2.wav',\n",
       " '.\\\\convert_corpus\\\\person1\\\\time3\\\\group3\\\\tou2.wav',\n",
       " '.\\\\convert_corpus\\\\person1\\\\time3\\\\group3\\\\wei1.wav',\n",
       " '.\\\\convert_corpus\\\\person1\\\\time3\\\\group3\\\\wu3.wav',\n",
       " '.\\\\convert_corpus\\\\person1\\\\time3\\\\group3\\\\ye3.wav',\n",
       " '.\\\\convert_corpus\\\\person1\\\\time3\\\\group4\\\\ban4.wav',\n",
       " '.\\\\convert_corpus\\\\person1\\\\time3\\\\group4\\\\bu3.wav',\n",
       " '.\\\\convert_corpus\\\\person1\\\\time3\\\\group4\\\\chi3.wav',\n",
       " '.\\\\convert_corpus\\\\person1\\\\time3\\\\group4\\\\fang1.wav',\n",
       " '.\\\\convert_corpus\\\\person1\\\\time3\\\\group4\\\\feng1.wav',\n",
       " '.\\\\convert_corpus\\\\person1\\\\time3\\\\group4\\\\guang3.wav',\n",
       " '.\\\\convert_corpus\\\\person1\\\\time3\\\\group4\\\\jin1.wav',\n",
       " '.\\\\convert_corpus\\\\person1\\\\time3\\\\group4\\\\li4.wav',\n",
       " '.\\\\convert_corpus\\\\person1\\\\time3\\\\group4\\\\mao2.wav',\n",
       " '.\\\\convert_corpus\\\\person1\\\\time3\\\\group4\\\\shao3.wav',\n",
       " '.\\\\convert_corpus\\\\person1\\\\time3\\\\group4\\\\sheng1.wav',\n",
       " '.\\\\convert_corpus\\\\person1\\\\time3\\\\group4\\\\shou3.wav',\n",
       " '.\\\\convert_corpus\\\\person1\\\\time3\\\\group4\\\\shui3.wav',\n",
       " '.\\\\convert_corpus\\\\person1\\\\time3\\\\group4\\\\xin1.wav',\n",
       " '.\\\\convert_corpus\\\\person1\\\\time3\\\\group4\\\\ya2.wav',\n",
       " '.\\\\convert_corpus\\\\person1\\\\time3\\\\group4\\\\you4.wav',\n",
       " '.\\\\convert_corpus\\\\person1\\\\time3\\\\group4\\\\zou3.wav',\n",
       " '.\\\\convert_corpus\\\\person1\\\\time3\\\\group4\\\\zu2.wav',\n",
       " '.\\\\convert_corpus\\\\person1\\\\time3\\\\group5\\\\ben3.wav',\n",
       " '.\\\\convert_corpus\\\\person1\\\\time3\\\\group5\\\\dong1.wav',\n",
       " '.\\\\convert_corpus\\\\person1\\\\time3\\\\group5\\\\guo3.wav',\n",
       " '.\\\\convert_corpus\\\\person1\\\\time3\\\\group5\\\\hui2.wav',\n",
       " '.\\\\convert_corpus\\\\person1\\\\time3\\\\group5\\\\ji3.wav',\n",
       " '.\\\\convert_corpus\\\\person1\\\\time3\\\\group5\\\\lai2.wav',\n",
       " '.\\\\convert_corpus\\\\person1\\\\time3\\\\group5\\\\li3.wav',\n",
       " '.\\\\convert_corpus\\\\person1\\\\time3\\\\group5\\\\pi2.wav',\n",
       " '.\\\\convert_corpus\\\\person1\\\\time3\\\\group5\\\\pian4.wav',\n",
       " '.\\\\convert_corpus\\\\person1\\\\time3\\\\group5\\\\ping2.wav',\n",
       " '.\\\\convert_corpus\\\\person1\\\\time3\\\\group5\\\\shu1.wav',\n",
       " '.\\\\convert_corpus\\\\person1\\\\time3\\\\group5\\\\shuan1.wav',\n",
       " '.\\\\convert_corpus\\\\person1\\\\time3\\\\group5\\\\xi1.wav',\n",
       " '.\\\\convert_corpus\\\\person1\\\\time3\\\\group5\\\\ye4.wav',\n",
       " '.\\\\convert_corpus\\\\person1\\\\time3\\\\group5\\\\yi3.wav',\n",
       " '.\\\\convert_corpus\\\\person1\\\\time3\\\\group5\\\\yong4.wav',\n",
       " '.\\\\convert_corpus\\\\person1\\\\time3\\\\group5\\\\yu2.wav',\n",
       " '.\\\\convert_corpus\\\\person1\\\\time3\\\\group5\\\\zi4.wav',\n",
       " '.\\\\convert_corpus\\\\person1\\\\time3\\\\group6\\\\bai3.wav',\n",
       " '.\\\\convert_corpus\\\\person1\\\\time3\\\\group6\\\\chui2.wav',\n",
       " '.\\\\convert_corpus\\\\person1\\\\time3\\\\group6\\\\dong1.wav',\n",
       " '.\\\\convert_corpus\\\\person1\\\\time3\\\\group6\\\\gua1.wav',\n",
       " '.\\\\convert_corpus\\\\person1\\\\time3\\\\group6\\\\hang2.wav',\n",
       " '.\\\\convert_corpus\\\\person1\\\\time3\\\\group6\\\\jiang4.wav',\n",
       " '.\\\\convert_corpus\\\\person1\\\\time3\\\\group6\\\\jin1.wav',\n",
       " '.\\\\convert_corpus\\\\person1\\\\time3\\\\group6\\\\liang3.wav',\n",
       " '.\\\\convert_corpus\\\\person1\\\\time3\\\\group6\\\\lv3.wav',\n",
       " '.\\\\convert_corpus\\\\person1\\\\time3\\\\group6\\\\ni3.wav',\n",
       " '.\\\\convert_corpus\\\\person1\\\\time3\\\\group6\\\\nian2.wav',\n",
       " '.\\\\convert_corpus\\\\person1\\\\time3\\\\group6\\\\qi2.wav',\n",
       " '.\\\\convert_corpus\\\\person1\\\\time3\\\\group6\\\\qin1.wav',\n",
       " '.\\\\convert_corpus\\\\person1\\\\time3\\\\group6\\\\sui4.wav',\n",
       " '.\\\\convert_corpus\\\\person1\\\\time3\\\\group6\\\\you4.wav',\n",
       " '.\\\\convert_corpus\\\\person1\\\\time3\\\\group6\\\\yu3.wav',\n",
       " '.\\\\convert_corpus\\\\person1\\\\time3\\\\group6\\\\zheng4.wav',\n",
       " '.\\\\convert_corpus\\\\person1\\\\time3\\\\group6\\\\zuo3.wav',\n",
       " '.\\\\convert_corpus\\\\person1\\\\time3\\\\group7\\\\cao3.wav',\n",
       " '.\\\\convert_corpus\\\\person1\\\\time3\\\\group7\\\\chu4.wav',\n",
       " '.\\\\convert_corpus\\\\person1\\\\time3\\\\group7\\\\chun1.wav',\n",
       " '.\\\\convert_corpus\\\\person1\\\\time3\\\\group7\\\\ding1.wav',\n",
       " '.\\\\convert_corpus\\\\person1\\\\time3\\\\group7\\\\duo1.wav',\n",
       " '.\\\\convert_corpus\\\\person1\\\\time3\\\\group7\\\\gang3.wav',\n",
       " '.\\\\convert_corpus\\\\person1\\\\time3\\\\group7\\\\gao1.wav',\n",
       " '.\\\\convert_corpus\\\\person1\\\\time3\\\\group7\\\\gu3.wav',\n",
       " '.\\\\convert_corpus\\\\person1\\\\time3\\\\group7\\\\hong2.wav',\n",
       " '.\\\\convert_corpus\\\\person1\\\\time3\\\\group7\\\\hua1.wav',\n",
       " '.\\\\convert_corpus\\\\person1\\\\time3\\\\group7\\\\hua4.wav',\n",
       " '.\\\\convert_corpus\\\\person1\\\\time3\\\\group7\\\\lv4.wav',\n",
       " '.\\\\convert_corpus\\\\person1\\\\time3\\\\group7\\\\mang2.wav',\n",
       " '.\\\\convert_corpus\\\\person1\\\\time3\\\\group7\\\\peng2.wav',\n",
       " '.\\\\convert_corpus\\\\person1\\\\time3\\\\group7\\\\shuo1.wav',\n",
       " '.\\\\convert_corpus\\\\person1\\\\time3\\\\group7\\\\wan4.wav',\n",
       " '.\\\\convert_corpus\\\\person1\\\\time3\\\\group7\\\\you3.wav',\n",
       " '.\\\\convert_corpus\\\\person1\\\\time3\\\\group7\\\\zhi1.wav',\n",
       " '.\\\\convert_corpus\\\\person1\\\\time3\\\\group8\\\\ba4.wav',\n",
       " '.\\\\convert_corpus\\\\person1\\\\time3\\\\group8\\\\chao1.wav',\n",
       " '.\\\\convert_corpus\\\\person1\\\\time3\\\\group8\\\\fang4.wav',\n",
       " '.\\\\convert_corpus\\\\person1\\\\time3\\\\group8\\\\guan1.wav',\n",
       " '.\\\\convert_corpus\\\\person1\\\\time3\\\\group8\\\\he2.wav',\n",
       " '.\\\\convert_corpus\\\\person1\\\\time3\\\\group8\\\\hui4.wav',\n",
       " '.\\\\convert_corpus\\\\person1\\\\time3\\\\group8\\\\jia1.wav',\n",
       " '.\\\\convert_corpus\\\\person1\\\\time3\\\\group8\\\\kan4.wav',\n",
       " '.\\\\convert_corpus\\\\person1\\\\time3\\\\group8\\\\ma1.wav',\n",
       " '.\\\\convert_corpus\\\\person1\\\\time3\\\\group8\\\\nai3.wav',\n",
       " '.\\\\convert_corpus\\\\person1\\\\time3\\\\group8\\\\quan2.wav',\n",
       " '.\\\\convert_corpus\\\\person1\\\\time3\\\\group8\\\\shou1.wav',\n",
       " '.\\\\convert_corpus\\\\person1\\\\time3\\\\group8\\\\wan2.wav',\n",
       " '.\\\\convert_corpus\\\\person1\\\\time3\\\\group8\\\\wu3.wav',\n",
       " '.\\\\convert_corpus\\\\person1\\\\time3\\\\group8\\\\xiao4.wav',\n",
       " '.\\\\convert_corpus\\\\person1\\\\time3\\\\group8\\\\xie3.wav',\n",
       " '.\\\\convert_corpus\\\\person1\\\\time3\\\\group8\\\\xing1.wav',\n",
       " '.\\\\convert_corpus\\\\person1\\\\time3\\\\group9\\\\chang4.wav',\n",
       " '.\\\\convert_corpus\\\\person1\\\\time3\\\\group9\\\\ding4.wav',\n",
       " '.\\\\convert_corpus\\\\person1\\\\time3\\\\group9\\\\he2.wav',\n",
       " '.\\\\convert_corpus\\\\person1\\\\time3\\\\group9\\\\li3.wav',\n",
       " '.\\\\convert_corpus\\\\person1\\\\time3\\\\group9\\\\lian2.wav',\n",
       " '.\\\\convert_corpus\\\\person1\\\\time3\\\\group9\\\\liang4.wav',\n",
       " '.\\\\convert_corpus\\\\person1\\\\time3\\\\group9\\\\nv3.wav',\n",
       " '.\\\\convert_corpus\\\\person1\\\\time3\\\\group9\\\\qi4.wav',\n",
       " '.\\\\convert_corpus\\\\person1\\\\time3\\\\group9\\\\qian1.wav',\n",
       " '.\\\\convert_corpus\\\\person1\\\\time3\\\\group9\\\\qu4.wav',\n",
       " '.\\\\convert_corpus\\\\person1\\\\time3\\\\group9\\\\tai4.wav',\n",
       " '.\\\\convert_corpus\\\\person1\\\\time3\\\\group9\\\\ting1.wav',\n",
       " '.\\\\convert_corpus\\\\person1\\\\time3\\\\group9\\\\xiang1.wav',\n",
       " '.\\\\convert_corpus\\\\person1\\\\time3\\\\group9\\\\xiang4.wav',\n",
       " '.\\\\convert_corpus\\\\person1\\\\time3\\\\group9\\\\xiu4.wav',\n",
       " '.\\\\convert_corpus\\\\person1\\\\time3\\\\group9\\\\yu3.wav',\n",
       " '.\\\\convert_corpus\\\\person1\\\\time3\\\\group9\\\\yuan3.wav',\n",
       " '.\\\\convert_corpus\\\\person1\\\\time3\\\\group9\\\\zao3.wav',\n",
       " '.\\\\convert_corpus\\\\person10\\\\time1\\\\group1\\\\ba1.wav',\n",
       " '.\\\\convert_corpus\\\\person10\\\\time1\\\\group1\\\\da4.wav',\n",
       " '.\\\\convert_corpus\\\\person10\\\\time1\\\\group1\\\\er4.wav',\n",
       " '.\\\\convert_corpus\\\\person10\\\\time1\\\\group1\\\\ge4.wav',\n",
       " '.\\\\convert_corpus\\\\person10\\\\time1\\\\group1\\\\he2.wav',\n",
       " '.\\\\convert_corpus\\\\person10\\\\time1\\\\group1\\\\huo3.wav',\n",
       " '.\\\\convert_corpus\\\\person10\\\\time1\\\\group1\\\\liu4.wav',\n",
       " '.\\\\convert_corpus\\\\person10\\\\time1\\\\group1\\\\mu4.wav',\n",
       " '.\\\\convert_corpus\\\\person10\\\\time1\\\\group1\\\\ren2.wav',\n",
       " '.\\\\convert_corpus\\\\person10\\\\time1\\\\group1\\\\ru4.wav',\n",
       " '.\\\\convert_corpus\\\\person10\\\\time1\\\\group1\\\\san1.wav',\n",
       " '.\\\\convert_corpus\\\\person10\\\\time1\\\\group1\\\\shang4.wav',\n",
       " '.\\\\convert_corpus\\\\person10\\\\time1\\\\group1\\\\shi2.wav',\n",
       " '.\\\\convert_corpus\\\\person10\\\\time1\\\\group1\\\\tian1.wav',\n",
       " '.\\\\convert_corpus\\\\person10\\\\time1\\\\group1\\\\tu3.wav',\n",
       " '.\\\\convert_corpus\\\\person10\\\\time1\\\\group1\\\\wen2.wav',\n",
       " '.\\\\convert_corpus\\\\person10\\\\time1\\\\group1\\\\xia4.wav',\n",
       " '.\\\\convert_corpus\\\\person10\\\\time1\\\\group1\\\\yi1.wav',\n",
       " '.\\\\convert_corpus\\\\person10\\\\time1\\\\group2\\\\bu4.wav',\n",
       " '.\\\\convert_corpus\\\\person10\\\\time1\\\\group2\\\\che1.wav',\n",
       " '.\\\\convert_corpus\\\\person10\\\\time1\\\\group2\\\\er2.wav',\n",
       " '.\\\\convert_corpus\\\\person10\\\\time1\\\\group2\\\\gong1.wav',\n",
       " '.\\\\convert_corpus\\\\person10\\\\time1\\\\group2\\\\jiu3.wav',\n",
       " '.\\\\convert_corpus\\\\person10\\\\time1\\\\group2\\\\kou3.wav',\n",
       " '.\\\\convert_corpus\\\\person10\\\\time1\\\\group2\\\\lei4.wav',\n",
       " '.\\\\convert_corpus\\\\person10\\\\time1\\\\group2\\\\men2.wav',\n",
       " '.\\\\convert_corpus\\\\person10\\\\time1\\\\group2\\\\niu2.wav',\n",
       " '.\\\\convert_corpus\\\\person10\\\\time1\\\\group2\\\\qi1.wav',\n",
       " '.\\\\convert_corpus\\\\person10\\\\time1\\\\group2\\\\ri4.wav',\n",
       " '.\\\\convert_corpus\\\\person10\\\\time1\\\\group2\\\\wu2.wav',\n",
       " '.\\\\convert_corpus\\\\person10\\\\time1\\\\group2\\\\xiao3.wav',\n",
       " '.\\\\convert_corpus\\\\person10\\\\time1\\\\group2\\\\yang2.wav',\n",
       " '.\\\\convert_corpus\\\\person10\\\\time1\\\\group2\\\\yue4.wav',\n",
       " '.\\\\convert_corpus\\\\person10\\\\time1\\\\group2\\\\yun2.wav',\n",
       " '.\\\\convert_corpus\\\\person10\\\\time1\\\\group2\\\\zhong1.wav',\n",
       " '.\\\\convert_corpus\\\\person10\\\\time1\\\\group2\\\\zi3.wav',\n",
       " '.\\\\convert_corpus\\\\person10\\\\time1\\\\group3\\\\bai2.wav',\n",
       " '.\\\\convert_corpus\\\\person10\\\\time1\\\\group3\\\\chang2.wav',\n",
       " '.\\\\convert_corpus\\\\person10\\\\time1\\\\group3\\\\chu1.wav',\n",
       " '.\\\\convert_corpus\\\\person10\\\\time1\\\\group3\\\\dian4.wav',\n",
       " '.\\\\convert_corpus\\\\person10\\\\time1\\\\group3\\\\er3.wav',\n",
       " '.\\\\convert_corpus\\\\person10\\\\time1\\\\group3\\\\fei1.wav',\n",
       " '.\\\\convert_corpus\\\\person10\\\\time1\\\\group3\\\\jian4.wav',\n",
       " '.\\\\convert_corpus\\\\person10\\\\time1\\\\group3\\\\kai1.wav',\n",
       " '.\\\\convert_corpus\\\\person10\\\\time1\\\\group3\\\\ma3.wav',\n",
       " '.\\\\convert_corpus\\\\person10\\\\time1\\\\group3\\\\mi3.wav',\n",
       " '.\\\\convert_corpus\\\\person10\\\\time1\\\\group3\\\\niao3.wav',\n",
       " '.\\\\convert_corpus\\\\person10\\\\time1\\\\group3\\\\shan1.wav',\n",
       " '.\\\\convert_corpus\\\\person10\\\\time1\\\\group3\\\\si4.wav',\n",
       " '.\\\\convert_corpus\\\\person10\\\\time1\\\\group3\\\\tian2.wav',\n",
       " '.\\\\convert_corpus\\\\person10\\\\time1\\\\group3\\\\tou2.wav',\n",
       " '.\\\\convert_corpus\\\\person10\\\\time1\\\\group3\\\\wei1.wav',\n",
       " '.\\\\convert_corpus\\\\person10\\\\time1\\\\group3\\\\wu3.wav',\n",
       " '.\\\\convert_corpus\\\\person10\\\\time1\\\\group3\\\\ye3.wav',\n",
       " '.\\\\convert_corpus\\\\person10\\\\time1\\\\group4\\\\ban4.wav',\n",
       " '.\\\\convert_corpus\\\\person10\\\\time1\\\\group4\\\\bu3.wav',\n",
       " '.\\\\convert_corpus\\\\person10\\\\time1\\\\group4\\\\chi3.wav',\n",
       " '.\\\\convert_corpus\\\\person10\\\\time1\\\\group4\\\\fang1.wav',\n",
       " '.\\\\convert_corpus\\\\person10\\\\time1\\\\group4\\\\feng1.wav',\n",
       " '.\\\\convert_corpus\\\\person10\\\\time1\\\\group4\\\\guang3.wav',\n",
       " '.\\\\convert_corpus\\\\person10\\\\time1\\\\group4\\\\jin1.wav',\n",
       " '.\\\\convert_corpus\\\\person10\\\\time1\\\\group4\\\\li4.wav',\n",
       " '.\\\\convert_corpus\\\\person10\\\\time1\\\\group4\\\\mao2.wav',\n",
       " '.\\\\convert_corpus\\\\person10\\\\time1\\\\group4\\\\shao3.wav',\n",
       " '.\\\\convert_corpus\\\\person10\\\\time1\\\\group4\\\\sheng1.wav',\n",
       " '.\\\\convert_corpus\\\\person10\\\\time1\\\\group4\\\\shou3.wav',\n",
       " '.\\\\convert_corpus\\\\person10\\\\time1\\\\group4\\\\shui3.wav',\n",
       " '.\\\\convert_corpus\\\\person10\\\\time1\\\\group4\\\\xin1.wav',\n",
       " '.\\\\convert_corpus\\\\person10\\\\time1\\\\group4\\\\ya2.wav',\n",
       " '.\\\\convert_corpus\\\\person10\\\\time1\\\\group4\\\\you4.wav',\n",
       " '.\\\\convert_corpus\\\\person10\\\\time1\\\\group4\\\\zou3.wav',\n",
       " '.\\\\convert_corpus\\\\person10\\\\time1\\\\group4\\\\zu2.wav',\n",
       " '.\\\\convert_corpus\\\\person10\\\\time1\\\\group5\\\\ben3.wav',\n",
       " '.\\\\convert_corpus\\\\person10\\\\time1\\\\group5\\\\dong1.wav',\n",
       " '.\\\\convert_corpus\\\\person10\\\\time1\\\\group5\\\\guo3.wav',\n",
       " '.\\\\convert_corpus\\\\person10\\\\time1\\\\group5\\\\hui2.wav',\n",
       " '.\\\\convert_corpus\\\\person10\\\\time1\\\\group5\\\\ji3.wav',\n",
       " '.\\\\convert_corpus\\\\person10\\\\time1\\\\group5\\\\lai2.wav',\n",
       " '.\\\\convert_corpus\\\\person10\\\\time1\\\\group5\\\\li3.wav',\n",
       " '.\\\\convert_corpus\\\\person10\\\\time1\\\\group5\\\\pi2.wav',\n",
       " '.\\\\convert_corpus\\\\person10\\\\time1\\\\group5\\\\pian4.wav',\n",
       " '.\\\\convert_corpus\\\\person10\\\\time1\\\\group5\\\\ping2.wav',\n",
       " '.\\\\convert_corpus\\\\person10\\\\time1\\\\group5\\\\shu1.wav',\n",
       " '.\\\\convert_corpus\\\\person10\\\\time1\\\\group5\\\\shuan1.wav',\n",
       " '.\\\\convert_corpus\\\\person10\\\\time1\\\\group5\\\\xi1.wav',\n",
       " '.\\\\convert_corpus\\\\person10\\\\time1\\\\group5\\\\ye4.wav',\n",
       " '.\\\\convert_corpus\\\\person10\\\\time1\\\\group5\\\\yi3.wav',\n",
       " '.\\\\convert_corpus\\\\person10\\\\time1\\\\group5\\\\yong4.wav',\n",
       " '.\\\\convert_corpus\\\\person10\\\\time1\\\\group5\\\\yu2.wav',\n",
       " '.\\\\convert_corpus\\\\person10\\\\time1\\\\group5\\\\zi4.wav',\n",
       " '.\\\\convert_corpus\\\\person10\\\\time1\\\\group6\\\\bai3.wav',\n",
       " '.\\\\convert_corpus\\\\person10\\\\time1\\\\group6\\\\chui2.wav',\n",
       " '.\\\\convert_corpus\\\\person10\\\\time1\\\\group6\\\\dong1.wav',\n",
       " '.\\\\convert_corpus\\\\person10\\\\time1\\\\group6\\\\gua1.wav',\n",
       " '.\\\\convert_corpus\\\\person10\\\\time1\\\\group6\\\\hang2.wav',\n",
       " '.\\\\convert_corpus\\\\person10\\\\time1\\\\group6\\\\jiang4.wav',\n",
       " '.\\\\convert_corpus\\\\person10\\\\time1\\\\group6\\\\jin1.wav',\n",
       " '.\\\\convert_corpus\\\\person10\\\\time1\\\\group6\\\\liang3.wav',\n",
       " '.\\\\convert_corpus\\\\person10\\\\time1\\\\group6\\\\lv3.wav',\n",
       " '.\\\\convert_corpus\\\\person10\\\\time1\\\\group6\\\\ni3.wav',\n",
       " '.\\\\convert_corpus\\\\person10\\\\time1\\\\group6\\\\nian2.wav',\n",
       " '.\\\\convert_corpus\\\\person10\\\\time1\\\\group6\\\\qi2.wav',\n",
       " '.\\\\convert_corpus\\\\person10\\\\time1\\\\group6\\\\qin1.wav',\n",
       " '.\\\\convert_corpus\\\\person10\\\\time1\\\\group6\\\\sui4.wav',\n",
       " '.\\\\convert_corpus\\\\person10\\\\time1\\\\group6\\\\you4.wav',\n",
       " '.\\\\convert_corpus\\\\person10\\\\time1\\\\group6\\\\yu3.wav',\n",
       " '.\\\\convert_corpus\\\\person10\\\\time1\\\\group6\\\\zheng4.wav',\n",
       " '.\\\\convert_corpus\\\\person10\\\\time1\\\\group6\\\\zuo3.wav',\n",
       " '.\\\\convert_corpus\\\\person10\\\\time1\\\\group7\\\\cao3.wav',\n",
       " '.\\\\convert_corpus\\\\person10\\\\time1\\\\group7\\\\chu4.wav',\n",
       " '.\\\\convert_corpus\\\\person10\\\\time1\\\\group7\\\\chun1.wav',\n",
       " '.\\\\convert_corpus\\\\person10\\\\time1\\\\group7\\\\ding1.wav',\n",
       " '.\\\\convert_corpus\\\\person10\\\\time1\\\\group7\\\\duo1.wav',\n",
       " '.\\\\convert_corpus\\\\person10\\\\time1\\\\group7\\\\gang3.wav',\n",
       " '.\\\\convert_corpus\\\\person10\\\\time1\\\\group7\\\\gao1.wav',\n",
       " '.\\\\convert_corpus\\\\person10\\\\time1\\\\group7\\\\gu3.wav',\n",
       " '.\\\\convert_corpus\\\\person10\\\\time1\\\\group7\\\\hong2.wav',\n",
       " '.\\\\convert_corpus\\\\person10\\\\time1\\\\group7\\\\hua1.wav',\n",
       " '.\\\\convert_corpus\\\\person10\\\\time1\\\\group7\\\\hua4.wav',\n",
       " '.\\\\convert_corpus\\\\person10\\\\time1\\\\group7\\\\lv4.wav',\n",
       " '.\\\\convert_corpus\\\\person10\\\\time1\\\\group7\\\\mang2.wav',\n",
       " '.\\\\convert_corpus\\\\person10\\\\time1\\\\group7\\\\peng2.wav',\n",
       " '.\\\\convert_corpus\\\\person10\\\\time1\\\\group7\\\\shuo1.wav',\n",
       " '.\\\\convert_corpus\\\\person10\\\\time1\\\\group7\\\\wan4.wav',\n",
       " '.\\\\convert_corpus\\\\person10\\\\time1\\\\group7\\\\you3.wav',\n",
       " '.\\\\convert_corpus\\\\person10\\\\time1\\\\group7\\\\zhi1.wav',\n",
       " '.\\\\convert_corpus\\\\person10\\\\time1\\\\group8\\\\ba4.wav',\n",
       " '.\\\\convert_corpus\\\\person10\\\\time1\\\\group8\\\\chao1.wav',\n",
       " '.\\\\convert_corpus\\\\person10\\\\time1\\\\group8\\\\fang4.wav',\n",
       " '.\\\\convert_corpus\\\\person10\\\\time1\\\\group8\\\\guan1.wav',\n",
       " '.\\\\convert_corpus\\\\person10\\\\time1\\\\group8\\\\he2.wav',\n",
       " '.\\\\convert_corpus\\\\person10\\\\time1\\\\group8\\\\hua4.wav',\n",
       " '.\\\\convert_corpus\\\\person10\\\\time1\\\\group8\\\\hui4.wav',\n",
       " '.\\\\convert_corpus\\\\person10\\\\time1\\\\group8\\\\jia1.wav',\n",
       " '.\\\\convert_corpus\\\\person10\\\\time1\\\\group8\\\\kan4.wav',\n",
       " '.\\\\convert_corpus\\\\person10\\\\time1\\\\group8\\\\ma1.wav',\n",
       " '.\\\\convert_corpus\\\\person10\\\\time1\\\\group8\\\\nai3.wav',\n",
       " '.\\\\convert_corpus\\\\person10\\\\time1\\\\group8\\\\quan2.wav',\n",
       " '.\\\\convert_corpus\\\\person10\\\\time1\\\\group8\\\\wan2.wav',\n",
       " '.\\\\convert_corpus\\\\person10\\\\time1\\\\group8\\\\wu3.wav',\n",
       " '.\\\\convert_corpus\\\\person10\\\\time1\\\\group8\\\\xiao4.wav',\n",
       " '.\\\\convert_corpus\\\\person10\\\\time1\\\\group8\\\\xie3.wav',\n",
       " '.\\\\convert_corpus\\\\person10\\\\time1\\\\group8\\\\xing1.wav',\n",
       " '.\\\\convert_corpus\\\\person10\\\\time1\\\\group9\\\\chang4.wav',\n",
       " '.\\\\convert_corpus\\\\person10\\\\time1\\\\group9\\\\ding4.wav',\n",
       " '.\\\\convert_corpus\\\\person10\\\\time1\\\\group9\\\\he2.wav',\n",
       " '.\\\\convert_corpus\\\\person10\\\\time1\\\\group9\\\\li3.wav',\n",
       " '.\\\\convert_corpus\\\\person10\\\\time1\\\\group9\\\\lian2.wav',\n",
       " '.\\\\convert_corpus\\\\person10\\\\time1\\\\group9\\\\liang4.wav',\n",
       " '.\\\\convert_corpus\\\\person10\\\\time1\\\\group9\\\\nv3.wav',\n",
       " '.\\\\convert_corpus\\\\person10\\\\time1\\\\group9\\\\qi4.wav',\n",
       " '.\\\\convert_corpus\\\\person10\\\\time1\\\\group9\\\\qian1.wav',\n",
       " '.\\\\convert_corpus\\\\person10\\\\time1\\\\group9\\\\qu4.wav',\n",
       " '.\\\\convert_corpus\\\\person10\\\\time1\\\\group9\\\\tai4.wav',\n",
       " '.\\\\convert_corpus\\\\person10\\\\time1\\\\group9\\\\ting1.wav',\n",
       " '.\\\\convert_corpus\\\\person10\\\\time1\\\\group9\\\\xiang1.wav',\n",
       " '.\\\\convert_corpus\\\\person10\\\\time1\\\\group9\\\\xiang4.wav',\n",
       " '.\\\\convert_corpus\\\\person10\\\\time1\\\\group9\\\\xiu4.wav',\n",
       " '.\\\\convert_corpus\\\\person10\\\\time1\\\\group9\\\\yu3.wav',\n",
       " '.\\\\convert_corpus\\\\person10\\\\time1\\\\group9\\\\yuan3.wav',\n",
       " '.\\\\convert_corpus\\\\person10\\\\time1\\\\group9\\\\zao3.wav',\n",
       " '.\\\\convert_corpus\\\\person10\\\\time2\\\\group1\\\\ba1.wav',\n",
       " '.\\\\convert_corpus\\\\person10\\\\time2\\\\group1\\\\da4.wav',\n",
       " '.\\\\convert_corpus\\\\person10\\\\time2\\\\group1\\\\er4.wav',\n",
       " '.\\\\convert_corpus\\\\person10\\\\time2\\\\group1\\\\ge4.wav',\n",
       " '.\\\\convert_corpus\\\\person10\\\\time2\\\\group1\\\\he2.wav',\n",
       " '.\\\\convert_corpus\\\\person10\\\\time2\\\\group1\\\\huo3.wav',\n",
       " '.\\\\convert_corpus\\\\person10\\\\time2\\\\group1\\\\liu4.wav',\n",
       " '.\\\\convert_corpus\\\\person10\\\\time2\\\\group1\\\\mu4.wav',\n",
       " '.\\\\convert_corpus\\\\person10\\\\time2\\\\group1\\\\ren2.wav',\n",
       " '.\\\\convert_corpus\\\\person10\\\\time2\\\\group1\\\\ru4.wav',\n",
       " '.\\\\convert_corpus\\\\person10\\\\time2\\\\group1\\\\san1.wav',\n",
       " '.\\\\convert_corpus\\\\person10\\\\time2\\\\group1\\\\shang4.wav',\n",
       " '.\\\\convert_corpus\\\\person10\\\\time2\\\\group1\\\\shi2.wav',\n",
       " '.\\\\convert_corpus\\\\person10\\\\time2\\\\group1\\\\tian1.wav',\n",
       " '.\\\\convert_corpus\\\\person10\\\\time2\\\\group1\\\\tu3.wav',\n",
       " '.\\\\convert_corpus\\\\person10\\\\time2\\\\group1\\\\wen2.wav',\n",
       " '.\\\\convert_corpus\\\\person10\\\\time2\\\\group1\\\\xia4.wav',\n",
       " '.\\\\convert_corpus\\\\person10\\\\time2\\\\group1\\\\yi1.wav',\n",
       " '.\\\\convert_corpus\\\\person10\\\\time2\\\\group2\\\\bu4.wav',\n",
       " '.\\\\convert_corpus\\\\person10\\\\time2\\\\group2\\\\che1.wav',\n",
       " '.\\\\convert_corpus\\\\person10\\\\time2\\\\group2\\\\er2.wav',\n",
       " '.\\\\convert_corpus\\\\person10\\\\time2\\\\group2\\\\gong1.wav',\n",
       " '.\\\\convert_corpus\\\\person10\\\\time2\\\\group2\\\\jiu3.wav',\n",
       " '.\\\\convert_corpus\\\\person10\\\\time2\\\\group2\\\\kou3.wav',\n",
       " '.\\\\convert_corpus\\\\person10\\\\time2\\\\group2\\\\lei4.wav',\n",
       " '.\\\\convert_corpus\\\\person10\\\\time2\\\\group2\\\\men2.wav',\n",
       " '.\\\\convert_corpus\\\\person10\\\\time2\\\\group2\\\\niu2.wav',\n",
       " '.\\\\convert_corpus\\\\person10\\\\time2\\\\group2\\\\qi1.wav',\n",
       " '.\\\\convert_corpus\\\\person10\\\\time2\\\\group2\\\\ri4.wav',\n",
       " '.\\\\convert_corpus\\\\person10\\\\time2\\\\group2\\\\wu2.wav',\n",
       " '.\\\\convert_corpus\\\\person10\\\\time2\\\\group2\\\\xiao3.wav',\n",
       " '.\\\\convert_corpus\\\\person10\\\\time2\\\\group2\\\\yang2.wav',\n",
       " '.\\\\convert_corpus\\\\person10\\\\time2\\\\group2\\\\yue4.wav',\n",
       " '.\\\\convert_corpus\\\\person10\\\\time2\\\\group2\\\\yun2.wav',\n",
       " '.\\\\convert_corpus\\\\person10\\\\time2\\\\group2\\\\zhong1.wav',\n",
       " '.\\\\convert_corpus\\\\person10\\\\time2\\\\group2\\\\zi3.wav',\n",
       " '.\\\\convert_corpus\\\\person10\\\\time2\\\\group3\\\\bai2.wav',\n",
       " '.\\\\convert_corpus\\\\person10\\\\time2\\\\group3\\\\chang2.wav',\n",
       " '.\\\\convert_corpus\\\\person10\\\\time2\\\\group3\\\\chu1.wav',\n",
       " '.\\\\convert_corpus\\\\person10\\\\time2\\\\group3\\\\dian4.wav',\n",
       " '.\\\\convert_corpus\\\\person10\\\\time2\\\\group3\\\\er3.wav',\n",
       " '.\\\\convert_corpus\\\\person10\\\\time2\\\\group3\\\\fei1.wav',\n",
       " '.\\\\convert_corpus\\\\person10\\\\time2\\\\group3\\\\jian4.wav',\n",
       " '.\\\\convert_corpus\\\\person10\\\\time2\\\\group3\\\\kai1.wav',\n",
       " '.\\\\convert_corpus\\\\person10\\\\time2\\\\group3\\\\ma3.wav',\n",
       " '.\\\\convert_corpus\\\\person10\\\\time2\\\\group3\\\\mi3.wav',\n",
       " '.\\\\convert_corpus\\\\person10\\\\time2\\\\group3\\\\niao3.wav',\n",
       " '.\\\\convert_corpus\\\\person10\\\\time2\\\\group3\\\\shan1.wav',\n",
       " '.\\\\convert_corpus\\\\person10\\\\time2\\\\group3\\\\si4.wav',\n",
       " '.\\\\convert_corpus\\\\person10\\\\time2\\\\group3\\\\tian2.wav',\n",
       " '.\\\\convert_corpus\\\\person10\\\\time2\\\\group3\\\\tou2.wav',\n",
       " '.\\\\convert_corpus\\\\person10\\\\time2\\\\group3\\\\wei1.wav',\n",
       " '.\\\\convert_corpus\\\\person10\\\\time2\\\\group3\\\\wu3.wav',\n",
       " '.\\\\convert_corpus\\\\person10\\\\time2\\\\group3\\\\ye3.wav',\n",
       " '.\\\\convert_corpus\\\\person10\\\\time2\\\\group4\\\\ban4.wav',\n",
       " '.\\\\convert_corpus\\\\person10\\\\time2\\\\group4\\\\bu3.wav',\n",
       " '.\\\\convert_corpus\\\\person10\\\\time2\\\\group4\\\\chi3.wav',\n",
       " '.\\\\convert_corpus\\\\person10\\\\time2\\\\group4\\\\fang1.wav',\n",
       " '.\\\\convert_corpus\\\\person10\\\\time2\\\\group4\\\\feng1.wav',\n",
       " '.\\\\convert_corpus\\\\person10\\\\time2\\\\group4\\\\guang3.wav',\n",
       " '.\\\\convert_corpus\\\\person10\\\\time2\\\\group4\\\\jin1.wav',\n",
       " '.\\\\convert_corpus\\\\person10\\\\time2\\\\group4\\\\li4.wav',\n",
       " '.\\\\convert_corpus\\\\person10\\\\time2\\\\group4\\\\mao2.wav',\n",
       " '.\\\\convert_corpus\\\\person10\\\\time2\\\\group4\\\\shao3.wav',\n",
       " '.\\\\convert_corpus\\\\person10\\\\time2\\\\group4\\\\sheng1.wav',\n",
       " '.\\\\convert_corpus\\\\person10\\\\time2\\\\group4\\\\shou3.wav',\n",
       " '.\\\\convert_corpus\\\\person10\\\\time2\\\\group4\\\\shui3.wav',\n",
       " '.\\\\convert_corpus\\\\person10\\\\time2\\\\group4\\\\xin1.wav',\n",
       " '.\\\\convert_corpus\\\\person10\\\\time2\\\\group4\\\\ya2.wav',\n",
       " '.\\\\convert_corpus\\\\person10\\\\time2\\\\group4\\\\you4.wav',\n",
       " '.\\\\convert_corpus\\\\person10\\\\time2\\\\group4\\\\zou3.wav',\n",
       " '.\\\\convert_corpus\\\\person10\\\\time2\\\\group4\\\\zu2.wav',\n",
       " '.\\\\convert_corpus\\\\person10\\\\time2\\\\group5\\\\ben3.wav',\n",
       " '.\\\\convert_corpus\\\\person10\\\\time2\\\\group5\\\\dong1.wav',\n",
       " '.\\\\convert_corpus\\\\person10\\\\time2\\\\group5\\\\guo3.wav',\n",
       " '.\\\\convert_corpus\\\\person10\\\\time2\\\\group5\\\\hui2.wav',\n",
       " '.\\\\convert_corpus\\\\person10\\\\time2\\\\group5\\\\ji3.wav',\n",
       " '.\\\\convert_corpus\\\\person10\\\\time2\\\\group5\\\\lai2.wav',\n",
       " '.\\\\convert_corpus\\\\person10\\\\time2\\\\group5\\\\li3.wav',\n",
       " '.\\\\convert_corpus\\\\person10\\\\time2\\\\group5\\\\pi2.wav',\n",
       " '.\\\\convert_corpus\\\\person10\\\\time2\\\\group5\\\\pian4.wav',\n",
       " '.\\\\convert_corpus\\\\person10\\\\time2\\\\group5\\\\ping2.wav',\n",
       " '.\\\\convert_corpus\\\\person10\\\\time2\\\\group5\\\\shu1.wav',\n",
       " '.\\\\convert_corpus\\\\person10\\\\time2\\\\group5\\\\shuan1.wav',\n",
       " '.\\\\convert_corpus\\\\person10\\\\time2\\\\group5\\\\xi1.wav',\n",
       " '.\\\\convert_corpus\\\\person10\\\\time2\\\\group5\\\\ye4.wav',\n",
       " '.\\\\convert_corpus\\\\person10\\\\time2\\\\group5\\\\yi3.wav',\n",
       " '.\\\\convert_corpus\\\\person10\\\\time2\\\\group5\\\\yong4.wav',\n",
       " '.\\\\convert_corpus\\\\person10\\\\time2\\\\group5\\\\yu2.wav',\n",
       " '.\\\\convert_corpus\\\\person10\\\\time2\\\\group5\\\\zi4.wav',\n",
       " '.\\\\convert_corpus\\\\person10\\\\time2\\\\group6\\\\bai3.wav',\n",
       " '.\\\\convert_corpus\\\\person10\\\\time2\\\\group6\\\\chui2.wav',\n",
       " '.\\\\convert_corpus\\\\person10\\\\time2\\\\group6\\\\dong1.wav',\n",
       " '.\\\\convert_corpus\\\\person10\\\\time2\\\\group6\\\\gua1.wav',\n",
       " '.\\\\convert_corpus\\\\person10\\\\time2\\\\group6\\\\hang2.wav',\n",
       " '.\\\\convert_corpus\\\\person10\\\\time2\\\\group6\\\\jiang4.wav',\n",
       " '.\\\\convert_corpus\\\\person10\\\\time2\\\\group6\\\\jin1.wav',\n",
       " '.\\\\convert_corpus\\\\person10\\\\time2\\\\group6\\\\liang3.wav',\n",
       " '.\\\\convert_corpus\\\\person10\\\\time2\\\\group6\\\\lv3.wav',\n",
       " '.\\\\convert_corpus\\\\person10\\\\time2\\\\group6\\\\ni3.wav',\n",
       " '.\\\\convert_corpus\\\\person10\\\\time2\\\\group6\\\\nian2.wav',\n",
       " '.\\\\convert_corpus\\\\person10\\\\time2\\\\group6\\\\qi2.wav',\n",
       " '.\\\\convert_corpus\\\\person10\\\\time2\\\\group6\\\\qin1.wav',\n",
       " '.\\\\convert_corpus\\\\person10\\\\time2\\\\group6\\\\sui4.wav',\n",
       " '.\\\\convert_corpus\\\\person10\\\\time2\\\\group6\\\\you4.wav',\n",
       " '.\\\\convert_corpus\\\\person10\\\\time2\\\\group6\\\\yu3.wav',\n",
       " '.\\\\convert_corpus\\\\person10\\\\time2\\\\group6\\\\zheng4.wav',\n",
       " '.\\\\convert_corpus\\\\person10\\\\time2\\\\group6\\\\zuo3.wav',\n",
       " '.\\\\convert_corpus\\\\person10\\\\time2\\\\group7\\\\cao3.wav',\n",
       " '.\\\\convert_corpus\\\\person10\\\\time2\\\\group7\\\\chu4.wav',\n",
       " '.\\\\convert_corpus\\\\person10\\\\time2\\\\group7\\\\chun1.wav',\n",
       " '.\\\\convert_corpus\\\\person10\\\\time2\\\\group7\\\\ding1.wav',\n",
       " '.\\\\convert_corpus\\\\person10\\\\time2\\\\group7\\\\duo1.wav',\n",
       " '.\\\\convert_corpus\\\\person10\\\\time2\\\\group7\\\\gang3.wav',\n",
       " '.\\\\convert_corpus\\\\person10\\\\time2\\\\group7\\\\gao1.wav',\n",
       " '.\\\\convert_corpus\\\\person10\\\\time2\\\\group7\\\\gu3.wav',\n",
       " '.\\\\convert_corpus\\\\person10\\\\time2\\\\group7\\\\hong2.wav',\n",
       " '.\\\\convert_corpus\\\\person10\\\\time2\\\\group7\\\\hua1.wav',\n",
       " '.\\\\convert_corpus\\\\person10\\\\time2\\\\group7\\\\hua4.wav',\n",
       " '.\\\\convert_corpus\\\\person10\\\\time2\\\\group7\\\\lv4.wav',\n",
       " '.\\\\convert_corpus\\\\person10\\\\time2\\\\group7\\\\mang2.wav',\n",
       " '.\\\\convert_corpus\\\\person10\\\\time2\\\\group7\\\\peng2.wav',\n",
       " '.\\\\convert_corpus\\\\person10\\\\time2\\\\group7\\\\shuo1.wav',\n",
       " '.\\\\convert_corpus\\\\person10\\\\time2\\\\group7\\\\wan4.wav',\n",
       " '.\\\\convert_corpus\\\\person10\\\\time2\\\\group7\\\\you3.wav',\n",
       " '.\\\\convert_corpus\\\\person10\\\\time2\\\\group7\\\\zhi1.wav',\n",
       " '.\\\\convert_corpus\\\\person10\\\\time2\\\\group8\\\\ba4.wav',\n",
       " '.\\\\convert_corpus\\\\person10\\\\time2\\\\group8\\\\chao1.wav',\n",
       " '.\\\\convert_corpus\\\\person10\\\\time2\\\\group8\\\\fang4.wav',\n",
       " '.\\\\convert_corpus\\\\person10\\\\time2\\\\group8\\\\guan1.wav',\n",
       " '.\\\\convert_corpus\\\\person10\\\\time2\\\\group8\\\\he2.wav',\n",
       " '.\\\\convert_corpus\\\\person10\\\\time2\\\\group8\\\\hui4.wav',\n",
       " '.\\\\convert_corpus\\\\person10\\\\time2\\\\group8\\\\jia1.wav',\n",
       " '.\\\\convert_corpus\\\\person10\\\\time2\\\\group8\\\\kan4.wav',\n",
       " '.\\\\convert_corpus\\\\person10\\\\time2\\\\group8\\\\ma1.wav',\n",
       " '.\\\\convert_corpus\\\\person10\\\\time2\\\\group8\\\\nai3.wav',\n",
       " '.\\\\convert_corpus\\\\person10\\\\time2\\\\group8\\\\quan2.wav',\n",
       " '.\\\\convert_corpus\\\\person10\\\\time2\\\\group8\\\\shou1.wav',\n",
       " '.\\\\convert_corpus\\\\person10\\\\time2\\\\group8\\\\wan2.wav',\n",
       " '.\\\\convert_corpus\\\\person10\\\\time2\\\\group8\\\\wu3.wav',\n",
       " '.\\\\convert_corpus\\\\person10\\\\time2\\\\group8\\\\xiao4.wav',\n",
       " '.\\\\convert_corpus\\\\person10\\\\time2\\\\group8\\\\xie3.wav',\n",
       " '.\\\\convert_corpus\\\\person10\\\\time2\\\\group8\\\\xing1.wav',\n",
       " '.\\\\convert_corpus\\\\person10\\\\time2\\\\group9\\\\chang4.wav',\n",
       " '.\\\\convert_corpus\\\\person10\\\\time2\\\\group9\\\\ding4.wav',\n",
       " '.\\\\convert_corpus\\\\person10\\\\time2\\\\group9\\\\he2.wav',\n",
       " '.\\\\convert_corpus\\\\person10\\\\time2\\\\group9\\\\li3.wav',\n",
       " '.\\\\convert_corpus\\\\person10\\\\time2\\\\group9\\\\lian2.wav',\n",
       " '.\\\\convert_corpus\\\\person10\\\\time2\\\\group9\\\\liang4.wav',\n",
       " '.\\\\convert_corpus\\\\person10\\\\time2\\\\group9\\\\nv3.wav',\n",
       " '.\\\\convert_corpus\\\\person10\\\\time2\\\\group9\\\\qi4.wav',\n",
       " '.\\\\convert_corpus\\\\person10\\\\time2\\\\group9\\\\qian1.wav',\n",
       " '.\\\\convert_corpus\\\\person10\\\\time2\\\\group9\\\\qu4.wav',\n",
       " '.\\\\convert_corpus\\\\person10\\\\time2\\\\group9\\\\tai4.wav',\n",
       " '.\\\\convert_corpus\\\\person10\\\\time2\\\\group9\\\\ting1.wav',\n",
       " '.\\\\convert_corpus\\\\person10\\\\time2\\\\group9\\\\xiang1.wav',\n",
       " '.\\\\convert_corpus\\\\person10\\\\time2\\\\group9\\\\xiang4.wav',\n",
       " '.\\\\convert_corpus\\\\person10\\\\time2\\\\group9\\\\xiu4.wav',\n",
       " '.\\\\convert_corpus\\\\person10\\\\time2\\\\group9\\\\yu3.wav',\n",
       " '.\\\\convert_corpus\\\\person10\\\\time2\\\\group9\\\\yuan3.wav',\n",
       " '.\\\\convert_corpus\\\\person10\\\\time2\\\\group9\\\\zao3.wav',\n",
       " '.\\\\convert_corpus\\\\person10\\\\time3\\\\group1\\\\ba1.wav',\n",
       " '.\\\\convert_corpus\\\\person10\\\\time3\\\\group1\\\\da4.wav',\n",
       " '.\\\\convert_corpus\\\\person10\\\\time3\\\\group1\\\\er4.wav',\n",
       " '.\\\\convert_corpus\\\\person10\\\\time3\\\\group1\\\\ge4.wav',\n",
       " '.\\\\convert_corpus\\\\person10\\\\time3\\\\group1\\\\he2.wav',\n",
       " '.\\\\convert_corpus\\\\person10\\\\time3\\\\group1\\\\huo3.wav',\n",
       " '.\\\\convert_corpus\\\\person10\\\\time3\\\\group1\\\\liu4.wav',\n",
       " '.\\\\convert_corpus\\\\person10\\\\time3\\\\group1\\\\mu4.wav',\n",
       " '.\\\\convert_corpus\\\\person10\\\\time3\\\\group1\\\\ren2.wav',\n",
       " '.\\\\convert_corpus\\\\person10\\\\time3\\\\group1\\\\ru4.wav',\n",
       " '.\\\\convert_corpus\\\\person10\\\\time3\\\\group1\\\\san1.wav',\n",
       " '.\\\\convert_corpus\\\\person10\\\\time3\\\\group1\\\\shang4.wav',\n",
       " '.\\\\convert_corpus\\\\person10\\\\time3\\\\group1\\\\shi2.wav',\n",
       " '.\\\\convert_corpus\\\\person10\\\\time3\\\\group1\\\\tian1.wav',\n",
       " '.\\\\convert_corpus\\\\person10\\\\time3\\\\group1\\\\tu3.wav',\n",
       " '.\\\\convert_corpus\\\\person10\\\\time3\\\\group1\\\\wen2.wav',\n",
       " '.\\\\convert_corpus\\\\person10\\\\time3\\\\group1\\\\xia4.wav',\n",
       " '.\\\\convert_corpus\\\\person10\\\\time3\\\\group1\\\\yi1.wav',\n",
       " '.\\\\convert_corpus\\\\person10\\\\time3\\\\group2\\\\bu4.wav',\n",
       " '.\\\\convert_corpus\\\\person10\\\\time3\\\\group2\\\\che1.wav',\n",
       " '.\\\\convert_corpus\\\\person10\\\\time3\\\\group2\\\\er2.wav',\n",
       " '.\\\\convert_corpus\\\\person10\\\\time3\\\\group2\\\\gong1.wav',\n",
       " '.\\\\convert_corpus\\\\person10\\\\time3\\\\group2\\\\jiu3.wav',\n",
       " '.\\\\convert_corpus\\\\person10\\\\time3\\\\group2\\\\kou3.wav',\n",
       " '.\\\\convert_corpus\\\\person10\\\\time3\\\\group2\\\\lei4.wav',\n",
       " '.\\\\convert_corpus\\\\person10\\\\time3\\\\group2\\\\men2.wav',\n",
       " '.\\\\convert_corpus\\\\person10\\\\time3\\\\group2\\\\niu2.wav',\n",
       " '.\\\\convert_corpus\\\\person10\\\\time3\\\\group2\\\\qi1.wav',\n",
       " '.\\\\convert_corpus\\\\person10\\\\time3\\\\group2\\\\ri4.wav',\n",
       " '.\\\\convert_corpus\\\\person10\\\\time3\\\\group2\\\\wu2.wav',\n",
       " '.\\\\convert_corpus\\\\person10\\\\time3\\\\group2\\\\xiao3.wav',\n",
       " '.\\\\convert_corpus\\\\person10\\\\time3\\\\group2\\\\yang2.wav',\n",
       " '.\\\\convert_corpus\\\\person10\\\\time3\\\\group2\\\\yue4.wav',\n",
       " '.\\\\convert_corpus\\\\person10\\\\time3\\\\group2\\\\yun2.wav',\n",
       " '.\\\\convert_corpus\\\\person10\\\\time3\\\\group2\\\\zhong1.wav',\n",
       " '.\\\\convert_corpus\\\\person10\\\\time3\\\\group2\\\\zi3.wav',\n",
       " '.\\\\convert_corpus\\\\person10\\\\time3\\\\group3\\\\bai2.wav',\n",
       " '.\\\\convert_corpus\\\\person10\\\\time3\\\\group3\\\\chang2.wav',\n",
       " '.\\\\convert_corpus\\\\person10\\\\time3\\\\group3\\\\chu1.wav',\n",
       " '.\\\\convert_corpus\\\\person10\\\\time3\\\\group3\\\\dian4.wav',\n",
       " '.\\\\convert_corpus\\\\person10\\\\time3\\\\group3\\\\er3.wav',\n",
       " '.\\\\convert_corpus\\\\person10\\\\time3\\\\group3\\\\fei1.wav',\n",
       " '.\\\\convert_corpus\\\\person10\\\\time3\\\\group3\\\\jian4.wav',\n",
       " '.\\\\convert_corpus\\\\person10\\\\time3\\\\group3\\\\kai1.wav',\n",
       " '.\\\\convert_corpus\\\\person10\\\\time3\\\\group3\\\\ma3.wav',\n",
       " '.\\\\convert_corpus\\\\person10\\\\time3\\\\group3\\\\mi3.wav',\n",
       " '.\\\\convert_corpus\\\\person10\\\\time3\\\\group3\\\\niao3.wav',\n",
       " '.\\\\convert_corpus\\\\person10\\\\time3\\\\group3\\\\shan1.wav',\n",
       " '.\\\\convert_corpus\\\\person10\\\\time3\\\\group3\\\\si4.wav',\n",
       " '.\\\\convert_corpus\\\\person10\\\\time3\\\\group3\\\\tian2.wav',\n",
       " '.\\\\convert_corpus\\\\person10\\\\time3\\\\group3\\\\tou2.wav',\n",
       " '.\\\\convert_corpus\\\\person10\\\\time3\\\\group3\\\\wei1.wav',\n",
       " '.\\\\convert_corpus\\\\person10\\\\time3\\\\group3\\\\wu3.wav',\n",
       " '.\\\\convert_corpus\\\\person10\\\\time3\\\\group3\\\\ye3.wav',\n",
       " '.\\\\convert_corpus\\\\person10\\\\time3\\\\group4\\\\ban4.wav',\n",
       " '.\\\\convert_corpus\\\\person10\\\\time3\\\\group4\\\\bu3.wav',\n",
       " '.\\\\convert_corpus\\\\person10\\\\time3\\\\group4\\\\chi3.wav',\n",
       " '.\\\\convert_corpus\\\\person10\\\\time3\\\\group4\\\\fang1.wav',\n",
       " '.\\\\convert_corpus\\\\person10\\\\time3\\\\group4\\\\feng1.wav',\n",
       " '.\\\\convert_corpus\\\\person10\\\\time3\\\\group4\\\\guang3.wav',\n",
       " '.\\\\convert_corpus\\\\person10\\\\time3\\\\group4\\\\jin1.wav',\n",
       " '.\\\\convert_corpus\\\\person10\\\\time3\\\\group4\\\\li4.wav',\n",
       " '.\\\\convert_corpus\\\\person10\\\\time3\\\\group4\\\\mao2.wav',\n",
       " '.\\\\convert_corpus\\\\person10\\\\time3\\\\group4\\\\shao3.wav',\n",
       " '.\\\\convert_corpus\\\\person10\\\\time3\\\\group4\\\\sheng1.wav',\n",
       " '.\\\\convert_corpus\\\\person10\\\\time3\\\\group4\\\\shou3.wav',\n",
       " '.\\\\convert_corpus\\\\person10\\\\time3\\\\group4\\\\shui3.wav',\n",
       " '.\\\\convert_corpus\\\\person10\\\\time3\\\\group4\\\\xin1.wav',\n",
       " '.\\\\convert_corpus\\\\person10\\\\time3\\\\group4\\\\ya2.wav',\n",
       " '.\\\\convert_corpus\\\\person10\\\\time3\\\\group4\\\\you4.wav',\n",
       " '.\\\\convert_corpus\\\\person10\\\\time3\\\\group4\\\\zou3.wav',\n",
       " '.\\\\convert_corpus\\\\person10\\\\time3\\\\group4\\\\zu2.wav',\n",
       " '.\\\\convert_corpus\\\\person10\\\\time3\\\\group5\\\\ben3.wav',\n",
       " '.\\\\convert_corpus\\\\person10\\\\time3\\\\group5\\\\dong1.wav',\n",
       " '.\\\\convert_corpus\\\\person10\\\\time3\\\\group5\\\\guo3.wav',\n",
       " '.\\\\convert_corpus\\\\person10\\\\time3\\\\group5\\\\hui2.wav',\n",
       " '.\\\\convert_corpus\\\\person10\\\\time3\\\\group5\\\\ji3.wav',\n",
       " '.\\\\convert_corpus\\\\person10\\\\time3\\\\group5\\\\lai2.wav',\n",
       " '.\\\\convert_corpus\\\\person10\\\\time3\\\\group5\\\\li3.wav',\n",
       " '.\\\\convert_corpus\\\\person10\\\\time3\\\\group5\\\\pi2.wav',\n",
       " '.\\\\convert_corpus\\\\person10\\\\time3\\\\group5\\\\pian4.wav',\n",
       " '.\\\\convert_corpus\\\\person10\\\\time3\\\\group5\\\\ping2.wav',\n",
       " '.\\\\convert_corpus\\\\person10\\\\time3\\\\group5\\\\shu1.wav',\n",
       " '.\\\\convert_corpus\\\\person10\\\\time3\\\\group5\\\\shuan1.wav',\n",
       " '.\\\\convert_corpus\\\\person10\\\\time3\\\\group5\\\\xi1.wav',\n",
       " '.\\\\convert_corpus\\\\person10\\\\time3\\\\group5\\\\ye4.wav',\n",
       " '.\\\\convert_corpus\\\\person10\\\\time3\\\\group5\\\\yi3.wav',\n",
       " '.\\\\convert_corpus\\\\person10\\\\time3\\\\group5\\\\yong4.wav',\n",
       " '.\\\\convert_corpus\\\\person10\\\\time3\\\\group5\\\\yu2.wav',\n",
       " '.\\\\convert_corpus\\\\person10\\\\time3\\\\group5\\\\zi4.wav',\n",
       " '.\\\\convert_corpus\\\\person10\\\\time3\\\\group6\\\\bai3.wav',\n",
       " '.\\\\convert_corpus\\\\person10\\\\time3\\\\group6\\\\chui2.wav',\n",
       " '.\\\\convert_corpus\\\\person10\\\\time3\\\\group6\\\\dong1.wav',\n",
       " '.\\\\convert_corpus\\\\person10\\\\time3\\\\group6\\\\gua1.wav',\n",
       " '.\\\\convert_corpus\\\\person10\\\\time3\\\\group6\\\\hang2.wav',\n",
       " '.\\\\convert_corpus\\\\person10\\\\time3\\\\group6\\\\jiang4.wav',\n",
       " '.\\\\convert_corpus\\\\person10\\\\time3\\\\group6\\\\jin1.wav',\n",
       " '.\\\\convert_corpus\\\\person10\\\\time3\\\\group6\\\\liang3.wav',\n",
       " '.\\\\convert_corpus\\\\person10\\\\time3\\\\group6\\\\lv3.wav',\n",
       " '.\\\\convert_corpus\\\\person10\\\\time3\\\\group6\\\\ni3.wav',\n",
       " '.\\\\convert_corpus\\\\person10\\\\time3\\\\group6\\\\nian2.wav',\n",
       " '.\\\\convert_corpus\\\\person10\\\\time3\\\\group6\\\\qi2.wav',\n",
       " '.\\\\convert_corpus\\\\person10\\\\time3\\\\group6\\\\qin1.wav',\n",
       " '.\\\\convert_corpus\\\\person10\\\\time3\\\\group6\\\\sui4.wav',\n",
       " '.\\\\convert_corpus\\\\person10\\\\time3\\\\group6\\\\you4.wav',\n",
       " '.\\\\convert_corpus\\\\person10\\\\time3\\\\group6\\\\yu3.wav',\n",
       " '.\\\\convert_corpus\\\\person10\\\\time3\\\\group6\\\\zheng4.wav',\n",
       " '.\\\\convert_corpus\\\\person10\\\\time3\\\\group6\\\\zuo3.wav',\n",
       " '.\\\\convert_corpus\\\\person10\\\\time3\\\\group7\\\\cao3.wav',\n",
       " '.\\\\convert_corpus\\\\person10\\\\time3\\\\group7\\\\chu4.wav',\n",
       " '.\\\\convert_corpus\\\\person10\\\\time3\\\\group7\\\\chun1.wav',\n",
       " '.\\\\convert_corpus\\\\person10\\\\time3\\\\group7\\\\ding1.wav',\n",
       " '.\\\\convert_corpus\\\\person10\\\\time3\\\\group7\\\\duo1.wav',\n",
       " '.\\\\convert_corpus\\\\person10\\\\time3\\\\group7\\\\gang3.wav',\n",
       " '.\\\\convert_corpus\\\\person10\\\\time3\\\\group7\\\\gao1.wav',\n",
       " '.\\\\convert_corpus\\\\person10\\\\time3\\\\group7\\\\gu3.wav',\n",
       " '.\\\\convert_corpus\\\\person10\\\\time3\\\\group7\\\\hong2.wav',\n",
       " '.\\\\convert_corpus\\\\person10\\\\time3\\\\group7\\\\hua1.wav',\n",
       " '.\\\\convert_corpus\\\\person10\\\\time3\\\\group7\\\\hua4.wav',\n",
       " '.\\\\convert_corpus\\\\person10\\\\time3\\\\group7\\\\lv4.wav',\n",
       " '.\\\\convert_corpus\\\\person10\\\\time3\\\\group7\\\\mang2.wav',\n",
       " '.\\\\convert_corpus\\\\person10\\\\time3\\\\group7\\\\peng2.wav',\n",
       " '.\\\\convert_corpus\\\\person10\\\\time3\\\\group7\\\\shuo1.wav',\n",
       " '.\\\\convert_corpus\\\\person10\\\\time3\\\\group7\\\\wan4.wav',\n",
       " '.\\\\convert_corpus\\\\person10\\\\time3\\\\group7\\\\you3.wav',\n",
       " '.\\\\convert_corpus\\\\person10\\\\time3\\\\group7\\\\zhi1.wav',\n",
       " '.\\\\convert_corpus\\\\person10\\\\time3\\\\group8\\\\ba4.wav',\n",
       " '.\\\\convert_corpus\\\\person10\\\\time3\\\\group8\\\\chao1.wav',\n",
       " '.\\\\convert_corpus\\\\person10\\\\time3\\\\group8\\\\fang4.wav',\n",
       " '.\\\\convert_corpus\\\\person10\\\\time3\\\\group8\\\\guan1.wav',\n",
       " '.\\\\convert_corpus\\\\person10\\\\time3\\\\group8\\\\he2.wav',\n",
       " '.\\\\convert_corpus\\\\person10\\\\time3\\\\group8\\\\hui4.wav',\n",
       " '.\\\\convert_corpus\\\\person10\\\\time3\\\\group8\\\\jia1.wav',\n",
       " '.\\\\convert_corpus\\\\person10\\\\time3\\\\group8\\\\kan4.wav',\n",
       " '.\\\\convert_corpus\\\\person10\\\\time3\\\\group8\\\\ma1.wav',\n",
       " '.\\\\convert_corpus\\\\person10\\\\time3\\\\group8\\\\nai3.wav',\n",
       " '.\\\\convert_corpus\\\\person10\\\\time3\\\\group8\\\\quan2.wav',\n",
       " '.\\\\convert_corpus\\\\person10\\\\time3\\\\group8\\\\shou1.wav',\n",
       " '.\\\\convert_corpus\\\\person10\\\\time3\\\\group8\\\\wan2.wav',\n",
       " '.\\\\convert_corpus\\\\person10\\\\time3\\\\group8\\\\wu3.wav',\n",
       " '.\\\\convert_corpus\\\\person10\\\\time3\\\\group8\\\\xiao4.wav',\n",
       " '.\\\\convert_corpus\\\\person10\\\\time3\\\\group8\\\\xie3.wav',\n",
       " '.\\\\convert_corpus\\\\person10\\\\time3\\\\group8\\\\xing1.wav',\n",
       " '.\\\\convert_corpus\\\\person10\\\\time3\\\\group9\\\\chang4.wav',\n",
       " '.\\\\convert_corpus\\\\person10\\\\time3\\\\group9\\\\ding4.wav',\n",
       " '.\\\\convert_corpus\\\\person10\\\\time3\\\\group9\\\\he2.wav',\n",
       " '.\\\\convert_corpus\\\\person10\\\\time3\\\\group9\\\\li3.wav',\n",
       " '.\\\\convert_corpus\\\\person10\\\\time3\\\\group9\\\\lian2.wav',\n",
       " '.\\\\convert_corpus\\\\person10\\\\time3\\\\group9\\\\liang4.wav',\n",
       " '.\\\\convert_corpus\\\\person10\\\\time3\\\\group9\\\\nv3.wav',\n",
       " '.\\\\convert_corpus\\\\person10\\\\time3\\\\group9\\\\qi4.wav',\n",
       " '.\\\\convert_corpus\\\\person10\\\\time3\\\\group9\\\\qian1.wav',\n",
       " '.\\\\convert_corpus\\\\person10\\\\time3\\\\group9\\\\qu4.wav',\n",
       " '.\\\\convert_corpus\\\\person10\\\\time3\\\\group9\\\\tai4.wav',\n",
       " '.\\\\convert_corpus\\\\person10\\\\time3\\\\group9\\\\ting1.wav',\n",
       " '.\\\\convert_corpus\\\\person10\\\\time3\\\\group9\\\\xiang1.wav',\n",
       " '.\\\\convert_corpus\\\\person10\\\\time3\\\\group9\\\\xiang4.wav',\n",
       " '.\\\\convert_corpus\\\\person10\\\\time3\\\\group9\\\\xiu4.wav',\n",
       " '.\\\\convert_corpus\\\\person10\\\\time3\\\\group9\\\\yu3.wav',\n",
       " '.\\\\convert_corpus\\\\person10\\\\time3\\\\group9\\\\yuan3.wav',\n",
       " '.\\\\convert_corpus\\\\person10\\\\time3\\\\group9\\\\zao3.wav',\n",
       " '.\\\\convert_corpus\\\\person2\\\\time1\\\\group1\\\\ba1.wav',\n",
       " '.\\\\convert_corpus\\\\person2\\\\time1\\\\group1\\\\da4.wav',\n",
       " '.\\\\convert_corpus\\\\person2\\\\time1\\\\group1\\\\er4.wav',\n",
       " '.\\\\convert_corpus\\\\person2\\\\time1\\\\group1\\\\ge4.wav',\n",
       " '.\\\\convert_corpus\\\\person2\\\\time1\\\\group1\\\\he2.wav',\n",
       " '.\\\\convert_corpus\\\\person2\\\\time1\\\\group1\\\\huo3.wav',\n",
       " '.\\\\convert_corpus\\\\person2\\\\time1\\\\group1\\\\liu4.wav',\n",
       " '.\\\\convert_corpus\\\\person2\\\\time1\\\\group1\\\\mu4.wav',\n",
       " '.\\\\convert_corpus\\\\person2\\\\time1\\\\group1\\\\ren2.wav',\n",
       " '.\\\\convert_corpus\\\\person2\\\\time1\\\\group1\\\\ru4.wav',\n",
       " '.\\\\convert_corpus\\\\person2\\\\time1\\\\group1\\\\san1.wav',\n",
       " '.\\\\convert_corpus\\\\person2\\\\time1\\\\group1\\\\shang4.wav',\n",
       " '.\\\\convert_corpus\\\\person2\\\\time1\\\\group1\\\\shi2.wav',\n",
       " '.\\\\convert_corpus\\\\person2\\\\time1\\\\group1\\\\tian1.wav',\n",
       " '.\\\\convert_corpus\\\\person2\\\\time1\\\\group1\\\\tu3.wav',\n",
       " '.\\\\convert_corpus\\\\person2\\\\time1\\\\group1\\\\wen2.wav',\n",
       " '.\\\\convert_corpus\\\\person2\\\\time1\\\\group1\\\\xia4.wav',\n",
       " '.\\\\convert_corpus\\\\person2\\\\time1\\\\group1\\\\yi1.wav',\n",
       " '.\\\\convert_corpus\\\\person2\\\\time1\\\\group2\\\\bu4.wav',\n",
       " '.\\\\convert_corpus\\\\person2\\\\time1\\\\group2\\\\che1.wav',\n",
       " '.\\\\convert_corpus\\\\person2\\\\time1\\\\group2\\\\er2.wav',\n",
       " '.\\\\convert_corpus\\\\person2\\\\time1\\\\group2\\\\gong1.wav',\n",
       " '.\\\\convert_corpus\\\\person2\\\\time1\\\\group2\\\\jiu3.wav',\n",
       " '.\\\\convert_corpus\\\\person2\\\\time1\\\\group2\\\\kou3.wav',\n",
       " '.\\\\convert_corpus\\\\person2\\\\time1\\\\group2\\\\lei4.wav',\n",
       " '.\\\\convert_corpus\\\\person2\\\\time1\\\\group2\\\\men2.wav',\n",
       " '.\\\\convert_corpus\\\\person2\\\\time1\\\\group2\\\\niu2.wav',\n",
       " '.\\\\convert_corpus\\\\person2\\\\time1\\\\group2\\\\qi1.wav',\n",
       " '.\\\\convert_corpus\\\\person2\\\\time1\\\\group2\\\\ri4.wav',\n",
       " '.\\\\convert_corpus\\\\person2\\\\time1\\\\group2\\\\wu2.wav',\n",
       " '.\\\\convert_corpus\\\\person2\\\\time1\\\\group2\\\\xiao3.wav',\n",
       " '.\\\\convert_corpus\\\\person2\\\\time1\\\\group2\\\\yang2.wav',\n",
       " '.\\\\convert_corpus\\\\person2\\\\time1\\\\group2\\\\yue4.wav',\n",
       " '.\\\\convert_corpus\\\\person2\\\\time1\\\\group2\\\\yun2.wav',\n",
       " ...]"
      ]
     },
     "execution_count": 5,
     "metadata": {},
     "output_type": "execute_result"
    }
   ],
   "source": [
    "#show the result\n",
    "wavdata"
   ]
  },
  {
   "cell_type": "markdown",
   "metadata": {},
   "source": [
    "# move all the voice data to the dstpath"
   ]
  },
  {
   "cell_type": "code",
   "execution_count": 6,
   "metadata": {},
   "outputs": [
    {
     "name": "stdout",
     "output_type": "stream",
     "text": [
      "Move Complete!\n"
     ]
    }
   ],
   "source": [
    "if not os.path.exists('./voice_data/'):\n",
    "    os.makedirs('./voice_data/')\n",
    "for path in wavdata:\n",
    "    person=path.split('\\\\')[2]\n",
    "    time=path.split('\\\\')[3]\n",
    "    group=path.split('\\\\')[4]\n",
    "    #get filename\n",
    "    path_filename=os.path.split(path)[-1].split('.')[0]\n",
    "    #filter the character\n",
    "    path_filename_character=''.join(list(filter(str.isalpha,path_filename)))\n",
    "    # filter the digits\n",
    "    path_filename_digits=list(filter(str.isdigit,path_filename))[0]\n",
    "    # concat the filename\n",
    "    dst_filename=person+'_'+time+'_'+group+'_'+path_filename_character+'_'+path_filename_digits+'.wav'\n",
    "    dst_path=os.path.join('./voice_data/',dst_filename)\n",
    "    shutil.copy(path,dst_path)\n",
    "print('Move Complete!')"
   ]
  },
  {
   "cell_type": "code",
   "execution_count": 8,
   "metadata": {},
   "outputs": [
    {
     "name": "stdout",
     "output_type": "stream",
     "text": [
      "The dataset contains 4704 samples!\n"
     ]
    }
   ],
   "source": [
    "wavedata=glob.glob('./voice_data/*.wav')\n",
    "print('The dataset contains %s samples!'%len(wavdata))"
   ]
  },
  {
   "cell_type": "markdown",
   "metadata": {},
   "source": [
    "# MFCC"
   ]
  },
  {
   "cell_type": "code",
   "execution_count": 9,
   "metadata": {},
   "outputs": [],
   "source": [
    "import librosa\n",
    "import librosa.display\n",
    "import matplotlib.pyplot as plt\n",
    "import numpy as np\n",
    "import python_speech_features\n",
    "import scipy\n",
    "import sklearn\n",
    "import scipy.io.wavfile as wav\n",
    "from python_speech_features import mfcc\n",
    "%matplotlib inline"
   ]
  },
  {
   "cell_type": "markdown",
   "metadata": {},
   "source": [
    "## We can plot the waveplot of a wav file"
   ]
  },
  {
   "cell_type": "code",
   "execution_count": 10,
   "metadata": {},
   "outputs": [
    {
     "data": {
      "text/plain": [
       "<matplotlib.collections.PolyCollection at 0x2586f9f6af0>"
      ]
     },
     "execution_count": 10,
     "metadata": {},
     "output_type": "execute_result"
    },
    {
     "data": {
      "image/png": "[encoded data removed]",
      "text/plain": [
       "<Figure size 864x288 with 1 Axes>"
      ]
     },
     "metadata": {
      "needs_background": "light"
     },
     "output_type": "display_data"
    }
   ],
   "source": [
    "x, sr = librosa.load('./voice_data/person10_time1_group1_ba_1.wav')\n",
    "plt.figure(figsize=(12, 4))\n",
    "librosa.display.waveplot(x, sr=sr)"
   ]
  },
  {
   "cell_type": "code",
   "execution_count": 11,
   "metadata": {},
   "outputs": [
    {
     "name": "stdout",
     "output_type": "stream",
     "text": [
      "(20, 15)\n"
     ]
    },
    {
     "data": {
      "text/plain": [
       "<matplotlib.collections.QuadMesh at 0x2586fd46430>"
      ]
     },
     "execution_count": 11,
     "metadata": {},
     "output_type": "execute_result"
    },
    {
     "data": {
      "image/png": "[encoded data removed]",
      "text/plain": [
       "<Figure size 432x288 with 1 Axes>"
      ]
     },
     "metadata": {
      "needs_background": "light"
     },
     "output_type": "display_data"
    }
   ],
   "source": [
    "# extract mfcc\n",
    "mfcc=librosa.feature.mfcc(x, sr=sr)\n",
    "# get the feature \n",
    "print(mfcc.shape)\n",
    "# plot the mfcc feature\n",
    "librosa.display.specshow(mfcc, sr=sr, x_axis='time')"
   ]
  },
  {
   "cell_type": "code",
   "execution_count": 12,
   "metadata": {},
   "outputs": [
    {
     "name": "stderr",
     "output_type": "stream",
     "text": [
      "D:\\ProgramData\\Anaconda3\\lib\\site-packages\\sklearn\\preprocessing\\_data.py:174: UserWarning: Numerical issues were encountered when centering the data and might not be solved. Dataset may contain too large values. You may need to prescale your features.\n",
      "  warnings.warn(\"Numerical issues were encountered \"\n",
      "D:\\ProgramData\\Anaconda3\\lib\\site-packages\\sklearn\\preprocessing\\_data.py:191: UserWarning: Numerical issues were encountered when scaling the data and might not be solved. The standard deviation of the data is probably very close to 0. \n",
      "  warnings.warn(\"Numerical issues were encountered \"\n"
     ]
    },
    {
     "data": {
      "text/plain": [
       "<matplotlib.collections.QuadMesh at 0x25870772040>"
      ]
     },
     "execution_count": 12,
     "metadata": {},
     "output_type": "execute_result"
    },
    {
     "data": {
      "image/png": "[encoded data removed]",
      "text/plain": [
       "<Figure size 432x288 with 1 Axes>"
      ]
     },
     "metadata": {
      "needs_background": "light"
     },
     "output_type": "display_data"
    }
   ],
   "source": [
    "# Center to the mean and component wise scale to unit variance\n",
    "mfcc = sklearn.preprocessing.scale(mfcc, axis=1)\n",
    "# plot the feature after scale\n",
    "librosa.display.specshow(mfcc, sr=sr, x_axis='time')"
   ]
  },
  {
   "cell_type": "markdown",
   "metadata": {},
   "source": [
    "## Perform 1st order difference and 2nd order difference"
   ]
  },
  {
   "cell_type": "code",
   "execution_count": 13,
   "metadata": {},
   "outputs": [],
   "source": [
    "import numpy as np"
   ]
  },
  {
   "cell_type": "code",
   "execution_count": 14,
   "metadata": {},
   "outputs": [
    {
     "name": "stdout",
     "output_type": "stream",
     "text": [
      "(19, 15)\n"
     ]
    }
   ],
   "source": [
    "mfcc_diff=np.diff(mfcc,axis=0)\n",
    "print(mfcc_diff.shape)"
   ]
  },
  {
   "cell_type": "code",
   "execution_count": 15,
   "metadata": {},
   "outputs": [
    {
     "name": "stdout",
     "output_type": "stream",
     "text": [
      "(18, 15)\n"
     ]
    }
   ],
   "source": [
    "mfcc_diff_diff=np.diff(mfcc_diff,axis=0)\n",
    "print(mfcc_diff_diff.shape)"
   ]
  },
  {
   "cell_type": "markdown",
   "metadata": {},
   "source": [
    "## Concate all features"
   ]
  },
  {
   "cell_type": "code",
   "execution_count": 16,
   "metadata": {},
   "outputs": [],
   "source": [
    "#concatenate mfcc,mfcc_diff and mfcc_diff_diff\n",
    "mfccs=np.concatenate([mfcc,mfcc_diff,mfcc_diff_diff],axis=0)"
   ]
  },
  {
   "cell_type": "code",
   "execution_count": 17,
   "metadata": {},
   "outputs": [
    {
     "name": "stdout",
     "output_type": "stream",
     "text": [
      "(57, 15)\n"
     ]
    }
   ],
   "source": [
    "print(mfccs.shape)"
   ]
  },
  {
   "cell_type": "markdown",
   "metadata": {},
   "source": [
    "# Data Preprocessing"
   ]
  },
  {
   "cell_type": "code",
   "execution_count": 18,
   "metadata": {},
   "outputs": [],
   "source": [
    "import glob\n",
    "import string\n",
    "import os"
   ]
  },
  {
   "cell_type": "markdown",
   "metadata": {},
   "source": [
    "## get_mfcc_feature\n",
    "If the length<50(the max length of mfccs is 43),we should pad the sequence with 0"
   ]
  },
  {
   "cell_type": "code",
   "execution_count": 19,
   "metadata": {},
   "outputs": [],
   "source": [
    "def get_mfcc_feature(path,maxlen=50):\n",
    "    x, sr = librosa.load(path)\n",
    "    # extract mfcc\n",
    "    mfcc = librosa.feature.mfcc(x, sr=sr)\n",
    "    # Center to the mean and component wise scale to unit variance\n",
    "    mfcc = sklearn.preprocessing.scale(mfcc, axis=1)\n",
    "    mfcc_diff = np.diff(mfcc, axis=0)\n",
    "    mfcc_diff_diff = np.diff(mfcc_diff, axis=0)\n",
    "    # concatenate mfcc,mfcc_diff and mfcc_diff_diff\n",
    "    mfccs = np.concatenate([mfcc, mfcc_diff, mfcc_diff_diff], axis=0).T\n",
    "    #pad the mfccs_feature\n",
    "    if mfccs.shape[0]<maxlen:\n",
    "        mfccs=np.concatenate([mfccs,np.zeros((maxlen-mfccs.shape[0],57))],axis=0)\n",
    "    return mfccs"
   ]
  },
  {
   "cell_type": "markdown",
   "metadata": {},
   "source": [
    "## get_labels(alphabet)"
   ]
  },
  {
   "cell_type": "code",
   "execution_count": 20,
   "metadata": {},
   "outputs": [],
   "source": [
    "alphabet_set=list(string.ascii_letters[:26])\n",
    "alphabet_dict={con:(i+1) for i,con in enumerate(alphabet_set)}\n",
    "alphabet_dict['0']=0"
   ]
  },
  {
   "cell_type": "code",
   "execution_count": 21,
   "metadata": {
    "scrolled": true
   },
   "outputs": [
    {
     "data": {
      "text/plain": [
       "{'a': 1,\n",
       " 'b': 2,\n",
       " 'c': 3,\n",
       " 'd': 4,\n",
       " 'e': 5,\n",
       " 'f': 6,\n",
       " 'g': 7,\n",
       " 'h': 8,\n",
       " 'i': 9,\n",
       " 'j': 10,\n",
       " 'k': 11,\n",
       " 'l': 12,\n",
       " 'm': 13,\n",
       " 'n': 14,\n",
       " 'o': 15,\n",
       " 'p': 16,\n",
       " 'q': 17,\n",
       " 'r': 18,\n",
       " 's': 19,\n",
       " 't': 20,\n",
       " 'u': 21,\n",
       " 'v': 22,\n",
       " 'w': 23,\n",
       " 'x': 24,\n",
       " 'y': 25,\n",
       " 'z': 26,\n",
       " '0': 0}"
      ]
     },
     "execution_count": 21,
     "metadata": {},
     "output_type": "execute_result"
    }
   ],
   "source": [
    "alphabet_dict"
   ]
  },
  {
   "cell_type": "code",
   "execution_count": 22,
   "metadata": {},
   "outputs": [],
   "source": [
    "def get_label_alphabet(path,dict=alphabet_dict,maxlen=5):\n",
    "    file_name=os.path.splitext(path)[0].split('/')[-1]\n",
    "    label=list(file_name.split('_')[-2])\n",
    "    label=[alphabet_dict[key] for key in label]\n",
    "    if len(label)<maxlen:\n",
    "        for i in range(maxlen-len(label)):\n",
    "            label.append(0)\n",
    "    return label"
   ]
  },
  {
   "cell_type": "markdown",
   "metadata": {},
   "source": [
    "## get_labels(initial)"
   ]
  },
  {
   "cell_type": "code",
   "execution_count": 24,
   "metadata": {
    "scrolled": true
   },
   "outputs": [],
   "source": [
    "label_set=pd.read_excel('./convert_corpus/label_set.xlsx')"
   ]
  },
  {
   "cell_type": "code",
   "execution_count": 25,
   "metadata": {},
   "outputs": [],
   "source": [
    "label_set=label_set.fillna(value='0')"
   ]
  },
  {
   "cell_type": "code",
   "execution_count": 26,
   "metadata": {
    "scrolled": true
   },
   "outputs": [],
   "source": [
    "label_set=label_set[['pinyin','initial','final']]"
   ]
  },
  {
   "cell_type": "code",
   "execution_count": 27,
   "metadata": {},
   "outputs": [],
   "source": [
    "all_initial=label_set.initial.tolist()\n",
    "all_initial_alphabet=[]\n",
    "for con in all_initial:\n",
    "    if len(con)>=2:\n",
    "        all_initial_alphabet.extend(list(con))\n",
    "    else:\n",
    "        all_initial_alphabet.append(con)\n",
    "\n",
    "all_initial_alphabet=sorted(set(all_initial_alphabet))\n",
    "all_initial_alphabet_dic={key:i for i,key  in enumerate(all_initial_alphabet)}"
   ]
  },
  {
   "cell_type": "code",
   "execution_count": 28,
   "metadata": {
    "scrolled": true
   },
   "outputs": [
    {
     "data": {
      "text/plain": [
       "{'0': 0,\n",
       " 'b': 1,\n",
       " 'c': 2,\n",
       " 'd': 3,\n",
       " 'f': 4,\n",
       " 'g': 5,\n",
       " 'h': 6,\n",
       " 'j': 7,\n",
       " 'k': 8,\n",
       " 'l': 9,\n",
       " 'm': 10,\n",
       " 'n': 11,\n",
       " 'p': 12,\n",
       " 'q': 13,\n",
       " 'r': 14,\n",
       " 's': 15,\n",
       " 't': 16,\n",
       " 'w': 17,\n",
       " 'x': 18,\n",
       " 'y': 19,\n",
       " 'z': 20}"
      ]
     },
     "execution_count": 28,
     "metadata": {},
     "output_type": "execute_result"
    }
   ],
   "source": [
    "all_initial_alphabet_dic"
   ]
  },
  {
   "cell_type": "code",
   "execution_count": 29,
   "metadata": {},
   "outputs": [],
   "source": [
    "labels_map_dict={}\n",
    "for index,row in label_set.iterrows():\n",
    "    labels_map_dict[row[0]]=[row[1],row[2]]"
   ]
  },
  {
   "cell_type": "code",
   "execution_count": 30,
   "metadata": {},
   "outputs": [
    {
     "data": {
      "text/plain": [
       "{'yi': ['y', 'i'],\n",
       " 'er': ['0', 'er '],\n",
       " 'san': ['s', 'an'],\n",
       " 'shi': ['sh', 'i'],\n",
       " 'mu': ['m', 'u'],\n",
       " 'he': ['h', 'e'],\n",
       " 'shang': ['sh', 'ang'],\n",
       " 'xia': ['x', 'ia'],\n",
       " 'tu': ['t', 'u'],\n",
       " 'ge': ['g', 'e'],\n",
       " 'ba': ['b', 'a'],\n",
       " 'ru': ['r', 'u'],\n",
       " 'da': ['d', 'a'],\n",
       " 'tian': ['t', 'ian'],\n",
       " 'ren': ['r', 'en'],\n",
       " 'huo': ['h', 'uo'],\n",
       " 'wen': ['w', 'en'],\n",
       " 'liu': ['l', 'iu'],\n",
       " 'qi': ['q', 'i'],\n",
       " 'jiu': ['j', 'iu'],\n",
       " 'wu': ['w', 'u'],\n",
       " 'kou': ['k', 'ou'],\n",
       " 'ri': ['r', 'i'],\n",
       " 'zhong': ['zh', 'ong'],\n",
       " 'lei': ['l', 'ei'],\n",
       " 'zi': ['z', 'i'],\n",
       " 'men': ['m', 'en'],\n",
       " 'yue': ['y', 'ue'],\n",
       " 'bu': ['b', 'u'],\n",
       " 'yun': ['y', 'un'],\n",
       " 'gong': ['g', 'ong'],\n",
       " 'che': ['ch', 'e'],\n",
       " 'niu': ['n', 'iu'],\n",
       " 'yang': ['y', 'ang'],\n",
       " 'xiao': ['x', 'iao'],\n",
       " 'kai': ['k', 'ai'],\n",
       " 'si': ['s', 'i'],\n",
       " 'wei': ['w', 'ei'],\n",
       " 'tou': ['t', 'ou'],\n",
       " 'mi': ['m', 'i'],\n",
       " 'jian': ['j', 'ian'],\n",
       " 'bai': ['b', 'ai'],\n",
       " 'dian': ['d', 'ian'],\n",
       " 'ye': ['y', 'e'],\n",
       " 'chang': ['ch', 'ang'],\n",
       " 'shan': ['sh', 'an'],\n",
       " 'chu': ['ch', 'u'],\n",
       " 'fei': ['f', 'ei'],\n",
       " 'ma': ['m', 'a'],\n",
       " 'niao': ['n', 'iao'],\n",
       " 'shao': ['sh', 'ao'],\n",
       " 'jin': ['j', 'in'],\n",
       " 'ya': ['y', 'a'],\n",
       " 'chi': ['ch', 'i'],\n",
       " 'mao': ['m', 'ao'],\n",
       " 'shou': ['sh', 'ou'],\n",
       " 'xin': ['x', 'in'],\n",
       " 'feng': ['f', 'eng'],\n",
       " 'li': ['l', 'i'],\n",
       " 'shui': ['sh', 'ui'],\n",
       " 'guang': ['g', 'uang'],\n",
       " 'sheng': ['sh', 'eng'],\n",
       " 'zu': ['z', 'u'],\n",
       " 'zou': ['z', 'ou'],\n",
       " 'fang': ['f', 'ang'],\n",
       " 'ban': ['b', 'an'],\n",
       " 'ben': ['b', 'en'],\n",
       " 'ping': ['p', 'ing'],\n",
       " 'shu': ['sh', 'u'],\n",
       " 'pian': ['p', 'ian'],\n",
       " 'pi': ['p', 'i'],\n",
       " 'dong': ['d', 'ong'],\n",
       " 'xi': ['x', 'i'],\n",
       " 'hui': ['h', 'ui'],\n",
       " 'shuan': ['sh', 'uan'],\n",
       " 'ji': ['j', 'i'],\n",
       " 'yong': ['y', 'ong'],\n",
       " 'yu': ['y', 'u'],\n",
       " 'guo': ['g', 'uo'],\n",
       " 'lai': ['l', 'ai'],\n",
       " 'zheng': ['zh', 'eng'],\n",
       " 'liang': ['l', 'iang'],\n",
       " 'gua': ['g', 'ua'],\n",
       " 'jiang': ['j', 'iang'],\n",
       " 'nian': ['n', 'ian'],\n",
       " 'zuo': ['z', 'uo'],\n",
       " 'you': ['y', 'ou'],\n",
       " 'ni': ['n', 'i'],\n",
       " 'lv': ['l', 'v'],\n",
       " 'sui': ['s', 'ui'],\n",
       " 'qin': ['q', 'in'],\n",
       " 'chui': ['ch', 'ui'],\n",
       " 'hang': ['h', 'ang'],\n",
       " 'wan': ['w', 'an'],\n",
       " 'ding': ['d', 'ing'],\n",
       " 'peng': ['p', 'eng'],\n",
       " 'chun': ['ch', 'un'],\n",
       " 'gao': ['g', 'ao'],\n",
       " 'shuo': ['sh', 'uo'],\n",
       " 'hua': ['h', 'ua'],\n",
       " 'hong': ['h', 'ong'],\n",
       " 'cao': ['c', 'ao'],\n",
       " 'gu': ['g', 'u'],\n",
       " 'gang': ['g', 'ang'],\n",
       " 'duo': ['d', 'uo'],\n",
       " 'zhi': ['zh', 'i'],\n",
       " 'mang': ['m', 'ang'],\n",
       " 'quan': ['q', 'uan'],\n",
       " 'guan': ['g', 'uan'],\n",
       " 'xie': ['x', 'ie'],\n",
       " 'jia': ['j', 'ia'],\n",
       " 'kan': ['k', 'an'],\n",
       " 'chao': ['ch', 'ao'],\n",
       " 'xing': ['x', 'ing'],\n",
       " 'nai': ['n', 'ai'],\n",
       " 'nv': ['n', 'v'],\n",
       " 'tai': ['t', 'ai'],\n",
       " 'zao': ['z', 'ao'],\n",
       " 'qu': ['q', 'u'],\n",
       " 'qian': ['q', 'ian'],\n",
       " 'xiu': ['x', 'iu'],\n",
       " 'xiang': ['x', 'iang'],\n",
       " 'ting': ['t', 'ing'],\n",
       " 'lian': ['l', 'ian'],\n",
       " 'yuan': ['y', 'uan']}"
      ]
     },
     "execution_count": 30,
     "metadata": {},
     "output_type": "execute_result"
    }
   ],
   "source": [
    "labels_map_dict"
   ]
  },
  {
   "cell_type": "code",
   "execution_count": 32,
   "metadata": {},
   "outputs": [],
   "source": [
    "def get_label_initial(path,all_initial_alphabet_dic=all_initial_alphabet_dic,labels_map_dict=labels_map_dict,maxlen=2):\n",
    "    file_name=os.path.splitext(path)[0].split('/')[-1]\n",
    "    label=list(file_name.split('_')[-2])\n",
    "    label=''.join(label)\n",
    "    label=labels_map_dict[label][0]\n",
    "    label=[str(all_initial_alphabet_dic[key]) for key in label]\n",
    "    if len(label)<maxlen:\n",
    "        for i in range(maxlen-len(label)):\n",
    "            label.append('0')\n",
    "    return label"
   ]
  },
  {
   "cell_type": "code",
   "execution_count": 33,
   "metadata": {},
   "outputs": [
    {
     "data": {
      "text/plain": [
       "['3', '0']"
      ]
     },
     "execution_count": 33,
     "metadata": {},
     "output_type": "execute_result"
    }
   ],
   "source": [
    "get_label_initial('./voice_data/person10_time1_group1_da_4.wav')"
   ]
  },
  {
   "cell_type": "markdown",
   "metadata": {},
   "source": [
    "## get_labels(final)"
   ]
  },
  {
   "cell_type": "code",
   "execution_count": 34,
   "metadata": {},
   "outputs": [],
   "source": [
    "all_final=label_set.final.tolist()\n",
    "all_final_alphabet=[]\n",
    "for con in all_final:\n",
    "    con=con.strip()\n",
    "    if len(con)>=2:\n",
    "        all_final_alphabet.extend(list(con))\n",
    "    else:\n",
    "        all_final_alphabet.append(con)\n",
    "all_final_alphabet=sorted(set(all_final_alphabet))\n",
    "all_final_alphabet_dic={key:i+1 for i,key  in enumerate(all_final_alphabet)}"
   ]
  },
  {
   "cell_type": "code",
   "execution_count": 35,
   "metadata": {},
   "outputs": [],
   "source": [
    "all_final_alphabet_dic['0']=0"
   ]
  },
  {
   "cell_type": "code",
   "execution_count": 36,
   "metadata": {},
   "outputs": [
    {
     "data": {
      "text/plain": [
       "{'a': 1,\n",
       " 'e': 2,\n",
       " 'g': 3,\n",
       " 'i': 4,\n",
       " 'n': 5,\n",
       " 'o': 6,\n",
       " 'r': 7,\n",
       " 'u': 8,\n",
       " 'v': 9,\n",
       " '0': 0}"
      ]
     },
     "execution_count": 36,
     "metadata": {},
     "output_type": "execute_result"
    }
   ],
   "source": [
    "all_final_alphabet_dic"
   ]
  },
  {
   "cell_type": "code",
   "execution_count": 37,
   "metadata": {},
   "outputs": [],
   "source": [
    "def get_label_final(path,all_final_alphabet_dic=all_final_alphabet_dic,labels_map_dict=labels_map_dict,maxlen=4):\n",
    "    file_name=os.path.splitext(path)[0].split('/')[-1]\n",
    "    label=list(file_name.split('_')[-2])\n",
    "    label=''.join(label)\n",
    "    label=str(labels_map_dict[label][1]).strip()\n",
    "    label=[str(all_final_alphabet_dic[key]) for key in label]\n",
    "    if len(label)<maxlen:\n",
    "        for i in range(maxlen-len(label)):\n",
    "            label.append('0')\n",
    "    return label"
   ]
  },
  {
   "cell_type": "code",
   "execution_count": 38,
   "metadata": {},
   "outputs": [
    {
     "data": {
      "text/plain": [
       "['1', '0', '0', '0']"
      ]
     },
     "execution_count": 38,
     "metadata": {},
     "output_type": "execute_result"
    }
   ],
   "source": [
    "get_label_final('./voice_data/person10_time1_group1_ba_1.wav')"
   ]
  },
  {
   "cell_type": "markdown",
   "metadata": {},
   "source": [
    "## get_labels(digit)"
   ]
  },
  {
   "cell_type": "code",
   "execution_count": 39,
   "metadata": {},
   "outputs": [],
   "source": [
    "def get_label_digit(path):\n",
    "    file_name=os.path.splitext(path)[0].split('/')[-1]\n",
    "    label=file_name.split('_')[-1]\n",
    "    return label"
   ]
  },
  {
   "cell_type": "markdown",
   "metadata": {},
   "source": [
    "# Get feature and label"
   ]
  },
  {
   "cell_type": "code",
   "execution_count": 40,
   "metadata": {},
   "outputs": [],
   "source": [
    "filelist=glob.glob('./voice_data/*.wav')"
   ]
  },
  {
   "cell_type": "code",
   "execution_count": null,
   "metadata": {},
   "outputs": [],
   "source": [
    "X=[]\n",
    "#all pinyin\n",
    "y_1=[]\n",
    "#tune\n",
    "y_2=[]\n",
    "#initial\n",
    "y_3=[]\n",
    "#final\n",
    "y_4=[]\n",
    "for file_path in filelist:\n",
    "    feature=get_mfcc_feature(file_path)\n",
    "    label_1=get_label_alphabet(file_path)\n",
    "    label_2=get_label_digit(file_path)\n",
    "    label_3=get_label_initial(file_path)\n",
    "    label_4=get_label_final(file_path)\n",
    "    X.append(feature)\n",
    "    y_1.append(label_1)\n",
    "    y_2.append(label_2)\n",
    "    y_3.append(label_3)\n",
    "    y_4.append(label_4)\n",
    "X=np.array(X)\n",
    "y_1=np.array(y_1)\n",
    "y_2=np.array(y_2)\n",
    "y_3=np.array(y_3)\n",
    "y_4=np.array(y_4)"
   ]
  },
  {
   "cell_type": "code",
   "execution_count": 1,
   "metadata": {},
   "outputs": [
    {
     "ename": "NameError",
     "evalue": "name 'X' is not defined",
     "output_type": "error",
     "traceback": [
      "\u001b[1;31m---------------------------------------------------------------------------\u001b[0m",
      "\u001b[1;31mNameError\u001b[0m                                 Traceback (most recent call last)",
      "\u001b[1;32m<ipython-input-1-b5fec669aca1>\u001b[0m in \u001b[0;36m<module>\u001b[1;34m\u001b[0m\n\u001b[1;32m----> 1\u001b[1;33m \u001b[0mX\u001b[0m\u001b[1;33m\u001b[0m\u001b[1;33m\u001b[0m\u001b[0m\n\u001b[0m",
      "\u001b[1;31mNameError\u001b[0m: name 'X' is not defined"
     ]
    }
   ],
   "source": [
    "X"
   ]
  },
  {
   "cell_type": "code",
   "execution_count": 39,
   "metadata": {},
   "outputs": [
    {
     "data": {
      "text/plain": [
       "(4704, 5)"
      ]
     },
     "execution_count": 39,
     "metadata": {},
     "output_type": "execute_result"
    }
   ],
   "source": [
    "y_1.shape"
   ]
  },
  {
   "cell_type": "code",
   "execution_count": 40,
   "metadata": {},
   "outputs": [
    {
     "data": {
      "text/plain": [
       "(4704,)"
      ]
     },
     "execution_count": 40,
     "metadata": {},
     "output_type": "execute_result"
    }
   ],
   "source": [
    "y_2.shape"
   ]
  },
  {
   "cell_type": "code",
   "execution_count": 41,
   "metadata": {},
   "outputs": [
    {
     "data": {
      "text/plain": [
       "(4704, 2)"
      ]
     },
     "execution_count": 41,
     "metadata": {},
     "output_type": "execute_result"
    }
   ],
   "source": [
    "y_3.shape"
   ]
  },
  {
   "cell_type": "code",
   "execution_count": 42,
   "metadata": {},
   "outputs": [
    {
     "data": {
      "text/plain": [
       "(4704, 4)"
      ]
     },
     "execution_count": 42,
     "metadata": {},
     "output_type": "execute_result"
    }
   ],
   "source": [
    "y_4.shape"
   ]
  },
  {
   "cell_type": "markdown",
   "metadata": {},
   "source": [
    "# Save the feature"
   ]
  },
  {
   "cell_type": "code",
   "execution_count": 45,
   "metadata": {},
   "outputs": [
    {
     "name": "stdout",
     "output_type": "stream",
     "text": [
      "X save completly!\n"
     ]
    }
   ],
   "source": [
    "np.save('./feature/X_feature.npy',X)\n",
    "print('X save completly!')"
   ]
  },
  {
   "cell_type": "code",
   "execution_count": 46,
   "metadata": {},
   "outputs": [
    {
     "name": "stdout",
     "output_type": "stream",
     "text": [
      "y_pinyin save completly!\n"
     ]
    }
   ],
   "source": [
    "np.save('./feature/y_pinyin.npy',y_1)\n",
    "print('y_pinyin save completly!')"
   ]
  },
  {
   "cell_type": "code",
   "execution_count": 47,
   "metadata": {},
   "outputs": [
    {
     "name": "stdout",
     "output_type": "stream",
     "text": [
      "y_tone save completly!\n"
     ]
    }
   ],
   "source": [
    "np.save('./feature/y_tone.npy',y_2)\n",
    "print('y_tone save completly!')"
   ]
  },
  {
   "cell_type": "code",
   "execution_count": 48,
   "metadata": {},
   "outputs": [
    {
     "name": "stdout",
     "output_type": "stream",
     "text": [
      "y_initial save completly!\n"
     ]
    }
   ],
   "source": [
    "np.save('./feature/y_initial.npy',y_3)\n",
    "print('y_initial save completly!')"
   ]
  },
  {
   "cell_type": "code",
   "execution_count": 49,
   "metadata": {},
   "outputs": [
    {
     "name": "stdout",
     "output_type": "stream",
     "text": [
      "y_final save completly!\n"
     ]
    }
   ],
   "source": [
    "np.save('./feature/y_final.npy',y_4)\n",
    "print('y_final save completly!')"
   ]
  },
  {
   "cell_type": "code",
   "execution_count": null,
   "metadata": {},
   "outputs": [],
   "source": []
  }
 ],
 "metadata": {
  "kernelspec": {
   "display_name": "Python 3",
   "language": "python",
   "name": "python3"
  },
  "language_info": {
   "codemirror_mode": {
    "name": "ipython",
    "version": 3
   },
   "file_extension": ".py",
   "mimetype": "text/x-python",
   "name": "python",
   "nbconvert_exporter": "python",
   "pygments_lexer": "ipython3",
   "version": "3.7.6"
  },
  "toc": {
   "base_numbering": 1,
   "nav_menu": {},
   "number_sections": true,
   "sideBar": true,
   "skip_h1_title": false,
   "title_cell": "Table of Contents",
   "title_sidebar": "Contents",
   "toc_cell": false,
   "toc_position": {
    "height": "calc(100% - 180px)",
    "left": "10px",
    "top": "150px",
    "width": "388px"
   },
   "toc_section_display": true,
   "toc_window_display": true
  }
 },
 "nbformat": 4,
 "nbformat_minor": 4
}
